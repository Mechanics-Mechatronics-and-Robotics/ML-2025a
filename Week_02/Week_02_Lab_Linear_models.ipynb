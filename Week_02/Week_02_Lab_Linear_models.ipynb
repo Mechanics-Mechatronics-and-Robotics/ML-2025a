{
  "nbformat": 4,
  "nbformat_minor": 0,
  "metadata": {
    "colab": {
      "provenance": [],
      "toc_visible": true,
      "authorship_tag": "ABX9TyPeFBzRZ7/xFoxAzBWuWtUl",
      "include_colab_link": true
    },
    "kernelspec": {
      "name": "python3",
      "display_name": "Python 3"
    },
    "language_info": {
      "name": "python"
    }
  },
  "cells": [
    {
      "cell_type": "markdown",
      "metadata": {
        "id": "view-in-github",
        "colab_type": "text"
      },
      "source": [
        "<a href=\"https://colab.research.google.com/github/Mechanics-Mechatronics-and-Robotics/ML-2025a/blob/main/Week_02/Week_02_Lab_Linear_models.ipynb\" target=\"_parent\"><img src=\"https://colab.research.google.com/assets/colab-badge.svg\" alt=\"Open In Colab\"/></a>"
      ]
    },
    {
      "cell_type": "markdown",
      "source": [
        "# Week 02 Lab: Linear models\n",
        "This notebook was developed using methodologies suggested by ChatGPT (OpenAI, 2025)"
      ],
      "metadata": {
        "id": "AOpKnoaRdaK-"
      }
    },
    {
      "cell_type": "markdown",
      "source": [
        "# Intro\n",
        "\n",
        "In this lab, we will learn how **linear models** work by starting from scratch.\n",
        "\n",
        "- First, we will use **NumPy** to manually implement gradient descent for **linear regression**.\n",
        "- Then, we will progressively use **PyTorch** and later **PyTorch Lightning** to make our life easier.\n",
        "- Finally, we will extend from **linear regression** to **logistic regression** for classification.\n",
        "\n",
        "---\n"
      ],
      "metadata": {
        "id": "0GVDKAounTeW"
      }
    },
    {
      "cell_type": "markdown",
      "source": [
        "# Block 1: Gradient descent implemented manually"
      ],
      "metadata": {
        "id": "K9NuhdFNnv3x"
      }
    },
    {
      "cell_type": "markdown",
      "source": [
        "## Step 1: Generate Date"
      ],
      "metadata": {
        "id": "zyGzsdPRoGjN"
      }
    },
    {
      "cell_type": "code",
      "source": [
        "import numpy as np\n",
        "import matplotlib.pyplot as plt\n",
        "\n",
        "# Set random seed for reproducibility\n",
        "np.random.seed(42)\n",
        "\n",
        "# Generate toy data: Y = 2*X + noise\n",
        "X = np.linspace(-3, 3, 100)\n",
        "noise = np.random.randn(100) * 0.5\n",
        "Y = 2 * X + noise\n",
        "\n",
        "# Visualize data\n",
        "plt.scatter(X, Y, alpha=0.7)\n",
        "plt.xlabel(\"X\")\n",
        "plt.ylabel(\"Y\")\n",
        "plt.title(\"Toy Data: Y = 2X + noise\")\n",
        "plt.show()"
      ],
      "metadata": {
        "id": "G1QN3K2foCBw",
        "outputId": "69688886-3f63-498a-9436-d69584c865c3",
        "colab": {
          "base_uri": "https://localhost:8080/",
          "height": 472
        }
      },
      "execution_count": 11,
      "outputs": [
        {
          "output_type": "display_data",
          "data": {
            "text/plain": [
              "<Figure size 640x480 with 1 Axes>"
            ],
            "image/png": "[encoded data removed]"
          },
          "metadata": {}
        }
      ]
    },
    {
      "cell_type": "markdown",
      "source": [
        "## Step 2, 3: Initialize Model Parameters and the model itself"
      ],
      "metadata": {
        "id": "XYUOi94AobuS"
      }
    },
    {
      "cell_type": "code",
      "source": [
        "# Initialize parameters randomly\n",
        "w = np.random.randn()\n",
        "b = np.random.randn()\n",
        "\n",
        "print(\"Initial parameters: w =\", w, \"b =\", b)\n"
      ],
      "metadata": {
        "id": "QKipZrxooKNR",
        "outputId": "cbba4002-9132-4171-ae0c-94707ed9d4bb",
        "colab": {
          "base_uri": "https://localhost:8080/"
        }
      },
      "execution_count": 12,
      "outputs": [
        {
          "output_type": "stream",
          "name": "stdout",
          "text": [
            "Initial parameters: w = -1.4153707420504142 b = -0.42064532276535904\n"
          ]
        }
      ]
    },
    {
      "cell_type": "code",
      "source": [
        "def predict(x, w, b):\n",
        "    \"\"\"Linear model prediction: y = wx + b\"\"\"\n",
        "    return w * x + b\n",
        "\n",
        "# Test prediction\n",
        "print(\"Prediction for x=1.0:\", predict(1.0, w, b))\n"
      ],
      "metadata": {
        "id": "wnJeIEeBoB-8",
        "outputId": "57f4773e-33b8-4c17-8c12-c42e5e15e217",
        "colab": {
          "base_uri": "https://localhost:8080/"
        }
      },
      "execution_count": 13,
      "outputs": [
        {
          "output_type": "stream",
          "name": "stdout",
          "text": [
            "Prediction for x=1.0: -1.8360160648157733\n"
          ]
        }
      ]
    },
    {
      "cell_type": "markdown",
      "source": [
        "## Step 4: Define Objective (MSE)"
      ],
      "metadata": {
        "id": "kSaT8V-Po7_d"
      }
    },
    {
      "cell_type": "code",
      "source": [
        "def mse_loss(y_true, y_pred):\n",
        "    \"\"\"Mean Squared Error\"\"\"\n",
        "    # TODO: implement formula: mean((y_true - y_pred)**2)\n",
        "    loss = None  # add your code here\n",
        "    return loss\n",
        "\n",
        "# Test loss function\n",
        "y_pred_test = predict(X, w, b)\n",
        "print(\"Initial loss:\", mse_loss(Y, y_pred_test))\n"
      ],
      "metadata": {
        "id": "_43hj_unoB78",
        "outputId": "6bcb9f53-fce6-4d3c-ce5f-af50c83d2338",
        "colab": {
          "base_uri": "https://localhost:8080/"
        }
      },
      "execution_count": 14,
      "outputs": [
        {
          "output_type": "stream",
          "name": "stdout",
          "text": [
            "Initial loss: None\n"
          ]
        }
      ]
    },
    {
      "cell_type": "code",
      "source": [],
      "metadata": {
        "id": "sNolp3XVoBkh"
      },
      "execution_count": null,
      "outputs": []
    },
    {
      "cell_type": "markdown",
      "source": [
        "## Install and import libraries"
      ],
      "metadata": {
        "id": "e1F8TJNNsNhy"
      }
    },
    {
      "cell_type": "code",
      "source": [
        "!pip install gensim nltk matplotlib\n",
        "\n",
        "import nltk\n",
        "from nltk.corpus import gutenberg\n",
        "from nltk.tokenize import word_tokenize, sent_tokenize\n",
        "from gensim.models import Word2Vec\n",
        "import matplotlib.pyplot as plt\n",
        "from sklearn.decomposition import PCA\n",
        "\n",
        "# For pretrained vectors\n",
        "import gensim.downloader as api\n",
        "\n",
        "nltk.download(\"punkt\")       # basic sentence tokenizer\n",
        "nltk.download(\"punkt_tab\")   # (newer NLTK versions require this too)"
      ],
      "metadata": {
        "id": "Tx4OEwWrsN09"
      },
      "execution_count": null,
      "outputs": []
    },
    {
      "cell_type": "markdown",
      "source": [
        "## PART 1: Tiny Toy Corpus"
      ],
      "metadata": {
        "id": "ZJWLSZsjsfqI"
      }
    },
    {
      "cell_type": "code",
      "source": [
        "print(\"=== PART 1: Tiny toy corpus ===\")\n",
        "\n",
        "# 1. Define a tiny \"made-up\" dataset\n",
        "toy_sentences = [\n",
        "    [\"king\", \"queen\", \"man\", \"woman\"],\n",
        "    [\"robot\", \"computer\", \"machine\", \"automation\"],\n",
        "    [\"cat\", \"dog\", \"animal\", \"pet\"],\n",
        "    [\"car\", \"bus\", \"train\", \"transport\"],\n",
        "    [\"doctor\", \"nurse\", \"hospital\", \"medicine\"],\n",
        "    [\"teacher\", \"student\", \"school\", \"education\"],\n",
        "    [\"apple\", \"banana\", \"fruit\", \"food\"]\n",
        "]\n",
        "\n",
        "# 2. Train Word2Vec on this toy corpus\n",
        "toy_model = Word2Vec(toy_sentences, vector_size=20, window=2, min_count=1, sg=1, epochs=500)\n",
        "\n",
        "# 3. Show some vectors\n",
        "print(\"\\nVector for 'king':\\n\", toy_model.wv[\"king\"], \"\\n\")\n",
        "\n",
        "# 4. Check similarities\n",
        "print(\"Similarity king-queen:\", toy_model.wv.similarity(\"king\", \"queen\"))\n",
        "print(\"Similarity king-robot:\", toy_model.wv.similarity(\"king\", \"robot\"))\n",
        "\n",
        "# 5. Analogy test\n",
        "print(\"\\nAnalogy: king - man + woman ≈ ?\")\n",
        "print(toy_model.wv.most_similar(positive=[\"king\",\"woman\"], negative=[\"man\"], topn=3))\n",
        "\n",
        "# 6. Visualization of toy embeddings\n",
        "words = list(toy_model.wv.key_to_index)\n",
        "X = toy_model.wv[words]\n",
        "\n",
        "pca = PCA(n_components=2)\n",
        "result = pca.fit_transform(X)\n",
        "\n",
        "plt.figure(figsize=(8,6))\n",
        "plt.scatter(result[:, 0], result[:, 1])\n",
        "for i, word in enumerate(words):\n",
        "    plt.annotate(word, xy=(result[i, 0], result[i, 1]))\n",
        "plt.title(\"Toy Word Embeddings (PCA projection)\")\n",
        "plt.show()"
      ],
      "metadata": {
        "id": "SCjn25pKsgTo"
      },
      "execution_count": null,
      "outputs": []
    },
    {
      "cell_type": "markdown",
      "source": [
        "## PART 2: Real Corpus (Shakespeare Macbeth)"
      ],
      "metadata": {
        "id": "an0ARfeYsp0x"
      }
    },
    {
      "cell_type": "code",
      "source": [
        "print(\"\\n=== PART 2: Shakespeare Macbeth ===\")\n",
        "\n",
        "import nltk\n",
        "nltk.download(\"gutenberg\")\n",
        "nltk.download(\"punkt\")\n",
        "nltk.download(\"punkt_tab\")\n",
        "\n",
        "from nltk.corpus import gutenberg\n",
        "\n",
        "# Download NLTK resources\n",
        "nltk.download(\"gutenberg\")\n",
        "nltk.download(\"punkt\")\n",
        "\n",
        "# Load Hamlet\n",
        "raw_text = gutenberg.raw(\"shakespeare-hamlet.txt\")\n",
        "\n",
        "# Preprocess: lowercase and remove punctuation\n",
        "sentences = []\n",
        "for sent in sent_tokenize(raw_text):\n",
        "    tokens = [w.lower() for w in word_tokenize(sent) if w.isalpha()]\n",
        "    if tokens:\n",
        "        sentences.append(tokens)\n",
        "\n",
        "# Train Word2Vec\n",
        "model = Word2Vec(sentences, vector_size=100, window=5, min_count=1, workers=4, sg=1, epochs=20)\n",
        "\n",
        "# Vocabulary size\n",
        "print(\"Vocabulary size:\", len(model.wv))\n",
        "\n",
        "# Similarities\n",
        "def safe_sim(word1, word2):\n",
        "    try:\n",
        "        return model.wv.similarity(word1, word2)\n",
        "    except KeyError:\n",
        "        return f\"{word1} or {word2} not in vocab\"\n",
        "\n",
        "print(\"\\nSimilarity king-queen:\", safe_sim(\"king\",\"queen\"))\n",
        "print(\"Similarity king-man:\", safe_sim(\"king\",\"man\"))\n",
        "print(\"Similarity queen-woman:\", safe_sim(\"queen\",\"woman\"))\n",
        "\n",
        "# Analogy test\n",
        "try:\n",
        "    result = model.wv.most_similar(positive=[\"king\",\"woman\"], negative=[\"man\"], topn=3)\n",
        "    print(\"\\nAnalogy: king - man + woman ≈\", result)\n",
        "except KeyError as e:\n",
        "    print(\"Analogy failed:\", e)\n",
        "\n",
        "# Visualization of selected words\n",
        "target_words = [\"king\",\"queen\",\"man\",\"woman\",\"hamlet\",\"claudius\",\"ophelia\",\"polonius\"]\n",
        "words_in_vocab = [w for w in target_words if w in model.wv]\n",
        "X = model.wv[words_in_vocab]\n",
        "\n",
        "pca = PCA(n_components=2)\n",
        "result = pca.fit_transform(X)\n",
        "\n",
        "plt.figure(figsize=(8,6))\n",
        "plt.scatter(result[:, 0], result[:, 1])\n",
        "for i, word in enumerate(words_in_vocab):\n",
        "    plt.annotate(word, xy=(result[i, 0], result[i, 1]))\n",
        "plt.title(\"Hamlet Word Embeddings (PCA projection)\")\n",
        "plt.show()"
      ],
      "metadata": {
        "id": "ZLz3HeoGshaG"
      },
      "execution_count": null,
      "outputs": []
    },
    {
      "cell_type": "markdown",
      "source": [
        "## PART 3: Pretrained Embeddings"
      ],
      "metadata": {
        "id": "VmBa3fzLs0Wa"
      }
    },
    {
      "cell_type": "code",
      "source": [
        "print(\"\\n=== PART 3: Pretrained GloVe vectors ===\")\n",
        "\n",
        "# Load pretrained GloVe (50-dim, trained on Wikipedia + Gigaword)\n",
        "glove_model = api.load(\"glove-wiki-gigaword-50\")\n",
        "\n",
        "# Real semantic similarities\n",
        "print(\"\\nSimilarity king-queen:\", glove_model.similarity(\"king\", \"queen\"))\n",
        "print(\"Similarity king-robot:\", glove_model.similarity(\"king\", \"robot\"))\n",
        "\n",
        "# Analogy test\n",
        "print(\"\\nAnalogy: king - man + woman ≈ ?\")\n",
        "print(glove_model.most_similar(positive=[\"king\",\"woman\"], negative=[\"man\"], topn=5))\n",
        "\n",
        "# Visualization of selected embeddings\n",
        "target_words = [\"king\",\"queen\",\"man\",\"woman\",\"prince\",\"princess\",\"doctor\",\"nurse\",\"robot\",\"machine\"]\n",
        "X = glove_model[target_words]\n",
        "\n",
        "pca = PCA(n_components=2)\n",
        "result = pca.fit_transform(X)\n",
        "\n",
        "plt.figure(figsize=(8,6))\n",
        "plt.scatter(result[:, 0], result[:, 1])\n",
        "for i, word in enumerate(target_words):\n",
        "    plt.annotate(word, xy=(result[i, 0], result[i, 1]))\n",
        "plt.title(\"Pretrained GloVe Word Embeddings (PCA projection)\")\n",
        "plt.show()\n"
      ],
      "metadata": {
        "id": "a6dBxYMbshXX"
      },
      "execution_count": null,
      "outputs": []
    },
    {
      "cell_type": "markdown",
      "source": [
        "## STUDENT ACTIVITIES"
      ],
      "metadata": {
        "id": "WmKZEaLZtK7E"
      }
    },
    {
      "cell_type": "code",
      "source": [
        "print(\"\\n=== Student Exercises ===\")\n",
        "print(\"\"\"\n",
        "1. Modify the toy corpus in PART 1 by adding your own sentences (e.g., robotics, vision, AI).\n",
        "   - Observe how adding new data changes similarities and analogies.\n",
        "\n",
        "2. Change training parameters:\n",
        "   - Try vector_size=10 vs 100, window=2 vs 10, sg=0 (CBOW) vs sg=1 (Skip-gram).\n",
        "   - Compare results.\n",
        "\n",
        "3. In PART 2, explore Shakespeare embeddings:\n",
        "   - Check similarities between words like \"king\", \"death\", \"love\".\n",
        "   - Visualize different sets of words.\n",
        "\n",
        "4. In PART 3, query pretrained embeddings:\n",
        "   - Try analogies: \"paris - france + italy ≈ ?\", \"camera - image + sound ≈ ?\".\n",
        "   - Pick robotics/CV words and test them.\n",
        "\n",
        "Discussion:\n",
        "- Why do toy embeddings fail? (data scale)\n",
        "- Why do pretrained embeddings capture meaning better?\n",
        "- How do LLMs build on embeddings? (contextual, dynamic representations)\n",
        "\"\"\")\n"
      ],
      "metadata": {
        "id": "P4EYxmRkfT1e"
      },
      "execution_count": null,
      "outputs": []
    }
  ]
}