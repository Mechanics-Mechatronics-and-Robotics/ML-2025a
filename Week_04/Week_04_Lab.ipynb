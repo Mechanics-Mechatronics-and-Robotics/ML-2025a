{
 "cells": [
  {
   "cell_type": "code",
   "execution_count": 1,
   "id": "50ce4237",
   "metadata": {},
   "outputs": [
    {
     "name": "stdout",
     "output_type": "stream",
     "text": [
      "Вспомогательные функции загружены!\n"
     ]
    }
   ],
   "source": [
    "# Вспомогательные функции для анализа и визуализации\n",
    "\n",
    "def evaluate_model(model, X_train, X_test, y_train, y_test, model_name=\"Model\"):\n",
    "    \"\"\"Комплексная оценка модели с расчетом всех метрик.\"\"\"\n",
    "    from sklearn.model_selection import cross_val_score\n",
    "    from sklearn.metrics import accuracy_score, precision_score, recall_score, f1_score\n",
    "    \n",
    "    # Обучение и предсказание\n",
    "    model.fit(X_train, y_train)\n",
    "    y_pred = model.predict(X_test)\n",
    "    \n",
    "    # Cross-validation\n",
    "    cv_scores = cross_val_score(model, X_train, y_train, cv=5, scoring='accuracy')\n",
    "    \n",
    "    # OOB Score для ансамблевых методов\n",
    "    oob_score = getattr(model, 'oob_score_', None)\n",
    "    \n",
    "    return {\n",
    "        'Модель': model_name,\n",
    "        'Test Accuracy': accuracy_score(y_test, y_pred),\n",
    "        'Precision': precision_score(y_test, y_pred, average='weighted'),\n",
    "        'Recall': recall_score(y_test, y_pred, average='weighted'),\n",
    "        'F1-Score': f1_score(y_test, y_pred, average='weighted'),\n",
    "        'CV Mean': cv_scores.mean(),\n",
    "        'CV Std': cv_scores.std(),\n",
    "        'OOB Score': oob_score\n",
    "    }\n",
    "\n",
    "def create_comparison_table(results_df):\n",
    "    \"\"\"Создает интерактивную сводную таблицу результатов.\"\"\"\n",
    "    import plotly.graph_objects as go\n",
    "    \n",
    "    fig_summary = go.Figure(data=[go.Table(\n",
    "        header=dict(values=list(results_df.columns),\n",
    "                    fill_color='lightblue',\n",
    "                    align='center',\n",
    "                    font=dict(size=12, color='black')),\n",
    "        cells=dict(values=[results_df[col] for col in results_df.columns],\n",
    "                   fill_color='white',\n",
    "                   align='center',\n",
    "                   format=[None, '.4f', '.4f', '.4f', '.4f', '.4f', '.4f', '.4f'],\n",
    "                   font=dict(size=11)))\n",
    "    ])\n",
    "    \n",
    "    fig_summary.update_layout(\n",
    "        title='Сводная таблица результатов всех моделей',\n",
    "        height=400\n",
    "    )\n",
    "    \n",
    "    return fig_summary\n",
    "\n",
    "def create_metrics_chart(results_df):\n",
    "    \"\"\"Создает диаграмму сравнения основных метрик.\"\"\"\n",
    "    import plotly.graph_objects as go\n",
    "    from plotly.subplots import make_subplots\n",
    "    \n",
    "    fig = make_subplots(\n",
    "        rows=1, cols=2,\n",
    "        subplot_titles=['Основные метрики', 'Cross-Validation'],\n",
    "        specs=[[{'type': 'bar'}, {'type': 'bar'}]]\n",
    "    )\n",
    "    \n",
    "    # Основные метрики\n",
    "    metrics = ['Test Accuracy', 'Precision', 'Recall', 'F1-Score']\n",
    "    colors = [COLOR_PALETTE['primary'], COLOR_PALETTE['secondary'], \n",
    "              COLOR_PALETTE['success'], COLOR_PALETTE['danger']]\n",
    "    \n",
    "    for i, metric in enumerate(metrics):\n",
    "        fig.add_trace(\n",
    "            go.Bar(x=results_df['Модель'], y=results_df[metric],\n",
    "                   name=metric, marker_color=colors[i],\n",
    "                   text=results_df[metric].round(3),\n",
    "                   textposition='outside'),\n",
    "            row=1, col=1\n",
    "        )\n",
    "    \n",
    "    # Cross-Validation\n",
    "    fig.add_trace(\n",
    "        go.Bar(x=results_df['Модель'], y=results_df['CV Mean'],\n",
    "               error_y=dict(type='data', array=results_df['CV Std']),\n",
    "               name='CV Score ± Std', marker_color=COLOR_PALETTE['info'],\n",
    "               text=results_df['CV Mean'].round(3),\n",
    "               textposition='outside'),\n",
    "        row=1, col=2\n",
    "    )\n",
    "    \n",
    "    fig.update_layout(height=500, showlegend=True)\n",
    "    return fig\n",
    "\n",
    "def analyze_feature_importance(model, feature_names, top_n=10):\n",
    "    \"\"\"Анализирует важность признаков для модели.\"\"\"\n",
    "    if hasattr(model, 'feature_importances_'):\n",
    "        importances = model.feature_importances_\n",
    "    elif hasattr(model, 'estimators_'):\n",
    "        importances = np.mean([est.feature_importances_ for est in model.estimators_], axis=0)\n",
    "    else:\n",
    "        return None, None\n",
    "    \n",
    "    top_indices = np.argsort(importances)[-top_n:][::-1]\n",
    "    top_names = [feature_names[i] for i in top_indices]\n",
    "    top_values = importances[top_indices]\n",
    "    \n",
    "    return top_names, top_values\n",
    "\n",
    "def create_importance_chart(model, feature_names, title=\"Важность признаков\"):\n",
    "    \"\"\"Создает диаграмму важности признаков.\"\"\"\n",
    "    import plotly.graph_objects as go\n",
    "    \n",
    "    names, values = analyze_feature_importance(model, feature_names)\n",
    "    if names is None:\n",
    "        return None\n",
    "    \n",
    "    fig = go.Figure(data=[\n",
    "        go.Bar(y=names, x=values, orientation='h',\n",
    "               marker_color=COLOR_PALETTE['primary'],\n",
    "               text=[f'{v:.3f}' for v in values],\n",
    "               textposition='auto')\n",
    "    ])\n",
    "    \n",
    "    fig.update_layout(\n",
    "        title=title,\n",
    "        xaxis_title='Важность',\n",
    "        yaxis_title='Признаки',\n",
    "        height=400\n",
    "    )\n",
    "    \n",
    "    return fig\n",
    "\n",
    "def print_model_summary(results_df):\n",
    "    \"\"\"Выводит краткое резюме результатов.\"\"\"\n",
    "    print(\"КРАТКИЙ АНАЛИЗ РЕЗУЛЬТАТОВ\")\n",
    "    print(\"=\" * 40)\n",
    "    \n",
    "    best_model = results_df.loc[results_df['Test Accuracy'].idxmax()]\n",
    "    print(f\"Лучшая модель: {best_model['Модель']} (Accuracy: {best_model['Test Accuracy']:.4f})\")\n",
    "    \n",
    "    most_stable = results_df.loc[results_df['CV Std'].idxmin()]\n",
    "    print(f\"Самая стабильная: {most_stable['Модель']} (CV Std: {most_stable['CV Std']:.4f})\")\n",
    "    \n",
    "    # Анализ улучшений ансамблей\n",
    "    ensemble_models = results_df[results_df['Модель'].isin(['Bagging', 'Random Forest'])]\n",
    "    simple_dt = results_df[results_df['Модель'] == 'Decision Tree']['Test Accuracy'].iloc[0]\n",
    "    \n",
    "    print(f\"\\nПРЕИМУЩЕСТВА АНСАМБЛЕВЫХ МЕТОДОВ:\")\n",
    "    for _, model in ensemble_models.iterrows():\n",
    "        improvement = ((model['Test Accuracy'] - simple_dt) / simple_dt) * 100\n",
    "        print(f\"   {model['Модель']}: +{improvement:.1f}% улучшение accuracy\")\n",
    "\n",
    "print(\"Вспомогательные функции загружены!\")"
   ]
  },
  {
   "cell_type": "markdown",
   "id": "04a3ba69",
   "metadata": {},
   "source": [
    "# Intro to ML, Week 4: Decision Trees, Bagging и Random Forest\n",
    "\n",
    "## Цели лабораторной работы\n",
    "\n",
    "В рамках данной лабораторной работы мы изучим:\n",
    "1. **Decision Trees** - основные принципы работы, математические основы, критерии разбиения\n",
    "2. **Bagging** - метод Bootstrap Aggregating для уменьшения дисперсии моделей  \n",
    "3. **Random Forest** - комбинация Bagging и случайного выбора признаков\n",
    "4. **Сравнение методов** - анализ производительности одиночного дерева против ансамблевых подходов\n",
    "\n",
    "## Структура работы\n",
    "\n",
    "1. Теоретические основы каждого метода с математическими формулировками\n",
    "2. Практическая реализация алгоритмов с подробными комментариями\n",
    "3. Пошаговые примеры расчетов на небольших данных\n",
    "4. Интерактивные элементы для экспериментирования  \n",
    "5. Сравнительный анализ методов\n",
    "6. Домашнее задание\n",
    "\n",
    "---"
   ]
  },
  {
   "cell_type": "markdown",
   "id": "80508f2c",
   "metadata": {},
   "source": [
    "## 1. Импорт библиотек и подготовка данных\n",
    "\n",
    "Начнем с импорта всех необходимых библиотек для нашей работы:"
   ]
  },
  {
   "cell_type": "code",
   "execution_count": 2,
   "id": "c18634de",
   "metadata": {},
   "outputs": [],
   "source": [
    "# Импорт основных библиотек\n",
    "import numpy as np\n",
    "import pandas as pd\n",
    "from sklearn.datasets import load_breast_cancer\n",
    "from sklearn.model_selection import train_test_split, cross_val_score\n",
    "from sklearn.tree import DecisionTreeClassifier\n",
    "from sklearn.ensemble import BaggingClassifier, RandomForestClassifier\n",
    "from sklearn.metrics import accuracy_score, precision_score, recall_score, f1_score, classification_report\n",
    "import plotly.graph_objects as go\n",
    "from plotly.subplots import make_subplots\n",
    "from ipywidgets import interact, IntSlider, FloatSlider, Dropdown\n",
    "import warnings\n",
    "warnings.filterwarnings('ignore')\n",
    "\n",
    "# Настройка для воспроизводимости результатов  \n",
    "np.random.seed(42)\n",
    "\n",
    "# Единая цветовая палитра для всех визуализаций\n",
    "COLOR_PALETTE = {\n",
    "    'primary': '#2E86AB',      # Синий\n",
    "    'secondary': '#A23B72',    # Розовый  \n",
    "    'accent': '#F18F01',       # Оранжевый\n",
    "    'success': '#32A251',      # Зеленый\n",
    "    'danger': '#C73E1D',       # Красный\n",
    "    'info': '#592E83',         # Фиолетовый\n",
    "    'warning': '#FF7F0E'       # Оранжево-желтый\n",
    "}"
   ]
  },
  {
   "cell_type": "code",
   "execution_count": 3,
   "id": "4b9e0097",
   "metadata": {},
   "outputs": [
    {
     "name": "stdout",
     "output_type": "stream",
     "text": [
      "=== ИНФОРМАЦИЯ О ДАТАСЕТЕ BREAST CANCER WISCONSIN ===\n",
      "Размер датасета: (569, 30)\n",
      "Количество признаков: 30\n",
      "Количество образцов: 569\n",
      "Количество классов: 2\n",
      "Классы: ['malignant', 'benign']\n",
      "Распределение классов: {'malignant': 212, 'benign': 357}\n",
      "\n",
      "Первые 10 признаков:\n",
      " 1. mean radius\n",
      " 2. mean texture\n",
      " 3. mean perimeter\n",
      " 4. mean area\n",
      " 5. mean smoothness\n",
      " 6. mean compactness\n",
      " 7. mean concavity\n",
      " 8. mean concave points\n",
      " 9. mean symmetry\n",
      "10. mean fractal dimension\n",
      "\n",
      "Статистика по признакам:\n",
      "Минимальные значения: [6.980e+00 9.710e+00 4.379e+01 1.435e+02 5.000e-02]\n",
      "Максимальные значения: [2.811e+01 3.928e+01 1.885e+02 2.501e+03 1.600e-01]\n",
      "Средние значения: [1.4130e+01 1.9290e+01 9.1970e+01 6.5489e+02 1.0000e-01]\n",
      "\n",
      "Размер обучающей выборки: (398, 30)\n",
      "Размер тестовой выборки: (171, 30)\n",
      "Распределение в обучающей выборке: {'malignant': 148, 'benign': 250}\n",
      "Распределение в тестовой выборке: {'malignant': 64, 'benign': 107}\n"
     ]
    }
   ],
   "source": [
    "# Загрузка датасета Breast Cancer Wisconsin\n",
    "def load_and_prepare_data():\n",
    "    \"\"\"\n",
    "    Загружает и подготавливает датасет Breast Cancer Wisconsin для демонстрации \n",
    "    работы алгоритмов машинного обучения.\n",
    "    \n",
    "    Returns\n",
    "    -------\n",
    "    X : np.ndarray\n",
    "        Матрица признаков (30 признаков)\n",
    "    y : np.ndarray\n",
    "        Вектор целевых значений (0 - злокачественная, 1 - доброкачественная)\n",
    "    feature_names : list\n",
    "        Названия признаков\n",
    "    target_names : list\n",
    "        Названия классов\n",
    "    \"\"\"\n",
    "    # Загружаем данные\n",
    "    data = load_breast_cancer()\n",
    "    X, y = data.data, data.target\n",
    "    feature_names = list(data.feature_names)\n",
    "    target_names = list(data.target_names)\n",
    "    \n",
    "    return X, y, feature_names, target_names\n",
    "\n",
    "# Загружаем данные\n",
    "X, y, feature_names, target_names = load_and_prepare_data()\n",
    "\n",
    "print(f\"=== ИНФОРМАЦИЯ О ДАТАСЕТЕ BREAST CANCER WISCONSIN ===\")\n",
    "print(f\"Размер датасета: {X.shape}\")\n",
    "print(f\"Количество признаков: {X.shape[1]}\")\n",
    "print(f\"Количество образцов: {X.shape[0]}\")\n",
    "print(f\"Количество классов: {len(np.unique(y))}\")\n",
    "print(f\"Классы: {target_names}\")\n",
    "print(f\"Распределение классов: {dict(zip(target_names, np.bincount(y)))}\")\n",
    "\n",
    "# Первые 10 признаков для понимания данных\n",
    "print(f\"\\nПервые 10 признаков:\")\n",
    "for i, name in enumerate(feature_names[:10]):\n",
    "    print(f\"{i+1:2d}. {name}\")\n",
    "\n",
    "print(f\"\\nСтатистика по признакам:\")\n",
    "print(f\"Минимальные значения: {X.min(axis=0)[:5].round(2)}\")\n",
    "print(f\"Максимальные значения: {X.max(axis=0)[:5].round(2)}\")\n",
    "print(f\"Средние значения: {X.mean(axis=0)[:5].round(2)}\")\n",
    "\n",
    "# Разделение на обучающую и тестовую выборки\n",
    "X_train, X_test, y_train, y_test = train_test_split(\n",
    "    X, y, test_size=0.3, random_state=42, stratify=y\n",
    ")\n",
    "\n",
    "print(f\"\\nРазмер обучающей выборки: {X_train.shape}\")\n",
    "print(f\"Размер тестовой выборки: {X_test.shape}\")\n",
    "print(f\"Распределение в обучающей выборке: {dict(zip(target_names, np.bincount(y_train)))}\")\n",
    "print(f\"Распределение в тестовой выборке: {dict(zip(target_names, np.bincount(y_test)))}\")"
   ]
  },
  {
   "cell_type": "markdown",
   "id": "e8a13e1d",
   "metadata": {},
   "source": [
    "## 2. Теория Decision Trees\n",
    "\n",
    "### 2.1 Математические основы\n",
    "\n",
    "**Decision Tree** (дерево решений) — это алгоритм машинного обучения, который строит модель предсказания в виде древовидной структуры, где:\n",
    "- Каждый внутренний узел представляет тест на значение признака\n",
    "- Каждая ветвь представляет результат теста  \n",
    "- Каждый листовой узел представляет метку класса\n",
    "\n",
    "### 2.2 Формальное определение\n",
    "\n",
    "Пусть у нас есть обучающая выборка $D = \\{(x_i, y_i)\\}_{i=1}^N$, где $x_i \\in \\mathbb{R}^d$ — вектор признаков, $y_i \\in \\{1, 2, ..., K\\}$ — метка класса.\n",
    "\n",
    "Дерево решений $T$ можно представить как функцию:\n",
    "$$T: \\mathbb{R}^d \\rightarrow \\{1, 2, ..., K\\}$$\n",
    "\n",
    "### 2.3 Критерии разбиения\n",
    "\n",
    "Для построения дерева нужно найти оптимальные разбиения. Основные критерии:\n",
    "\n",
    "#### 2.3.1 Gini Impurity (Индекс Джини)\n",
    "\n",
    "Для узла $t$ с множеством объектов $S_t$:\n",
    "\n",
    "$$Gini(t) = 1 - \\sum_{k=1}^{K} p_k^2(t)$$\n",
    "\n",
    "где $p_k(t) = \\frac{|S_t^k|}{|S_t|}$ — доля объектов класса $k$ в узле $t$.\n",
    "\n",
    "**Интуиция**: Gini измеряет \"нечистоту\" узла. Если все объекты в узле принадлежат одному классу, то $Gini = 0$. Максимальное значение достигается при равномерном распределении классов.\n",
    "\n",
    "#### 2.3.2 Entropy (Энтропия)\n",
    "\n",
    "$$Entropy(t) = -\\sum_{k=1}^{K} p_k(t) \\log_2 p_k(t)$$\n",
    "\n",
    "**Интуиция**: Энтропия измеряет количество информации, необходимое для описания распределения классов в узле.\n",
    "\n",
    "#### 2.3.3 Information Gain (Информационный выигрыш)\n",
    "\n",
    "$$IG(S, A) = Entropy(S) - \\sum_{v \\in Values(A)} \\frac{|S_v|}{|S|} Entropy(S_v)$$\n",
    "\n",
    "где $S_v$ — подмножество $S$, для которого атрибут $A$ имеет значение $v$.\n",
    "\n",
    "### 2.4 Алгоритм построения дерева\n",
    "\n",
    "1. **Начать с корневого узла**, содержащего всю обучающую выборку\n",
    "2. **Для каждого узла**:\n",
    "   - Если все объекты принадлежат одному классу → создать лист\n",
    "   - Если достигнуто условие остановки → создать лист с majority class\n",
    "   - Иначе: найти лучшее разбиение по критерию качества\n",
    "3. **Рекурсивно применить** алгоритм к дочерним узлам\n",
    "\n",
    "### 2.5 Плюсы и минусы Decision Trees\n",
    "\n",
    "#### Преимущества:\n",
    "- **Интерпретируемость**: Легко понять логику принятия решений\n",
    "- **Работа с категориальными данными**: Не требует предобработки  \n",
    "- **Нелинейные зависимости**: Может моделировать сложные границы\n",
    "- **Выбор признаков**: Автоматически определяет важные признаки\n",
    "- **Работа с пропусками**: Может обрабатывать missing values\n",
    "\n",
    "#### Недостатки:\n",
    "- **Переобучение**: Склонность к overfitting, особенно на глубоких деревьях\n",
    "- **Неустойчивость**: Малые изменения в данных могут сильно изменить дерево\n",
    "- **Смещение**: Предпочтение признаков с большим количеством значений\n",
    "- **Сложность**: Не может эффективно представить линейные зависимости"
   ]
  },
  {
   "cell_type": "markdown",
   "id": "1f423188",
   "metadata": {},
   "source": [
    "## 3. Пошаговый пример построения Decision Tree\n",
    "\n",
    "Рассмотрим построение дерева на небольшом примере, который можно прорешать вручную.\n",
    "\n",
    "### 3.1 Исходные данные\n",
    "\n",
    "Представим, что у нас есть следующий датасет для предсказания \"Играть в теннис\":\n",
    "\n",
    "| Температура | Влажность | Ветер   | Играть |\n",
    "|-------------|-----------|---------|--------|\n",
    "| Высокая     | Высокая   | Слабый  | Нет    |\n",
    "| Высокая     | Низкая    | Сильный | Нет    |\n",
    "| Средняя     | Высокая   | Слабый  | Да     |\n",
    "| Низкая      | Высокая   | Слабый  | Да     |\n",
    "| Низкая      | Низкая    | Слабый  | Да     |\n",
    "| Низкая      | Низкая    | Сильный | Нет    |\n",
    "| Средняя     | Низкая    | Сильный | Да     |\n",
    "| Высокая     | Высокая   | Слабый  | Нет    |\n",
    "\n",
    "**Распределение целевого класса:** Да = 4, Нет = 4\n",
    "\n",
    "### 3.2 Шаг 1: Вычисление начальной энтропии\n",
    "\n",
    "Для корневого узла с 8 примерами (4 \"Да\", 4 \"Нет\"):\n",
    "\n",
    "$$p(\\text{Да}) = \\frac{4}{8} = 0.5$$\n",
    "$$p(\\text{Нет}) = \\frac{4}{8} = 0.5$$\n",
    "\n",
    "$$\\text{Entropy}(\\text{корень}) = -0.5 \\log_2(0.5) - 0.5 \\log_2(0.5) = -0.5 \\cdot (-1) - 0.5 \\cdot (-1) = 1.0$$\n",
    "\n",
    "$$\\text{Gini}(\\text{корень}) = 1 - (0.5)^2 - (0.5)^2 = 1 - 0.25 - 0.25 = 0.5$$\n",
    "\n",
    "### 3.3 Шаг 2: Анализ разбиения по признаку \"Влажность\"\n",
    "\n",
    "Рассмотрим разбиение по признаку \"Влажность\":\n",
    "\n",
    "**Влажность = Высокая:** примеры 1, 3, 4, 8\n",
    "- Да = 2 (примеры 3, 4)\n",
    "- Нет = 2 (примеры 1, 8)\n",
    "- $p(\\text{Да}) = \\frac{2}{4} = 0.5$, $p(\\text{Нет}) = \\frac{2}{4} = 0.5$\n",
    "- $\\text{Entropy} = -0.5 \\log_2(0.5) - 0.5 \\log_2(0.5) = 1.0$\n",
    "\n",
    "**Влажность = Низкая:** примеры 2, 5, 6, 7\n",
    "- Да = 2 (примеры 5, 7)\n",
    "- Нет = 2 (примеры 2, 6)\n",
    "- $p(\\text{Да}) = \\frac{2}{4} = 0.5$, $p(\\text{Нет}) = \\frac{2}{4} = 0.5$\n",
    "- $\\text{Entropy} = 1.0$\n",
    "\n",
    "**Information Gain для \"Влажность\":**\n",
    "$$IG = 1.0 - \\frac{4}{8} \\cdot 1.0 - \\frac{4}{8} \\cdot 1.0 = 1.0 - 0.5 - 0.5 = 0.0$$\n",
    "\n",
    "### 3.4 Шаг 3: Анализ разбиения по признаку \"Температура\"\n",
    "\n",
    "**Температура = Высокая:** примеры 1, 2, 8\n",
    "- Да = 0\n",
    "- Нет = 3\n",
    "- $\\text{Entropy} = 0$ (чистый узел)\n",
    "\n",
    "**Температура ≠ Высокая:** примеры 3, 4, 5, 6, 7\n",
    "- Да = 4 (примеры 3, 4, 5, 7)\n",
    "- Нет = 1 (пример 6)\n",
    "- $p(\\text{Да}) = \\frac{4}{5} = 0.8$, $p(\\text{Нет}) = \\frac{1}{5} = 0.2$\n",
    "- $\\text{Entropy} = -0.8 \\log_2(0.8) - 0.2 \\log_2(0.2) = -0.8 \\cdot (-0.322) - 0.2 \\cdot (-2.322) = 0.258 + 0.464 = 0.722$\n",
    "\n",
    "**Information Gain для \"Температура\":**\n",
    "$$IG = 1.0 - \\frac{3}{8} \\cdot 0 - \\frac{5}{8} \\cdot 0.722 = 1.0 - 0 - 0.451 = 0.549$$\n",
    "\n",
    "### 3.5 Вывод\n",
    "\n",
    "Поскольку $IG(\\text{Температура}) = 0.549 > IG(\\text{Влажность}) = 0.0$, лучшим разбиением для корневого узла является **\"Температура = Высокая\"**.\n",
    "\n",
    "Получившееся дерево:\n",
    "```\n",
    "                 Температура = Высокая?\n",
    "                /                    \\\n",
    "              Да                      Нет\n",
    "             /                         \\\n",
    "        Играть = НЕТ              [Да=4, Нет=1]\n",
    "                                      |\n",
    "                                 Дальнейшие\n",
    "                                 разбиения...\n",
    "```"
   ]
  },
  {
   "cell_type": "code",
   "execution_count": 4,
   "id": "007907a3",
   "metadata": {},
   "outputs": [],
   "source": [
    "# Функции для расчета критериев разбиения\n",
    "def calculate_gini(y):\n",
    "    \"\"\"\n",
    "    Вычисляет индекс Джини для вектора меток классов.\n",
    "    \n",
    "    Parameters\n",
    "    ----------\n",
    "    y : array-like\n",
    "        Вектор меток классов\n",
    "        \n",
    "    Returns\n",
    "    -------\n",
    "    float\n",
    "        Значение индекса Джини\n",
    "    \"\"\"\n",
    "    if len(y) == 0:\n",
    "        return 0\n",
    "    \n",
    "    _, counts = np.unique(y, return_counts=True)\n",
    "    probabilities = counts / len(y)\n",
    "    gini = 1 - np.sum(probabilities ** 2)\n",
    "    return gini"
   ]
  },
  {
   "cell_type": "code",
   "execution_count": 5,
   "id": "cebfea8b",
   "metadata": {},
   "outputs": [],
   "source": [
    "def calculate_entropy(y):\n",
    "    \"\"\"\n",
    "    Вычисляет энтропию для вектора меток классов.\n",
    "    \n",
    "    Parameters\n",
    "    ----------\n",
    "    y : array-like\n",
    "        Вектор меток классов\n",
    "        \n",
    "    Returns\n",
    "    -------\n",
    "    float\n",
    "        Значение энтропии\n",
    "    \"\"\"\n",
    "    if len(y) == 0:\n",
    "        return 0\n",
    "    \n",
    "    _, counts = np.unique(y, return_counts=True)\n",
    "    probabilities = counts / len(y)\n",
    "    # Избегаем log(0)\n",
    "    entropy = -np.sum(probabilities * np.log2(probabilities + 1e-10))\n",
    "    return entropy"
   ]
  },
  {
   "cell_type": "code",
   "execution_count": 6,
   "id": "c9ef6b2a",
   "metadata": {},
   "outputs": [],
   "source": [
    "def calculate_information_gain(parent_y, left_y, right_y, criterion='entropy'):\n",
    "    \"\"\"\n",
    "    Вычисляет информационный выигрыш от разбиения.\n",
    "    \n",
    "    Parameters\n",
    "    ----------\n",
    "    parent_y : array-like\n",
    "        Метки класса в родительском узле\n",
    "    left_y : array-like  \n",
    "        Метки класса в левом дочернем узле\n",
    "    right_y : array-like\n",
    "        Метки класса в правом дочернем узле\n",
    "    criterion : str\n",
    "        Критерий измерения ('entropy' или 'gini')\n",
    "        \n",
    "    Returns\n",
    "    -------\n",
    "    float\n",
    "        Информационный выигрыш\n",
    "    \"\"\"\n",
    "    n_parent = len(parent_y)\n",
    "    n_left = len(left_y)\n",
    "    n_right = len(right_y)\n",
    "    \n",
    "    if criterion == 'entropy':\n",
    "        parent_impurity = calculate_entropy(parent_y)\n",
    "        weighted_impurity = (n_left/n_parent) * calculate_entropy(left_y) + (n_right/n_parent) * calculate_entropy(right_y)\n",
    "    else:  # gini\n",
    "        parent_impurity = calculate_gini(parent_y)\n",
    "        weighted_impurity = (n_left/n_parent) * calculate_gini(left_y) + (n_right/n_parent) * calculate_gini(right_y)\n",
    "    \n",
    "    return parent_impurity - weighted_impurity"
   ]
  },
  {
   "cell_type": "markdown",
   "id": "b82c0020",
   "metadata": {},
   "source": [
    "## 4. Практическая реализация Decision Tree"
   ]
  },
  {
   "cell_type": "code",
   "execution_count": 7,
   "id": "0901b499",
   "metadata": {},
   "outputs": [
    {
     "name": "stdout",
     "output_type": "stream",
     "text": [
      "=== НАСТРОЙКИ DECISION ===\n",
      "Максимальная глубина: 6\n",
      "Количество признаков для рассмотрения: sqrt\n",
      "Минимум образцов для разбиения: 10\n",
      "Минимум образцов в листе: 5\n",
      "Итоговая глубина обученного дерева: 6\n",
      "Количество листьев: 15\n"
     ]
    }
   ],
   "source": [
    "# Создание и обучение Decision Tree для датасета Breast Cancer\n",
    "dt_classifier = DecisionTreeClassifier(\n",
    "    criterion='gini',           # Критерий разбиения\n",
    "    max_depth=6,               # Оптимальная глубина для Breast Cancer\n",
    "    min_samples_split=10,       # Минимальное количество образцов для разбиения\n",
    "    min_samples_leaf=5,         # Минимальное количество образцов в листе\n",
    "    max_features='sqrt',        # Случайный выбор признаков\n",
    "    random_state=42\n",
    ")\n",
    "\n",
    "# Обучение модели\n",
    "dt_classifier.fit(X_train, y_train)\n",
    "\n",
    "print(\"=== НАСТРОЙКИ DECISION ===\")\n",
    "print(f\"Максимальная глубина: {dt_classifier.max_depth}\")\n",
    "print(f\"Количество признаков для рассмотрения: {dt_classifier.max_features}\")\n",
    "print(f\"Минимум образцов для разбиения: {dt_classifier.min_samples_split}\")\n",
    "print(f\"Минимум образцов в листе: {dt_classifier.min_samples_leaf}\")\n",
    "print(f\"Итоговая глубина обученного дерева: {dt_classifier.get_depth()}\")\n",
    "print(f\"Количество листьев: {dt_classifier.get_n_leaves()}\")"
   ]
  },
  {
   "cell_type": "code",
   "execution_count": 8,
   "id": "c0b5fdf4",
   "metadata": {},
   "outputs": [
    {
     "name": "stdout",
     "output_type": "stream",
     "text": [
      "=== РЕЗУЛЬТАТЫ DECISION TREE ===\n",
      "Accuracy:  0.9240\n",
      "Precision: 0.9252\n",
      "Recall:    0.9240\n",
      "F1-Score:  0.9243\n",
      "\n",
      "=== АНАЛИЗ МОДЕЛИ ===\n",
      "Количество классов: 2\n",
      "Глубина обученного дерева: 6\n",
      "Количество листьев: 15\n",
      "\n",
      "Топ-5 важных признаков:\n",
      "1. worst radius: 0.7981\n",
      "2. worst symmetry: 0.0688\n",
      "3. worst concave points: 0.0357\n",
      "4. mean concavity: 0.0181\n",
      "5. mean texture: 0.0160\n",
      "\n",
      "=== ДЕТАЛЬНЫЙ ОТЧЕТ ===\n",
      "              precision    recall  f1-score   support\n",
      "\n",
      "   malignant       0.88      0.92      0.90        64\n",
      "      benign       0.95      0.93      0.94       107\n",
      "\n",
      "    accuracy                           0.92       171\n",
      "   macro avg       0.92      0.92      0.92       171\n",
      "weighted avg       0.93      0.92      0.92       171\n",
      "\n"
     ]
    },
    {
     "data": {
      "application/vnd.plotly.v1+json": {
       "config": {
        "plotlyServerURL": "https://plot.ly"
       },
       "data": [
        {
         "marker": {
          "color": "#2E86AB"
         },
         "name": "Обучающая выборка",
         "text": [
          148,
          250
         ],
         "textposition": "auto",
         "type": "bar",
         "x": [
          "malignant",
          "benign"
         ],
         "xaxis": "x",
         "y": [
          148,
          250
         ],
         "yaxis": "y"
        },
        {
         "marker": {
          "color": "#A23B72"
         },
         "name": "Тестовая выборка",
         "text": [
          64,
          107
         ],
         "textposition": "auto",
         "type": "bar",
         "x": [
          "malignant",
          "benign"
         ],
         "xaxis": "x",
         "y": [
          64,
          107
         ],
         "yaxis": "y"
        },
        {
         "marker": {
          "color": "#F18F01"
         },
         "orientation": "h",
         "showlegend": false,
         "text": [
          "0.002",
          "0.012",
          "0.014",
          "0.016",
          "0.016",
          "0.016",
          "0.018",
          "0.036",
          "0.069",
          "0.798"
         ],
         "textposition": "auto",
         "type": "bar",
         "x": [
          0.0021214850568274436,
          0.01204086113334497,
          0.014075420663123636,
          0.015619294764210496,
          0.0157508928729852,
          0.01601893230206628,
          0.018061291700017457,
          0.035709416596439746,
          0.0687818978684587,
          0.7981306444336237
         ],
         "xaxis": "x2",
         "y": [
          "smoothness error",
          "area error",
          "concave points error",
          "worst smoothness",
          "mean area",
          "mean texture",
          "mean concavity",
          "worst concave points",
          "worst symmetry",
          "worst radius"
         ],
         "yaxis": "y2"
        },
        {
         "marker": {
          "color": [
           "#2E86AB",
           "#A23B72",
           "#F18F01",
           "#32A251"
          ]
         },
         "showlegend": false,
         "text": [
          "0.924",
          "0.925",
          "0.924",
          "0.924"
         ],
         "textposition": "auto",
         "type": "bar",
         "x": [
          "Accuracy",
          "Precision",
          "Recall",
          "F1-Score"
         ],
         "xaxis": "x3",
         "y": [
          0.9239766081871345,
          0.9252279426081469,
          0.9239766081871345,
          0.9243066543872555
         ],
         "yaxis": "y3"
        },
        {
         "marker": {
          "color": [
           "#32A251",
           "#592E83"
          ]
         },
         "showlegend": false,
         "text": [
          "0.901",
          "0.938"
         ],
         "textposition": "auto",
         "type": "bar",
         "x": [
          "malignant",
          "benign"
         ],
         "xaxis": "x4",
         "y": [
          0.9007633587786259,
          0.9383886255924171
         ],
         "yaxis": "y4"
        }
       ],
       "layout": {
        "annotations": [
         {
          "font": {
           "size": 16
          },
          "showarrow": false,
          "text": "Распределение классов",
          "x": 0.225,
          "xanchor": "center",
          "xref": "paper",
          "y": 1,
          "yanchor": "bottom",
          "yref": "paper"
         },
         {
          "font": {
           "size": 16
          },
          "showarrow": false,
          "text": "Важность признаков (топ-10)",
          "x": 0.775,
          "xanchor": "center",
          "xref": "paper",
          "y": 1,
          "yanchor": "bottom",
          "yref": "paper"
         },
         {
          "font": {
           "size": 16
          },
          "showarrow": false,
          "text": "Метрики качества",
          "x": 0.225,
          "xanchor": "center",
          "xref": "paper",
          "y": 0.44,
          "yanchor": "bottom",
          "yref": "paper"
         },
         {
          "font": {
           "size": 16
          },
          "showarrow": false,
          "text": "Точность по классам",
          "x": 0.775,
          "xanchor": "center",
          "xref": "paper",
          "y": 0.44,
          "yanchor": "bottom",
          "yref": "paper"
         }
        ],
        "font": {
         "size": 10
        },
        "height": 800,
        "paper_bgcolor": "white",
        "plot_bgcolor": "white",
        "showlegend": true,
        "template": {
         "data": {
          "bar": [
           {
            "error_x": {
             "color": "#2a3f5f"
            },
            "error_y": {
             "color": "#2a3f5f"
            },
            "marker": {
             "line": {
              "color": "#E5ECF6",
              "width": 0.5
             },
             "pattern": {
              "fillmode": "overlay",
              "size": 10,
              "solidity": 0.2
             }
            },
            "type": "bar"
           }
          ],
          "barpolar": [
           {
            "marker": {
             "line": {
              "color": "#E5ECF6",
              "width": 0.5
             },
             "pattern": {
              "fillmode": "overlay",
              "size": 10,
              "solidity": 0.2
             }
            },
            "type": "barpolar"
           }
          ],
          "carpet": [
           {
            "aaxis": {
             "endlinecolor": "#2a3f5f",
             "gridcolor": "white",
             "linecolor": "white",
             "minorgridcolor": "white",
             "startlinecolor": "#2a3f5f"
            },
            "baxis": {
             "endlinecolor": "#2a3f5f",
             "gridcolor": "white",
             "linecolor": "white",
             "minorgridcolor": "white",
             "startlinecolor": "#2a3f5f"
            },
            "type": "carpet"
           }
          ],
          "choropleth": [
           {
            "colorbar": {
             "outlinewidth": 0,
             "ticks": ""
            },
            "type": "choropleth"
           }
          ],
          "contour": [
           {
            "colorbar": {
             "outlinewidth": 0,
             "ticks": ""
            },
            "colorscale": [
             [
              0,
              "#0d0887"
             ],
             [
              0.1111111111111111,
              "#46039f"
             ],
             [
              0.2222222222222222,
              "#7201a8"
             ],
             [
              0.3333333333333333,
              "#9c179e"
             ],
             [
              0.4444444444444444,
              "#bd3786"
             ],
             [
              0.5555555555555556,
              "#d8576b"
             ],
             [
              0.6666666666666666,
              "#ed7953"
             ],
             [
              0.7777777777777778,
              "#fb9f3a"
             ],
             [
              0.8888888888888888,
              "#fdca26"
             ],
             [
              1,
              "#f0f921"
             ]
            ],
            "type": "contour"
           }
          ],
          "contourcarpet": [
           {
            "colorbar": {
             "outlinewidth": 0,
             "ticks": ""
            },
            "type": "contourcarpet"
           }
          ],
          "heatmap": [
           {
            "colorbar": {
             "outlinewidth": 0,
             "ticks": ""
            },
            "colorscale": [
             [
              0,
              "#0d0887"
             ],
             [
              0.1111111111111111,
              "#46039f"
             ],
             [
              0.2222222222222222,
              "#7201a8"
             ],
             [
              0.3333333333333333,
              "#9c179e"
             ],
             [
              0.4444444444444444,
              "#bd3786"
             ],
             [
              0.5555555555555556,
              "#d8576b"
             ],
             [
              0.6666666666666666,
              "#ed7953"
             ],
             [
              0.7777777777777778,
              "#fb9f3a"
             ],
             [
              0.8888888888888888,
              "#fdca26"
             ],
             [
              1,
              "#f0f921"
             ]
            ],
            "type": "heatmap"
           }
          ],
          "heatmapgl": [
           {
            "colorbar": {
             "outlinewidth": 0,
             "ticks": ""
            },
            "colorscale": [
             [
              0,
              "#0d0887"
             ],
             [
              0.1111111111111111,
              "#46039f"
             ],
             [
              0.2222222222222222,
              "#7201a8"
             ],
             [
              0.3333333333333333,
              "#9c179e"
             ],
             [
              0.4444444444444444,
              "#bd3786"
             ],
             [
              0.5555555555555556,
              "#d8576b"
             ],
             [
              0.6666666666666666,
              "#ed7953"
             ],
             [
              0.7777777777777778,
              "#fb9f3a"
             ],
             [
              0.8888888888888888,
              "#fdca26"
             ],
             [
              1,
              "#f0f921"
             ]
            ],
            "type": "heatmapgl"
           }
          ],
          "histogram": [
           {
            "marker": {
             "pattern": {
              "fillmode": "overlay",
              "size": 10,
              "solidity": 0.2
             }
            },
            "type": "histogram"
           }
          ],
          "histogram2d": [
           {
            "colorbar": {
             "outlinewidth": 0,
             "ticks": ""
            },
            "colorscale": [
             [
              0,
              "#0d0887"
             ],
             [
              0.1111111111111111,
              "#46039f"
             ],
             [
              0.2222222222222222,
              "#7201a8"
             ],
             [
              0.3333333333333333,
              "#9c179e"
             ],
             [
              0.4444444444444444,
              "#bd3786"
             ],
             [
              0.5555555555555556,
              "#d8576b"
             ],
             [
              0.6666666666666666,
              "#ed7953"
             ],
             [
              0.7777777777777778,
              "#fb9f3a"
             ],
             [
              0.8888888888888888,
              "#fdca26"
             ],
             [
              1,
              "#f0f921"
             ]
            ],
            "type": "histogram2d"
           }
          ],
          "histogram2dcontour": [
           {
            "colorbar": {
             "outlinewidth": 0,
             "ticks": ""
            },
            "colorscale": [
             [
              0,
              "#0d0887"
             ],
             [
              0.1111111111111111,
              "#46039f"
             ],
             [
              0.2222222222222222,
              "#7201a8"
             ],
             [
              0.3333333333333333,
              "#9c179e"
             ],
             [
              0.4444444444444444,
              "#bd3786"
             ],
             [
              0.5555555555555556,
              "#d8576b"
             ],
             [
              0.6666666666666666,
              "#ed7953"
             ],
             [
              0.7777777777777778,
              "#fb9f3a"
             ],
             [
              0.8888888888888888,
              "#fdca26"
             ],
             [
              1,
              "#f0f921"
             ]
            ],
            "type": "histogram2dcontour"
           }
          ],
          "mesh3d": [
           {
            "colorbar": {
             "outlinewidth": 0,
             "ticks": ""
            },
            "type": "mesh3d"
           }
          ],
          "parcoords": [
           {
            "line": {
             "colorbar": {
              "outlinewidth": 0,
              "ticks": ""
             }
            },
            "type": "parcoords"
           }
          ],
          "pie": [
           {
            "automargin": true,
            "type": "pie"
           }
          ],
          "scatter": [
           {
            "fillpattern": {
             "fillmode": "overlay",
             "size": 10,
             "solidity": 0.2
            },
            "type": "scatter"
           }
          ],
          "scatter3d": [
           {
            "line": {
             "colorbar": {
              "outlinewidth": 0,
              "ticks": ""
             }
            },
            "marker": {
             "colorbar": {
              "outlinewidth": 0,
              "ticks": ""
             }
            },
            "type": "scatter3d"
           }
          ],
          "scattercarpet": [
           {
            "marker": {
             "colorbar": {
              "outlinewidth": 0,
              "ticks": ""
             }
            },
            "type": "scattercarpet"
           }
          ],
          "scattergeo": [
           {
            "marker": {
             "colorbar": {
              "outlinewidth": 0,
              "ticks": ""
             }
            },
            "type": "scattergeo"
           }
          ],
          "scattergl": [
           {
            "marker": {
             "colorbar": {
              "outlinewidth": 0,
              "ticks": ""
             }
            },
            "type": "scattergl"
           }
          ],
          "scattermapbox": [
           {
            "marker": {
             "colorbar": {
              "outlinewidth": 0,
              "ticks": ""
             }
            },
            "type": "scattermapbox"
           }
          ],
          "scatterpolar": [
           {
            "marker": {
             "colorbar": {
              "outlinewidth": 0,
              "ticks": ""
             }
            },
            "type": "scatterpolar"
           }
          ],
          "scatterpolargl": [
           {
            "marker": {
             "colorbar": {
              "outlinewidth": 0,
              "ticks": ""
             }
            },
            "type": "scatterpolargl"
           }
          ],
          "scatterternary": [
           {
            "marker": {
             "colorbar": {
              "outlinewidth": 0,
              "ticks": ""
             }
            },
            "type": "scatterternary"
           }
          ],
          "surface": [
           {
            "colorbar": {
             "outlinewidth": 0,
             "ticks": ""
            },
            "colorscale": [
             [
              0,
              "#0d0887"
             ],
             [
              0.1111111111111111,
              "#46039f"
             ],
             [
              0.2222222222222222,
              "#7201a8"
             ],
             [
              0.3333333333333333,
              "#9c179e"
             ],
             [
              0.4444444444444444,
              "#bd3786"
             ],
             [
              0.5555555555555556,
              "#d8576b"
             ],
             [
              0.6666666666666666,
              "#ed7953"
             ],
             [
              0.7777777777777778,
              "#fb9f3a"
             ],
             [
              0.8888888888888888,
              "#fdca26"
             ],
             [
              1,
              "#f0f921"
             ]
            ],
            "type": "surface"
           }
          ],
          "table": [
           {
            "cells": {
             "fill": {
              "color": "#EBF0F8"
             },
             "line": {
              "color": "white"
             }
            },
            "header": {
             "fill": {
              "color": "#C8D4E3"
             },
             "line": {
              "color": "white"
             }
            },
            "type": "table"
           }
          ]
         },
         "layout": {
          "annotationdefaults": {
           "arrowcolor": "#2a3f5f",
           "arrowhead": 0,
           "arrowwidth": 1
          },
          "autotypenumbers": "strict",
          "coloraxis": {
           "colorbar": {
            "outlinewidth": 0,
            "ticks": ""
           }
          },
          "colorscale": {
           "diverging": [
            [
             0,
             "#8e0152"
            ],
            [
             0.1,
             "#c51b7d"
            ],
            [
             0.2,
             "#de77ae"
            ],
            [
             0.3,
             "#f1b6da"
            ],
            [
             0.4,
             "#fde0ef"
            ],
            [
             0.5,
             "#f7f7f7"
            ],
            [
             0.6,
             "#e6f5d0"
            ],
            [
             0.7,
             "#b8e186"
            ],
            [
             0.8,
             "#7fbc41"
            ],
            [
             0.9,
             "#4d9221"
            ],
            [
             1,
             "#276419"
            ]
           ],
           "sequential": [
            [
             0,
             "#0d0887"
            ],
            [
             0.1111111111111111,
             "#46039f"
            ],
            [
             0.2222222222222222,
             "#7201a8"
            ],
            [
             0.3333333333333333,
             "#9c179e"
            ],
            [
             0.4444444444444444,
             "#bd3786"
            ],
            [
             0.5555555555555556,
             "#d8576b"
            ],
            [
             0.6666666666666666,
             "#ed7953"
            ],
            [
             0.7777777777777778,
             "#fb9f3a"
            ],
            [
             0.8888888888888888,
             "#fdca26"
            ],
            [
             1,
             "#f0f921"
            ]
           ],
           "sequentialminus": [
            [
             0,
             "#0d0887"
            ],
            [
             0.1111111111111111,
             "#46039f"
            ],
            [
             0.2222222222222222,
             "#7201a8"
            ],
            [
             0.3333333333333333,
             "#9c179e"
            ],
            [
             0.4444444444444444,
             "#bd3786"
            ],
            [
             0.5555555555555556,
             "#d8576b"
            ],
            [
             0.6666666666666666,
             "#ed7953"
            ],
            [
             0.7777777777777778,
             "#fb9f3a"
            ],
            [
             0.8888888888888888,
             "#fdca26"
            ],
            [
             1,
             "#f0f921"
            ]
           ]
          },
          "colorway": [
           "#636efa",
           "#EF553B",
           "#00cc96",
           "#ab63fa",
           "#FFA15A",
           "#19d3f3",
           "#FF6692",
           "#B6E880",
           "#FF97FF",
           "#FECB52"
          ],
          "font": {
           "color": "#2a3f5f"
          },
          "geo": {
           "bgcolor": "white",
           "lakecolor": "white",
           "landcolor": "#E5ECF6",
           "showlakes": true,
           "showland": true,
           "subunitcolor": "white"
          },
          "hoverlabel": {
           "align": "left"
          },
          "hovermode": "closest",
          "mapbox": {
           "style": "light"
          },
          "paper_bgcolor": "white",
          "plot_bgcolor": "#E5ECF6",
          "polar": {
           "angularaxis": {
            "gridcolor": "white",
            "linecolor": "white",
            "ticks": ""
           },
           "bgcolor": "#E5ECF6",
           "radialaxis": {
            "gridcolor": "white",
            "linecolor": "white",
            "ticks": ""
           }
          },
          "scene": {
           "xaxis": {
            "backgroundcolor": "#E5ECF6",
            "gridcolor": "white",
            "gridwidth": 2,
            "linecolor": "white",
            "showbackground": true,
            "ticks": "",
            "zerolinecolor": "white"
           },
           "yaxis": {
            "backgroundcolor": "#E5ECF6",
            "gridcolor": "white",
            "gridwidth": 2,
            "linecolor": "white",
            "showbackground": true,
            "ticks": "",
            "zerolinecolor": "white"
           },
           "zaxis": {
            "backgroundcolor": "#E5ECF6",
            "gridcolor": "white",
            "gridwidth": 2,
            "linecolor": "white",
            "showbackground": true,
            "ticks": "",
            "zerolinecolor": "white"
           }
          },
          "shapedefaults": {
           "line": {
            "color": "#2a3f5f"
           }
          },
          "ternary": {
           "aaxis": {
            "gridcolor": "white",
            "linecolor": "white",
            "ticks": ""
           },
           "baxis": {
            "gridcolor": "white",
            "linecolor": "white",
            "ticks": ""
           },
           "bgcolor": "#E5ECF6",
           "caxis": {
            "gridcolor": "white",
            "linecolor": "white",
            "ticks": ""
           }
          },
          "title": {
           "x": 0.05
          },
          "xaxis": {
           "automargin": true,
           "gridcolor": "white",
           "linecolor": "white",
           "ticks": "",
           "title": {
            "standoff": 15
           },
           "zerolinecolor": "white",
           "zerolinewidth": 2
          },
          "yaxis": {
           "automargin": true,
           "gridcolor": "white",
           "linecolor": "white",
           "ticks": "",
           "title": {
            "standoff": 15
           },
           "zerolinecolor": "white",
           "zerolinewidth": 2
          }
         }
        },
        "title": {
         "text": "Детальный анализ Decision Tree"
        },
        "xaxis": {
         "anchor": "y",
         "domain": [
          0,
          0.45
         ]
        },
        "xaxis2": {
         "anchor": "y2",
         "domain": [
          0.55,
          1
         ]
        },
        "xaxis3": {
         "anchor": "y3",
         "domain": [
          0,
          0.45
         ]
        },
        "xaxis4": {
         "anchor": "y4",
         "domain": [
          0.55,
          1
         ]
        },
        "yaxis": {
         "anchor": "x",
         "domain": [
          0.56,
          1
         ]
        },
        "yaxis2": {
         "anchor": "x2",
         "domain": [
          0.56,
          1
         ]
        },
        "yaxis3": {
         "anchor": "x3",
         "domain": [
          0,
          0.44
         ]
        },
        "yaxis4": {
         "anchor": "x4",
         "domain": [
          0,
          0.44
         ]
        }
       }
      }
     },
     "metadata": {},
     "output_type": "display_data"
    }
   ],
   "source": [
    "# Предсказания и оценка качества\n",
    "y_pred_dt = dt_classifier.predict(X_test)\n",
    "\n",
    "accuracy_dt = accuracy_score(y_test, y_pred_dt)\n",
    "precision_dt = precision_score(y_test, y_pred_dt, average='weighted')\n",
    "recall_dt = recall_score(y_test, y_pred_dt, average='weighted')\n",
    "f1_dt = f1_score(y_test, y_pred_dt, average='weighted')\n",
    "\n",
    "print(\"=== РЕЗУЛЬТАТЫ DECISION TREE ===\")\n",
    "print(f\"Accuracy:  {accuracy_dt:.4f}\")\n",
    "print(f\"Precision: {precision_dt:.4f}\")\n",
    "print(f\"Recall:    {recall_dt:.4f}\")\n",
    "print(f\"F1-Score:  {f1_dt:.4f}\")\n",
    "\n",
    "# Анализ модели\n",
    "print(f\"\\n=== АНАЛИЗ МОДЕЛИ ===\")\n",
    "print(f\"Количество классов: {len(target_names)}\")\n",
    "print(f\"Глубина обученного дерева: {dt_classifier.get_depth()}\")\n",
    "print(f\"Количество листьев: {dt_classifier.get_n_leaves()}\")\n",
    "\n",
    "# Важность признаков\n",
    "feature_importance = dt_classifier.feature_importances_\n",
    "top_features = np.argsort(feature_importance)[-5:][::-1]\n",
    "print(f\"\\nТоп-5 важных признаков:\")\n",
    "for i, feat_idx in enumerate(top_features):\n",
    "    print(f\"{i+1}. {feature_names[feat_idx]}: {feature_importance[feat_idx]:.4f}\")\n",
    "\n",
    "# Детальный отчет по классификации\n",
    "print(f\"\\n=== ДЕТАЛЬНЫЙ ОТЧЕТ ===\")\n",
    "print(classification_report(y_test, y_pred_dt, target_names=target_names))\n",
    "\n",
    "# Визуализация результатов с единой цветовой палитрой\n",
    "fig_dt_results = make_subplots(\n",
    "    rows=2, cols=2,\n",
    "    subplot_titles=['Распределение классов', 'Важность признаков (топ-10)', \n",
    "                   'Метрики качества', 'Точность по классам'],\n",
    "    specs=[[{'type': 'bar'}, {'type': 'bar'}],\n",
    "           [{'type': 'bar'}, {'type': 'bar'}]],\n",
    "    vertical_spacing=0.12,\n",
    "    horizontal_spacing=0.1\n",
    ")\n",
    "\n",
    "# График 1: Распределение классов\n",
    "train_counts = np.bincount(y_train)\n",
    "test_counts = np.bincount(y_test)\n",
    "\n",
    "fig_dt_results.add_trace(\n",
    "    go.Bar(x=target_names, \n",
    "           y=train_counts,\n",
    "           name='Обучающая выборка',\n",
    "           marker_color=COLOR_PALETTE['primary'],\n",
    "           text=train_counts,\n",
    "           textposition='auto'),\n",
    "    row=1, col=1\n",
    ")\n",
    "\n",
    "fig_dt_results.add_trace(\n",
    "    go.Bar(x=target_names, \n",
    "           y=test_counts,\n",
    "           name='Тестовая выборка',\n",
    "           marker_color=COLOR_PALETTE['secondary'],\n",
    "           text=test_counts,\n",
    "           textposition='auto'),\n",
    "    row=1, col=1\n",
    ")\n",
    "\n",
    "# График 2: Важность признаков (топ-10)\n",
    "top_10_indices = np.argsort(feature_importance)[-10:]\n",
    "top_10_names = [feature_names[i][:20] + '...' if len(feature_names[i]) > 20 else feature_names[i] \n",
    "                for i in top_10_indices]\n",
    "top_10_importance = feature_importance[top_10_indices]\n",
    "\n",
    "fig_dt_results.add_trace(\n",
    "    go.Bar(y=top_10_names, \n",
    "           x=top_10_importance,\n",
    "           orientation='h',\n",
    "           marker_color=COLOR_PALETTE['accent'],\n",
    "           text=[f'{val:.3f}' for val in top_10_importance],\n",
    "           textposition='auto',\n",
    "           showlegend=False),\n",
    "    row=1, col=2\n",
    ")\n",
    "\n",
    "# График 3: Основные метрики\n",
    "metrics = ['Accuracy', 'Precision', 'Recall', 'F1-Score']\n",
    "values = [accuracy_dt, precision_dt, recall_dt, f1_dt]\n",
    "colors = [COLOR_PALETTE['primary'], COLOR_PALETTE['secondary'], \n",
    "          COLOR_PALETTE['accent'], COLOR_PALETTE['success']]\n",
    "\n",
    "fig_dt_results.add_trace(\n",
    "    go.Bar(x=metrics, y=values,\n",
    "           text=[f'{v:.3f}' for v in values],\n",
    "           textposition='auto',\n",
    "           marker_color=colors,\n",
    "           showlegend=False),\n",
    "    row=2, col=1\n",
    ")\n",
    "\n",
    "# График 4: Точность по классам\n",
    "report = classification_report(y_test, y_pred_dt, target_names=target_names, output_dict=True)\n",
    "class_f1_scores = [report[target_names[0]]['f1-score'], report[target_names[1]]['f1-score']]\n",
    "\n",
    "fig_dt_results.add_trace(\n",
    "    go.Bar(x=target_names, \n",
    "           y=class_f1_scores,\n",
    "           marker_color=[COLOR_PALETTE['success'], COLOR_PALETTE['info']],\n",
    "           text=[f'{val:.3f}' for val in class_f1_scores],\n",
    "           textposition='auto',\n",
    "           showlegend=False),\n",
    "    row=2, col=2\n",
    ")\n",
    "\n",
    "fig_dt_results.update_layout(\n",
    "    title='Детальный анализ Decision Tree',\n",
    "    height=800,\n",
    "    showlegend=True,\n",
    "    font=dict(size=10),\n",
    "    plot_bgcolor='white',\n",
    "    paper_bgcolor='white'\n",
    ")\n",
    "\n",
    "fig_dt_results.show()"
   ]
  },
  {
   "cell_type": "code",
   "execution_count": 9,
   "id": "3eecccd9",
   "metadata": {},
   "outputs": [],
   "source": [
    "# Функция для анализа влияния гиперпараметров\n",
    "def analyze_hyperparameters(max_depth=5, min_samples_split=20, min_samples_leaf=10):\n",
    "    \"\"\"\n",
    "    Анализирует влияние гиперпараметров на Decision Tree.\n",
    "    \n",
    "    Parameters\n",
    "    ----------\n",
    "    max_depth : int\n",
    "        Максимальная глубина дерева\n",
    "    min_samples_split : int\n",
    "        Минимальное количество образцов для разбиения\n",
    "    min_samples_leaf : int\n",
    "        Минимальное количество образцов в листе\n",
    "        \n",
    "    Returns\n",
    "    -------\n",
    "    dict\n",
    "        Словарь с метриками модели\n",
    "    \"\"\"\n",
    "    dt = DecisionTreeClassifier(\n",
    "        max_depth=max_depth,\n",
    "        min_samples_split=min_samples_split,\n",
    "        min_samples_leaf=min_samples_leaf,\n",
    "        random_state=42\n",
    "    )\n",
    "    \n",
    "    dt.fit(X_train, y_train)\n",
    "    y_pred = dt.predict(X_test)\n",
    "    \n",
    "    accuracy = accuracy_score(y_test, y_pred)\n",
    "    cv_scores = cross_val_score(dt, X_train, y_train, cv=5)\n",
    "    \n",
    "    return {\n",
    "        'accuracy': accuracy,\n",
    "        'cv_mean': cv_scores.mean(),\n",
    "        'cv_std': cv_scores.std(),\n",
    "        'depth': dt.get_depth(),\n",
    "        'n_leaves': dt.get_n_leaves(),\n",
    "        'feature_importances': dt.feature_importances_\n",
    "    }"
   ]
  },
  {
   "cell_type": "code",
   "execution_count": 10,
   "id": "e2176146",
   "metadata": {},
   "outputs": [
    {
     "data": {
      "application/vnd.jupyter.widget-view+json": {
       "model_id": "759c586def9d4683b9ccb83c48831923",
       "version_major": 2,
       "version_minor": 0
      },
      "text/plain": [
       "interactive(children=(IntSlider(value=5, description='max_depth', max=20, min=1), IntSlider(value=20, descript…"
      ]
     },
     "metadata": {},
     "output_type": "display_data"
    },
    {
     "data": {
      "text/plain": [
       "<function __main__.plot_dt_hyperparameters(max_depth=5, min_samples_split=20, min_samples_leaf=10)>"
      ]
     },
     "execution_count": 10,
     "metadata": {},
     "output_type": "execute_result"
    }
   ],
   "source": [
    "# Интерактивный виджет для экспериментов с Decision Tree\n",
    "def plot_dt_hyperparameters(max_depth=5, min_samples_split=20, min_samples_leaf=10):\n",
    "    \"\"\"\n",
    "    Интерактивная визуализация влияния гиперпараметров Decision Tree.\n",
    "    \n",
    "    Parameters\n",
    "    ----------\n",
    "    max_depth : int\n",
    "        Максимальная глубина дерева\n",
    "    min_samples_split : int\n",
    "        Минимальное количество образцов для разбиения\n",
    "    min_samples_leaf : int\n",
    "        Минимальное количество образцов в листе\n",
    "    \"\"\"\n",
    "    results = analyze_hyperparameters(max_depth, min_samples_split, min_samples_leaf)\n",
    "    \n",
    "    # Создаем subplot с метриками и важностью признаков\n",
    "    fig = make_subplots(\n",
    "        rows=1, cols=2,\n",
    "        subplot_titles=['Метрики модели', 'Важность признаков'],\n",
    "        specs=[[{'type': 'bar'}, {'type': 'bar'}]]\n",
    "    )\n",
    "    \n",
    "    # График метрик\n",
    "    metrics = ['Test Accuracy', 'CV Mean']\n",
    "    values = [results['accuracy'], results['cv_mean']]\n",
    "    colors = ['blue', 'green']\n",
    "    \n",
    "    fig.add_trace(\n",
    "        go.Bar(x=metrics, y=values,\n",
    "               text=[f'{v:.3f}' for v in values],\n",
    "               textposition='auto',\n",
    "               marker_color=colors,\n",
    "               name='Метрики'),\n",
    "        row=1, col=1\n",
    "    )\n",
    "    \n",
    "    # График важности признаков\n",
    "    fig.add_trace(\n",
    "        go.Bar(x=[f'Признак_{i+1}' for i in range(len(results['feature_importances']))],\n",
    "               y=results['feature_importances'],\n",
    "               text=[f'{imp:.3f}' for imp in results['feature_importances']],\n",
    "               textposition='auto',\n",
    "               marker_color='orange',\n",
    "               name='Важность'),\n",
    "        row=1, col=2\n",
    "    )\n",
    "    \n",
    "    fig.update_yaxes(title_text=\"Значение метрики\", row=1, col=1)\n",
    "    fig.update_yaxes(title_text=\"Важность признака\", row=1, col=2)\n",
    "    \n",
    "    fig.update_layout(\n",
    "        title=f'Decision Tree: depth={max_depth}, min_split={min_samples_split}, min_leaf={min_samples_leaf}<br>'\n",
    "              f'Accuracy: {results[\"accuracy\"]:.3f}, CV: {results[\"cv_mean\"]:.3f}±{results[\"cv_std\"]:.3f}, '\n",
    "              f'Узлов: {results[\"depth\"]}, Листьев: {results[\"n_leaves\"]}',\n",
    "        height=400,\n",
    "        showlegend=False\n",
    "    )\n",
    "    \n",
    "    fig.show()\n",
    "\n",
    "# Создаем интерактивный виджет\n",
    "interact(plot_dt_hyperparameters,\n",
    "         max_depth=IntSlider(min=1, max=20, step=1, value=5),\n",
    "         min_samples_split=IntSlider(min=2, max=50, step=2, value=20),\n",
    "         min_samples_leaf=IntSlider(min=1, max=30, step=1, value=10))"
   ]
  },
  {
   "cell_type": "markdown",
   "id": "d8ae8bf6",
   "metadata": {},
   "source": [
    "## 5. Теория Bagging\n",
    "\n",
    "### 5.1 Что такое Bagging?\n",
    "\n",
    "**Bagging** (Bootstrap Aggregating) — это метод ансамблевого обучения, который:\n",
    "1. Создает множество bootstrap выборок из исходных данных\n",
    "2. Обучает базовую модель на каждой выборке  \n",
    "3. Агрегирует предсказания всех моделей\n",
    "\n",
    "### 5.2 Bootstrap Sampling\n",
    "\n",
    "**Bootstrap выборка** — это выборка с возвращением из исходного датасета того же размера.\n",
    "\n",
    "Если исходный датасет содержит $N$ объектов: $D = \\{(x_1, y_1), ..., (x_N, y_N)\\}$, то bootstrap выборка $D_b$ формируется следующим образом:\n",
    "- Выбираем $N$ объектов случайно с возвращением из $D$\n",
    "- Некоторые объекты могут повториться, другие — не попасть в выборку\n",
    "\n",
    "**Важное свойство**: Примерно $\\frac{1}{e} \\approx 36.8\\%$ объектов не попадает в bootstrap выборку.\n",
    "\n",
    "### 5.3 Математическое обоснование\n",
    "\n",
    "Пусть у нас есть $M$ базовых моделей $h_1, h_2, ..., h_M$, обученных на bootstrap выборках.\n",
    "\n",
    "Для задачи **классификации** итоговое предсказание:\n",
    "$$H(x) = \\text{majority vote}\\{h_1(x), h_2(x), ..., h_M(x)\\}$$\n",
    "\n",
    "Для задачи **регрессии** итоговое предсказание:\n",
    "$$H(x) = \\frac{1}{M} \\sum_{i=1}^M h_i(x)$$\n",
    "\n",
    "### 5.4 Уменьшение дисперсии\n",
    "\n",
    "Ключевое преимущество Bagging — уменьшение дисперсии предсказаний.\n",
    "\n",
    "Если базовые модели имеют дисперсию $\\sigma^2$ и некоррелированы, то дисперсия ансамбля:\n",
    "$$\\text{Var}(H) = \\frac{\\sigma^2}{M}$$\n",
    "\n",
    "На практике модели коррелированы с корреляцией $\\rho$, поэтому:\n",
    "$$\\text{Var}(H) = \\rho\\sigma^2 + \\frac{(1-\\rho)\\sigma^2}{M}$$\n",
    "\n",
    "### 5.5 Алгоритм Bagging\n",
    "\n",
    "1. **Вход**: Обучающая выборка $D$, базовый алгоритм $A$, количество моделей $M$\n",
    "2. **Для** $i = 1, 2, ..., M$:\n",
    "   - Создать bootstrap выборку $D_i$ из $D$  \n",
    "   - Обучить модель $h_i = A(D_i)$\n",
    "3. **Выход**: Ансамблевая модель $H(x) = \\text{aggregate}(h_1(x), ..., h_M(x))$\n",
    "\n",
    "### 5.6 Out-of-Bag (OOB) оценка\n",
    "\n",
    "Поскольку ~36.8% объектов не попадают в каждую bootstrap выборку, их можно использовать для оценки качества без отдельной валидационной выборки:\n",
    "\n",
    "$$\\text{OOB Error} = \\frac{1}{N} \\sum_{i=1}^N \\mathbb{I}[y_i \\neq \\text{majority vote of models not trained on } x_i]$$\n",
    "\n",
    "### 5.7 Плюсы и минусы Bagging\n",
    "\n",
    "#### Преимущества:\n",
    "- **Уменьшение overfitting**: За счет усреднения снижается дисперсия\n",
    "- **Параллелизация**: Модели можно обучать независимо\n",
    "- **OOB оценка**: Встроенная валидация без дополнительных данных\n",
    "- **Устойчивость**: Менее чувствителен к выбросам и шуму\n",
    "\n",
    "#### Недостатки:\n",
    "- **Не уменьшает bias**: Смещение остается тем же, что у базовой модели\n",
    "- **Вычислительные затраты**: Нужно обучать $M$ моделей  \n",
    "- **Потеря интерпретируемости**: Сложнее понять логику ансамбля\n",
    "- **Эффективен только для high-variance моделей**: Например, глубоких деревьев"
   ]
  },
  {
   "cell_type": "markdown",
   "id": "e4fc6050",
   "metadata": {},
   "source": [
    "## 6. Пошаговый пример Bagging\n",
    "\n",
    "### 6.1 Демонстрация Bootstrap Sampling\n",
    "\n",
    "Рассмотрим работу Bootstrap sampling на простом примере.\n",
    "\n",
    "**Исходные данные:** [1, 2, 3, 4, 5, 6, 7, 8] (N = 8)\n",
    "\n",
    "**Bootstrap выборка 1:** Случайно выбираем 8 элементов с возвращением\n",
    "- Индексы: [3, 1, 7, 3, 5, 2, 8, 4]  \n",
    "- Значения: [4, 2, 8, 4, 6, 3, 8, 5]\n",
    "- OOB объекты: [1, 7] (25% от исходного размера)\n",
    "\n",
    "**Bootstrap выборка 2:**\n",
    "- Индексы: [2, 5, 1, 6, 2, 8, 3, 5]\n",
    "- Значения: [3, 6, 2, 7, 3, 8, 4, 6]  \n",
    "- OOB объекты: [1, 5] (25% от исходного размера)\n",
    "\n",
    "**Bootstrap выборка 3:**\n",
    "- Индексы: [1, 3, 8, 1, 4, 6, 2, 8]\n",
    "- Значения: [2, 4, 8, 2, 5, 7, 3, 8]\n",
    "- OOB объекты: [1, 6] (25% от исходного размера)\n",
    "\n",
    "### 6.2 Вычисление Out-of-Bag Error\n",
    "\n",
    "Для каждого объекта исходной выборки используем только те модели, которые **не** видели этот объект в процессе обучения:\n",
    "\n",
    "- **Объект 1** не попал в выборки 2 и 3 → используем модели M₂, M₃\n",
    "- **Объект 7** не попал в выборки 1 и 3 → используем модели M₁, M₃  \n",
    "- **Объект 5** не попал в выборки 1 и 2 → используем модели M₁, M₂\n",
    "- **Объект 6** не попал в выборки 2 и 3 → используем модели M₂, M₃\n",
    "\n",
    "$$\\text{OOB Error} = \\frac{1}{N} \\sum_{i=1}^{N} \\mathbb{I}[y_i \\neq \\text{majority vote of OOB models for } x_i]$$\n",
    "\n",
    "### 6.3 Математический пример уменьшения дисперсии\n",
    "\n",
    "Предположим, что каждая базовая модель имеет:\n",
    "- **Точность:** 0.7\n",
    "- **Дисперсию ошибки:** σ² = 0.21\n",
    "\n",
    "Для **некоррелированных** моделей дисперсия ансамбля из M моделей:\n",
    "$$\\text{Var}(\\text{ensemble}) = \\frac{\\sigma^2}{M} = \\frac{0.21}{M}$$\n",
    "\n",
    "- M = 1: Var = 0.21\n",
    "- M = 5: Var = 0.042  \n",
    "- M = 10: Var = 0.021\n",
    "- M = 50: Var = 0.0042\n",
    "\n",
    "Для **коррелированных** моделей с корреляцией ρ = 0.3:\n",
    "$$\\text{Var}(\\text{ensemble}) = \\rho\\sigma^2 + \\frac{(1-\\rho)\\sigma^2}{M} = 0.3 \\cdot 0.21 + \\frac{0.7 \\cdot 0.21}{M}$$\n",
    "\n",
    "- M = 10: Var = 0.063 + 0.0147 = 0.078\n",
    "- M = 50: Var = 0.063 + 0.0029 = 0.066"
   ]
  },
  {
   "cell_type": "code",
   "execution_count": 11,
   "id": "da033df9",
   "metadata": {},
   "outputs": [
    {
     "name": "stdout",
     "output_type": "stream",
     "text": [
      "=== НАСТРОЙКИ BAGGING ===\n",
      "Количество базовых моделей: 50\n",
      "Процент образцов для каждого дерева: 80%\n",
      "Процент признаков для каждого дерева: 80%\n",
      "Максимальная глубина базовых деревьев: 8\n"
     ]
    },
    {
     "data": {
      "text/html": [
       "<style>#sk-container-id-1 {\n",
       "  /* Definition of color scheme common for light and dark mode */\n",
       "  --sklearn-color-text: #000;\n",
       "  --sklearn-color-text-muted: #666;\n",
       "  --sklearn-color-line: gray;\n",
       "  /* Definition of color scheme for unfitted estimators */\n",
       "  --sklearn-color-unfitted-level-0: #fff5e6;\n",
       "  --sklearn-color-unfitted-level-1: #f6e4d2;\n",
       "  --sklearn-color-unfitted-level-2: #ffe0b3;\n",
       "  --sklearn-color-unfitted-level-3: chocolate;\n",
       "  /* Definition of color scheme for fitted estimators */\n",
       "  --sklearn-color-fitted-level-0: #f0f8ff;\n",
       "  --sklearn-color-fitted-level-1: #d4ebff;\n",
       "  --sklearn-color-fitted-level-2: #b3dbfd;\n",
       "  --sklearn-color-fitted-level-3: cornflowerblue;\n",
       "\n",
       "  /* Specific color for light theme */\n",
       "  --sklearn-color-text-on-default-background: var(--sg-text-color, var(--theme-code-foreground, var(--jp-content-font-color1, black)));\n",
       "  --sklearn-color-background: var(--sg-background-color, var(--theme-background, var(--jp-layout-color0, white)));\n",
       "  --sklearn-color-border-box: var(--sg-text-color, var(--theme-code-foreground, var(--jp-content-font-color1, black)));\n",
       "  --sklearn-color-icon: #696969;\n",
       "\n",
       "  @media (prefers-color-scheme: dark) {\n",
       "    /* Redefinition of color scheme for dark theme */\n",
       "    --sklearn-color-text-on-default-background: var(--sg-text-color, var(--theme-code-foreground, var(--jp-content-font-color1, white)));\n",
       "    --sklearn-color-background: var(--sg-background-color, var(--theme-background, var(--jp-layout-color0, #111)));\n",
       "    --sklearn-color-border-box: var(--sg-text-color, var(--theme-code-foreground, var(--jp-content-font-color1, white)));\n",
       "    --sklearn-color-icon: #878787;\n",
       "  }\n",
       "}\n",
       "\n",
       "#sk-container-id-1 {\n",
       "  color: var(--sklearn-color-text);\n",
       "}\n",
       "\n",
       "#sk-container-id-1 pre {\n",
       "  padding: 0;\n",
       "}\n",
       "\n",
       "#sk-container-id-1 input.sk-hidden--visually {\n",
       "  border: 0;\n",
       "  clip: rect(1px 1px 1px 1px);\n",
       "  clip: rect(1px, 1px, 1px, 1px);\n",
       "  height: 1px;\n",
       "  margin: -1px;\n",
       "  overflow: hidden;\n",
       "  padding: 0;\n",
       "  position: absolute;\n",
       "  width: 1px;\n",
       "}\n",
       "\n",
       "#sk-container-id-1 div.sk-dashed-wrapped {\n",
       "  border: 1px dashed var(--sklearn-color-line);\n",
       "  margin: 0 0.4em 0.5em 0.4em;\n",
       "  box-sizing: border-box;\n",
       "  padding-bottom: 0.4em;\n",
       "  background-color: var(--sklearn-color-background);\n",
       "}\n",
       "\n",
       "#sk-container-id-1 div.sk-container {\n",
       "  /* jupyter's `normalize.less` sets `[hidden] { display: none; }`\n",
       "     but bootstrap.min.css set `[hidden] { display: none !important; }`\n",
       "     so we also need the `!important` here to be able to override the\n",
       "     default hidden behavior on the sphinx rendered scikit-learn.org.\n",
       "     See: https://github.com/scikit-learn/scikit-learn/issues/21755 */\n",
       "  display: inline-block !important;\n",
       "  position: relative;\n",
       "}\n",
       "\n",
       "#sk-container-id-1 div.sk-text-repr-fallback {\n",
       "  display: none;\n",
       "}\n",
       "\n",
       "div.sk-parallel-item,\n",
       "div.sk-serial,\n",
       "div.sk-item {\n",
       "  /* draw centered vertical line to link estimators */\n",
       "  background-image: linear-gradient(var(--sklearn-color-text-on-default-background), var(--sklearn-color-text-on-default-background));\n",
       "  background-size: 2px 100%;\n",
       "  background-repeat: no-repeat;\n",
       "  background-position: center center;\n",
       "}\n",
       "\n",
       "/* Parallel-specific style estimator block */\n",
       "\n",
       "#sk-container-id-1 div.sk-parallel-item::after {\n",
       "  content: \"\";\n",
       "  width: 100%;\n",
       "  border-bottom: 2px solid var(--sklearn-color-text-on-default-background);\n",
       "  flex-grow: 1;\n",
       "}\n",
       "\n",
       "#sk-container-id-1 div.sk-parallel {\n",
       "  display: flex;\n",
       "  align-items: stretch;\n",
       "  justify-content: center;\n",
       "  background-color: var(--sklearn-color-background);\n",
       "  position: relative;\n",
       "}\n",
       "\n",
       "#sk-container-id-1 div.sk-parallel-item {\n",
       "  display: flex;\n",
       "  flex-direction: column;\n",
       "}\n",
       "\n",
       "#sk-container-id-1 div.sk-parallel-item:first-child::after {\n",
       "  align-self: flex-end;\n",
       "  width: 50%;\n",
       "}\n",
       "\n",
       "#sk-container-id-1 div.sk-parallel-item:last-child::after {\n",
       "  align-self: flex-start;\n",
       "  width: 50%;\n",
       "}\n",
       "\n",
       "#sk-container-id-1 div.sk-parallel-item:only-child::after {\n",
       "  width: 0;\n",
       "}\n",
       "\n",
       "/* Serial-specific style estimator block */\n",
       "\n",
       "#sk-container-id-1 div.sk-serial {\n",
       "  display: flex;\n",
       "  flex-direction: column;\n",
       "  align-items: center;\n",
       "  background-color: var(--sklearn-color-background);\n",
       "  padding-right: 1em;\n",
       "  padding-left: 1em;\n",
       "}\n",
       "\n",
       "\n",
       "/* Toggleable style: style used for estimator/Pipeline/ColumnTransformer box that is\n",
       "clickable and can be expanded/collapsed.\n",
       "- Pipeline and ColumnTransformer use this feature and define the default style\n",
       "- Estimators will overwrite some part of the style using the `sk-estimator` class\n",
       "*/\n",
       "\n",
       "/* Pipeline and ColumnTransformer style (default) */\n",
       "\n",
       "#sk-container-id-1 div.sk-toggleable {\n",
       "  /* Default theme specific background. It is overwritten whether we have a\n",
       "  specific estimator or a Pipeline/ColumnTransformer */\n",
       "  background-color: var(--sklearn-color-background);\n",
       "}\n",
       "\n",
       "/* Toggleable label */\n",
       "#sk-container-id-1 label.sk-toggleable__label {\n",
       "  cursor: pointer;\n",
       "  display: flex;\n",
       "  width: 100%;\n",
       "  margin-bottom: 0;\n",
       "  padding: 0.5em;\n",
       "  box-sizing: border-box;\n",
       "  text-align: center;\n",
       "  align-items: start;\n",
       "  justify-content: space-between;\n",
       "  gap: 0.5em;\n",
       "}\n",
       "\n",
       "#sk-container-id-1 label.sk-toggleable__label .caption {\n",
       "  font-size: 0.6rem;\n",
       "  font-weight: lighter;\n",
       "  color: var(--sklearn-color-text-muted);\n",
       "}\n",
       "\n",
       "#sk-container-id-1 label.sk-toggleable__label-arrow:before {\n",
       "  /* Arrow on the left of the label */\n",
       "  content: \"▸\";\n",
       "  float: left;\n",
       "  margin-right: 0.25em;\n",
       "  color: var(--sklearn-color-icon);\n",
       "}\n",
       "\n",
       "#sk-container-id-1 label.sk-toggleable__label-arrow:hover:before {\n",
       "  color: var(--sklearn-color-text);\n",
       "}\n",
       "\n",
       "/* Toggleable content - dropdown */\n",
       "\n",
       "#sk-container-id-1 div.sk-toggleable__content {\n",
       "  display: none;\n",
       "  text-align: left;\n",
       "  /* unfitted */\n",
       "  background-color: var(--sklearn-color-unfitted-level-0);\n",
       "}\n",
       "\n",
       "#sk-container-id-1 div.sk-toggleable__content.fitted {\n",
       "  /* fitted */\n",
       "  background-color: var(--sklearn-color-fitted-level-0);\n",
       "}\n",
       "\n",
       "#sk-container-id-1 div.sk-toggleable__content pre {\n",
       "  margin: 0.2em;\n",
       "  border-radius: 0.25em;\n",
       "  color: var(--sklearn-color-text);\n",
       "  /* unfitted */\n",
       "  background-color: var(--sklearn-color-unfitted-level-0);\n",
       "}\n",
       "\n",
       "#sk-container-id-1 div.sk-toggleable__content.fitted pre {\n",
       "  /* unfitted */\n",
       "  background-color: var(--sklearn-color-fitted-level-0);\n",
       "}\n",
       "\n",
       "#sk-container-id-1 input.sk-toggleable__control:checked~div.sk-toggleable__content {\n",
       "  /* Expand drop-down */\n",
       "  display: block;\n",
       "  width: 100%;\n",
       "  overflow: visible;\n",
       "}\n",
       "\n",
       "#sk-container-id-1 input.sk-toggleable__control:checked~label.sk-toggleable__label-arrow:before {\n",
       "  content: \"▾\";\n",
       "}\n",
       "\n",
       "/* Pipeline/ColumnTransformer-specific style */\n",
       "\n",
       "#sk-container-id-1 div.sk-label input.sk-toggleable__control:checked~label.sk-toggleable__label {\n",
       "  color: var(--sklearn-color-text);\n",
       "  background-color: var(--sklearn-color-unfitted-level-2);\n",
       "}\n",
       "\n",
       "#sk-container-id-1 div.sk-label.fitted input.sk-toggleable__control:checked~label.sk-toggleable__label {\n",
       "  background-color: var(--sklearn-color-fitted-level-2);\n",
       "}\n",
       "\n",
       "/* Estimator-specific style */\n",
       "\n",
       "/* Colorize estimator box */\n",
       "#sk-container-id-1 div.sk-estimator input.sk-toggleable__control:checked~label.sk-toggleable__label {\n",
       "  /* unfitted */\n",
       "  background-color: var(--sklearn-color-unfitted-level-2);\n",
       "}\n",
       "\n",
       "#sk-container-id-1 div.sk-estimator.fitted input.sk-toggleable__control:checked~label.sk-toggleable__label {\n",
       "  /* fitted */\n",
       "  background-color: var(--sklearn-color-fitted-level-2);\n",
       "}\n",
       "\n",
       "#sk-container-id-1 div.sk-label label.sk-toggleable__label,\n",
       "#sk-container-id-1 div.sk-label label {\n",
       "  /* The background is the default theme color */\n",
       "  color: var(--sklearn-color-text-on-default-background);\n",
       "}\n",
       "\n",
       "/* On hover, darken the color of the background */\n",
       "#sk-container-id-1 div.sk-label:hover label.sk-toggleable__label {\n",
       "  color: var(--sklearn-color-text);\n",
       "  background-color: var(--sklearn-color-unfitted-level-2);\n",
       "}\n",
       "\n",
       "/* Label box, darken color on hover, fitted */\n",
       "#sk-container-id-1 div.sk-label.fitted:hover label.sk-toggleable__label.fitted {\n",
       "  color: var(--sklearn-color-text);\n",
       "  background-color: var(--sklearn-color-fitted-level-2);\n",
       "}\n",
       "\n",
       "/* Estimator label */\n",
       "\n",
       "#sk-container-id-1 div.sk-label label {\n",
       "  font-family: monospace;\n",
       "  font-weight: bold;\n",
       "  display: inline-block;\n",
       "  line-height: 1.2em;\n",
       "}\n",
       "\n",
       "#sk-container-id-1 div.sk-label-container {\n",
       "  text-align: center;\n",
       "}\n",
       "\n",
       "/* Estimator-specific */\n",
       "#sk-container-id-1 div.sk-estimator {\n",
       "  font-family: monospace;\n",
       "  border: 1px dotted var(--sklearn-color-border-box);\n",
       "  border-radius: 0.25em;\n",
       "  box-sizing: border-box;\n",
       "  margin-bottom: 0.5em;\n",
       "  /* unfitted */\n",
       "  background-color: var(--sklearn-color-unfitted-level-0);\n",
       "}\n",
       "\n",
       "#sk-container-id-1 div.sk-estimator.fitted {\n",
       "  /* fitted */\n",
       "  background-color: var(--sklearn-color-fitted-level-0);\n",
       "}\n",
       "\n",
       "/* on hover */\n",
       "#sk-container-id-1 div.sk-estimator:hover {\n",
       "  /* unfitted */\n",
       "  background-color: var(--sklearn-color-unfitted-level-2);\n",
       "}\n",
       "\n",
       "#sk-container-id-1 div.sk-estimator.fitted:hover {\n",
       "  /* fitted */\n",
       "  background-color: var(--sklearn-color-fitted-level-2);\n",
       "}\n",
       "\n",
       "/* Specification for estimator info (e.g. \"i\" and \"?\") */\n",
       "\n",
       "/* Common style for \"i\" and \"?\" */\n",
       "\n",
       ".sk-estimator-doc-link,\n",
       "a:link.sk-estimator-doc-link,\n",
       "a:visited.sk-estimator-doc-link {\n",
       "  float: right;\n",
       "  font-size: smaller;\n",
       "  line-height: 1em;\n",
       "  font-family: monospace;\n",
       "  background-color: var(--sklearn-color-background);\n",
       "  border-radius: 1em;\n",
       "  height: 1em;\n",
       "  width: 1em;\n",
       "  text-decoration: none !important;\n",
       "  margin-left: 0.5em;\n",
       "  text-align: center;\n",
       "  /* unfitted */\n",
       "  border: var(--sklearn-color-unfitted-level-1) 1pt solid;\n",
       "  color: var(--sklearn-color-unfitted-level-1);\n",
       "}\n",
       "\n",
       ".sk-estimator-doc-link.fitted,\n",
       "a:link.sk-estimator-doc-link.fitted,\n",
       "a:visited.sk-estimator-doc-link.fitted {\n",
       "  /* fitted */\n",
       "  border: var(--sklearn-color-fitted-level-1) 1pt solid;\n",
       "  color: var(--sklearn-color-fitted-level-1);\n",
       "}\n",
       "\n",
       "/* On hover */\n",
       "div.sk-estimator:hover .sk-estimator-doc-link:hover,\n",
       ".sk-estimator-doc-link:hover,\n",
       "div.sk-label-container:hover .sk-estimator-doc-link:hover,\n",
       ".sk-estimator-doc-link:hover {\n",
       "  /* unfitted */\n",
       "  background-color: var(--sklearn-color-unfitted-level-3);\n",
       "  color: var(--sklearn-color-background);\n",
       "  text-decoration: none;\n",
       "}\n",
       "\n",
       "div.sk-estimator.fitted:hover .sk-estimator-doc-link.fitted:hover,\n",
       ".sk-estimator-doc-link.fitted:hover,\n",
       "div.sk-label-container:hover .sk-estimator-doc-link.fitted:hover,\n",
       ".sk-estimator-doc-link.fitted:hover {\n",
       "  /* fitted */\n",
       "  background-color: var(--sklearn-color-fitted-level-3);\n",
       "  color: var(--sklearn-color-background);\n",
       "  text-decoration: none;\n",
       "}\n",
       "\n",
       "/* Span, style for the box shown on hovering the info icon */\n",
       ".sk-estimator-doc-link span {\n",
       "  display: none;\n",
       "  z-index: 9999;\n",
       "  position: relative;\n",
       "  font-weight: normal;\n",
       "  right: .2ex;\n",
       "  padding: .5ex;\n",
       "  margin: .5ex;\n",
       "  width: min-content;\n",
       "  min-width: 20ex;\n",
       "  max-width: 50ex;\n",
       "  color: var(--sklearn-color-text);\n",
       "  box-shadow: 2pt 2pt 4pt #999;\n",
       "  /* unfitted */\n",
       "  background: var(--sklearn-color-unfitted-level-0);\n",
       "  border: .5pt solid var(--sklearn-color-unfitted-level-3);\n",
       "}\n",
       "\n",
       ".sk-estimator-doc-link.fitted span {\n",
       "  /* fitted */\n",
       "  background: var(--sklearn-color-fitted-level-0);\n",
       "  border: var(--sklearn-color-fitted-level-3);\n",
       "}\n",
       "\n",
       ".sk-estimator-doc-link:hover span {\n",
       "  display: block;\n",
       "}\n",
       "\n",
       "/* \"?\"-specific style due to the `<a>` HTML tag */\n",
       "\n",
       "#sk-container-id-1 a.estimator_doc_link {\n",
       "  float: right;\n",
       "  font-size: 1rem;\n",
       "  line-height: 1em;\n",
       "  font-family: monospace;\n",
       "  background-color: var(--sklearn-color-background);\n",
       "  border-radius: 1rem;\n",
       "  height: 1rem;\n",
       "  width: 1rem;\n",
       "  text-decoration: none;\n",
       "  /* unfitted */\n",
       "  color: var(--sklearn-color-unfitted-level-1);\n",
       "  border: var(--sklearn-color-unfitted-level-1) 1pt solid;\n",
       "}\n",
       "\n",
       "#sk-container-id-1 a.estimator_doc_link.fitted {\n",
       "  /* fitted */\n",
       "  border: var(--sklearn-color-fitted-level-1) 1pt solid;\n",
       "  color: var(--sklearn-color-fitted-level-1);\n",
       "}\n",
       "\n",
       "/* On hover */\n",
       "#sk-container-id-1 a.estimator_doc_link:hover {\n",
       "  /* unfitted */\n",
       "  background-color: var(--sklearn-color-unfitted-level-3);\n",
       "  color: var(--sklearn-color-background);\n",
       "  text-decoration: none;\n",
       "}\n",
       "\n",
       "#sk-container-id-1 a.estimator_doc_link.fitted:hover {\n",
       "  /* fitted */\n",
       "  background-color: var(--sklearn-color-fitted-level-3);\n",
       "}\n",
       "\n",
       ".estimator-table summary {\n",
       "    padding: .5rem;\n",
       "    font-family: monospace;\n",
       "    cursor: pointer;\n",
       "}\n",
       "\n",
       ".estimator-table details[open] {\n",
       "    padding-left: 0.1rem;\n",
       "    padding-right: 0.1rem;\n",
       "    padding-bottom: 0.3rem;\n",
       "}\n",
       "\n",
       ".estimator-table .parameters-table {\n",
       "    margin-left: auto !important;\n",
       "    margin-right: auto !important;\n",
       "}\n",
       "\n",
       ".estimator-table .parameters-table tr:nth-child(odd) {\n",
       "    background-color: #fff;\n",
       "}\n",
       "\n",
       ".estimator-table .parameters-table tr:nth-child(even) {\n",
       "    background-color: #f6f6f6;\n",
       "}\n",
       "\n",
       ".estimator-table .parameters-table tr:hover {\n",
       "    background-color: #e0e0e0;\n",
       "}\n",
       "\n",
       ".estimator-table table td {\n",
       "    border: 1px solid rgba(106, 105, 104, 0.232);\n",
       "}\n",
       "\n",
       ".user-set td {\n",
       "    color:rgb(255, 94, 0);\n",
       "    text-align: left;\n",
       "}\n",
       "\n",
       ".user-set td.value pre {\n",
       "    color:rgb(255, 94, 0) !important;\n",
       "    background-color: transparent !important;\n",
       "}\n",
       "\n",
       ".default td {\n",
       "    color: black;\n",
       "    text-align: left;\n",
       "}\n",
       "\n",
       ".user-set td i,\n",
       ".default td i {\n",
       "    color: black;\n",
       "}\n",
       "\n",
       ".copy-paste-icon {\n",
       "    background-image: url(data:image/svg+xml;base64,PHN2ZyB4bWxucz0iaHR0cDovL3d3dy53My5vcmcvMjAwMC9zdmciIHZpZXdCb3g9IjAgMCA0NDggNTEyIj48IS0tIUZvbnQgQXdlc29tZSBGcmVlIDYuNy4yIGJ5IEBmb250YXdlc29tZSAtIGh0dHBzOi8vZm9udGF3ZXNvbWUuY29tIExpY2Vuc2UgLSBodHRwczovL2ZvbnRhd2Vzb21lLmNvbS9saWNlbnNlL2ZyZWUgQ29weXJpZ2h0IDIwMjUgRm9udGljb25zLCBJbmMuLS0+PHBhdGggZD0iTTIwOCAwTDMzMi4xIDBjMTIuNyAwIDI0LjkgNS4xIDMzLjkgMTQuMWw2Ny45IDY3LjljOSA5IDE0LjEgMjEuMiAxNC4xIDMzLjlMNDQ4IDMzNmMwIDI2LjUtMjEuNSA0OC00OCA0OGwtMTkyIDBjLTI2LjUgMC00OC0yMS41LTQ4LTQ4bDAtMjg4YzAtMjYuNSAyMS41LTQ4IDQ4LTQ4ek00OCAxMjhsODAgMCAwIDY0LTY0IDAgMCAyNTYgMTkyIDAgMC0zMiA2NCAwIDAgNDhjMCAyNi41LTIxLjUgNDgtNDggNDhMNDggNTEyYy0yNi41IDAtNDgtMjEuNS00OC00OEwwIDE3NmMwLTI2LjUgMjEuNS00OCA0OC00OHoiLz48L3N2Zz4=);\n",
       "    background-repeat: no-repeat;\n",
       "    background-size: 14px 14px;\n",
       "    background-position: 0;\n",
       "    display: inline-block;\n",
       "    width: 14px;\n",
       "    height: 14px;\n",
       "    cursor: pointer;\n",
       "}\n",
       "</style><body><div id=\"sk-container-id-1\" class=\"sk-top-container\"><div class=\"sk-text-repr-fallback\"><pre>BaggingClassifier(estimator=DecisionTreeClassifier(max_depth=8,\n",
       "                                                   max_features=&#x27;sqrt&#x27;,\n",
       "                                                   min_samples_leaf=2,\n",
       "                                                   min_samples_split=5),\n",
       "                  max_features=0.8, max_samples=0.8, n_estimators=50, n_jobs=-1,\n",
       "                  oob_score=True, random_state=42)</pre><b>In a Jupyter environment, please rerun this cell to show the HTML representation or trust the notebook. <br />On GitHub, the HTML representation is unable to render, please try loading this page with nbviewer.org.</b></div><div class=\"sk-container\" hidden><div class=\"sk-item sk-dashed-wrapped\"><div class=\"sk-label-container\"><div class=\"sk-label fitted sk-toggleable\"><input class=\"sk-toggleable__control sk-hidden--visually\" id=\"sk-estimator-id-1\" type=\"checkbox\" ><label for=\"sk-estimator-id-1\" class=\"sk-toggleable__label fitted sk-toggleable__label-arrow\"><div><div>BaggingClassifier</div></div><div><a class=\"sk-estimator-doc-link fitted\" rel=\"noreferrer\" target=\"_blank\" href=\"https://scikit-learn.org/1.7/modules/generated/sklearn.ensemble.BaggingClassifier.html\">?<span>Documentation for BaggingClassifier</span></a><span class=\"sk-estimator-doc-link fitted\">i<span>Fitted</span></span></div></label><div class=\"sk-toggleable__content fitted\" data-param-prefix=\"\">\n",
       "        <div class=\"estimator-table\">\n",
       "            <details>\n",
       "                <summary>Parameters</summary>\n",
       "                <table class=\"parameters-table\">\n",
       "                  <tbody>\n",
       "                    \n",
       "        <tr class=\"user-set\">\n",
       "            <td><i class=\"copy-paste-icon\"\n",
       "                 onclick=\"copyToClipboard('estimator',\n",
       "                          this.parentElement.nextElementSibling)\"\n",
       "            ></i></td>\n",
       "            <td class=\"param\">estimator&nbsp;</td>\n",
       "            <td class=\"value\">DecisionTreeC...mples_split=5)</td>\n",
       "        </tr>\n",
       "    \n",
       "\n",
       "        <tr class=\"user-set\">\n",
       "            <td><i class=\"copy-paste-icon\"\n",
       "                 onclick=\"copyToClipboard('n_estimators',\n",
       "                          this.parentElement.nextElementSibling)\"\n",
       "            ></i></td>\n",
       "            <td class=\"param\">n_estimators&nbsp;</td>\n",
       "            <td class=\"value\">50</td>\n",
       "        </tr>\n",
       "    \n",
       "\n",
       "        <tr class=\"user-set\">\n",
       "            <td><i class=\"copy-paste-icon\"\n",
       "                 onclick=\"copyToClipboard('max_samples',\n",
       "                          this.parentElement.nextElementSibling)\"\n",
       "            ></i></td>\n",
       "            <td class=\"param\">max_samples&nbsp;</td>\n",
       "            <td class=\"value\">0.8</td>\n",
       "        </tr>\n",
       "    \n",
       "\n",
       "        <tr class=\"user-set\">\n",
       "            <td><i class=\"copy-paste-icon\"\n",
       "                 onclick=\"copyToClipboard('max_features',\n",
       "                          this.parentElement.nextElementSibling)\"\n",
       "            ></i></td>\n",
       "            <td class=\"param\">max_features&nbsp;</td>\n",
       "            <td class=\"value\">0.8</td>\n",
       "        </tr>\n",
       "    \n",
       "\n",
       "        <tr class=\"default\">\n",
       "            <td><i class=\"copy-paste-icon\"\n",
       "                 onclick=\"copyToClipboard('bootstrap',\n",
       "                          this.parentElement.nextElementSibling)\"\n",
       "            ></i></td>\n",
       "            <td class=\"param\">bootstrap&nbsp;</td>\n",
       "            <td class=\"value\">True</td>\n",
       "        </tr>\n",
       "    \n",
       "\n",
       "        <tr class=\"default\">\n",
       "            <td><i class=\"copy-paste-icon\"\n",
       "                 onclick=\"copyToClipboard('bootstrap_features',\n",
       "                          this.parentElement.nextElementSibling)\"\n",
       "            ></i></td>\n",
       "            <td class=\"param\">bootstrap_features&nbsp;</td>\n",
       "            <td class=\"value\">False</td>\n",
       "        </tr>\n",
       "    \n",
       "\n",
       "        <tr class=\"user-set\">\n",
       "            <td><i class=\"copy-paste-icon\"\n",
       "                 onclick=\"copyToClipboard('oob_score',\n",
       "                          this.parentElement.nextElementSibling)\"\n",
       "            ></i></td>\n",
       "            <td class=\"param\">oob_score&nbsp;</td>\n",
       "            <td class=\"value\">True</td>\n",
       "        </tr>\n",
       "    \n",
       "\n",
       "        <tr class=\"default\">\n",
       "            <td><i class=\"copy-paste-icon\"\n",
       "                 onclick=\"copyToClipboard('warm_start',\n",
       "                          this.parentElement.nextElementSibling)\"\n",
       "            ></i></td>\n",
       "            <td class=\"param\">warm_start&nbsp;</td>\n",
       "            <td class=\"value\">False</td>\n",
       "        </tr>\n",
       "    \n",
       "\n",
       "        <tr class=\"user-set\">\n",
       "            <td><i class=\"copy-paste-icon\"\n",
       "                 onclick=\"copyToClipboard('n_jobs',\n",
       "                          this.parentElement.nextElementSibling)\"\n",
       "            ></i></td>\n",
       "            <td class=\"param\">n_jobs&nbsp;</td>\n",
       "            <td class=\"value\">-1</td>\n",
       "        </tr>\n",
       "    \n",
       "\n",
       "        <tr class=\"user-set\">\n",
       "            <td><i class=\"copy-paste-icon\"\n",
       "                 onclick=\"copyToClipboard('random_state',\n",
       "                          this.parentElement.nextElementSibling)\"\n",
       "            ></i></td>\n",
       "            <td class=\"param\">random_state&nbsp;</td>\n",
       "            <td class=\"value\">42</td>\n",
       "        </tr>\n",
       "    \n",
       "\n",
       "        <tr class=\"default\">\n",
       "            <td><i class=\"copy-paste-icon\"\n",
       "                 onclick=\"copyToClipboard('verbose',\n",
       "                          this.parentElement.nextElementSibling)\"\n",
       "            ></i></td>\n",
       "            <td class=\"param\">verbose&nbsp;</td>\n",
       "            <td class=\"value\">0</td>\n",
       "        </tr>\n",
       "    \n",
       "                  </tbody>\n",
       "                </table>\n",
       "            </details>\n",
       "        </div>\n",
       "    </div></div></div><div class=\"sk-parallel\"><div class=\"sk-parallel-item\"><div class=\"sk-item\"><div class=\"sk-label-container\"><div class=\"sk-label fitted sk-toggleable\"><input class=\"sk-toggleable__control sk-hidden--visually\" id=\"sk-estimator-id-2\" type=\"checkbox\" ><label for=\"sk-estimator-id-2\" class=\"sk-toggleable__label fitted sk-toggleable__label-arrow\"><div><div>estimator: DecisionTreeClassifier</div></div></label><div class=\"sk-toggleable__content fitted\" data-param-prefix=\"estimator__\"><pre>DecisionTreeClassifier(max_depth=8, max_features=&#x27;sqrt&#x27;, min_samples_leaf=2,\n",
       "                       min_samples_split=5)</pre></div></div></div><div class=\"sk-serial\"><div class=\"sk-item\"><div class=\"sk-estimator fitted sk-toggleable\"><input class=\"sk-toggleable__control sk-hidden--visually\" id=\"sk-estimator-id-3\" type=\"checkbox\" ><label for=\"sk-estimator-id-3\" class=\"sk-toggleable__label fitted sk-toggleable__label-arrow\"><div><div>DecisionTreeClassifier</div></div><div><a class=\"sk-estimator-doc-link fitted\" rel=\"noreferrer\" target=\"_blank\" href=\"https://scikit-learn.org/1.7/modules/generated/sklearn.tree.DecisionTreeClassifier.html\">?<span>Documentation for DecisionTreeClassifier</span></a></div></label><div class=\"sk-toggleable__content fitted\" data-param-prefix=\"estimator__\">\n",
       "        <div class=\"estimator-table\">\n",
       "            <details>\n",
       "                <summary>Parameters</summary>\n",
       "                <table class=\"parameters-table\">\n",
       "                  <tbody>\n",
       "                    \n",
       "        <tr class=\"default\">\n",
       "            <td><i class=\"copy-paste-icon\"\n",
       "                 onclick=\"copyToClipboard('criterion',\n",
       "                          this.parentElement.nextElementSibling)\"\n",
       "            ></i></td>\n",
       "            <td class=\"param\">criterion&nbsp;</td>\n",
       "            <td class=\"value\">&#x27;gini&#x27;</td>\n",
       "        </tr>\n",
       "    \n",
       "\n",
       "        <tr class=\"default\">\n",
       "            <td><i class=\"copy-paste-icon\"\n",
       "                 onclick=\"copyToClipboard('splitter',\n",
       "                          this.parentElement.nextElementSibling)\"\n",
       "            ></i></td>\n",
       "            <td class=\"param\">splitter&nbsp;</td>\n",
       "            <td class=\"value\">&#x27;best&#x27;</td>\n",
       "        </tr>\n",
       "    \n",
       "\n",
       "        <tr class=\"user-set\">\n",
       "            <td><i class=\"copy-paste-icon\"\n",
       "                 onclick=\"copyToClipboard('max_depth',\n",
       "                          this.parentElement.nextElementSibling)\"\n",
       "            ></i></td>\n",
       "            <td class=\"param\">max_depth&nbsp;</td>\n",
       "            <td class=\"value\">8</td>\n",
       "        </tr>\n",
       "    \n",
       "\n",
       "        <tr class=\"user-set\">\n",
       "            <td><i class=\"copy-paste-icon\"\n",
       "                 onclick=\"copyToClipboard('min_samples_split',\n",
       "                          this.parentElement.nextElementSibling)\"\n",
       "            ></i></td>\n",
       "            <td class=\"param\">min_samples_split&nbsp;</td>\n",
       "            <td class=\"value\">5</td>\n",
       "        </tr>\n",
       "    \n",
       "\n",
       "        <tr class=\"user-set\">\n",
       "            <td><i class=\"copy-paste-icon\"\n",
       "                 onclick=\"copyToClipboard('min_samples_leaf',\n",
       "                          this.parentElement.nextElementSibling)\"\n",
       "            ></i></td>\n",
       "            <td class=\"param\">min_samples_leaf&nbsp;</td>\n",
       "            <td class=\"value\">2</td>\n",
       "        </tr>\n",
       "    \n",
       "\n",
       "        <tr class=\"default\">\n",
       "            <td><i class=\"copy-paste-icon\"\n",
       "                 onclick=\"copyToClipboard('min_weight_fraction_leaf',\n",
       "                          this.parentElement.nextElementSibling)\"\n",
       "            ></i></td>\n",
       "            <td class=\"param\">min_weight_fraction_leaf&nbsp;</td>\n",
       "            <td class=\"value\">0.0</td>\n",
       "        </tr>\n",
       "    \n",
       "\n",
       "        <tr class=\"user-set\">\n",
       "            <td><i class=\"copy-paste-icon\"\n",
       "                 onclick=\"copyToClipboard('max_features',\n",
       "                          this.parentElement.nextElementSibling)\"\n",
       "            ></i></td>\n",
       "            <td class=\"param\">max_features&nbsp;</td>\n",
       "            <td class=\"value\">&#x27;sqrt&#x27;</td>\n",
       "        </tr>\n",
       "    \n",
       "\n",
       "        <tr class=\"default\">\n",
       "            <td><i class=\"copy-paste-icon\"\n",
       "                 onclick=\"copyToClipboard('random_state',\n",
       "                          this.parentElement.nextElementSibling)\"\n",
       "            ></i></td>\n",
       "            <td class=\"param\">random_state&nbsp;</td>\n",
       "            <td class=\"value\">None</td>\n",
       "        </tr>\n",
       "    \n",
       "\n",
       "        <tr class=\"default\">\n",
       "            <td><i class=\"copy-paste-icon\"\n",
       "                 onclick=\"copyToClipboard('max_leaf_nodes',\n",
       "                          this.parentElement.nextElementSibling)\"\n",
       "            ></i></td>\n",
       "            <td class=\"param\">max_leaf_nodes&nbsp;</td>\n",
       "            <td class=\"value\">None</td>\n",
       "        </tr>\n",
       "    \n",
       "\n",
       "        <tr class=\"default\">\n",
       "            <td><i class=\"copy-paste-icon\"\n",
       "                 onclick=\"copyToClipboard('min_impurity_decrease',\n",
       "                          this.parentElement.nextElementSibling)\"\n",
       "            ></i></td>\n",
       "            <td class=\"param\">min_impurity_decrease&nbsp;</td>\n",
       "            <td class=\"value\">0.0</td>\n",
       "        </tr>\n",
       "    \n",
       "\n",
       "        <tr class=\"default\">\n",
       "            <td><i class=\"copy-paste-icon\"\n",
       "                 onclick=\"copyToClipboard('class_weight',\n",
       "                          this.parentElement.nextElementSibling)\"\n",
       "            ></i></td>\n",
       "            <td class=\"param\">class_weight&nbsp;</td>\n",
       "            <td class=\"value\">None</td>\n",
       "        </tr>\n",
       "    \n",
       "\n",
       "        <tr class=\"default\">\n",
       "            <td><i class=\"copy-paste-icon\"\n",
       "                 onclick=\"copyToClipboard('ccp_alpha',\n",
       "                          this.parentElement.nextElementSibling)\"\n",
       "            ></i></td>\n",
       "            <td class=\"param\">ccp_alpha&nbsp;</td>\n",
       "            <td class=\"value\">0.0</td>\n",
       "        </tr>\n",
       "    \n",
       "\n",
       "        <tr class=\"default\">\n",
       "            <td><i class=\"copy-paste-icon\"\n",
       "                 onclick=\"copyToClipboard('monotonic_cst',\n",
       "                          this.parentElement.nextElementSibling)\"\n",
       "            ></i></td>\n",
       "            <td class=\"param\">monotonic_cst&nbsp;</td>\n",
       "            <td class=\"value\">None</td>\n",
       "        </tr>\n",
       "    \n",
       "                  </tbody>\n",
       "                </table>\n",
       "            </details>\n",
       "        </div>\n",
       "    </div></div></div></div></div></div></div></div></div></div><script>function copyToClipboard(text, element) {\n",
       "    // Get the parameter prefix from the closest toggleable content\n",
       "    const toggleableContent = element.closest('.sk-toggleable__content');\n",
       "    const paramPrefix = toggleableContent ? toggleableContent.dataset.paramPrefix : '';\n",
       "    const fullParamName = paramPrefix ? `${paramPrefix}${text}` : text;\n",
       "\n",
       "    const originalStyle = element.style;\n",
       "    const computedStyle = window.getComputedStyle(element);\n",
       "    const originalWidth = computedStyle.width;\n",
       "    const originalHTML = element.innerHTML.replace('Copied!', '');\n",
       "\n",
       "    navigator.clipboard.writeText(fullParamName)\n",
       "        .then(() => {\n",
       "            element.style.width = originalWidth;\n",
       "            element.style.color = 'green';\n",
       "            element.innerHTML = \"Copied!\";\n",
       "\n",
       "            setTimeout(() => {\n",
       "                element.innerHTML = originalHTML;\n",
       "                element.style = originalStyle;\n",
       "            }, 2000);\n",
       "        })\n",
       "        .catch(err => {\n",
       "            console.error('Failed to copy:', err);\n",
       "            element.style.color = 'red';\n",
       "            element.innerHTML = \"Failed!\";\n",
       "            setTimeout(() => {\n",
       "                element.innerHTML = originalHTML;\n",
       "                element.style = originalStyle;\n",
       "            }, 2000);\n",
       "        });\n",
       "    return false;\n",
       "}\n",
       "\n",
       "document.querySelectorAll('.fa-regular.fa-copy').forEach(function(element) {\n",
       "    const toggleableContent = element.closest('.sk-toggleable__content');\n",
       "    const paramPrefix = toggleableContent ? toggleableContent.dataset.paramPrefix : '';\n",
       "    const paramName = element.parentElement.nextElementSibling.textContent.trim();\n",
       "    const fullParamName = paramPrefix ? `${paramPrefix}${paramName}` : paramName;\n",
       "\n",
       "    element.setAttribute('title', fullParamName);\n",
       "});\n",
       "</script></body>"
      ],
      "text/plain": [
       "BaggingClassifier(estimator=DecisionTreeClassifier(max_depth=8,\n",
       "                                                   max_features='sqrt',\n",
       "                                                   min_samples_leaf=2,\n",
       "                                                   min_samples_split=5),\n",
       "                  max_features=0.8, max_samples=0.8, n_estimators=50, n_jobs=-1,\n",
       "                  oob_score=True, random_state=42)"
      ]
     },
     "execution_count": 11,
     "metadata": {},
     "output_type": "execute_result"
    }
   ],
   "source": [
    "# Создание Bagging классификатора для датасета Breast Cancer\n",
    "bagging_classifier = BaggingClassifier(\n",
    "    estimator=DecisionTreeClassifier(\n",
    "        max_depth=8,            # Достаточная глубина для Breast Cancer\n",
    "        min_samples_split=5,    # Минимум образцов для разбиения\n",
    "        min_samples_leaf=2,     # Минимум образцов в листе\n",
    "        max_features='sqrt'     # Случайный выбор признаков в базовых деревьях\n",
    "    ),\n",
    "    n_estimators=50,            # Количество базовых моделей\n",
    "    max_samples=0.8,           # Используем 80% данных для каждого дерева\n",
    "    max_features=0.8,          # Используем 80% признаков для каждого дерева\n",
    "    random_state=42,\n",
    "    oob_score=True,            # Вычисляем OOB score\n",
    "    n_jobs=-1                  # Параллельное обучение деревьев\n",
    ")\n",
    "\n",
    "print(\"=== НАСТРОЙКИ BAGGING ===\")\n",
    "print(f\"Количество базовых моделей: {bagging_classifier.n_estimators}\")\n",
    "print(f\"Процент образцов для каждого дерева: {bagging_classifier.max_samples * 100:.0f}%\")\n",
    "print(f\"Процент признаков для каждого дерева: {bagging_classifier.max_features * 100:.0f}%\")\n",
    "print(f\"Максимальная глубина базовых деревьев: {bagging_classifier.estimator.max_depth}\")\n",
    "\n",
    "# Обучение модели\n",
    "bagging_classifier.fit(X_train, y_train)"
   ]
  },
  {
   "cell_type": "code",
   "execution_count": 12,
   "id": "6a1d7024",
   "metadata": {},
   "outputs": [
    {
     "name": "stdout",
     "output_type": "stream",
     "text": [
      "=== РЕЗУЛЬТАТЫ BAGGING НА BREAST CANCER ===\n",
      "Accuracy:  0.9298\n",
      "Precision: 0.9298\n",
      "Recall:    0.9298\n",
      "F1-score:  0.9298\n",
      "OOB Score: 0.9648\n",
      "\n",
      "=== СРАВНЕНИЕ С ОДИНОЧНЫМ ГЛУБОКИМ ДЕРЕВОМ ===\n",
      "Single Tree Accuracy: 0.9181\n",
      "Bagging Accuracy:     0.9298\n",
      "Улучшение:            0.0117 (1.3%)\n",
      "Снижение overfitting: 0.0350\n",
      "\n",
      "=== ВАЖНОСТЬ ПРИЗНАКОВ В BAGGING (ТОП-10) ===\n",
      "1. concavity error: 0.0784\n",
      "2. compactness error: 0.0623\n",
      "3. smoothness error: 0.0596\n",
      "4. worst perimeter: 0.0578\n",
      "5. symmetry error: 0.0575\n",
      "6. mean area: 0.0538\n",
      "7. worst texture: 0.0508\n",
      "8. radius error: 0.0504\n",
      "9. mean concavity: 0.0481\n",
      "10. texture error: 0.0480\n",
      "Ошибка при анализе стабильности: X has 30 features, but DecisionTreeClassifier is expecting 24 features as input.\n"
     ]
    },
    {
     "data": {
      "application/vnd.plotly.v1+json": {
       "config": {
        "plotlyServerURL": "https://plot.ly"
       },
       "data": [
        {
         "marker": {
          "color": [
           "#2E86AB",
           "#32A251",
           "#FF7F0E",
           "#C73E1D",
           "#592E83"
          ]
         },
         "name": "Bagging",
         "showlegend": false,
         "text": [
          "0.930",
          "0.930",
          "0.930",
          "0.930",
          "0.965"
         ],
         "textposition": "auto",
         "type": "bar",
         "x": [
          "Accuracy",
          "Precision",
          "Recall",
          "F1-Score",
          "OOB Score"
         ],
         "xaxis": "x",
         "y": [
          0.9298245614035088,
          0.9298245614035088,
          0.9298245614035088,
          0.9298245614035088,
          0.964824120603015
         ],
         "yaxis": "y"
        },
        {
         "marker": {
          "color": "#2E86AB"
         },
         "name": "Accuracy",
         "text": [
          "0.918",
          "0.930"
         ],
         "textposition": "auto",
         "type": "bar",
         "x": [
          "Single Deep Tree",
          "Bagging Ensemble"
         ],
         "xaxis": "x2",
         "y": [
          0.9181286549707602,
          0.9298245614035088
         ],
         "yaxis": "y2"
        },
        {
         "marker": {
          "color": "#A23B72"
         },
         "name": "F1-Score",
         "text": [
          "0.918",
          "0.930"
         ],
         "textposition": "auto",
         "type": "bar",
         "x": [
          "Single Deep Tree",
          "Bagging Ensemble"
         ],
         "xaxis": "x2",
         "y": [
          0.9181286549707602,
          0.9298245614035088
         ],
         "yaxis": "y2"
        },
        {
         "marker": {
          "color": "#32A251"
         },
         "name": "Важность",
         "orientation": "h",
         "showlegend": false,
         "text": [
          "0.078",
          "0.062",
          "0.060",
          "0.058",
          "0.057",
          "0.054",
          "0.051",
          "0.050",
          "0.048",
          "0.048"
         ],
         "textposition": "auto",
         "type": "bar",
         "x": [
          0.0783643596326381,
          0.06226422457502474,
          0.059583089562274524,
          0.05775920793739465,
          0.05745422712941467,
          0.05376792749539236,
          0.05075080780477791,
          0.050367210571572854,
          0.048141458023913765,
          0.04797811237254697
         ],
         "xaxis": "x3",
         "y": [
          "concavity error",
          "compactness error",
          "smoothness error",
          "worst perimeter",
          "symmetry error",
          "mean area",
          "worst texture",
          "radius error",
          "mean concavity",
          "texture error"
         ],
         "yaxis": "y3"
        },
        {
         "marker": {
          "color": "#FF7F0E"
         },
         "name": "Распределение предсказаний",
         "nbinsx": 10,
         "showlegend": false,
         "type": "histogram",
         "x": [
          0,
          1,
          1,
          0,
          1,
          0,
          1,
          0,
          1,
          0,
          1,
          1,
          0,
          1,
          1,
          0,
          0,
          1,
          1,
          1,
          1,
          1,
          1,
          0,
          0,
          1,
          1,
          1,
          0,
          0,
          1,
          0,
          1,
          1,
          0,
          1,
          0,
          1,
          1,
          1,
          1,
          0,
          1,
          1,
          1,
          1,
          0,
          1,
          1,
          0,
          1,
          1,
          0,
          0,
          1,
          1,
          0,
          1,
          1,
          1,
          0,
          0,
          0,
          1,
          1,
          1,
          1,
          0,
          1,
          1,
          0,
          0,
          0,
          0,
          1,
          1,
          0,
          1,
          0,
          1,
          1,
          1,
          0,
          1,
          0,
          1,
          1,
          0,
          0,
          0,
          0,
          1,
          1,
          1,
          1,
          1,
          0,
          1,
          1,
          1,
          1,
          1,
          1,
          0,
          1,
          1,
          1,
          1,
          0,
          1,
          0,
          1,
          0,
          1,
          1,
          0,
          1,
          1,
          1,
          0,
          1,
          1,
          0,
          1,
          1,
          1,
          1,
          0,
          1,
          1,
          1,
          1,
          0,
          1,
          0,
          1,
          0,
          1,
          1,
          1,
          1,
          1,
          0,
          0,
          0,
          0,
          0,
          1,
          0,
          1,
          1,
          1,
          0,
          1,
          0,
          1,
          1,
          0,
          1,
          1,
          0,
          0,
          0,
          1,
          0,
          1,
          1,
          1,
          0,
          0,
          1
         ],
         "xaxis": "x4",
         "yaxis": "y4"
        }
       ],
       "layout": {
        "annotations": [
         {
          "font": {
           "size": 16
          },
          "showarrow": false,
          "text": "Метрики качества",
          "x": 0.225,
          "xanchor": "center",
          "xref": "paper",
          "y": 1,
          "yanchor": "bottom",
          "yref": "paper"
         },
         {
          "font": {
           "size": 16
          },
          "showarrow": false,
          "text": "Сравнение с одиночным деревом",
          "x": 0.775,
          "xanchor": "center",
          "xref": "paper",
          "y": 1,
          "yanchor": "bottom",
          "yref": "paper"
         },
         {
          "font": {
           "size": 16
          },
          "showarrow": false,
          "text": "Важность признаков (топ-10)",
          "x": 0.225,
          "xanchor": "center",
          "xref": "paper",
          "y": 0.425,
          "yanchor": "bottom",
          "yref": "paper"
         },
         {
          "font": {
           "size": 16
          },
          "showarrow": false,
          "text": "Стабильность предсказаний",
          "x": 0.775,
          "xanchor": "center",
          "xref": "paper",
          "y": 0.425,
          "yanchor": "bottom",
          "yref": "paper"
         }
        ],
        "height": 800,
        "showlegend": true,
        "template": {
         "data": {
          "bar": [
           {
            "error_x": {
             "color": "#2a3f5f"
            },
            "error_y": {
             "color": "#2a3f5f"
            },
            "marker": {
             "line": {
              "color": "#E5ECF6",
              "width": 0.5
             },
             "pattern": {
              "fillmode": "overlay",
              "size": 10,
              "solidity": 0.2
             }
            },
            "type": "bar"
           }
          ],
          "barpolar": [
           {
            "marker": {
             "line": {
              "color": "#E5ECF6",
              "width": 0.5
             },
             "pattern": {
              "fillmode": "overlay",
              "size": 10,
              "solidity": 0.2
             }
            },
            "type": "barpolar"
           }
          ],
          "carpet": [
           {
            "aaxis": {
             "endlinecolor": "#2a3f5f",
             "gridcolor": "white",
             "linecolor": "white",
             "minorgridcolor": "white",
             "startlinecolor": "#2a3f5f"
            },
            "baxis": {
             "endlinecolor": "#2a3f5f",
             "gridcolor": "white",
             "linecolor": "white",
             "minorgridcolor": "white",
             "startlinecolor": "#2a3f5f"
            },
            "type": "carpet"
           }
          ],
          "choropleth": [
           {
            "colorbar": {
             "outlinewidth": 0,
             "ticks": ""
            },
            "type": "choropleth"
           }
          ],
          "contour": [
           {
            "colorbar": {
             "outlinewidth": 0,
             "ticks": ""
            },
            "colorscale": [
             [
              0,
              "#0d0887"
             ],
             [
              0.1111111111111111,
              "#46039f"
             ],
             [
              0.2222222222222222,
              "#7201a8"
             ],
             [
              0.3333333333333333,
              "#9c179e"
             ],
             [
              0.4444444444444444,
              "#bd3786"
             ],
             [
              0.5555555555555556,
              "#d8576b"
             ],
             [
              0.6666666666666666,
              "#ed7953"
             ],
             [
              0.7777777777777778,
              "#fb9f3a"
             ],
             [
              0.8888888888888888,
              "#fdca26"
             ],
             [
              1,
              "#f0f921"
             ]
            ],
            "type": "contour"
           }
          ],
          "contourcarpet": [
           {
            "colorbar": {
             "outlinewidth": 0,
             "ticks": ""
            },
            "type": "contourcarpet"
           }
          ],
          "heatmap": [
           {
            "colorbar": {
             "outlinewidth": 0,
             "ticks": ""
            },
            "colorscale": [
             [
              0,
              "#0d0887"
             ],
             [
              0.1111111111111111,
              "#46039f"
             ],
             [
              0.2222222222222222,
              "#7201a8"
             ],
             [
              0.3333333333333333,
              "#9c179e"
             ],
             [
              0.4444444444444444,
              "#bd3786"
             ],
             [
              0.5555555555555556,
              "#d8576b"
             ],
             [
              0.6666666666666666,
              "#ed7953"
             ],
             [
              0.7777777777777778,
              "#fb9f3a"
             ],
             [
              0.8888888888888888,
              "#fdca26"
             ],
             [
              1,
              "#f0f921"
             ]
            ],
            "type": "heatmap"
           }
          ],
          "heatmapgl": [
           {
            "colorbar": {
             "outlinewidth": 0,
             "ticks": ""
            },
            "colorscale": [
             [
              0,
              "#0d0887"
             ],
             [
              0.1111111111111111,
              "#46039f"
             ],
             [
              0.2222222222222222,
              "#7201a8"
             ],
             [
              0.3333333333333333,
              "#9c179e"
             ],
             [
              0.4444444444444444,
              "#bd3786"
             ],
             [
              0.5555555555555556,
              "#d8576b"
             ],
             [
              0.6666666666666666,
              "#ed7953"
             ],
             [
              0.7777777777777778,
              "#fb9f3a"
             ],
             [
              0.8888888888888888,
              "#fdca26"
             ],
             [
              1,
              "#f0f921"
             ]
            ],
            "type": "heatmapgl"
           }
          ],
          "histogram": [
           {
            "marker": {
             "pattern": {
              "fillmode": "overlay",
              "size": 10,
              "solidity": 0.2
             }
            },
            "type": "histogram"
           }
          ],
          "histogram2d": [
           {
            "colorbar": {
             "outlinewidth": 0,
             "ticks": ""
            },
            "colorscale": [
             [
              0,
              "#0d0887"
             ],
             [
              0.1111111111111111,
              "#46039f"
             ],
             [
              0.2222222222222222,
              "#7201a8"
             ],
             [
              0.3333333333333333,
              "#9c179e"
             ],
             [
              0.4444444444444444,
              "#bd3786"
             ],
             [
              0.5555555555555556,
              "#d8576b"
             ],
             [
              0.6666666666666666,
              "#ed7953"
             ],
             [
              0.7777777777777778,
              "#fb9f3a"
             ],
             [
              0.8888888888888888,
              "#fdca26"
             ],
             [
              1,
              "#f0f921"
             ]
            ],
            "type": "histogram2d"
           }
          ],
          "histogram2dcontour": [
           {
            "colorbar": {
             "outlinewidth": 0,
             "ticks": ""
            },
            "colorscale": [
             [
              0,
              "#0d0887"
             ],
             [
              0.1111111111111111,
              "#46039f"
             ],
             [
              0.2222222222222222,
              "#7201a8"
             ],
             [
              0.3333333333333333,
              "#9c179e"
             ],
             [
              0.4444444444444444,
              "#bd3786"
             ],
             [
              0.5555555555555556,
              "#d8576b"
             ],
             [
              0.6666666666666666,
              "#ed7953"
             ],
             [
              0.7777777777777778,
              "#fb9f3a"
             ],
             [
              0.8888888888888888,
              "#fdca26"
             ],
             [
              1,
              "#f0f921"
             ]
            ],
            "type": "histogram2dcontour"
           }
          ],
          "mesh3d": [
           {
            "colorbar": {
             "outlinewidth": 0,
             "ticks": ""
            },
            "type": "mesh3d"
           }
          ],
          "parcoords": [
           {
            "line": {
             "colorbar": {
              "outlinewidth": 0,
              "ticks": ""
             }
            },
            "type": "parcoords"
           }
          ],
          "pie": [
           {
            "automargin": true,
            "type": "pie"
           }
          ],
          "scatter": [
           {
            "fillpattern": {
             "fillmode": "overlay",
             "size": 10,
             "solidity": 0.2
            },
            "type": "scatter"
           }
          ],
          "scatter3d": [
           {
            "line": {
             "colorbar": {
              "outlinewidth": 0,
              "ticks": ""
             }
            },
            "marker": {
             "colorbar": {
              "outlinewidth": 0,
              "ticks": ""
             }
            },
            "type": "scatter3d"
           }
          ],
          "scattercarpet": [
           {
            "marker": {
             "colorbar": {
              "outlinewidth": 0,
              "ticks": ""
             }
            },
            "type": "scattercarpet"
           }
          ],
          "scattergeo": [
           {
            "marker": {
             "colorbar": {
              "outlinewidth": 0,
              "ticks": ""
             }
            },
            "type": "scattergeo"
           }
          ],
          "scattergl": [
           {
            "marker": {
             "colorbar": {
              "outlinewidth": 0,
              "ticks": ""
             }
            },
            "type": "scattergl"
           }
          ],
          "scattermapbox": [
           {
            "marker": {
             "colorbar": {
              "outlinewidth": 0,
              "ticks": ""
             }
            },
            "type": "scattermapbox"
           }
          ],
          "scatterpolar": [
           {
            "marker": {
             "colorbar": {
              "outlinewidth": 0,
              "ticks": ""
             }
            },
            "type": "scatterpolar"
           }
          ],
          "scatterpolargl": [
           {
            "marker": {
             "colorbar": {
              "outlinewidth": 0,
              "ticks": ""
             }
            },
            "type": "scatterpolargl"
           }
          ],
          "scatterternary": [
           {
            "marker": {
             "colorbar": {
              "outlinewidth": 0,
              "ticks": ""
             }
            },
            "type": "scatterternary"
           }
          ],
          "surface": [
           {
            "colorbar": {
             "outlinewidth": 0,
             "ticks": ""
            },
            "colorscale": [
             [
              0,
              "#0d0887"
             ],
             [
              0.1111111111111111,
              "#46039f"
             ],
             [
              0.2222222222222222,
              "#7201a8"
             ],
             [
              0.3333333333333333,
              "#9c179e"
             ],
             [
              0.4444444444444444,
              "#bd3786"
             ],
             [
              0.5555555555555556,
              "#d8576b"
             ],
             [
              0.6666666666666666,
              "#ed7953"
             ],
             [
              0.7777777777777778,
              "#fb9f3a"
             ],
             [
              0.8888888888888888,
              "#fdca26"
             ],
             [
              1,
              "#f0f921"
             ]
            ],
            "type": "surface"
           }
          ],
          "table": [
           {
            "cells": {
             "fill": {
              "color": "#EBF0F8"
             },
             "line": {
              "color": "white"
             }
            },
            "header": {
             "fill": {
              "color": "#C8D4E3"
             },
             "line": {
              "color": "white"
             }
            },
            "type": "table"
           }
          ]
         },
         "layout": {
          "annotationdefaults": {
           "arrowcolor": "#2a3f5f",
           "arrowhead": 0,
           "arrowwidth": 1
          },
          "autotypenumbers": "strict",
          "coloraxis": {
           "colorbar": {
            "outlinewidth": 0,
            "ticks": ""
           }
          },
          "colorscale": {
           "diverging": [
            [
             0,
             "#8e0152"
            ],
            [
             0.1,
             "#c51b7d"
            ],
            [
             0.2,
             "#de77ae"
            ],
            [
             0.3,
             "#f1b6da"
            ],
            [
             0.4,
             "#fde0ef"
            ],
            [
             0.5,
             "#f7f7f7"
            ],
            [
             0.6,
             "#e6f5d0"
            ],
            [
             0.7,
             "#b8e186"
            ],
            [
             0.8,
             "#7fbc41"
            ],
            [
             0.9,
             "#4d9221"
            ],
            [
             1,
             "#276419"
            ]
           ],
           "sequential": [
            [
             0,
             "#0d0887"
            ],
            [
             0.1111111111111111,
             "#46039f"
            ],
            [
             0.2222222222222222,
             "#7201a8"
            ],
            [
             0.3333333333333333,
             "#9c179e"
            ],
            [
             0.4444444444444444,
             "#bd3786"
            ],
            [
             0.5555555555555556,
             "#d8576b"
            ],
            [
             0.6666666666666666,
             "#ed7953"
            ],
            [
             0.7777777777777778,
             "#fb9f3a"
            ],
            [
             0.8888888888888888,
             "#fdca26"
            ],
            [
             1,
             "#f0f921"
            ]
           ],
           "sequentialminus": [
            [
             0,
             "#0d0887"
            ],
            [
             0.1111111111111111,
             "#46039f"
            ],
            [
             0.2222222222222222,
             "#7201a8"
            ],
            [
             0.3333333333333333,
             "#9c179e"
            ],
            [
             0.4444444444444444,
             "#bd3786"
            ],
            [
             0.5555555555555556,
             "#d8576b"
            ],
            [
             0.6666666666666666,
             "#ed7953"
            ],
            [
             0.7777777777777778,
             "#fb9f3a"
            ],
            [
             0.8888888888888888,
             "#fdca26"
            ],
            [
             1,
             "#f0f921"
            ]
           ]
          },
          "colorway": [
           "#636efa",
           "#EF553B",
           "#00cc96",
           "#ab63fa",
           "#FFA15A",
           "#19d3f3",
           "#FF6692",
           "#B6E880",
           "#FF97FF",
           "#FECB52"
          ],
          "font": {
           "color": "#2a3f5f"
          },
          "geo": {
           "bgcolor": "white",
           "lakecolor": "white",
           "landcolor": "#E5ECF6",
           "showlakes": true,
           "showland": true,
           "subunitcolor": "white"
          },
          "hoverlabel": {
           "align": "left"
          },
          "hovermode": "closest",
          "mapbox": {
           "style": "light"
          },
          "paper_bgcolor": "white",
          "plot_bgcolor": "#E5ECF6",
          "polar": {
           "angularaxis": {
            "gridcolor": "white",
            "linecolor": "white",
            "ticks": ""
           },
           "bgcolor": "#E5ECF6",
           "radialaxis": {
            "gridcolor": "white",
            "linecolor": "white",
            "ticks": ""
           }
          },
          "scene": {
           "xaxis": {
            "backgroundcolor": "#E5ECF6",
            "gridcolor": "white",
            "gridwidth": 2,
            "linecolor": "white",
            "showbackground": true,
            "ticks": "",
            "zerolinecolor": "white"
           },
           "yaxis": {
            "backgroundcolor": "#E5ECF6",
            "gridcolor": "white",
            "gridwidth": 2,
            "linecolor": "white",
            "showbackground": true,
            "ticks": "",
            "zerolinecolor": "white"
           },
           "zaxis": {
            "backgroundcolor": "#E5ECF6",
            "gridcolor": "white",
            "gridwidth": 2,
            "linecolor": "white",
            "showbackground": true,
            "ticks": "",
            "zerolinecolor": "white"
           }
          },
          "shapedefaults": {
           "line": {
            "color": "#2a3f5f"
           }
          },
          "ternary": {
           "aaxis": {
            "gridcolor": "white",
            "linecolor": "white",
            "ticks": ""
           },
           "baxis": {
            "gridcolor": "white",
            "linecolor": "white",
            "ticks": ""
           },
           "bgcolor": "#E5ECF6",
           "caxis": {
            "gridcolor": "white",
            "linecolor": "white",
            "ticks": ""
           }
          },
          "title": {
           "x": 0.05
          },
          "xaxis": {
           "automargin": true,
           "gridcolor": "white",
           "linecolor": "white",
           "ticks": "",
           "title": {
            "standoff": 15
           },
           "zerolinecolor": "white",
           "zerolinewidth": 2
          },
          "yaxis": {
           "automargin": true,
           "gridcolor": "white",
           "linecolor": "white",
           "ticks": "",
           "title": {
            "standoff": 15
           },
           "zerolinecolor": "white",
           "zerolinewidth": 2
          }
         }
        },
        "title": {
         "text": "Детальный анализ Bagging на Breast Cancer датасете<br>Улучшение accuracy: +1.3% относительно одиночного дерева"
        },
        "xaxis": {
         "anchor": "y",
         "domain": [
          0,
          0.45
         ]
        },
        "xaxis2": {
         "anchor": "y2",
         "domain": [
          0.55,
          1
         ]
        },
        "xaxis3": {
         "anchor": "y3",
         "domain": [
          0,
          0.45
         ],
         "title": {
          "text": "Важность признака"
         }
        },
        "xaxis4": {
         "anchor": "y4",
         "domain": [
          0.55,
          1
         ],
         "title": {
          "text": "Дисперсия предсказаний"
         }
        },
        "yaxis": {
         "anchor": "x",
         "domain": [
          0.575,
          1
         ],
         "title": {
          "text": "Значение метрики"
         }
        },
        "yaxis2": {
         "anchor": "x2",
         "domain": [
          0.575,
          1
         ],
         "title": {
          "text": "Значение метрики"
         }
        },
        "yaxis3": {
         "anchor": "x3",
         "domain": [
          0,
          0.425
         ]
        },
        "yaxis4": {
         "anchor": "x4",
         "domain": [
          0,
          0.425
         ],
         "title": {
          "text": "Частота"
         }
        }
       }
      }
     },
     "metadata": {},
     "output_type": "display_data"
    }
   ],
   "source": [
    "# Расширенная оценка Bagging модели\n",
    "y_pred_bagging = bagging_classifier.predict(X_test)\n",
    "\n",
    "accuracy_bagging = accuracy_score(y_test, y_pred_bagging)\n",
    "precision_bagging = precision_score(y_test, y_pred_bagging, average='weighted')\n",
    "recall_bagging = recall_score(y_test, y_pred_bagging, average='weighted')\n",
    "f1_bagging = f1_score(y_test, y_pred_bagging, average='weighted')\n",
    "oob_score = bagging_classifier.oob_score_\n",
    "\n",
    "print(\"=== РЕЗУЛЬТАТЫ BAGGING НА BREAST CANCER ===\")\n",
    "print(f\"Accuracy:  {accuracy_bagging:.4f}\")\n",
    "print(f\"Precision: {precision_bagging:.4f}\")\n",
    "print(f\"Recall:    {recall_bagging:.4f}\")\n",
    "print(f\"F1-score:  {f1_bagging:.4f}\")\n",
    "print(f\"OOB Score: {oob_score:.4f}\")\n",
    "\n",
    "# Сравнение с одиночным деревом для демонстрации улучшений\n",
    "single_deep_tree = DecisionTreeClassifier(\n",
    "    max_depth=None,              # Без ограничений для высокой дисперсии\n",
    "    min_samples_split=2,         # Минимальные ограничения\n",
    "    min_samples_leaf=1,\n",
    "    random_state=42\n",
    ")\n",
    "single_deep_tree.fit(X_train, y_train)\n",
    "y_pred_single = single_deep_tree.predict(X_test)\n",
    "accuracy_single = accuracy_score(y_test, y_pred_single)\n",
    "f1_single = f1_score(y_test, y_pred_single, average='weighted')\n",
    "\n",
    "print(f\"\\n=== СРАВНЕНИЕ С ОДИНОЧНЫМ ГЛУБОКИМ ДЕРЕВОМ ===\")\n",
    "print(f\"Single Tree Accuracy: {accuracy_single:.4f}\")\n",
    "print(f\"Bagging Accuracy:     {accuracy_bagging:.4f}\")\n",
    "print(f\"Улучшение:            {accuracy_bagging - accuracy_single:.4f} ({((accuracy_bagging/accuracy_single - 1) * 100):.1f}%)\")\n",
    "print(f\"Снижение overfitting: {abs(oob_score - accuracy_bagging):.4f}\")\n",
    "\n",
    "# Анализ важности признаков в Bagging\n",
    "bagging_importances = np.mean([estimator.feature_importances_ for estimator in bagging_classifier.estimators_], axis=0)\n",
    "top_bagging = np.argsort(bagging_importances)[-10:][::-1]\n",
    "\n",
    "print(f\"\\n=== ВАЖНОСТЬ ПРИЗНАКОВ В BAGGING (ТОП-10) ===\")\n",
    "for i, feat_idx in enumerate(top_bagging):\n",
    "    print(f\"{i+1}. {feature_names[feat_idx]}: {bagging_importances[feat_idx]:.4f}\")\n",
    "\n",
    "# Расширенная визуализация результатов Bagging\n",
    "fig_bagging = make_subplots(\n",
    "    rows=2, cols=2,\n",
    "    subplot_titles=['Метрики качества', 'Сравнение с одиночным деревом', \n",
    "                   'Важность признаков (топ-10)', 'Стабильность предсказаний'],\n",
    "    specs=[[{'type': 'bar'}, {'type': 'bar'}],\n",
    "           [{'type': 'bar'}, {'type': 'histogram'}]],\n",
    "    vertical_spacing=0.15,\n",
    "    horizontal_spacing=0.1\n",
    ")\n",
    "\n",
    "# График 1: Все метрики\n",
    "metrics = ['Accuracy', 'Precision', 'Recall', 'F1-Score', 'OOB Score']\n",
    "values = [accuracy_bagging, precision_bagging, recall_bagging, f1_bagging, oob_score]\n",
    "\n",
    "fig_bagging.add_trace(\n",
    "    go.Bar(x=metrics, y=values,\n",
    "           text=[f'{v:.3f}' for v in values],\n",
    "           textposition='auto',\n",
    "           marker_color=[COLOR_PALETTE['primary'], COLOR_PALETTE['success'], \n",
    "                        COLOR_PALETTE['warning'], COLOR_PALETTE['danger'], COLOR_PALETTE['info']],\n",
    "           name='Bagging',\n",
    "           showlegend=False),\n",
    "    row=1, col=1\n",
    ")\n",
    "\n",
    "# График 2: Сравнение с одиночным деревом\n",
    "comparison_models = ['Single Deep Tree', 'Bagging Ensemble']\n",
    "comparison_accuracy = [accuracy_single, accuracy_bagging]\n",
    "comparison_f1 = [f1_single, f1_bagging]\n",
    "\n",
    "fig_bagging.add_trace(\n",
    "    go.Bar(x=comparison_models, y=comparison_accuracy,\n",
    "           name='Accuracy',\n",
    "           marker_color=COLOR_PALETTE['primary'],\n",
    "           text=[f'{v:.3f}' for v in comparison_accuracy],\n",
    "           textposition='auto'),\n",
    "    row=1, col=2\n",
    ")\n",
    "\n",
    "fig_bagging.add_trace(\n",
    "    go.Bar(x=comparison_models, y=comparison_f1,\n",
    "           name='F1-Score',\n",
    "           marker_color=COLOR_PALETTE['secondary'],\n",
    "           text=[f'{v:.3f}' for v in comparison_f1],\n",
    "           textposition='auto'),\n",
    "    row=1, col=2\n",
    ")\n",
    "\n",
    "# График 3: Важность признаков\n",
    "top_names = [feature_names[i] for i in top_bagging]\n",
    "top_values = bagging_importances[top_bagging]\n",
    "\n",
    "fig_bagging.add_trace(\n",
    "    go.Bar(y=top_names, x=top_values, orientation='h',\n",
    "           text=[f'{v:.3f}' for v in top_values],\n",
    "           textposition='auto',\n",
    "           marker_color=COLOR_PALETTE['success'],\n",
    "           name='Важность',\n",
    "           showlegend=False),\n",
    "    row=2, col=1\n",
    ")\n",
    "\n",
    "# График 4: Анализ стабильности (дисперсии предсказаний между деревьями)\n",
    "# Безопасное получение предсказаний от всех деревьев\n",
    "try:\n",
    "    all_predictions = np.array([estimator.predict(X_test) for estimator in bagging_classifier.estimators_])\n",
    "    prediction_variance = np.var(all_predictions, axis=0)\n",
    "    \n",
    "    fig_bagging.add_trace(\n",
    "        go.Histogram(x=prediction_variance,\n",
    "                    nbinsx=30,\n",
    "                    name='Дисперсия предсказаний',\n",
    "                    marker_color=COLOR_PALETTE['warning'],\n",
    "                    showlegend=False),\n",
    "        row=2, col=2\n",
    "    )\n",
    "except Exception as e:\n",
    "    # Если возникает ошибка размерности, показываем распределение вероятностей обычных предсказаний\n",
    "    print(f\"Ошибка при анализе стабильности: {e}\")\n",
    "    fig_bagging.add_trace(\n",
    "        go.Histogram(x=y_pred_bagging,\n",
    "                    nbinsx=10,\n",
    "                    name='Распределение предсказаний',\n",
    "                    marker_color=COLOR_PALETTE['warning'],\n",
    "                    showlegend=False),\n",
    "        row=2, col=2\n",
    "    )\n",
    "\n",
    "fig_bagging.update_layout(\n",
    "    title=f'Детальный анализ Bagging на Breast Cancer датасете<br>'\n",
    "          f'Улучшение accuracy: +{((accuracy_bagging/accuracy_single - 1) * 100):.1f}% относительно одиночного дерева',\n",
    "    height=800,\n",
    "    showlegend=True\n",
    ")\n",
    "\n",
    "# Обновление осей\n",
    "fig_bagging.update_yaxes(title_text=\"Значение метрики\", row=1, col=1)\n",
    "fig_bagging.update_yaxes(title_text=\"Значение метрики\", row=1, col=2)\n",
    "fig_bagging.update_xaxes(title_text=\"Важность признака\", row=2, col=1)\n",
    "fig_bagging.update_xaxes(title_text=\"Дисперсия предсказаний\", row=2, col=2)\n",
    "fig_bagging.update_yaxes(title_text=\"Частота\", row=2, col=2)\n",
    "\n",
    "fig_bagging.show()"
   ]
  },
  {
   "cell_type": "code",
   "execution_count": 13,
   "id": "3a6f5935",
   "metadata": {},
   "outputs": [
    {
     "name": "stdout",
     "output_type": "stream",
     "text": [
      "\n",
      "=== СРАВНЕНИЕ ===\n",
      "Одиночное глубокое дерево: 0.9181\n",
      "Bagging (50 деревьев):     0.9298\n",
      "Улучшение:                 0.0117\n"
     ]
    }
   ],
   "source": [
    "# Сравнение с одиночным глубоким деревом\n",
    "single_deep_tree = DecisionTreeClassifier(max_depth=None, random_state=42)\n",
    "single_deep_tree.fit(X_train, y_train)\n",
    "y_pred_single = single_deep_tree.predict(X_test)\n",
    "accuracy_single = accuracy_score(y_test, y_pred_single)\n",
    "\n",
    "print(f\"\\n=== СРАВНЕНИЕ ===\")\n",
    "print(f\"Одиночное глубокое дерево: {accuracy_single:.4f}\")\n",
    "print(f\"Bagging (50 деревьев):     {accuracy_bagging:.4f}\")\n",
    "print(f\"Улучшение:                 {accuracy_bagging - accuracy_single:.4f}\")"
   ]
  },
  {
   "cell_type": "markdown",
   "id": "1efc1d65",
   "metadata": {},
   "source": [
    "## 7. Теория Random Forest\n",
    "\n",
    "### 7.1 Что такое Random Forest?\n",
    "\n",
    "**Random Forest** — это усовершенствованная версия Bagging, которая вводит дополнительную случайность при выборе признаков для разбиения в каждом узле дерева.\n",
    "\n",
    "### 7.2 Ключевые отличия от Bagging\n",
    "\n",
    "1. **Bootstrap sampling** — как в Bagging\n",
    "2. **Случайный выбор признаков** — в каждом узле рассматривается только случайное подмножество признаков\n",
    "\n",
    "### 7.3 Алгоритм Random Forest\n",
    "\n",
    "1. **Для каждого дерева** $t = 1, 2, ..., T$:\n",
    "   - Создать bootstrap выборку $D_t$ размера $N$\n",
    "   - **Для каждого узла дерева**:\n",
    "     - Случайно выбрать $m \\ll d$ признаков из всех $d$ признаков  \n",
    "     - Найти лучшее разбиение среди этих $m$ признаков\n",
    "     - Разделить узел по найденному признаку\n",
    "2. **Агрегировать предсказания** всех деревьев\n",
    "\n",
    "### 7.4 Выбор количества признаков\n",
    "\n",
    "Рекомендуемые значения для $m$:\n",
    "- **Классификация**: $m = \\sqrt{d}$  \n",
    "- **Регрессия**: $m = \\frac{d}{3}$\n",
    "\n",
    "где $d$ — общее количество признаков.\n",
    "\n",
    "### 7.5 Математическое обоснование\n",
    "\n",
    "Random Forest уменьшает корреляцию между деревьями, что приводит к лучшему снижению дисперсии.\n",
    "\n",
    "Если корреляция между деревьями в Bagging равна $\\rho$, то в Random Forest она становится меньше: $\\rho_{RF} < \\rho_{Bagging}$\n",
    "\n",
    "Следовательно:\n",
    "$$\\text{Var}(RF) = \\rho_{RF}\\sigma^2 + \\frac{(1-\\rho_{RF})\\sigma^2}{T} < \\text{Var}(Bagging)$$\n",
    "\n",
    "### 7.6 Out-of-Bag Error в Random Forest\n",
    "\n",
    "OOB error вычисляется аналогично Bagging, но учитывает случайный выбор признаков:\n",
    "\n",
    "Для объекта $x_i$ используются только те деревья, которые:\n",
    "1. Не содержали $x_i$ в обучающей выборке  \n",
    "2. В момент предсказания имеют доступ к нужным признакам\n",
    "\n",
    "### 7.7 Важность признаков\n",
    "\n",
    "Random Forest предоставляет два способа измерения важности признаков:\n",
    "\n",
    "#### 7.7.1 Mean Decrease Impurity (MDI)\n",
    "$$Importance_j = \\frac{1}{T} \\sum_{t=1}^T \\sum_{nodes} w_t \\cdot \\Delta I_t \\cdot \\mathbb{I}[feature_t = j]$$\n",
    "\n",
    "где:\n",
    "- $w_t$ — доля объектов в узле $t$  \n",
    "- $\\Delta I_t$ — уменьшение impurity в узле $t$\n",
    "- $\\mathbb{I}[feature_t = j]$ — индикатор использования признака $j$\n",
    "\n",
    "#### 7.7.2 Mean Decrease Accuracy (MDA)  \n",
    "1. Вычислить OOB accuracy исходной модели\n",
    "2. Для каждого признака $j$:\n",
    "   - Перемешать значения признака $j$ в OOB выборках\n",
    "   - Вычислить новый OOB accuracy\n",
    "   - $Importance_j = OOB_{original} - OOB_{permuted}$\n",
    "\n",
    "### 7.8 Плюсы и минусы Random Forest\n",
    "\n",
    "#### Преимущества:\n",
    "- **Меньше переобучения** по сравнению с одиночными деревьями\n",
    "- **Лучше чем Bagging** за счет уменьшения корреляции\n",
    "- **Встроенная валидация** через OOB error\n",
    "- **Важность признаков** автоматически вычисляется\n",
    "- **Работает \"из коробки\"** — мало гиперпараметров для настройки\n",
    "- **Робустность** к выбросам и шуму\n",
    "\n",
    "#### Недостатки:\n",
    "- **Потеря интерпретируемости** по сравнению с одиночным деревом\n",
    "- **Может переобучаться** на очень зашумленных данных\n",
    "- **Смещение к многозначным признакам** в измерении важности  \n",
    "- **Большие требования к памяти** для хранения всех деревьев\n",
    "- **Не очень хорош** для экстраполяции за пределы обучающих данных"
   ]
  },
  {
   "cell_type": "markdown",
   "id": "9997ea62",
   "metadata": {},
   "source": [
    "## 8. Практическая реализация Random Forest"
   ]
  },
  {
   "cell_type": "code",
   "execution_count": 14,
   "id": "0cba36f2",
   "metadata": {},
   "outputs": [
    {
     "name": "stdout",
     "output_type": "stream",
     "text": [
      "=== НАСТРОЙКИ RANDOM FOREST ===\n",
      "Количество деревьев: 150\n",
      "Максимальная глубина: 8\n",
      "Количество признаков для разбиения: sqrt\n",
      "Минимум образцов для разбиения: 5\n",
      "Минимум образцов в листе: 2\n",
      "Процент образцов для каждого дерева: 80%\n",
      "Балансировка классов: balanced\n"
     ]
    },
    {
     "data": {
      "text/html": [
       "<style>#sk-container-id-2 {\n",
       "  /* Definition of color scheme common for light and dark mode */\n",
       "  --sklearn-color-text: #000;\n",
       "  --sklearn-color-text-muted: #666;\n",
       "  --sklearn-color-line: gray;\n",
       "  /* Definition of color scheme for unfitted estimators */\n",
       "  --sklearn-color-unfitted-level-0: #fff5e6;\n",
       "  --sklearn-color-unfitted-level-1: #f6e4d2;\n",
       "  --sklearn-color-unfitted-level-2: #ffe0b3;\n",
       "  --sklearn-color-unfitted-level-3: chocolate;\n",
       "  /* Definition of color scheme for fitted estimators */\n",
       "  --sklearn-color-fitted-level-0: #f0f8ff;\n",
       "  --sklearn-color-fitted-level-1: #d4ebff;\n",
       "  --sklearn-color-fitted-level-2: #b3dbfd;\n",
       "  --sklearn-color-fitted-level-3: cornflowerblue;\n",
       "\n",
       "  /* Specific color for light theme */\n",
       "  --sklearn-color-text-on-default-background: var(--sg-text-color, var(--theme-code-foreground, var(--jp-content-font-color1, black)));\n",
       "  --sklearn-color-background: var(--sg-background-color, var(--theme-background, var(--jp-layout-color0, white)));\n",
       "  --sklearn-color-border-box: var(--sg-text-color, var(--theme-code-foreground, var(--jp-content-font-color1, black)));\n",
       "  --sklearn-color-icon: #696969;\n",
       "\n",
       "  @media (prefers-color-scheme: dark) {\n",
       "    /* Redefinition of color scheme for dark theme */\n",
       "    --sklearn-color-text-on-default-background: var(--sg-text-color, var(--theme-code-foreground, var(--jp-content-font-color1, white)));\n",
       "    --sklearn-color-background: var(--sg-background-color, var(--theme-background, var(--jp-layout-color0, #111)));\n",
       "    --sklearn-color-border-box: var(--sg-text-color, var(--theme-code-foreground, var(--jp-content-font-color1, white)));\n",
       "    --sklearn-color-icon: #878787;\n",
       "  }\n",
       "}\n",
       "\n",
       "#sk-container-id-2 {\n",
       "  color: var(--sklearn-color-text);\n",
       "}\n",
       "\n",
       "#sk-container-id-2 pre {\n",
       "  padding: 0;\n",
       "}\n",
       "\n",
       "#sk-container-id-2 input.sk-hidden--visually {\n",
       "  border: 0;\n",
       "  clip: rect(1px 1px 1px 1px);\n",
       "  clip: rect(1px, 1px, 1px, 1px);\n",
       "  height: 1px;\n",
       "  margin: -1px;\n",
       "  overflow: hidden;\n",
       "  padding: 0;\n",
       "  position: absolute;\n",
       "  width: 1px;\n",
       "}\n",
       "\n",
       "#sk-container-id-2 div.sk-dashed-wrapped {\n",
       "  border: 1px dashed var(--sklearn-color-line);\n",
       "  margin: 0 0.4em 0.5em 0.4em;\n",
       "  box-sizing: border-box;\n",
       "  padding-bottom: 0.4em;\n",
       "  background-color: var(--sklearn-color-background);\n",
       "}\n",
       "\n",
       "#sk-container-id-2 div.sk-container {\n",
       "  /* jupyter's `normalize.less` sets `[hidden] { display: none; }`\n",
       "     but bootstrap.min.css set `[hidden] { display: none !important; }`\n",
       "     so we also need the `!important` here to be able to override the\n",
       "     default hidden behavior on the sphinx rendered scikit-learn.org.\n",
       "     See: https://github.com/scikit-learn/scikit-learn/issues/21755 */\n",
       "  display: inline-block !important;\n",
       "  position: relative;\n",
       "}\n",
       "\n",
       "#sk-container-id-2 div.sk-text-repr-fallback {\n",
       "  display: none;\n",
       "}\n",
       "\n",
       "div.sk-parallel-item,\n",
       "div.sk-serial,\n",
       "div.sk-item {\n",
       "  /* draw centered vertical line to link estimators */\n",
       "  background-image: linear-gradient(var(--sklearn-color-text-on-default-background), var(--sklearn-color-text-on-default-background));\n",
       "  background-size: 2px 100%;\n",
       "  background-repeat: no-repeat;\n",
       "  background-position: center center;\n",
       "}\n",
       "\n",
       "/* Parallel-specific style estimator block */\n",
       "\n",
       "#sk-container-id-2 div.sk-parallel-item::after {\n",
       "  content: \"\";\n",
       "  width: 100%;\n",
       "  border-bottom: 2px solid var(--sklearn-color-text-on-default-background);\n",
       "  flex-grow: 1;\n",
       "}\n",
       "\n",
       "#sk-container-id-2 div.sk-parallel {\n",
       "  display: flex;\n",
       "  align-items: stretch;\n",
       "  justify-content: center;\n",
       "  background-color: var(--sklearn-color-background);\n",
       "  position: relative;\n",
       "}\n",
       "\n",
       "#sk-container-id-2 div.sk-parallel-item {\n",
       "  display: flex;\n",
       "  flex-direction: column;\n",
       "}\n",
       "\n",
       "#sk-container-id-2 div.sk-parallel-item:first-child::after {\n",
       "  align-self: flex-end;\n",
       "  width: 50%;\n",
       "}\n",
       "\n",
       "#sk-container-id-2 div.sk-parallel-item:last-child::after {\n",
       "  align-self: flex-start;\n",
       "  width: 50%;\n",
       "}\n",
       "\n",
       "#sk-container-id-2 div.sk-parallel-item:only-child::after {\n",
       "  width: 0;\n",
       "}\n",
       "\n",
       "/* Serial-specific style estimator block */\n",
       "\n",
       "#sk-container-id-2 div.sk-serial {\n",
       "  display: flex;\n",
       "  flex-direction: column;\n",
       "  align-items: center;\n",
       "  background-color: var(--sklearn-color-background);\n",
       "  padding-right: 1em;\n",
       "  padding-left: 1em;\n",
       "}\n",
       "\n",
       "\n",
       "/* Toggleable style: style used for estimator/Pipeline/ColumnTransformer box that is\n",
       "clickable and can be expanded/collapsed.\n",
       "- Pipeline and ColumnTransformer use this feature and define the default style\n",
       "- Estimators will overwrite some part of the style using the `sk-estimator` class\n",
       "*/\n",
       "\n",
       "/* Pipeline and ColumnTransformer style (default) */\n",
       "\n",
       "#sk-container-id-2 div.sk-toggleable {\n",
       "  /* Default theme specific background. It is overwritten whether we have a\n",
       "  specific estimator or a Pipeline/ColumnTransformer */\n",
       "  background-color: var(--sklearn-color-background);\n",
       "}\n",
       "\n",
       "/* Toggleable label */\n",
       "#sk-container-id-2 label.sk-toggleable__label {\n",
       "  cursor: pointer;\n",
       "  display: flex;\n",
       "  width: 100%;\n",
       "  margin-bottom: 0;\n",
       "  padding: 0.5em;\n",
       "  box-sizing: border-box;\n",
       "  text-align: center;\n",
       "  align-items: start;\n",
       "  justify-content: space-between;\n",
       "  gap: 0.5em;\n",
       "}\n",
       "\n",
       "#sk-container-id-2 label.sk-toggleable__label .caption {\n",
       "  font-size: 0.6rem;\n",
       "  font-weight: lighter;\n",
       "  color: var(--sklearn-color-text-muted);\n",
       "}\n",
       "\n",
       "#sk-container-id-2 label.sk-toggleable__label-arrow:before {\n",
       "  /* Arrow on the left of the label */\n",
       "  content: \"▸\";\n",
       "  float: left;\n",
       "  margin-right: 0.25em;\n",
       "  color: var(--sklearn-color-icon);\n",
       "}\n",
       "\n",
       "#sk-container-id-2 label.sk-toggleable__label-arrow:hover:before {\n",
       "  color: var(--sklearn-color-text);\n",
       "}\n",
       "\n",
       "/* Toggleable content - dropdown */\n",
       "\n",
       "#sk-container-id-2 div.sk-toggleable__content {\n",
       "  display: none;\n",
       "  text-align: left;\n",
       "  /* unfitted */\n",
       "  background-color: var(--sklearn-color-unfitted-level-0);\n",
       "}\n",
       "\n",
       "#sk-container-id-2 div.sk-toggleable__content.fitted {\n",
       "  /* fitted */\n",
       "  background-color: var(--sklearn-color-fitted-level-0);\n",
       "}\n",
       "\n",
       "#sk-container-id-2 div.sk-toggleable__content pre {\n",
       "  margin: 0.2em;\n",
       "  border-radius: 0.25em;\n",
       "  color: var(--sklearn-color-text);\n",
       "  /* unfitted */\n",
       "  background-color: var(--sklearn-color-unfitted-level-0);\n",
       "}\n",
       "\n",
       "#sk-container-id-2 div.sk-toggleable__content.fitted pre {\n",
       "  /* unfitted */\n",
       "  background-color: var(--sklearn-color-fitted-level-0);\n",
       "}\n",
       "\n",
       "#sk-container-id-2 input.sk-toggleable__control:checked~div.sk-toggleable__content {\n",
       "  /* Expand drop-down */\n",
       "  display: block;\n",
       "  width: 100%;\n",
       "  overflow: visible;\n",
       "}\n",
       "\n",
       "#sk-container-id-2 input.sk-toggleable__control:checked~label.sk-toggleable__label-arrow:before {\n",
       "  content: \"▾\";\n",
       "}\n",
       "\n",
       "/* Pipeline/ColumnTransformer-specific style */\n",
       "\n",
       "#sk-container-id-2 div.sk-label input.sk-toggleable__control:checked~label.sk-toggleable__label {\n",
       "  color: var(--sklearn-color-text);\n",
       "  background-color: var(--sklearn-color-unfitted-level-2);\n",
       "}\n",
       "\n",
       "#sk-container-id-2 div.sk-label.fitted input.sk-toggleable__control:checked~label.sk-toggleable__label {\n",
       "  background-color: var(--sklearn-color-fitted-level-2);\n",
       "}\n",
       "\n",
       "/* Estimator-specific style */\n",
       "\n",
       "/* Colorize estimator box */\n",
       "#sk-container-id-2 div.sk-estimator input.sk-toggleable__control:checked~label.sk-toggleable__label {\n",
       "  /* unfitted */\n",
       "  background-color: var(--sklearn-color-unfitted-level-2);\n",
       "}\n",
       "\n",
       "#sk-container-id-2 div.sk-estimator.fitted input.sk-toggleable__control:checked~label.sk-toggleable__label {\n",
       "  /* fitted */\n",
       "  background-color: var(--sklearn-color-fitted-level-2);\n",
       "}\n",
       "\n",
       "#sk-container-id-2 div.sk-label label.sk-toggleable__label,\n",
       "#sk-container-id-2 div.sk-label label {\n",
       "  /* The background is the default theme color */\n",
       "  color: var(--sklearn-color-text-on-default-background);\n",
       "}\n",
       "\n",
       "/* On hover, darken the color of the background */\n",
       "#sk-container-id-2 div.sk-label:hover label.sk-toggleable__label {\n",
       "  color: var(--sklearn-color-text);\n",
       "  background-color: var(--sklearn-color-unfitted-level-2);\n",
       "}\n",
       "\n",
       "/* Label box, darken color on hover, fitted */\n",
       "#sk-container-id-2 div.sk-label.fitted:hover label.sk-toggleable__label.fitted {\n",
       "  color: var(--sklearn-color-text);\n",
       "  background-color: var(--sklearn-color-fitted-level-2);\n",
       "}\n",
       "\n",
       "/* Estimator label */\n",
       "\n",
       "#sk-container-id-2 div.sk-label label {\n",
       "  font-family: monospace;\n",
       "  font-weight: bold;\n",
       "  display: inline-block;\n",
       "  line-height: 1.2em;\n",
       "}\n",
       "\n",
       "#sk-container-id-2 div.sk-label-container {\n",
       "  text-align: center;\n",
       "}\n",
       "\n",
       "/* Estimator-specific */\n",
       "#sk-container-id-2 div.sk-estimator {\n",
       "  font-family: monospace;\n",
       "  border: 1px dotted var(--sklearn-color-border-box);\n",
       "  border-radius: 0.25em;\n",
       "  box-sizing: border-box;\n",
       "  margin-bottom: 0.5em;\n",
       "  /* unfitted */\n",
       "  background-color: var(--sklearn-color-unfitted-level-0);\n",
       "}\n",
       "\n",
       "#sk-container-id-2 div.sk-estimator.fitted {\n",
       "  /* fitted */\n",
       "  background-color: var(--sklearn-color-fitted-level-0);\n",
       "}\n",
       "\n",
       "/* on hover */\n",
       "#sk-container-id-2 div.sk-estimator:hover {\n",
       "  /* unfitted */\n",
       "  background-color: var(--sklearn-color-unfitted-level-2);\n",
       "}\n",
       "\n",
       "#sk-container-id-2 div.sk-estimator.fitted:hover {\n",
       "  /* fitted */\n",
       "  background-color: var(--sklearn-color-fitted-level-2);\n",
       "}\n",
       "\n",
       "/* Specification for estimator info (e.g. \"i\" and \"?\") */\n",
       "\n",
       "/* Common style for \"i\" and \"?\" */\n",
       "\n",
       ".sk-estimator-doc-link,\n",
       "a:link.sk-estimator-doc-link,\n",
       "a:visited.sk-estimator-doc-link {\n",
       "  float: right;\n",
       "  font-size: smaller;\n",
       "  line-height: 1em;\n",
       "  font-family: monospace;\n",
       "  background-color: var(--sklearn-color-background);\n",
       "  border-radius: 1em;\n",
       "  height: 1em;\n",
       "  width: 1em;\n",
       "  text-decoration: none !important;\n",
       "  margin-left: 0.5em;\n",
       "  text-align: center;\n",
       "  /* unfitted */\n",
       "  border: var(--sklearn-color-unfitted-level-1) 1pt solid;\n",
       "  color: var(--sklearn-color-unfitted-level-1);\n",
       "}\n",
       "\n",
       ".sk-estimator-doc-link.fitted,\n",
       "a:link.sk-estimator-doc-link.fitted,\n",
       "a:visited.sk-estimator-doc-link.fitted {\n",
       "  /* fitted */\n",
       "  border: var(--sklearn-color-fitted-level-1) 1pt solid;\n",
       "  color: var(--sklearn-color-fitted-level-1);\n",
       "}\n",
       "\n",
       "/* On hover */\n",
       "div.sk-estimator:hover .sk-estimator-doc-link:hover,\n",
       ".sk-estimator-doc-link:hover,\n",
       "div.sk-label-container:hover .sk-estimator-doc-link:hover,\n",
       ".sk-estimator-doc-link:hover {\n",
       "  /* unfitted */\n",
       "  background-color: var(--sklearn-color-unfitted-level-3);\n",
       "  color: var(--sklearn-color-background);\n",
       "  text-decoration: none;\n",
       "}\n",
       "\n",
       "div.sk-estimator.fitted:hover .sk-estimator-doc-link.fitted:hover,\n",
       ".sk-estimator-doc-link.fitted:hover,\n",
       "div.sk-label-container:hover .sk-estimator-doc-link.fitted:hover,\n",
       ".sk-estimator-doc-link.fitted:hover {\n",
       "  /* fitted */\n",
       "  background-color: var(--sklearn-color-fitted-level-3);\n",
       "  color: var(--sklearn-color-background);\n",
       "  text-decoration: none;\n",
       "}\n",
       "\n",
       "/* Span, style for the box shown on hovering the info icon */\n",
       ".sk-estimator-doc-link span {\n",
       "  display: none;\n",
       "  z-index: 9999;\n",
       "  position: relative;\n",
       "  font-weight: normal;\n",
       "  right: .2ex;\n",
       "  padding: .5ex;\n",
       "  margin: .5ex;\n",
       "  width: min-content;\n",
       "  min-width: 20ex;\n",
       "  max-width: 50ex;\n",
       "  color: var(--sklearn-color-text);\n",
       "  box-shadow: 2pt 2pt 4pt #999;\n",
       "  /* unfitted */\n",
       "  background: var(--sklearn-color-unfitted-level-0);\n",
       "  border: .5pt solid var(--sklearn-color-unfitted-level-3);\n",
       "}\n",
       "\n",
       ".sk-estimator-doc-link.fitted span {\n",
       "  /* fitted */\n",
       "  background: var(--sklearn-color-fitted-level-0);\n",
       "  border: var(--sklearn-color-fitted-level-3);\n",
       "}\n",
       "\n",
       ".sk-estimator-doc-link:hover span {\n",
       "  display: block;\n",
       "}\n",
       "\n",
       "/* \"?\"-specific style due to the `<a>` HTML tag */\n",
       "\n",
       "#sk-container-id-2 a.estimator_doc_link {\n",
       "  float: right;\n",
       "  font-size: 1rem;\n",
       "  line-height: 1em;\n",
       "  font-family: monospace;\n",
       "  background-color: var(--sklearn-color-background);\n",
       "  border-radius: 1rem;\n",
       "  height: 1rem;\n",
       "  width: 1rem;\n",
       "  text-decoration: none;\n",
       "  /* unfitted */\n",
       "  color: var(--sklearn-color-unfitted-level-1);\n",
       "  border: var(--sklearn-color-unfitted-level-1) 1pt solid;\n",
       "}\n",
       "\n",
       "#sk-container-id-2 a.estimator_doc_link.fitted {\n",
       "  /* fitted */\n",
       "  border: var(--sklearn-color-fitted-level-1) 1pt solid;\n",
       "  color: var(--sklearn-color-fitted-level-1);\n",
       "}\n",
       "\n",
       "/* On hover */\n",
       "#sk-container-id-2 a.estimator_doc_link:hover {\n",
       "  /* unfitted */\n",
       "  background-color: var(--sklearn-color-unfitted-level-3);\n",
       "  color: var(--sklearn-color-background);\n",
       "  text-decoration: none;\n",
       "}\n",
       "\n",
       "#sk-container-id-2 a.estimator_doc_link.fitted:hover {\n",
       "  /* fitted */\n",
       "  background-color: var(--sklearn-color-fitted-level-3);\n",
       "}\n",
       "\n",
       ".estimator-table summary {\n",
       "    padding: .5rem;\n",
       "    font-family: monospace;\n",
       "    cursor: pointer;\n",
       "}\n",
       "\n",
       ".estimator-table details[open] {\n",
       "    padding-left: 0.1rem;\n",
       "    padding-right: 0.1rem;\n",
       "    padding-bottom: 0.3rem;\n",
       "}\n",
       "\n",
       ".estimator-table .parameters-table {\n",
       "    margin-left: auto !important;\n",
       "    margin-right: auto !important;\n",
       "}\n",
       "\n",
       ".estimator-table .parameters-table tr:nth-child(odd) {\n",
       "    background-color: #fff;\n",
       "}\n",
       "\n",
       ".estimator-table .parameters-table tr:nth-child(even) {\n",
       "    background-color: #f6f6f6;\n",
       "}\n",
       "\n",
       ".estimator-table .parameters-table tr:hover {\n",
       "    background-color: #e0e0e0;\n",
       "}\n",
       "\n",
       ".estimator-table table td {\n",
       "    border: 1px solid rgba(106, 105, 104, 0.232);\n",
       "}\n",
       "\n",
       ".user-set td {\n",
       "    color:rgb(255, 94, 0);\n",
       "    text-align: left;\n",
       "}\n",
       "\n",
       ".user-set td.value pre {\n",
       "    color:rgb(255, 94, 0) !important;\n",
       "    background-color: transparent !important;\n",
       "}\n",
       "\n",
       ".default td {\n",
       "    color: black;\n",
       "    text-align: left;\n",
       "}\n",
       "\n",
       ".user-set td i,\n",
       ".default td i {\n",
       "    color: black;\n",
       "}\n",
       "\n",
       ".copy-paste-icon {\n",
       "    background-image: url(data:image/svg+xml;base64,PHN2ZyB4bWxucz0iaHR0cDovL3d3dy53My5vcmcvMjAwMC9zdmciIHZpZXdCb3g9IjAgMCA0NDggNTEyIj48IS0tIUZvbnQgQXdlc29tZSBGcmVlIDYuNy4yIGJ5IEBmb250YXdlc29tZSAtIGh0dHBzOi8vZm9udGF3ZXNvbWUuY29tIExpY2Vuc2UgLSBodHRwczovL2ZvbnRhd2Vzb21lLmNvbS9saWNlbnNlL2ZyZWUgQ29weXJpZ2h0IDIwMjUgRm9udGljb25zLCBJbmMuLS0+PHBhdGggZD0iTTIwOCAwTDMzMi4xIDBjMTIuNyAwIDI0LjkgNS4xIDMzLjkgMTQuMWw2Ny45IDY3LjljOSA5IDE0LjEgMjEuMiAxNC4xIDMzLjlMNDQ4IDMzNmMwIDI2LjUtMjEuNSA0OC00OCA0OGwtMTkyIDBjLTI2LjUgMC00OC0yMS41LTQ4LTQ4bDAtMjg4YzAtMjYuNSAyMS41LTQ4IDQ4LTQ4ek00OCAxMjhsODAgMCAwIDY0LTY0IDAgMCAyNTYgMTkyIDAgMC0zMiA2NCAwIDAgNDhjMCAyNi41LTIxLjUgNDgtNDggNDhMNDggNTEyYy0yNi41IDAtNDgtMjEuNS00OC00OEwwIDE3NmMwLTI2LjUgMjEuNS00OCA0OC00OHoiLz48L3N2Zz4=);\n",
       "    background-repeat: no-repeat;\n",
       "    background-size: 14px 14px;\n",
       "    background-position: 0;\n",
       "    display: inline-block;\n",
       "    width: 14px;\n",
       "    height: 14px;\n",
       "    cursor: pointer;\n",
       "}\n",
       "</style><body><div id=\"sk-container-id-2\" class=\"sk-top-container\"><div class=\"sk-text-repr-fallback\"><pre>RandomForestClassifier(class_weight=&#x27;balanced&#x27;, max_depth=8, max_samples=0.8,\n",
       "                       min_samples_leaf=2, min_samples_split=5,\n",
       "                       n_estimators=150, n_jobs=-1, oob_score=True,\n",
       "                       random_state=42)</pre><b>In a Jupyter environment, please rerun this cell to show the HTML representation or trust the notebook. <br />On GitHub, the HTML representation is unable to render, please try loading this page with nbviewer.org.</b></div><div class=\"sk-container\" hidden><div class=\"sk-item\"><div class=\"sk-estimator fitted sk-toggleable\"><input class=\"sk-toggleable__control sk-hidden--visually\" id=\"sk-estimator-id-4\" type=\"checkbox\" checked><label for=\"sk-estimator-id-4\" class=\"sk-toggleable__label fitted sk-toggleable__label-arrow\"><div><div>RandomForestClassifier</div></div><div><a class=\"sk-estimator-doc-link fitted\" rel=\"noreferrer\" target=\"_blank\" href=\"https://scikit-learn.org/1.7/modules/generated/sklearn.ensemble.RandomForestClassifier.html\">?<span>Documentation for RandomForestClassifier</span></a><span class=\"sk-estimator-doc-link fitted\">i<span>Fitted</span></span></div></label><div class=\"sk-toggleable__content fitted\" data-param-prefix=\"\">\n",
       "        <div class=\"estimator-table\">\n",
       "            <details>\n",
       "                <summary>Parameters</summary>\n",
       "                <table class=\"parameters-table\">\n",
       "                  <tbody>\n",
       "                    \n",
       "        <tr class=\"user-set\">\n",
       "            <td><i class=\"copy-paste-icon\"\n",
       "                 onclick=\"copyToClipboard('n_estimators',\n",
       "                          this.parentElement.nextElementSibling)\"\n",
       "            ></i></td>\n",
       "            <td class=\"param\">n_estimators&nbsp;</td>\n",
       "            <td class=\"value\">150</td>\n",
       "        </tr>\n",
       "    \n",
       "\n",
       "        <tr class=\"default\">\n",
       "            <td><i class=\"copy-paste-icon\"\n",
       "                 onclick=\"copyToClipboard('criterion',\n",
       "                          this.parentElement.nextElementSibling)\"\n",
       "            ></i></td>\n",
       "            <td class=\"param\">criterion&nbsp;</td>\n",
       "            <td class=\"value\">&#x27;gini&#x27;</td>\n",
       "        </tr>\n",
       "    \n",
       "\n",
       "        <tr class=\"user-set\">\n",
       "            <td><i class=\"copy-paste-icon\"\n",
       "                 onclick=\"copyToClipboard('max_depth',\n",
       "                          this.parentElement.nextElementSibling)\"\n",
       "            ></i></td>\n",
       "            <td class=\"param\">max_depth&nbsp;</td>\n",
       "            <td class=\"value\">8</td>\n",
       "        </tr>\n",
       "    \n",
       "\n",
       "        <tr class=\"user-set\">\n",
       "            <td><i class=\"copy-paste-icon\"\n",
       "                 onclick=\"copyToClipboard('min_samples_split',\n",
       "                          this.parentElement.nextElementSibling)\"\n",
       "            ></i></td>\n",
       "            <td class=\"param\">min_samples_split&nbsp;</td>\n",
       "            <td class=\"value\">5</td>\n",
       "        </tr>\n",
       "    \n",
       "\n",
       "        <tr class=\"user-set\">\n",
       "            <td><i class=\"copy-paste-icon\"\n",
       "                 onclick=\"copyToClipboard('min_samples_leaf',\n",
       "                          this.parentElement.nextElementSibling)\"\n",
       "            ></i></td>\n",
       "            <td class=\"param\">min_samples_leaf&nbsp;</td>\n",
       "            <td class=\"value\">2</td>\n",
       "        </tr>\n",
       "    \n",
       "\n",
       "        <tr class=\"default\">\n",
       "            <td><i class=\"copy-paste-icon\"\n",
       "                 onclick=\"copyToClipboard('min_weight_fraction_leaf',\n",
       "                          this.parentElement.nextElementSibling)\"\n",
       "            ></i></td>\n",
       "            <td class=\"param\">min_weight_fraction_leaf&nbsp;</td>\n",
       "            <td class=\"value\">0.0</td>\n",
       "        </tr>\n",
       "    \n",
       "\n",
       "        <tr class=\"default\">\n",
       "            <td><i class=\"copy-paste-icon\"\n",
       "                 onclick=\"copyToClipboard('max_features',\n",
       "                          this.parentElement.nextElementSibling)\"\n",
       "            ></i></td>\n",
       "            <td class=\"param\">max_features&nbsp;</td>\n",
       "            <td class=\"value\">&#x27;sqrt&#x27;</td>\n",
       "        </tr>\n",
       "    \n",
       "\n",
       "        <tr class=\"default\">\n",
       "            <td><i class=\"copy-paste-icon\"\n",
       "                 onclick=\"copyToClipboard('max_leaf_nodes',\n",
       "                          this.parentElement.nextElementSibling)\"\n",
       "            ></i></td>\n",
       "            <td class=\"param\">max_leaf_nodes&nbsp;</td>\n",
       "            <td class=\"value\">None</td>\n",
       "        </tr>\n",
       "    \n",
       "\n",
       "        <tr class=\"default\">\n",
       "            <td><i class=\"copy-paste-icon\"\n",
       "                 onclick=\"copyToClipboard('min_impurity_decrease',\n",
       "                          this.parentElement.nextElementSibling)\"\n",
       "            ></i></td>\n",
       "            <td class=\"param\">min_impurity_decrease&nbsp;</td>\n",
       "            <td class=\"value\">0.0</td>\n",
       "        </tr>\n",
       "    \n",
       "\n",
       "        <tr class=\"default\">\n",
       "            <td><i class=\"copy-paste-icon\"\n",
       "                 onclick=\"copyToClipboard('bootstrap',\n",
       "                          this.parentElement.nextElementSibling)\"\n",
       "            ></i></td>\n",
       "            <td class=\"param\">bootstrap&nbsp;</td>\n",
       "            <td class=\"value\">True</td>\n",
       "        </tr>\n",
       "    \n",
       "\n",
       "        <tr class=\"user-set\">\n",
       "            <td><i class=\"copy-paste-icon\"\n",
       "                 onclick=\"copyToClipboard('oob_score',\n",
       "                          this.parentElement.nextElementSibling)\"\n",
       "            ></i></td>\n",
       "            <td class=\"param\">oob_score&nbsp;</td>\n",
       "            <td class=\"value\">True</td>\n",
       "        </tr>\n",
       "    \n",
       "\n",
       "        <tr class=\"user-set\">\n",
       "            <td><i class=\"copy-paste-icon\"\n",
       "                 onclick=\"copyToClipboard('n_jobs',\n",
       "                          this.parentElement.nextElementSibling)\"\n",
       "            ></i></td>\n",
       "            <td class=\"param\">n_jobs&nbsp;</td>\n",
       "            <td class=\"value\">-1</td>\n",
       "        </tr>\n",
       "    \n",
       "\n",
       "        <tr class=\"user-set\">\n",
       "            <td><i class=\"copy-paste-icon\"\n",
       "                 onclick=\"copyToClipboard('random_state',\n",
       "                          this.parentElement.nextElementSibling)\"\n",
       "            ></i></td>\n",
       "            <td class=\"param\">random_state&nbsp;</td>\n",
       "            <td class=\"value\">42</td>\n",
       "        </tr>\n",
       "    \n",
       "\n",
       "        <tr class=\"default\">\n",
       "            <td><i class=\"copy-paste-icon\"\n",
       "                 onclick=\"copyToClipboard('verbose',\n",
       "                          this.parentElement.nextElementSibling)\"\n",
       "            ></i></td>\n",
       "            <td class=\"param\">verbose&nbsp;</td>\n",
       "            <td class=\"value\">0</td>\n",
       "        </tr>\n",
       "    \n",
       "\n",
       "        <tr class=\"default\">\n",
       "            <td><i class=\"copy-paste-icon\"\n",
       "                 onclick=\"copyToClipboard('warm_start',\n",
       "                          this.parentElement.nextElementSibling)\"\n",
       "            ></i></td>\n",
       "            <td class=\"param\">warm_start&nbsp;</td>\n",
       "            <td class=\"value\">False</td>\n",
       "        </tr>\n",
       "    \n",
       "\n",
       "        <tr class=\"user-set\">\n",
       "            <td><i class=\"copy-paste-icon\"\n",
       "                 onclick=\"copyToClipboard('class_weight',\n",
       "                          this.parentElement.nextElementSibling)\"\n",
       "            ></i></td>\n",
       "            <td class=\"param\">class_weight&nbsp;</td>\n",
       "            <td class=\"value\">&#x27;balanced&#x27;</td>\n",
       "        </tr>\n",
       "    \n",
       "\n",
       "        <tr class=\"default\">\n",
       "            <td><i class=\"copy-paste-icon\"\n",
       "                 onclick=\"copyToClipboard('ccp_alpha',\n",
       "                          this.parentElement.nextElementSibling)\"\n",
       "            ></i></td>\n",
       "            <td class=\"param\">ccp_alpha&nbsp;</td>\n",
       "            <td class=\"value\">0.0</td>\n",
       "        </tr>\n",
       "    \n",
       "\n",
       "        <tr class=\"user-set\">\n",
       "            <td><i class=\"copy-paste-icon\"\n",
       "                 onclick=\"copyToClipboard('max_samples',\n",
       "                          this.parentElement.nextElementSibling)\"\n",
       "            ></i></td>\n",
       "            <td class=\"param\">max_samples&nbsp;</td>\n",
       "            <td class=\"value\">0.8</td>\n",
       "        </tr>\n",
       "    \n",
       "\n",
       "        <tr class=\"default\">\n",
       "            <td><i class=\"copy-paste-icon\"\n",
       "                 onclick=\"copyToClipboard('monotonic_cst',\n",
       "                          this.parentElement.nextElementSibling)\"\n",
       "            ></i></td>\n",
       "            <td class=\"param\">monotonic_cst&nbsp;</td>\n",
       "            <td class=\"value\">None</td>\n",
       "        </tr>\n",
       "    \n",
       "                  </tbody>\n",
       "                </table>\n",
       "            </details>\n",
       "        </div>\n",
       "    </div></div></div></div></div><script>function copyToClipboard(text, element) {\n",
       "    // Get the parameter prefix from the closest toggleable content\n",
       "    const toggleableContent = element.closest('.sk-toggleable__content');\n",
       "    const paramPrefix = toggleableContent ? toggleableContent.dataset.paramPrefix : '';\n",
       "    const fullParamName = paramPrefix ? `${paramPrefix}${text}` : text;\n",
       "\n",
       "    const originalStyle = element.style;\n",
       "    const computedStyle = window.getComputedStyle(element);\n",
       "    const originalWidth = computedStyle.width;\n",
       "    const originalHTML = element.innerHTML.replace('Copied!', '');\n",
       "\n",
       "    navigator.clipboard.writeText(fullParamName)\n",
       "        .then(() => {\n",
       "            element.style.width = originalWidth;\n",
       "            element.style.color = 'green';\n",
       "            element.innerHTML = \"Copied!\";\n",
       "\n",
       "            setTimeout(() => {\n",
       "                element.innerHTML = originalHTML;\n",
       "                element.style = originalStyle;\n",
       "            }, 2000);\n",
       "        })\n",
       "        .catch(err => {\n",
       "            console.error('Failed to copy:', err);\n",
       "            element.style.color = 'red';\n",
       "            element.innerHTML = \"Failed!\";\n",
       "            setTimeout(() => {\n",
       "                element.innerHTML = originalHTML;\n",
       "                element.style = originalStyle;\n",
       "            }, 2000);\n",
       "        });\n",
       "    return false;\n",
       "}\n",
       "\n",
       "document.querySelectorAll('.fa-regular.fa-copy').forEach(function(element) {\n",
       "    const toggleableContent = element.closest('.sk-toggleable__content');\n",
       "    const paramPrefix = toggleableContent ? toggleableContent.dataset.paramPrefix : '';\n",
       "    const paramName = element.parentElement.nextElementSibling.textContent.trim();\n",
       "    const fullParamName = paramPrefix ? `${paramPrefix}${paramName}` : paramName;\n",
       "\n",
       "    element.setAttribute('title', fullParamName);\n",
       "});\n",
       "</script></body>"
      ],
      "text/plain": [
       "RandomForestClassifier(class_weight='balanced', max_depth=8, max_samples=0.8,\n",
       "                       min_samples_leaf=2, min_samples_split=5,\n",
       "                       n_estimators=150, n_jobs=-1, oob_score=True,\n",
       "                       random_state=42)"
      ]
     },
     "execution_count": 14,
     "metadata": {},
     "output_type": "execute_result"
    }
   ],
   "source": [
    "# Создание Random Forest классификатора\n",
    "rf_classifier = RandomForestClassifier(\n",
    "    n_estimators=150,              # Оптимальное количество деревьев для Breast Cancer\n",
    "    max_features='sqrt',           # sqrt(n_features) - оптимально для медицинских данных  \n",
    "    max_depth=8,                   # Ограниченная глубина для баланса bias-variance\n",
    "    min_samples_split=5,           # Минимум образцов для разбиения\n",
    "    min_samples_leaf=2,            # Минимум образцов в листе\n",
    "    max_samples=0.8,               # Используем 80% данных для каждого дерева\n",
    "    bootstrap=True,                # Использовать bootstrap выборки\n",
    "    oob_score=True,                # Вычислять OOB score\n",
    "    class_weight='balanced',       # Балансировка классов\n",
    "    random_state=42,\n",
    "    n_jobs=-1                      # Использовать все процессоры\n",
    ")\n",
    "\n",
    "print(\"=== НАСТРОЙКИ RANDOM FOREST ===\")\n",
    "print(f\"Количество деревьев: {rf_classifier.n_estimators}\")\n",
    "print(f\"Максимальная глубина: {rf_classifier.max_depth}\")\n",
    "print(f\"Количество признаков для разбиения: {rf_classifier.max_features}\")\n",
    "print(f\"Минимум образцов для разбиения: {rf_classifier.min_samples_split}\")\n",
    "print(f\"Минимум образцов в листе: {rf_classifier.min_samples_leaf}\")\n",
    "print(f\"Процент образцов для каждого дерева: {rf_classifier.max_samples * 100:.0f}%\")\n",
    "print(f\"Балансировка классов: {rf_classifier.class_weight}\")\n",
    "\n",
    "# Обучение модели\n",
    "rf_classifier.fit(X_train, y_train)"
   ]
  },
  {
   "cell_type": "code",
   "execution_count": 15,
   "id": "10089622",
   "metadata": {},
   "outputs": [
    {
     "name": "stdout",
     "output_type": "stream",
     "text": [
      "=== РЕЗУЛЬТАТЫ RANDOM FOREST НА BREAST CANCER ===\n",
      "Accuracy:  0.9298\n",
      "Precision: 0.9298\n",
      "Recall:    0.9298\n",
      "F1-score:  0.9298\n",
      "OOB Score: 0.9623\n",
      "\n",
      "=== СРАВНЕНИЕ С BAGGING (БЕЗ FEATURE SELECTION) ===\n",
      "Random Forest Accuracy: 0.9298\n",
      "Bagging Accuracy:       0.9474\n",
      "Преимущество RF:        -0.0175 (-1.9%)\n",
      "\n",
      "=== ВАЖНОСТЬ ПРИЗНАКОВ В RANDOM FOREST (ТОП-10) ===\n",
      "1. worst area: 0.1515\n",
      "2. worst perimeter: 0.1373\n",
      "3. worst concave points: 0.1120\n",
      "4. mean concave points: 0.0999\n",
      "5. worst radius: 0.0781\n",
      "6. mean radius: 0.0642\n",
      "7. mean perimeter: 0.0614\n",
      "8. mean concavity: 0.0593\n",
      "9. worst concavity: 0.0350\n",
      "10. mean area: 0.0240\n",
      "\n",
      "Корреляция важности признаков между RF и Bagging: 0.782\n",
      "\n",
      "=== СРАВНЕНИЕ С BAGGING (БЕЗ FEATURE SELECTION) ===\n",
      "Random Forest Accuracy: 0.9298\n",
      "Bagging Accuracy:       0.9474\n",
      "Преимущество RF:        -0.0175 (-1.9%)\n",
      "\n",
      "=== ВАЖНОСТЬ ПРИЗНАКОВ В RANDOM FOREST (ТОП-10) ===\n",
      "1. worst area: 0.1515\n",
      "2. worst perimeter: 0.1373\n",
      "3. worst concave points: 0.1120\n",
      "4. mean concave points: 0.0999\n",
      "5. worst radius: 0.0781\n",
      "6. mean radius: 0.0642\n",
      "7. mean perimeter: 0.0614\n",
      "8. mean concavity: 0.0593\n",
      "9. worst concavity: 0.0350\n",
      "10. mean area: 0.0240\n",
      "\n",
      "Корреляция важности признаков между RF и Bagging: 0.782\n"
     ]
    },
    {
     "data": {
      "application/vnd.plotly.v1+json": {
       "config": {
        "plotlyServerURL": "https://plot.ly"
       },
       "data": [
        {
         "marker": {
          "color": [
           "#2E86AB",
           "#32A251",
           "#FF7F0E",
           "#C73E1D",
           "#592E83"
          ]
         },
         "name": "Random Forest",
         "showlegend": false,
         "text": [
          "0.930",
          "0.930",
          "0.930",
          "0.930",
          "0.962"
         ],
         "textposition": "auto",
         "type": "bar",
         "x": [
          "Accuracy",
          "Precision",
          "Recall",
          "F1-Score",
          "OOB Score"
         ],
         "xaxis": "x",
         "y": [
          0.9298245614035088,
          0.9298245614035088,
          0.9298245614035088,
          0.9298245614035088,
          0.9623115577889447
         ],
         "yaxis": "y"
        },
        {
         "marker": {
          "color": "#2E86AB"
         },
         "name": "Accuracy",
         "text": [
          "0.930",
          "0.947",
          "0.918"
         ],
         "textposition": "auto",
         "type": "bar",
         "x": [
          "Random Forest",
          "Bagging",
          "Single Tree"
         ],
         "xaxis": "x2",
         "y": [
          0.9298245614035088,
          0.9473684210526315,
          0.9181286549707602
         ],
         "yaxis": "y2"
        },
        {
         "marker": {
          "color": "#A23B72"
         },
         "name": "F1-Score",
         "text": [
          "0.930",
          "0.947",
          "0.918"
         ],
         "textposition": "auto",
         "type": "bar",
         "x": [
          "Random Forest",
          "Bagging",
          "Single Tree"
         ],
         "xaxis": "x2",
         "y": [
          0.9298245614035088,
          0.9471006548629639,
          0.9181286549707602
         ],
         "yaxis": "y2"
        },
        {
         "marker": {
          "color": "#C73E1D",
          "opacity": 0.6,
          "size": 8
         },
         "mode": "markers+text",
         "name": "Корреляция: 0.782",
         "showlegend": false,
         "text": [
          "mean rad...",
          "mean tex...",
          "mean per...",
          "mean are...",
          "mean smo...",
          "mean com...",
          "mean con...",
          "mean con...",
          "mean sym...",
          "mean fra...",
          "radius e...",
          "texture ...",
          "perimete...",
          "area err...",
          "smoothne...",
          "compactn...",
          "concavit...",
          "concave ...",
          "symmetry...",
          "fractal ...",
          "worst ra...",
          "worst te...",
          "worst pe...",
          "worst ar...",
          "worst sm...",
          "worst co...",
          "worst co...",
          "worst co...",
          "worst sy...",
          "worst fr..."
         ],
         "textposition": "top center",
         "type": "scatter",
         "x": [
          0.06417353295988229,
          0.010376751168148178,
          0.061388225999321026,
          0.024043523160843586,
          0.009268337644851885,
          0.01963054477440683,
          0.05932993216623089,
          0.09994716844926875,
          0.0042605038350346965,
          0.004384317292291073,
          0.011759413237584464,
          0.0035049945825993928,
          0.007722888665857644,
          0.023798847565486173,
          0.004383130874736231,
          0.001075173224314912,
          0.004135772161363922,
          0.0034798479554834327,
          0.002469289871740639,
          0.0024632550381179816,
          0.07805213196189216,
          0.01425226433262089,
          0.1372734792080828,
          0.15153724819314338,
          0.013082840245998834,
          0.019823523203097455,
          0.03495659541757189,
          0.11200723133883768,
          0.011538850349528831,
          0.0058803851216619775
         ],
         "xaxis": "x3",
         "y": [
          0.003811003073461291,
          0.012361275808631073,
          0.0011677201012559417,
          0.0032507332912420223,
          0.0027759731421827336,
          0.0009000683802451535,
          0.0023229452040890285,
          0.06762149025164488,
          0.0006798716810145682,
          0.0005064626453672962,
          0.002887715010947394,
          0.0017130042089558459,
          0.002174493362660602,
          0.007294327657514648,
          0.00521256006930441,
          0.0011860292626235537,
          0.005116157761182445,
          0.0013099173132770157,
          0.0013896678610807944,
          0.0023508882121873586,
          0.15025406641243458,
          0.015587287785704384,
          0.2758886840560435,
          0.10525636254992414,
          0.009492375928090607,
          0.004891304502780967,
          0.008580311726879444,
          0.29736623178211163,
          0.004649824418791354,
          0.002001246538371434
         ],
         "yaxis": "y3"
        },
        {
         "line": {
          "color": "gray",
          "dash": "dash"
         },
         "mode": "lines",
         "name": "Идеальная корреляция",
         "showlegend": false,
         "type": "scatter",
         "x": [
          0,
          0.29736623178211163
         ],
         "xaxis": "x3",
         "y": [
          0,
          0.29736623178211163
         ],
         "yaxis": "y3"
        },
        {
         "marker": {
          "color": "#FF7F0E"
         },
         "name": "Accuracy по max_features",
         "showlegend": false,
         "text": [
          "0.924",
          "0.947",
          "0.942",
          "0.936",
          "0.942"
         ],
         "textposition": "auto",
         "type": "bar",
         "x": [
          "sqrt",
          "log2",
          "0.3",
          "0.5",
          "1.0"
         ],
         "xaxis": "x4",
         "y": [
          0.9239766081871345,
          0.9473684210526315,
          0.9415204678362573,
          0.935672514619883,
          0.9415204678362573
         ],
         "yaxis": "y4"
        }
       ],
       "layout": {
        "annotations": [
         {
          "font": {
           "size": 16
          },
          "showarrow": false,
          "text": "Метрики качества",
          "x": 0.225,
          "xanchor": "center",
          "xref": "paper",
          "y": 1,
          "yanchor": "bottom",
          "yref": "paper"
         },
         {
          "font": {
           "size": 16
          },
          "showarrow": false,
          "text": "RF vs Bagging vs Single Tree",
          "x": 0.775,
          "xanchor": "center",
          "xref": "paper",
          "y": 1,
          "yanchor": "bottom",
          "yref": "paper"
         },
         {
          "font": {
           "size": 16
          },
          "showarrow": false,
          "text": "Сравнение важности признаков",
          "x": 0.225,
          "xanchor": "center",
          "xref": "paper",
          "y": 0.425,
          "yanchor": "bottom",
          "yref": "paper"
         },
         {
          "font": {
           "size": 16
          },
          "showarrow": false,
          "text": "Анализ Feature Selection",
          "x": 0.775,
          "xanchor": "center",
          "xref": "paper",
          "y": 0.425,
          "yanchor": "bottom",
          "yref": "paper"
         }
        ],
        "height": 800,
        "showlegend": true,
        "template": {
         "data": {
          "bar": [
           {
            "error_x": {
             "color": "#2a3f5f"
            },
            "error_y": {
             "color": "#2a3f5f"
            },
            "marker": {
             "line": {
              "color": "#E5ECF6",
              "width": 0.5
             },
             "pattern": {
              "fillmode": "overlay",
              "size": 10,
              "solidity": 0.2
             }
            },
            "type": "bar"
           }
          ],
          "barpolar": [
           {
            "marker": {
             "line": {
              "color": "#E5ECF6",
              "width": 0.5
             },
             "pattern": {
              "fillmode": "overlay",
              "size": 10,
              "solidity": 0.2
             }
            },
            "type": "barpolar"
           }
          ],
          "carpet": [
           {
            "aaxis": {
             "endlinecolor": "#2a3f5f",
             "gridcolor": "white",
             "linecolor": "white",
             "minorgridcolor": "white",
             "startlinecolor": "#2a3f5f"
            },
            "baxis": {
             "endlinecolor": "#2a3f5f",
             "gridcolor": "white",
             "linecolor": "white",
             "minorgridcolor": "white",
             "startlinecolor": "#2a3f5f"
            },
            "type": "carpet"
           }
          ],
          "choropleth": [
           {
            "colorbar": {
             "outlinewidth": 0,
             "ticks": ""
            },
            "type": "choropleth"
           }
          ],
          "contour": [
           {
            "colorbar": {
             "outlinewidth": 0,
             "ticks": ""
            },
            "colorscale": [
             [
              0,
              "#0d0887"
             ],
             [
              0.1111111111111111,
              "#46039f"
             ],
             [
              0.2222222222222222,
              "#7201a8"
             ],
             [
              0.3333333333333333,
              "#9c179e"
             ],
             [
              0.4444444444444444,
              "#bd3786"
             ],
             [
              0.5555555555555556,
              "#d8576b"
             ],
             [
              0.6666666666666666,
              "#ed7953"
             ],
             [
              0.7777777777777778,
              "#fb9f3a"
             ],
             [
              0.8888888888888888,
              "#fdca26"
             ],
             [
              1,
              "#f0f921"
             ]
            ],
            "type": "contour"
           }
          ],
          "contourcarpet": [
           {
            "colorbar": {
             "outlinewidth": 0,
             "ticks": ""
            },
            "type": "contourcarpet"
           }
          ],
          "heatmap": [
           {
            "colorbar": {
             "outlinewidth": 0,
             "ticks": ""
            },
            "colorscale": [
             [
              0,
              "#0d0887"
             ],
             [
              0.1111111111111111,
              "#46039f"
             ],
             [
              0.2222222222222222,
              "#7201a8"
             ],
             [
              0.3333333333333333,
              "#9c179e"
             ],
             [
              0.4444444444444444,
              "#bd3786"
             ],
             [
              0.5555555555555556,
              "#d8576b"
             ],
             [
              0.6666666666666666,
              "#ed7953"
             ],
             [
              0.7777777777777778,
              "#fb9f3a"
             ],
             [
              0.8888888888888888,
              "#fdca26"
             ],
             [
              1,
              "#f0f921"
             ]
            ],
            "type": "heatmap"
           }
          ],
          "heatmapgl": [
           {
            "colorbar": {
             "outlinewidth": 0,
             "ticks": ""
            },
            "colorscale": [
             [
              0,
              "#0d0887"
             ],
             [
              0.1111111111111111,
              "#46039f"
             ],
             [
              0.2222222222222222,
              "#7201a8"
             ],
             [
              0.3333333333333333,
              "#9c179e"
             ],
             [
              0.4444444444444444,
              "#bd3786"
             ],
             [
              0.5555555555555556,
              "#d8576b"
             ],
             [
              0.6666666666666666,
              "#ed7953"
             ],
             [
              0.7777777777777778,
              "#fb9f3a"
             ],
             [
              0.8888888888888888,
              "#fdca26"
             ],
             [
              1,
              "#f0f921"
             ]
            ],
            "type": "heatmapgl"
           }
          ],
          "histogram": [
           {
            "marker": {
             "pattern": {
              "fillmode": "overlay",
              "size": 10,
              "solidity": 0.2
             }
            },
            "type": "histogram"
           }
          ],
          "histogram2d": [
           {
            "colorbar": {
             "outlinewidth": 0,
             "ticks": ""
            },
            "colorscale": [
             [
              0,
              "#0d0887"
             ],
             [
              0.1111111111111111,
              "#46039f"
             ],
             [
              0.2222222222222222,
              "#7201a8"
             ],
             [
              0.3333333333333333,
              "#9c179e"
             ],
             [
              0.4444444444444444,
              "#bd3786"
             ],
             [
              0.5555555555555556,
              "#d8576b"
             ],
             [
              0.6666666666666666,
              "#ed7953"
             ],
             [
              0.7777777777777778,
              "#fb9f3a"
             ],
             [
              0.8888888888888888,
              "#fdca26"
             ],
             [
              1,
              "#f0f921"
             ]
            ],
            "type": "histogram2d"
           }
          ],
          "histogram2dcontour": [
           {
            "colorbar": {
             "outlinewidth": 0,
             "ticks": ""
            },
            "colorscale": [
             [
              0,
              "#0d0887"
             ],
             [
              0.1111111111111111,
              "#46039f"
             ],
             [
              0.2222222222222222,
              "#7201a8"
             ],
             [
              0.3333333333333333,
              "#9c179e"
             ],
             [
              0.4444444444444444,
              "#bd3786"
             ],
             [
              0.5555555555555556,
              "#d8576b"
             ],
             [
              0.6666666666666666,
              "#ed7953"
             ],
             [
              0.7777777777777778,
              "#fb9f3a"
             ],
             [
              0.8888888888888888,
              "#fdca26"
             ],
             [
              1,
              "#f0f921"
             ]
            ],
            "type": "histogram2dcontour"
           }
          ],
          "mesh3d": [
           {
            "colorbar": {
             "outlinewidth": 0,
             "ticks": ""
            },
            "type": "mesh3d"
           }
          ],
          "parcoords": [
           {
            "line": {
             "colorbar": {
              "outlinewidth": 0,
              "ticks": ""
             }
            },
            "type": "parcoords"
           }
          ],
          "pie": [
           {
            "automargin": true,
            "type": "pie"
           }
          ],
          "scatter": [
           {
            "fillpattern": {
             "fillmode": "overlay",
             "size": 10,
             "solidity": 0.2
            },
            "type": "scatter"
           }
          ],
          "scatter3d": [
           {
            "line": {
             "colorbar": {
              "outlinewidth": 0,
              "ticks": ""
             }
            },
            "marker": {
             "colorbar": {
              "outlinewidth": 0,
              "ticks": ""
             }
            },
            "type": "scatter3d"
           }
          ],
          "scattercarpet": [
           {
            "marker": {
             "colorbar": {
              "outlinewidth": 0,
              "ticks": ""
             }
            },
            "type": "scattercarpet"
           }
          ],
          "scattergeo": [
           {
            "marker": {
             "colorbar": {
              "outlinewidth": 0,
              "ticks": ""
             }
            },
            "type": "scattergeo"
           }
          ],
          "scattergl": [
           {
            "marker": {
             "colorbar": {
              "outlinewidth": 0,
              "ticks": ""
             }
            },
            "type": "scattergl"
           }
          ],
          "scattermapbox": [
           {
            "marker": {
             "colorbar": {
              "outlinewidth": 0,
              "ticks": ""
             }
            },
            "type": "scattermapbox"
           }
          ],
          "scatterpolar": [
           {
            "marker": {
             "colorbar": {
              "outlinewidth": 0,
              "ticks": ""
             }
            },
            "type": "scatterpolar"
           }
          ],
          "scatterpolargl": [
           {
            "marker": {
             "colorbar": {
              "outlinewidth": 0,
              "ticks": ""
             }
            },
            "type": "scatterpolargl"
           }
          ],
          "scatterternary": [
           {
            "marker": {
             "colorbar": {
              "outlinewidth": 0,
              "ticks": ""
             }
            },
            "type": "scatterternary"
           }
          ],
          "surface": [
           {
            "colorbar": {
             "outlinewidth": 0,
             "ticks": ""
            },
            "colorscale": [
             [
              0,
              "#0d0887"
             ],
             [
              0.1111111111111111,
              "#46039f"
             ],
             [
              0.2222222222222222,
              "#7201a8"
             ],
             [
              0.3333333333333333,
              "#9c179e"
             ],
             [
              0.4444444444444444,
              "#bd3786"
             ],
             [
              0.5555555555555556,
              "#d8576b"
             ],
             [
              0.6666666666666666,
              "#ed7953"
             ],
             [
              0.7777777777777778,
              "#fb9f3a"
             ],
             [
              0.8888888888888888,
              "#fdca26"
             ],
             [
              1,
              "#f0f921"
             ]
            ],
            "type": "surface"
           }
          ],
          "table": [
           {
            "cells": {
             "fill": {
              "color": "#EBF0F8"
             },
             "line": {
              "color": "white"
             }
            },
            "header": {
             "fill": {
              "color": "#C8D4E3"
             },
             "line": {
              "color": "white"
             }
            },
            "type": "table"
           }
          ]
         },
         "layout": {
          "annotationdefaults": {
           "arrowcolor": "#2a3f5f",
           "arrowhead": 0,
           "arrowwidth": 1
          },
          "autotypenumbers": "strict",
          "coloraxis": {
           "colorbar": {
            "outlinewidth": 0,
            "ticks": ""
           }
          },
          "colorscale": {
           "diverging": [
            [
             0,
             "#8e0152"
            ],
            [
             0.1,
             "#c51b7d"
            ],
            [
             0.2,
             "#de77ae"
            ],
            [
             0.3,
             "#f1b6da"
            ],
            [
             0.4,
             "#fde0ef"
            ],
            [
             0.5,
             "#f7f7f7"
            ],
            [
             0.6,
             "#e6f5d0"
            ],
            [
             0.7,
             "#b8e186"
            ],
            [
             0.8,
             "#7fbc41"
            ],
            [
             0.9,
             "#4d9221"
            ],
            [
             1,
             "#276419"
            ]
           ],
           "sequential": [
            [
             0,
             "#0d0887"
            ],
            [
             0.1111111111111111,
             "#46039f"
            ],
            [
             0.2222222222222222,
             "#7201a8"
            ],
            [
             0.3333333333333333,
             "#9c179e"
            ],
            [
             0.4444444444444444,
             "#bd3786"
            ],
            [
             0.5555555555555556,
             "#d8576b"
            ],
            [
             0.6666666666666666,
             "#ed7953"
            ],
            [
             0.7777777777777778,
             "#fb9f3a"
            ],
            [
             0.8888888888888888,
             "#fdca26"
            ],
            [
             1,
             "#f0f921"
            ]
           ],
           "sequentialminus": [
            [
             0,
             "#0d0887"
            ],
            [
             0.1111111111111111,
             "#46039f"
            ],
            [
             0.2222222222222222,
             "#7201a8"
            ],
            [
             0.3333333333333333,
             "#9c179e"
            ],
            [
             0.4444444444444444,
             "#bd3786"
            ],
            [
             0.5555555555555556,
             "#d8576b"
            ],
            [
             0.6666666666666666,
             "#ed7953"
            ],
            [
             0.7777777777777778,
             "#fb9f3a"
            ],
            [
             0.8888888888888888,
             "#fdca26"
            ],
            [
             1,
             "#f0f921"
            ]
           ]
          },
          "colorway": [
           "#636efa",
           "#EF553B",
           "#00cc96",
           "#ab63fa",
           "#FFA15A",
           "#19d3f3",
           "#FF6692",
           "#B6E880",
           "#FF97FF",
           "#FECB52"
          ],
          "font": {
           "color": "#2a3f5f"
          },
          "geo": {
           "bgcolor": "white",
           "lakecolor": "white",
           "landcolor": "#E5ECF6",
           "showlakes": true,
           "showland": true,
           "subunitcolor": "white"
          },
          "hoverlabel": {
           "align": "left"
          },
          "hovermode": "closest",
          "mapbox": {
           "style": "light"
          },
          "paper_bgcolor": "white",
          "plot_bgcolor": "#E5ECF6",
          "polar": {
           "angularaxis": {
            "gridcolor": "white",
            "linecolor": "white",
            "ticks": ""
           },
           "bgcolor": "#E5ECF6",
           "radialaxis": {
            "gridcolor": "white",
            "linecolor": "white",
            "ticks": ""
           }
          },
          "scene": {
           "xaxis": {
            "backgroundcolor": "#E5ECF6",
            "gridcolor": "white",
            "gridwidth": 2,
            "linecolor": "white",
            "showbackground": true,
            "ticks": "",
            "zerolinecolor": "white"
           },
           "yaxis": {
            "backgroundcolor": "#E5ECF6",
            "gridcolor": "white",
            "gridwidth": 2,
            "linecolor": "white",
            "showbackground": true,
            "ticks": "",
            "zerolinecolor": "white"
           },
           "zaxis": {
            "backgroundcolor": "#E5ECF6",
            "gridcolor": "white",
            "gridwidth": 2,
            "linecolor": "white",
            "showbackground": true,
            "ticks": "",
            "zerolinecolor": "white"
           }
          },
          "shapedefaults": {
           "line": {
            "color": "#2a3f5f"
           }
          },
          "ternary": {
           "aaxis": {
            "gridcolor": "white",
            "linecolor": "white",
            "ticks": ""
           },
           "baxis": {
            "gridcolor": "white",
            "linecolor": "white",
            "ticks": ""
           },
           "bgcolor": "#E5ECF6",
           "caxis": {
            "gridcolor": "white",
            "linecolor": "white",
            "ticks": ""
           }
          },
          "title": {
           "x": 0.05
          },
          "xaxis": {
           "automargin": true,
           "gridcolor": "white",
           "linecolor": "white",
           "ticks": "",
           "title": {
            "standoff": 15
           },
           "zerolinecolor": "white",
           "zerolinewidth": 2
          },
          "yaxis": {
           "automargin": true,
           "gridcolor": "white",
           "linecolor": "white",
           "ticks": "",
           "title": {
            "standoff": 15
           },
           "zerolinecolor": "white",
           "zerolinewidth": 2
          }
         }
        },
        "title": {
         "text": "Детальный анализ Random Forest<br>Преимущество перед Bagging: +-1.9% благодаря feature selection"
        },
        "xaxis": {
         "anchor": "y",
         "domain": [
          0,
          0.45
         ]
        },
        "xaxis2": {
         "anchor": "y2",
         "domain": [
          0.55,
          1
         ]
        },
        "xaxis3": {
         "anchor": "y3",
         "domain": [
          0,
          0.45
         ],
         "title": {
          "text": "Важность в RF"
         }
        },
        "xaxis4": {
         "anchor": "y4",
         "domain": [
          0.55,
          1
         ],
         "title": {
          "text": "max_features"
         }
        },
        "yaxis": {
         "anchor": "x",
         "domain": [
          0.575,
          1
         ],
         "title": {
          "text": "Значение метрики"
         }
        },
        "yaxis2": {
         "anchor": "x2",
         "domain": [
          0.575,
          1
         ],
         "title": {
          "text": "Значение метрики"
         }
        },
        "yaxis3": {
         "anchor": "x3",
         "domain": [
          0,
          0.425
         ],
         "title": {
          "text": "Важность в Bagging"
         }
        },
        "yaxis4": {
         "anchor": "x4",
         "domain": [
          0,
          0.425
         ],
         "title": {
          "text": "Accuracy"
         }
        }
       }
      }
     },
     "metadata": {},
     "output_type": "display_data"
    }
   ],
   "source": [
    "# Расширенная оценка Random Forest\n",
    "y_pred_rf = rf_classifier.predict(X_test)\n",
    "\n",
    "accuracy_rf = accuracy_score(y_test, y_pred_rf)\n",
    "precision_rf = precision_score(y_test, y_pred_rf, average='weighted')\n",
    "recall_rf = recall_score(y_test, y_pred_rf, average='weighted')\n",
    "f1_rf = f1_score(y_test, y_pred_rf, average='weighted')\n",
    "oob_score_rf = rf_classifier.oob_score_\n",
    "\n",
    "print(\"=== РЕЗУЛЬТАТЫ RANDOM FOREST НА BREAST CANCER ===\")\n",
    "print(f\"Accuracy:  {accuracy_rf:.4f}\")\n",
    "print(f\"Precision: {precision_rf:.4f}\")\n",
    "print(f\"Recall:    {recall_rf:.4f}\")\n",
    "print(f\"F1-score:  {f1_rf:.4f}\")\n",
    "print(f\"OOB Score: {oob_score_rf:.4f}\")\n",
    "\n",
    "# Сравнение с Bagging для демонстрации преимуществ feature selection\n",
    "bagging_model = BaggingClassifier(\n",
    "    estimator=DecisionTreeClassifier(max_depth=8, min_samples_split=5, min_samples_leaf=2),\n",
    "    n_estimators=150,\n",
    "    max_samples=0.8,\n",
    "    max_features=1.0,  # Используем все признаки (без random feature selection)\n",
    "    random_state=42,\n",
    "    oob_score=True,\n",
    "    n_jobs=-1\n",
    ")\n",
    "bagging_model.fit(X_train, y_train)\n",
    "y_pred_bagging_comp = bagging_model.predict(X_test)\n",
    "accuracy_bagging_comp = accuracy_score(y_test, y_pred_bagging_comp)\n",
    "f1_bagging_comp = f1_score(y_test, y_pred_bagging_comp, average='weighted')\n",
    "\n",
    "print(f\"\\n=== СРАВНЕНИЕ С BAGGING (БЕЗ FEATURE SELECTION) ===\")\n",
    "print(f\"Random Forest Accuracy: {accuracy_rf:.4f}\")\n",
    "print(f\"Bagging Accuracy:       {accuracy_bagging_comp:.4f}\")\n",
    "print(f\"Преимущество RF:        {accuracy_rf - accuracy_bagging_comp:.4f} ({((accuracy_rf/accuracy_bagging_comp - 1) * 100):.1f}%)\")\n",
    "\n",
    "# Анализ важности признаков в Random Forest\n",
    "rf_importances = rf_classifier.feature_importances_\n",
    "top_rf = np.argsort(rf_importances)[-10:][::-1]\n",
    "\n",
    "print(f\"\\n=== ВАЖНОСТЬ ПРИЗНАКОВ В RANDOM FOREST (ТОП-10) ===\")\n",
    "for i, feat_idx in enumerate(top_rf):\n",
    "    print(f\"{i+1}. {feature_names[feat_idx]}: {rf_importances[feat_idx]:.4f}\")\n",
    "\n",
    "# Сравнение важности признаков между RF и Bagging\n",
    "bagging_importances = np.mean([estimator.feature_importances_ for estimator in bagging_model.estimators_], axis=0)\n",
    "correlation = np.corrcoef(rf_importances, bagging_importances)[0, 1]\n",
    "print(f\"\\nКорреляция важности признаков между RF и Bagging: {correlation:.3f}\")\n",
    "\n",
    "# Расширенная визуализация Random Forest\n",
    "fig_rf = make_subplots(\n",
    "    rows=2, cols=2,\n",
    "    subplot_titles=['Метрики качества', 'RF vs Bagging vs Single Tree', \n",
    "                   'Сравнение важности признаков', 'Анализ Feature Selection'],\n",
    "    specs=[[{'type': 'bar'}, {'type': 'bar'}],\n",
    "           [{'type': 'scatter'}, {'type': 'bar'}]],\n",
    "    vertical_spacing=0.15,\n",
    "    horizontal_spacing=0.1\n",
    ")\n",
    "\n",
    "# График 1: Все метрики RF\n",
    "metrics = ['Accuracy', 'Precision', 'Recall', 'F1-Score', 'OOB Score']\n",
    "values = [accuracy_rf, precision_rf, recall_rf, f1_rf, oob_score_rf]\n",
    "\n",
    "fig_rf.add_trace(\n",
    "    go.Bar(x=metrics, y=values,\n",
    "           text=[f'{v:.3f}' for v in values],\n",
    "           textposition='auto',\n",
    "           marker_color=[COLOR_PALETTE['primary'], COLOR_PALETTE['success'], \n",
    "                        COLOR_PALETTE['warning'], COLOR_PALETTE['danger'], COLOR_PALETTE['info']],\n",
    "           name='Random Forest',\n",
    "           showlegend=False),\n",
    "    row=1, col=1\n",
    ")\n",
    "\n",
    "# График 2: Сравнение алгоритмов\n",
    "algorithms = ['Random Forest', 'Bagging', 'Single Tree']\n",
    "accuracies = [accuracy_rf, accuracy_bagging_comp, accuracy_single]\n",
    "f1_scores = [f1_rf, f1_bagging_comp, f1_single]\n",
    "\n",
    "fig_rf.add_trace(\n",
    "    go.Bar(x=algorithms, y=accuracies,\n",
    "           name='Accuracy',\n",
    "           marker_color=COLOR_PALETTE['primary'],\n",
    "           text=[f'{v:.3f}' for v in accuracies],\n",
    "           textposition='auto'),\n",
    "    row=1, col=2\n",
    ")\n",
    "\n",
    "fig_rf.add_trace(\n",
    "    go.Bar(x=algorithms, y=f1_scores,\n",
    "           name='F1-Score',\n",
    "           marker_color=COLOR_PALETTE['secondary'],\n",
    "           text=[f'{v:.3f}' for v in f1_scores],\n",
    "           textposition='auto'),\n",
    "    row=1, col=2\n",
    ")\n",
    "\n",
    "# График 3: Сравнение важности признаков RF vs Bagging\n",
    "fig_rf.add_trace(\n",
    "    go.Scatter(x=rf_importances, y=bagging_importances,\n",
    "              mode='markers+text',\n",
    "              text=[feature_names[i][:8] + '...' if len(feature_names[i]) > 8 else feature_names[i] \n",
    "                    for i in range(len(feature_names))],\n",
    "              textposition='top center',\n",
    "              marker=dict(size=8, color=COLOR_PALETTE['danger'], opacity=0.6),\n",
    "              name=f'Корреляция: {correlation:.3f}',\n",
    "              showlegend=False),\n",
    "    row=2, col=1\n",
    ")\n",
    "\n",
    "# Добавляем линию идеальной корреляции\n",
    "max_imp = max(max(rf_importances), max(bagging_importances))\n",
    "fig_rf.add_trace(\n",
    "    go.Scatter(x=[0, max_imp], y=[0, max_imp],\n",
    "              mode='lines',\n",
    "              line=dict(dash='dash', color='gray'),\n",
    "              name='Идеальная корреляция',\n",
    "              showlegend=False),\n",
    "    row=2, col=1\n",
    ")\n",
    "\n",
    "# График 4: Эффект количества используемых признаков\n",
    "feature_counts = ['sqrt', 'log2', '0.3', '0.5', '1.0']\n",
    "feature_values = [np.sqrt(len(feature_names)), np.log2(len(feature_names)), \n",
    "                 0.3*len(feature_names), 0.5*len(feature_names), len(feature_names)]\n",
    "\n",
    "# Быстрое тестирование разных значений max_features\n",
    "feature_accuracies = []\n",
    "for feat_val in ['sqrt', 'log2', 0.3, 0.5, 1.0]:\n",
    "    rf_temp = RandomForestClassifier(\n",
    "        n_estimators=50, max_features=feat_val, max_depth=12,\n",
    "        random_state=42, n_jobs=-1\n",
    "    )\n",
    "    rf_temp.fit(X_train, y_train)\n",
    "    acc_temp = accuracy_score(y_test, rf_temp.predict(X_test))\n",
    "    feature_accuracies.append(acc_temp)\n",
    "\n",
    "fig_rf.add_trace(\n",
    "    go.Bar(x=feature_counts, y=feature_accuracies,\n",
    "           text=[f'{v:.3f}' for v in feature_accuracies],\n",
    "           textposition='auto',\n",
    "           marker_color=COLOR_PALETTE['warning'],\n",
    "           name='Accuracy по max_features',\n",
    "           showlegend=False),\n",
    "    row=2, col=2\n",
    ")\n",
    "\n",
    "fig_rf.update_layout(\n",
    "    title=f'Детальный анализ Random Forest<br>'\n",
    "          f'Преимущество перед Bagging: +{((accuracy_rf/accuracy_bagging_comp - 1) * 100):.1f}% '\n",
    "          f'благодаря feature selection',\n",
    "    height=800,\n",
    "    showlegend=True\n",
    ")\n",
    "\n",
    "# Обновление осей\n",
    "fig_rf.update_yaxes(title_text=\"Значение метрики\", row=1, col=1)\n",
    "fig_rf.update_yaxes(title_text=\"Значение метрики\", row=1, col=2)\n",
    "fig_rf.update_xaxes(title_text=\"Важность в RF\", row=2, col=1)\n",
    "fig_rf.update_yaxes(title_text=\"Важность в Bagging\", row=2, col=1)\n",
    "fig_rf.update_xaxes(title_text=\"max_features\", row=2, col=2)\n",
    "fig_rf.update_yaxes(title_text=\"Accuracy\", row=2, col=2)\n",
    "\n",
    "fig_rf.show()"
   ]
  },
  {
   "cell_type": "code",
   "execution_count": 16,
   "id": "794b7ad0",
   "metadata": {},
   "outputs": [
    {
     "name": "stdout",
     "output_type": "stream",
     "text": [
      "\n",
      "=== ВАЖНОСТЬ ПРИЗНАКОВ ===\n",
      "Признак_1: 0.0642\n",
      "Признак_2: 0.0104\n",
      "Признак_3: 0.0614\n",
      "Признак_4: 0.0240\n",
      "Признак_5: 0.0093\n",
      "Признак_6: 0.0196\n",
      "Признак_7: 0.0593\n",
      "Признак_8: 0.0999\n",
      "Признак_9: 0.0043\n",
      "Признак_10: 0.0044\n",
      "Признак_11: 0.0118\n",
      "Признак_12: 0.0035\n",
      "Признак_13: 0.0077\n",
      "Признак_14: 0.0238\n",
      "Признак_15: 0.0044\n",
      "Признак_16: 0.0011\n",
      "Признак_17: 0.0041\n",
      "Признак_18: 0.0035\n",
      "Признак_19: 0.0025\n",
      "Признак_20: 0.0025\n",
      "Признак_21: 0.0781\n",
      "Признак_22: 0.0143\n",
      "Признак_23: 0.1373\n",
      "Признак_24: 0.1515\n",
      "Признак_25: 0.0131\n",
      "Признак_26: 0.0198\n",
      "Признак_27: 0.0350\n",
      "Признак_28: 0.1120\n",
      "Признак_29: 0.0115\n",
      "Признак_30: 0.0059\n"
     ]
    },
    {
     "data": {
      "application/vnd.plotly.v1+json": {
       "config": {
        "plotlyServerURL": "https://plot.ly"
       },
       "data": [
        {
         "marker": {
          "color": "#32A251"
         },
         "name": "Важность признаков",
         "text": [
          "0.064",
          "0.010",
          "0.061",
          "0.024",
          "0.009",
          "0.020",
          "0.059",
          "0.100",
          "0.004",
          "0.004",
          "0.012",
          "0.004",
          "0.008",
          "0.024",
          "0.004",
          "0.001",
          "0.004",
          "0.003",
          "0.002",
          "0.002",
          "0.078",
          "0.014",
          "0.137",
          "0.152",
          "0.013",
          "0.020",
          "0.035",
          "0.112",
          "0.012",
          "0.006"
         ],
         "textposition": "auto",
         "type": "bar",
         "x": [
          "Признак_1",
          "Признак_2",
          "Признак_3",
          "Признак_4",
          "Признак_5",
          "Признак_6",
          "Признак_7",
          "Признак_8",
          "Признак_9",
          "Признак_10",
          "Признак_11",
          "Признак_12",
          "Признак_13",
          "Признак_14",
          "Признак_15",
          "Признак_16",
          "Признак_17",
          "Признак_18",
          "Признак_19",
          "Признак_20",
          "Признак_21",
          "Признак_22",
          "Признак_23",
          "Признак_24",
          "Признак_25",
          "Признак_26",
          "Признак_27",
          "Признак_28",
          "Признак_29",
          "Признак_30"
         ],
         "y": [
          0.06417353295988229,
          0.010376751168148178,
          0.061388225999321026,
          0.024043523160843586,
          0.009268337644851885,
          0.01963054477440683,
          0.05932993216623089,
          0.09994716844926875,
          0.0042605038350346965,
          0.004384317292291073,
          0.011759413237584464,
          0.0035049945825993928,
          0.007722888665857644,
          0.023798847565486173,
          0.004383130874736231,
          0.001075173224314912,
          0.004135772161363922,
          0.0034798479554834327,
          0.002469289871740639,
          0.0024632550381179816,
          0.07805213196189216,
          0.01425226433262089,
          0.1372734792080828,
          0.15153724819314338,
          0.013082840245998834,
          0.019823523203097455,
          0.03495659541757189,
          0.11200723133883768,
          0.011538850349528831,
          0.0058803851216619775
         ]
        }
       ],
       "layout": {
        "height": 400,
        "template": {
         "data": {
          "bar": [
           {
            "error_x": {
             "color": "#2a3f5f"
            },
            "error_y": {
             "color": "#2a3f5f"
            },
            "marker": {
             "line": {
              "color": "#E5ECF6",
              "width": 0.5
             },
             "pattern": {
              "fillmode": "overlay",
              "size": 10,
              "solidity": 0.2
             }
            },
            "type": "bar"
           }
          ],
          "barpolar": [
           {
            "marker": {
             "line": {
              "color": "#E5ECF6",
              "width": 0.5
             },
             "pattern": {
              "fillmode": "overlay",
              "size": 10,
              "solidity": 0.2
             }
            },
            "type": "barpolar"
           }
          ],
          "carpet": [
           {
            "aaxis": {
             "endlinecolor": "#2a3f5f",
             "gridcolor": "white",
             "linecolor": "white",
             "minorgridcolor": "white",
             "startlinecolor": "#2a3f5f"
            },
            "baxis": {
             "endlinecolor": "#2a3f5f",
             "gridcolor": "white",
             "linecolor": "white",
             "minorgridcolor": "white",
             "startlinecolor": "#2a3f5f"
            },
            "type": "carpet"
           }
          ],
          "choropleth": [
           {
            "colorbar": {
             "outlinewidth": 0,
             "ticks": ""
            },
            "type": "choropleth"
           }
          ],
          "contour": [
           {
            "colorbar": {
             "outlinewidth": 0,
             "ticks": ""
            },
            "colorscale": [
             [
              0,
              "#0d0887"
             ],
             [
              0.1111111111111111,
              "#46039f"
             ],
             [
              0.2222222222222222,
              "#7201a8"
             ],
             [
              0.3333333333333333,
              "#9c179e"
             ],
             [
              0.4444444444444444,
              "#bd3786"
             ],
             [
              0.5555555555555556,
              "#d8576b"
             ],
             [
              0.6666666666666666,
              "#ed7953"
             ],
             [
              0.7777777777777778,
              "#fb9f3a"
             ],
             [
              0.8888888888888888,
              "#fdca26"
             ],
             [
              1,
              "#f0f921"
             ]
            ],
            "type": "contour"
           }
          ],
          "contourcarpet": [
           {
            "colorbar": {
             "outlinewidth": 0,
             "ticks": ""
            },
            "type": "contourcarpet"
           }
          ],
          "heatmap": [
           {
            "colorbar": {
             "outlinewidth": 0,
             "ticks": ""
            },
            "colorscale": [
             [
              0,
              "#0d0887"
             ],
             [
              0.1111111111111111,
              "#46039f"
             ],
             [
              0.2222222222222222,
              "#7201a8"
             ],
             [
              0.3333333333333333,
              "#9c179e"
             ],
             [
              0.4444444444444444,
              "#bd3786"
             ],
             [
              0.5555555555555556,
              "#d8576b"
             ],
             [
              0.6666666666666666,
              "#ed7953"
             ],
             [
              0.7777777777777778,
              "#fb9f3a"
             ],
             [
              0.8888888888888888,
              "#fdca26"
             ],
             [
              1,
              "#f0f921"
             ]
            ],
            "type": "heatmap"
           }
          ],
          "heatmapgl": [
           {
            "colorbar": {
             "outlinewidth": 0,
             "ticks": ""
            },
            "colorscale": [
             [
              0,
              "#0d0887"
             ],
             [
              0.1111111111111111,
              "#46039f"
             ],
             [
              0.2222222222222222,
              "#7201a8"
             ],
             [
              0.3333333333333333,
              "#9c179e"
             ],
             [
              0.4444444444444444,
              "#bd3786"
             ],
             [
              0.5555555555555556,
              "#d8576b"
             ],
             [
              0.6666666666666666,
              "#ed7953"
             ],
             [
              0.7777777777777778,
              "#fb9f3a"
             ],
             [
              0.8888888888888888,
              "#fdca26"
             ],
             [
              1,
              "#f0f921"
             ]
            ],
            "type": "heatmapgl"
           }
          ],
          "histogram": [
           {
            "marker": {
             "pattern": {
              "fillmode": "overlay",
              "size": 10,
              "solidity": 0.2
             }
            },
            "type": "histogram"
           }
          ],
          "histogram2d": [
           {
            "colorbar": {
             "outlinewidth": 0,
             "ticks": ""
            },
            "colorscale": [
             [
              0,
              "#0d0887"
             ],
             [
              0.1111111111111111,
              "#46039f"
             ],
             [
              0.2222222222222222,
              "#7201a8"
             ],
             [
              0.3333333333333333,
              "#9c179e"
             ],
             [
              0.4444444444444444,
              "#bd3786"
             ],
             [
              0.5555555555555556,
              "#d8576b"
             ],
             [
              0.6666666666666666,
              "#ed7953"
             ],
             [
              0.7777777777777778,
              "#fb9f3a"
             ],
             [
              0.8888888888888888,
              "#fdca26"
             ],
             [
              1,
              "#f0f921"
             ]
            ],
            "type": "histogram2d"
           }
          ],
          "histogram2dcontour": [
           {
            "colorbar": {
             "outlinewidth": 0,
             "ticks": ""
            },
            "colorscale": [
             [
              0,
              "#0d0887"
             ],
             [
              0.1111111111111111,
              "#46039f"
             ],
             [
              0.2222222222222222,
              "#7201a8"
             ],
             [
              0.3333333333333333,
              "#9c179e"
             ],
             [
              0.4444444444444444,
              "#bd3786"
             ],
             [
              0.5555555555555556,
              "#d8576b"
             ],
             [
              0.6666666666666666,
              "#ed7953"
             ],
             [
              0.7777777777777778,
              "#fb9f3a"
             ],
             [
              0.8888888888888888,
              "#fdca26"
             ],
             [
              1,
              "#f0f921"
             ]
            ],
            "type": "histogram2dcontour"
           }
          ],
          "mesh3d": [
           {
            "colorbar": {
             "outlinewidth": 0,
             "ticks": ""
            },
            "type": "mesh3d"
           }
          ],
          "parcoords": [
           {
            "line": {
             "colorbar": {
              "outlinewidth": 0,
              "ticks": ""
             }
            },
            "type": "parcoords"
           }
          ],
          "pie": [
           {
            "automargin": true,
            "type": "pie"
           }
          ],
          "scatter": [
           {
            "fillpattern": {
             "fillmode": "overlay",
             "size": 10,
             "solidity": 0.2
            },
            "type": "scatter"
           }
          ],
          "scatter3d": [
           {
            "line": {
             "colorbar": {
              "outlinewidth": 0,
              "ticks": ""
             }
            },
            "marker": {
             "colorbar": {
              "outlinewidth": 0,
              "ticks": ""
             }
            },
            "type": "scatter3d"
           }
          ],
          "scattercarpet": [
           {
            "marker": {
             "colorbar": {
              "outlinewidth": 0,
              "ticks": ""
             }
            },
            "type": "scattercarpet"
           }
          ],
          "scattergeo": [
           {
            "marker": {
             "colorbar": {
              "outlinewidth": 0,
              "ticks": ""
             }
            },
            "type": "scattergeo"
           }
          ],
          "scattergl": [
           {
            "marker": {
             "colorbar": {
              "outlinewidth": 0,
              "ticks": ""
             }
            },
            "type": "scattergl"
           }
          ],
          "scattermapbox": [
           {
            "marker": {
             "colorbar": {
              "outlinewidth": 0,
              "ticks": ""
             }
            },
            "type": "scattermapbox"
           }
          ],
          "scatterpolar": [
           {
            "marker": {
             "colorbar": {
              "outlinewidth": 0,
              "ticks": ""
             }
            },
            "type": "scatterpolar"
           }
          ],
          "scatterpolargl": [
           {
            "marker": {
             "colorbar": {
              "outlinewidth": 0,
              "ticks": ""
             }
            },
            "type": "scatterpolargl"
           }
          ],
          "scatterternary": [
           {
            "marker": {
             "colorbar": {
              "outlinewidth": 0,
              "ticks": ""
             }
            },
            "type": "scatterternary"
           }
          ],
          "surface": [
           {
            "colorbar": {
             "outlinewidth": 0,
             "ticks": ""
            },
            "colorscale": [
             [
              0,
              "#0d0887"
             ],
             [
              0.1111111111111111,
              "#46039f"
             ],
             [
              0.2222222222222222,
              "#7201a8"
             ],
             [
              0.3333333333333333,
              "#9c179e"
             ],
             [
              0.4444444444444444,
              "#bd3786"
             ],
             [
              0.5555555555555556,
              "#d8576b"
             ],
             [
              0.6666666666666666,
              "#ed7953"
             ],
             [
              0.7777777777777778,
              "#fb9f3a"
             ],
             [
              0.8888888888888888,
              "#fdca26"
             ],
             [
              1,
              "#f0f921"
             ]
            ],
            "type": "surface"
           }
          ],
          "table": [
           {
            "cells": {
             "fill": {
              "color": "#EBF0F8"
             },
             "line": {
              "color": "white"
             }
            },
            "header": {
             "fill": {
              "color": "#C8D4E3"
             },
             "line": {
              "color": "white"
             }
            },
            "type": "table"
           }
          ]
         },
         "layout": {
          "annotationdefaults": {
           "arrowcolor": "#2a3f5f",
           "arrowhead": 0,
           "arrowwidth": 1
          },
          "autotypenumbers": "strict",
          "coloraxis": {
           "colorbar": {
            "outlinewidth": 0,
            "ticks": ""
           }
          },
          "colorscale": {
           "diverging": [
            [
             0,
             "#8e0152"
            ],
            [
             0.1,
             "#c51b7d"
            ],
            [
             0.2,
             "#de77ae"
            ],
            [
             0.3,
             "#f1b6da"
            ],
            [
             0.4,
             "#fde0ef"
            ],
            [
             0.5,
             "#f7f7f7"
            ],
            [
             0.6,
             "#e6f5d0"
            ],
            [
             0.7,
             "#b8e186"
            ],
            [
             0.8,
             "#7fbc41"
            ],
            [
             0.9,
             "#4d9221"
            ],
            [
             1,
             "#276419"
            ]
           ],
           "sequential": [
            [
             0,
             "#0d0887"
            ],
            [
             0.1111111111111111,
             "#46039f"
            ],
            [
             0.2222222222222222,
             "#7201a8"
            ],
            [
             0.3333333333333333,
             "#9c179e"
            ],
            [
             0.4444444444444444,
             "#bd3786"
            ],
            [
             0.5555555555555556,
             "#d8576b"
            ],
            [
             0.6666666666666666,
             "#ed7953"
            ],
            [
             0.7777777777777778,
             "#fb9f3a"
            ],
            [
             0.8888888888888888,
             "#fdca26"
            ],
            [
             1,
             "#f0f921"
            ]
           ],
           "sequentialminus": [
            [
             0,
             "#0d0887"
            ],
            [
             0.1111111111111111,
             "#46039f"
            ],
            [
             0.2222222222222222,
             "#7201a8"
            ],
            [
             0.3333333333333333,
             "#9c179e"
            ],
            [
             0.4444444444444444,
             "#bd3786"
            ],
            [
             0.5555555555555556,
             "#d8576b"
            ],
            [
             0.6666666666666666,
             "#ed7953"
            ],
            [
             0.7777777777777778,
             "#fb9f3a"
            ],
            [
             0.8888888888888888,
             "#fdca26"
            ],
            [
             1,
             "#f0f921"
            ]
           ]
          },
          "colorway": [
           "#636efa",
           "#EF553B",
           "#00cc96",
           "#ab63fa",
           "#FFA15A",
           "#19d3f3",
           "#FF6692",
           "#B6E880",
           "#FF97FF",
           "#FECB52"
          ],
          "font": {
           "color": "#2a3f5f"
          },
          "geo": {
           "bgcolor": "white",
           "lakecolor": "white",
           "landcolor": "#E5ECF6",
           "showlakes": true,
           "showland": true,
           "subunitcolor": "white"
          },
          "hoverlabel": {
           "align": "left"
          },
          "hovermode": "closest",
          "mapbox": {
           "style": "light"
          },
          "paper_bgcolor": "white",
          "plot_bgcolor": "#E5ECF6",
          "polar": {
           "angularaxis": {
            "gridcolor": "white",
            "linecolor": "white",
            "ticks": ""
           },
           "bgcolor": "#E5ECF6",
           "radialaxis": {
            "gridcolor": "white",
            "linecolor": "white",
            "ticks": ""
           }
          },
          "scene": {
           "xaxis": {
            "backgroundcolor": "#E5ECF6",
            "gridcolor": "white",
            "gridwidth": 2,
            "linecolor": "white",
            "showbackground": true,
            "ticks": "",
            "zerolinecolor": "white"
           },
           "yaxis": {
            "backgroundcolor": "#E5ECF6",
            "gridcolor": "white",
            "gridwidth": 2,
            "linecolor": "white",
            "showbackground": true,
            "ticks": "",
            "zerolinecolor": "white"
           },
           "zaxis": {
            "backgroundcolor": "#E5ECF6",
            "gridcolor": "white",
            "gridwidth": 2,
            "linecolor": "white",
            "showbackground": true,
            "ticks": "",
            "zerolinecolor": "white"
           }
          },
          "shapedefaults": {
           "line": {
            "color": "#2a3f5f"
           }
          },
          "ternary": {
           "aaxis": {
            "gridcolor": "white",
            "linecolor": "white",
            "ticks": ""
           },
           "baxis": {
            "gridcolor": "white",
            "linecolor": "white",
            "ticks": ""
           },
           "bgcolor": "#E5ECF6",
           "caxis": {
            "gridcolor": "white",
            "linecolor": "white",
            "ticks": ""
           }
          },
          "title": {
           "x": 0.05
          },
          "xaxis": {
           "automargin": true,
           "gridcolor": "white",
           "linecolor": "white",
           "ticks": "",
           "title": {
            "standoff": 15
           },
           "zerolinecolor": "white",
           "zerolinewidth": 2
          },
          "yaxis": {
           "automargin": true,
           "gridcolor": "white",
           "linecolor": "white",
           "ticks": "",
           "title": {
            "standoff": 15
           },
           "zerolinecolor": "white",
           "zerolinewidth": 2
          }
         }
        },
        "title": {
         "text": "Важность признаков в Random Forest"
        },
        "xaxis": {
         "title": {
          "text": "Признаки"
         }
        },
        "yaxis": {
         "title": {
          "text": "Важность"
         }
        }
       }
      }
     },
     "metadata": {},
     "output_type": "display_data"
    }
   ],
   "source": [
    "# Анализ важности признаков\n",
    "feature_importance = rf_classifier.feature_importances_\n",
    "print(f\"\\n=== ВАЖНОСТЬ ПРИЗНАКОВ ===\")\n",
    "for i, importance in enumerate(feature_importance):\n",
    "    print(f\"Признак_{i+1}: {importance:.4f}\")\n",
    "\n",
    "# Визуализация важности признаков Random Forest\n",
    "fig_importance_rf = go.Figure()\n",
    "\n",
    "fig_importance_rf.add_trace(\n",
    "    go.Bar(x=[f'Признак_{i+1}' for i in range(len(feature_importance))],\n",
    "           y=feature_importance,\n",
    "           text=[f'{imp:.3f}' for imp in feature_importance],\n",
    "           textposition='auto',\n",
    "           marker_color=COLOR_PALETTE['success'],\n",
    "           name='Важность признаков')\n",
    ")\n",
    "\n",
    "fig_importance_rf.update_layout(\n",
    "    title='Важность признаков в Random Forest',\n",
    "    xaxis_title='Признаки',\n",
    "    yaxis_title='Важность',\n",
    "    height=400\n",
    ")\n",
    "\n",
    "fig_importance_rf.show()"
   ]
  },
  {
   "cell_type": "code",
   "execution_count": 17,
   "id": "2bb25afb",
   "metadata": {},
   "outputs": [],
   "source": [
    "# Функция для анализа параметров Random Forest на сложном датасете\n",
    "def analyze_rf_parameters(n_estimators, max_features, max_depth):\n",
    "    \"\"\"\n",
    "    Анализирует влияние гиперпараметров Random Forest\n",
    "    \"\"\"\n",
    "    rf = RandomForestClassifier(\n",
    "        n_estimators=n_estimators,\n",
    "        max_features=max_features,\n",
    "        max_depth=max_depth if max_depth > 0 else None,\n",
    "        min_samples_split=8,        \n",
    "        min_samples_leaf=3,\n",
    "        class_weight='balanced',    # Для работы с несбалансированными классами\n",
    "        random_state=42,\n",
    "        oob_score=True,\n",
    "        n_jobs=-1\n",
    "    )\n",
    "    \n",
    "    rf.fit(X_train, y_train)\n",
    "    y_pred = rf.predict(X_test)\n",
    "    \n",
    "    accuracy = accuracy_score(y_test, y_pred)\n",
    "    precision = precision_score(y_test, y_pred, average='weighted', zero_division=0)\n",
    "    recall = recall_score(y_test, y_pred, average='weighted', zero_division=0)\n",
    "    f1 = f1_score(y_test, y_pred, average='weighted', zero_division=0)\n",
    "    oob_score = rf.oob_score_\n",
    "    cv_scores = cross_val_score(rf, X_train, y_train, cv=5)\n",
    "    \n",
    "    return {\n",
    "        'accuracy': accuracy,\n",
    "        'precision': precision,\n",
    "        'recall': recall,\n",
    "        'f1_score': f1,\n",
    "        'oob_score': oob_score,\n",
    "        'cv_mean': cv_scores.mean(),\n",
    "        'cv_std': cv_scores.std(),\n",
    "        'feature_importances': rf.feature_importances_,\n",
    "        'n_classes': len(np.unique(y_test))\n",
    "    }"
   ]
  },
  {
   "cell_type": "code",
   "execution_count": 18,
   "id": "6fb7c978",
   "metadata": {},
   "outputs": [
    {
     "data": {
      "application/vnd.jupyter.widget-view+json": {
       "model_id": "6f716e37069e4f7bac4859f78de96578",
       "version_major": 2,
       "version_minor": 0
      },
      "text/plain": [
       "interactive(children=(IntSlider(value=100, description='Деревья', max=200, min=10, step=20), Dropdown(descript…"
      ]
     },
     "metadata": {},
     "output_type": "display_data"
    },
    {
     "data": {
      "text/plain": [
       "<function __main__.analyze_rf_simplified(n_estimators=100, max_features='sqrt', max_depth=10)>"
      ]
     },
     "execution_count": 18,
     "metadata": {},
     "output_type": "execute_result"
    }
   ],
   "source": [
    "# Упрощенный интерактивный Random Forest анализ\n",
    "def analyze_rf_simplified(n_estimators=100, max_features='sqrt', max_depth=10):\n",
    "    \"\"\"Упрощенная версия анализа Random Forest.\"\"\"\n",
    "    \n",
    "    # Создание и оценка модели\n",
    "    rf_model = RandomForestClassifier(\n",
    "        n_estimators=n_estimators,\n",
    "        max_features=max_features,\n",
    "        max_depth=max_depth if max_depth > 0 else None,\n",
    "        random_state=42,\n",
    "        oob_score=True\n",
    "    )\n",
    "    \n",
    "    result = evaluate_model(rf_model, X_train, X_test, y_train, y_test, \"Random Forest\")\n",
    "    \n",
    "    # Создание визуализации\n",
    "    fig = create_metrics_chart(pd.DataFrame([result]))\n",
    "    fig.update_layout(\n",
    "        title=f'Random Forest: n_est={n_estimators}, max_feat={max_features}, depth={max_depth}<br>'\n",
    "              f'Accuracy: {result[\"Test Accuracy\"]:.3f} | OOB: {result[\"OOB Score\"]:.3f}',\n",
    "        height=400\n",
    "    )\n",
    "    fig.show()\n",
    "    \n",
    "    # Важность признаков\n",
    "    fig_imp = create_importance_chart(rf_model, feature_names, \n",
    "                                    f'Важность признаков (топ-10)')\n",
    "    if fig_imp:\n",
    "        fig_imp.show()\n",
    "        \n",
    "    # Краткий отчет\n",
    "    print(f\"Результаты: Accuracy={result['Test Accuracy']:.4f}, \"\n",
    "          f\"OOB={result['OOB Score']:.4f}, CV={result['CV Mean']:.4f}±{result['CV Std']:.4f}\")\n",
    "\n",
    "# Упрощенный виджет\n",
    "interact(analyze_rf_simplified,\n",
    "         n_estimators=IntSlider(min=10, max=200, step=20, value=100, description='Деревья'),\n",
    "         max_features=Dropdown(options=['sqrt', 'log2', 0.5, 1.0], value='sqrt', description='Признаки'),\n",
    "         max_depth=IntSlider(min=0, max=20, step=2, value=10, description='Глубина'))"
   ]
  },
  {
   "cell_type": "markdown",
   "id": "9833cf4f",
   "metadata": {},
   "source": [
    "### 8.1 Интерактивное сравнение влияния гиперпараметров на модели\n",
    "\n",
    "Следующий интерактивный элемент демонстрирует, как различные гиперпараметры влияют на важность признаков и метрики качества для разных алгоритмов:"
   ]
  },
  {
   "cell_type": "code",
   "execution_count": 19,
   "id": "2c901e4e",
   "metadata": {},
   "outputs": [
    {
     "data": {
      "application/vnd.jupyter.widget-view+json": {
       "model_id": "b030ae6c70654a4f9383c98785befb78",
       "version_major": 2,
       "version_minor": 0
      },
      "text/plain": [
       "interactive(children=(Dropdown(description='Алгоритм', index=1, options=('Decision Tree', 'Random Forest', 'Ba…"
      ]
     },
     "metadata": {},
     "output_type": "display_data"
    },
    {
     "data": {
      "text/plain": [
       "<function __main__.compare_algorithms(algorithm='Random Forest', n_estimators=100, max_depth=10)>"
      ]
     },
     "execution_count": 19,
     "metadata": {},
     "output_type": "execute_result"
    }
   ],
   "source": [
    "# Упрощенное интерактивное сравнение гиперпараметров\n",
    "def compare_algorithms(algorithm='Random Forest', n_estimators=100, max_depth=10):\n",
    "    \"\"\"Упрощенное сравнение алгоритмов с основными параметрами.\"\"\"\n",
    "    \n",
    "    # Создаем выбранную модель\n",
    "    if algorithm == 'Decision Tree':\n",
    "        model = DecisionTreeClassifier(max_depth=max_depth, random_state=42)\n",
    "    elif algorithm == 'Random Forest':\n",
    "        model = RandomForestClassifier(n_estimators=n_estimators, max_depth=max_depth, \n",
    "                                     random_state=42, oob_score=True)\n",
    "    else:  # Bagging\n",
    "        model = BaggingClassifier(estimator=DecisionTreeClassifier(max_depth=max_depth),\n",
    "                                 n_estimators=n_estimators, random_state=42, oob_score=True)\n",
    "    \n",
    "    # Оценка модели\n",
    "    result = evaluate_model(model, X_train, X_test, y_train, y_test, algorithm)\n",
    "    \n",
    "    # Создаем быструю визуализацию\n",
    "    fig = go.Figure()\n",
    "    \n",
    "    metrics = ['Test Accuracy', 'Precision', 'Recall', 'F1-Score', 'CV Mean']\n",
    "    values = [result[metric] for metric in metrics]\n",
    "    \n",
    "    fig.add_trace(go.Bar(\n",
    "        x=metrics, y=values,\n",
    "        text=[f'{v:.3f}' for v in values],\n",
    "        textposition='outside',\n",
    "        marker_color=COLOR_PALETTE['primary']\n",
    "    ))\n",
    "    \n",
    "    oob_text = f\" | OOB: {result['OOB Score']:.3f}\" if result['OOB Score'] else \"\"\n",
    "    fig.update_layout(\n",
    "        title=f'{algorithm} - Test Accuracy: {result[\"Test Accuracy\"]:.3f}{oob_text}',\n",
    "        yaxis_title='Значение метрики',\n",
    "        height=400\n",
    "    )\n",
    "    \n",
    "    fig.show()\n",
    "    \n",
    "    # Анализ важности признаков (если доступен)\n",
    "    if hasattr(model, 'feature_importances_') or hasattr(model, 'estimators_'):\n",
    "        fig_imp = create_importance_chart(model, feature_names, f'{algorithm} - Важность признаков')\n",
    "        if fig_imp:\n",
    "            fig_imp.show()\n",
    "\n",
    "# Создаем упрощенный интерактивный виджет\n",
    "interact(compare_algorithms,\n",
    "         algorithm=Dropdown(options=['Decision Tree', 'Random Forest', 'Bagging'], \n",
    "                           value='Random Forest', description='Алгоритм'),\n",
    "         n_estimators=IntSlider(min=10, max=200, step=10, value=100, description='Деревья'),\n",
    "         max_depth=IntSlider(min=0, max=20, step=2, value=10, description='Глубина'))"
   ]
  },
  {
   "cell_type": "markdown",
   "id": "467d2e26",
   "metadata": {},
   "source": [
    "## 9. Сравнительный анализ: Decision Tree vs Bagging vs Random Forest"
   ]
  },
  {
   "cell_type": "code",
   "execution_count": 20,
   "id": "91a11d5c",
   "metadata": {},
   "outputs": [
    {
     "name": "stdout",
     "output_type": "stream",
     "text": [
      "=== КОНФИГУРАЦИЯ МОДЕЛЕЙ ===\n",
      "\n",
      "Decision Tree:\n",
      "  max_depth: 8\n",
      "  max_features: sqrt\n",
      "  class_weight: None\n",
      "\n",
      "Decision Tree (глубокое):\n",
      "  max_depth: None\n",
      "  max_features: None\n",
      "  class_weight: None\n",
      "\n",
      "Bagging:\n",
      "  n_estimators: 100\n",
      "  max_features: 0.8\n",
      "  base_max_depth: 10\n",
      "\n",
      "Random Forest:\n",
      "  max_depth: 12\n",
      "  n_estimators: 200\n",
      "  max_features: log2\n",
      "  class_weight: balanced\n",
      "  base_max_depth: None\n"
     ]
    }
   ],
   "source": [
    "# Определение оптимизированных моделей\n",
    "models = {\n",
    "    'Decision Tree': DecisionTreeClassifier(\n",
    "        max_depth=8,\n",
    "        min_samples_split=15,\n",
    "        min_samples_leaf=5,\n",
    "        max_features='sqrt',\n",
    "        random_state=42\n",
    "    ),\n",
    "    'Decision Tree (глубокое)': DecisionTreeClassifier(\n",
    "        max_depth=None,\n",
    "        min_samples_split=2,\n",
    "        min_samples_leaf=1,\n",
    "        random_state=42\n",
    "    ),\n",
    "    'Bagging': BaggingClassifier(\n",
    "        estimator=DecisionTreeClassifier(\n",
    "            max_depth=10,\n",
    "            min_samples_split=10,\n",
    "            min_samples_leaf=3,\n",
    "            max_features='sqrt'\n",
    "        ),\n",
    "        n_estimators=100,\n",
    "        max_samples=0.8,\n",
    "        max_features=0.8,\n",
    "        random_state=42,\n",
    "        oob_score=True,\n",
    "        n_jobs=-1\n",
    "    ),\n",
    "    'Random Forest': RandomForestClassifier(\n",
    "        n_estimators=200,\n",
    "        max_features='log2',\n",
    "        max_depth=12,\n",
    "        min_samples_split=8,\n",
    "        min_samples_leaf=3,\n",
    "        max_samples=0.8,\n",
    "        class_weight='balanced',\n",
    "        bootstrap=True,\n",
    "        oob_score=True,\n",
    "        random_state=42,\n",
    "        n_jobs=-1\n",
    "    )\n",
    "}\n",
    "\n",
    "print(\"=== КОНФИГУРАЦИЯ МОДЕЛЕЙ ===\")\n",
    "for name, model in models.items():\n",
    "    print(f\"\\n{name}:\")\n",
    "    key_params = {}\n",
    "    if hasattr(model, 'max_depth'):\n",
    "        key_params['max_depth'] = model.max_depth\n",
    "    if hasattr(model, 'n_estimators'):\n",
    "        key_params['n_estimators'] = model.n_estimators\n",
    "    if hasattr(model, 'max_features'):\n",
    "        key_params['max_features'] = model.max_features\n",
    "    if hasattr(model, 'class_weight'):\n",
    "        key_params['class_weight'] = model.class_weight\n",
    "    if hasattr(model, 'estimator'):  # для ensemble методов\n",
    "        if hasattr(model.estimator, 'max_depth'):\n",
    "            key_params['base_max_depth'] = model.estimator.max_depth\n",
    "    \n",
    "    for param, value in key_params.items():\n",
    "        print(f\"  {param}: {value}\")"
   ]
  },
  {
   "cell_type": "code",
   "execution_count": 21,
   "id": "d58edbb7",
   "metadata": {},
   "outputs": [
    {
     "name": "stdout",
     "output_type": "stream",
     "text": [
      "Обучение Decision Tree...\n",
      "Обучение Decision Tree (глубокое)...\n",
      "Обучение Bagging...\n",
      "Обучение Random Forest...\n",
      "Обучение Random Forest...\n",
      "\n",
      "=== СВОДНАЯ ТАБЛИЦА РЕЗУЛЬТАТОВ ===\n",
      "                  Модель  Test Accuracy  Precision  Recall  F1-Score  CV Mean  CV Std  OOB Score\n",
      "           Decision Tree         0.9357     0.9359  0.9357    0.9358   0.9197  0.0230        NaN\n",
      "Decision Tree (глубокое)         0.9181     0.9181  0.9181    0.9181   0.9247  0.0369        NaN\n",
      "                 Bagging         0.9415     0.9414  0.9415    0.9413   0.9624  0.0285     0.9573\n",
      "           Random Forest         0.9298     0.9305  0.9298    0.9300   0.9700  0.0232     0.9573\n",
      "\n",
      "=== СВОДНАЯ ТАБЛИЦА РЕЗУЛЬТАТОВ ===\n",
      "                  Модель  Test Accuracy  Precision  Recall  F1-Score  CV Mean  CV Std  OOB Score\n",
      "           Decision Tree         0.9357     0.9359  0.9357    0.9358   0.9197  0.0230        NaN\n",
      "Decision Tree (глубокое)         0.9181     0.9181  0.9181    0.9181   0.9247  0.0369        NaN\n",
      "                 Bagging         0.9415     0.9414  0.9415    0.9413   0.9624  0.0285     0.9573\n",
      "           Random Forest         0.9298     0.9305  0.9298    0.9300   0.9700  0.0232     0.9573\n"
     ]
    },
    {
     "data": {
      "application/vnd.plotly.v1+json": {
       "config": {
        "plotlyServerURL": "https://plot.ly"
       },
       "data": [
        {
         "cells": {
          "align": "center",
          "fill": {
           "color": "white"
          },
          "font": {
           "size": 11
          },
          "format": [
           null,
           ".4f",
           ".4f",
           ".4f",
           ".4f",
           ".4f",
           ".4f",
           ".4f"
          ],
          "values": [
           [
            "Decision Tree",
            "Decision Tree (глубокое)",
            "Bagging",
            "Random Forest"
           ],
           [
            0.935672514619883,
            0.9181286549707602,
            0.9415204678362573,
            0.9298245614035088
           ],
           [
            0.9359364788361809,
            0.9181286549707602,
            0.9414097045909634,
            0.9305080884028253
           ],
           [
            0.935672514619883,
            0.9181286549707602,
            0.9415204678362573,
            0.9298245614035088
           ],
           [
            0.9357708424717578,
            0.9181286549707602,
            0.9413270831399486,
            0.9300333562498408
           ],
           [
            0.9196835443037974,
            0.9247468354430379,
            0.9624050632911393,
            0.9699683544303797
           ],
           [
            0.022981874593822376,
            0.03693277952568736,
            0.02850501801288252,
            0.02316023339328855
           ],
           [
            null,
            null,
            0.957286432160804,
            0.957286432160804
           ]
          ]
         },
         "header": {
          "align": "center",
          "fill": {
           "color": "lightblue"
          },
          "font": {
           "color": "black",
           "size": 12
          },
          "values": [
           "Модель",
           "Test Accuracy",
           "Precision",
           "Recall",
           "F1-Score",
           "CV Mean",
           "CV Std",
           "OOB Score"
          ]
         },
         "type": "table"
        }
       ],
       "layout": {
        "height": 400,
        "template": {
         "data": {
          "bar": [
           {
            "error_x": {
             "color": "#2a3f5f"
            },
            "error_y": {
             "color": "#2a3f5f"
            },
            "marker": {
             "line": {
              "color": "#E5ECF6",
              "width": 0.5
             },
             "pattern": {
              "fillmode": "overlay",
              "size": 10,
              "solidity": 0.2
             }
            },
            "type": "bar"
           }
          ],
          "barpolar": [
           {
            "marker": {
             "line": {
              "color": "#E5ECF6",
              "width": 0.5
             },
             "pattern": {
              "fillmode": "overlay",
              "size": 10,
              "solidity": 0.2
             }
            },
            "type": "barpolar"
           }
          ],
          "carpet": [
           {
            "aaxis": {
             "endlinecolor": "#2a3f5f",
             "gridcolor": "white",
             "linecolor": "white",
             "minorgridcolor": "white",
             "startlinecolor": "#2a3f5f"
            },
            "baxis": {
             "endlinecolor": "#2a3f5f",
             "gridcolor": "white",
             "linecolor": "white",
             "minorgridcolor": "white",
             "startlinecolor": "#2a3f5f"
            },
            "type": "carpet"
           }
          ],
          "choropleth": [
           {
            "colorbar": {
             "outlinewidth": 0,
             "ticks": ""
            },
            "type": "choropleth"
           }
          ],
          "contour": [
           {
            "colorbar": {
             "outlinewidth": 0,
             "ticks": ""
            },
            "colorscale": [
             [
              0,
              "#0d0887"
             ],
             [
              0.1111111111111111,
              "#46039f"
             ],
             [
              0.2222222222222222,
              "#7201a8"
             ],
             [
              0.3333333333333333,
              "#9c179e"
             ],
             [
              0.4444444444444444,
              "#bd3786"
             ],
             [
              0.5555555555555556,
              "#d8576b"
             ],
             [
              0.6666666666666666,
              "#ed7953"
             ],
             [
              0.7777777777777778,
              "#fb9f3a"
             ],
             [
              0.8888888888888888,
              "#fdca26"
             ],
             [
              1,
              "#f0f921"
             ]
            ],
            "type": "contour"
           }
          ],
          "contourcarpet": [
           {
            "colorbar": {
             "outlinewidth": 0,
             "ticks": ""
            },
            "type": "contourcarpet"
           }
          ],
          "heatmap": [
           {
            "colorbar": {
             "outlinewidth": 0,
             "ticks": ""
            },
            "colorscale": [
             [
              0,
              "#0d0887"
             ],
             [
              0.1111111111111111,
              "#46039f"
             ],
             [
              0.2222222222222222,
              "#7201a8"
             ],
             [
              0.3333333333333333,
              "#9c179e"
             ],
             [
              0.4444444444444444,
              "#bd3786"
             ],
             [
              0.5555555555555556,
              "#d8576b"
             ],
             [
              0.6666666666666666,
              "#ed7953"
             ],
             [
              0.7777777777777778,
              "#fb9f3a"
             ],
             [
              0.8888888888888888,
              "#fdca26"
             ],
             [
              1,
              "#f0f921"
             ]
            ],
            "type": "heatmap"
           }
          ],
          "heatmapgl": [
           {
            "colorbar": {
             "outlinewidth": 0,
             "ticks": ""
            },
            "colorscale": [
             [
              0,
              "#0d0887"
             ],
             [
              0.1111111111111111,
              "#46039f"
             ],
             [
              0.2222222222222222,
              "#7201a8"
             ],
             [
              0.3333333333333333,
              "#9c179e"
             ],
             [
              0.4444444444444444,
              "#bd3786"
             ],
             [
              0.5555555555555556,
              "#d8576b"
             ],
             [
              0.6666666666666666,
              "#ed7953"
             ],
             [
              0.7777777777777778,
              "#fb9f3a"
             ],
             [
              0.8888888888888888,
              "#fdca26"
             ],
             [
              1,
              "#f0f921"
             ]
            ],
            "type": "heatmapgl"
           }
          ],
          "histogram": [
           {
            "marker": {
             "pattern": {
              "fillmode": "overlay",
              "size": 10,
              "solidity": 0.2
             }
            },
            "type": "histogram"
           }
          ],
          "histogram2d": [
           {
            "colorbar": {
             "outlinewidth": 0,
             "ticks": ""
            },
            "colorscale": [
             [
              0,
              "#0d0887"
             ],
             [
              0.1111111111111111,
              "#46039f"
             ],
             [
              0.2222222222222222,
              "#7201a8"
             ],
             [
              0.3333333333333333,
              "#9c179e"
             ],
             [
              0.4444444444444444,
              "#bd3786"
             ],
             [
              0.5555555555555556,
              "#d8576b"
             ],
             [
              0.6666666666666666,
              "#ed7953"
             ],
             [
              0.7777777777777778,
              "#fb9f3a"
             ],
             [
              0.8888888888888888,
              "#fdca26"
             ],
             [
              1,
              "#f0f921"
             ]
            ],
            "type": "histogram2d"
           }
          ],
          "histogram2dcontour": [
           {
            "colorbar": {
             "outlinewidth": 0,
             "ticks": ""
            },
            "colorscale": [
             [
              0,
              "#0d0887"
             ],
             [
              0.1111111111111111,
              "#46039f"
             ],
             [
              0.2222222222222222,
              "#7201a8"
             ],
             [
              0.3333333333333333,
              "#9c179e"
             ],
             [
              0.4444444444444444,
              "#bd3786"
             ],
             [
              0.5555555555555556,
              "#d8576b"
             ],
             [
              0.6666666666666666,
              "#ed7953"
             ],
             [
              0.7777777777777778,
              "#fb9f3a"
             ],
             [
              0.8888888888888888,
              "#fdca26"
             ],
             [
              1,
              "#f0f921"
             ]
            ],
            "type": "histogram2dcontour"
           }
          ],
          "mesh3d": [
           {
            "colorbar": {
             "outlinewidth": 0,
             "ticks": ""
            },
            "type": "mesh3d"
           }
          ],
          "parcoords": [
           {
            "line": {
             "colorbar": {
              "outlinewidth": 0,
              "ticks": ""
             }
            },
            "type": "parcoords"
           }
          ],
          "pie": [
           {
            "automargin": true,
            "type": "pie"
           }
          ],
          "scatter": [
           {
            "fillpattern": {
             "fillmode": "overlay",
             "size": 10,
             "solidity": 0.2
            },
            "type": "scatter"
           }
          ],
          "scatter3d": [
           {
            "line": {
             "colorbar": {
              "outlinewidth": 0,
              "ticks": ""
             }
            },
            "marker": {
             "colorbar": {
              "outlinewidth": 0,
              "ticks": ""
             }
            },
            "type": "scatter3d"
           }
          ],
          "scattercarpet": [
           {
            "marker": {
             "colorbar": {
              "outlinewidth": 0,
              "ticks": ""
             }
            },
            "type": "scattercarpet"
           }
          ],
          "scattergeo": [
           {
            "marker": {
             "colorbar": {
              "outlinewidth": 0,
              "ticks": ""
             }
            },
            "type": "scattergeo"
           }
          ],
          "scattergl": [
           {
            "marker": {
             "colorbar": {
              "outlinewidth": 0,
              "ticks": ""
             }
            },
            "type": "scattergl"
           }
          ],
          "scattermapbox": [
           {
            "marker": {
             "colorbar": {
              "outlinewidth": 0,
              "ticks": ""
             }
            },
            "type": "scattermapbox"
           }
          ],
          "scatterpolar": [
           {
            "marker": {
             "colorbar": {
              "outlinewidth": 0,
              "ticks": ""
             }
            },
            "type": "scatterpolar"
           }
          ],
          "scatterpolargl": [
           {
            "marker": {
             "colorbar": {
              "outlinewidth": 0,
              "ticks": ""
             }
            },
            "type": "scatterpolargl"
           }
          ],
          "scatterternary": [
           {
            "marker": {
             "colorbar": {
              "outlinewidth": 0,
              "ticks": ""
             }
            },
            "type": "scatterternary"
           }
          ],
          "surface": [
           {
            "colorbar": {
             "outlinewidth": 0,
             "ticks": ""
            },
            "colorscale": [
             [
              0,
              "#0d0887"
             ],
             [
              0.1111111111111111,
              "#46039f"
             ],
             [
              0.2222222222222222,
              "#7201a8"
             ],
             [
              0.3333333333333333,
              "#9c179e"
             ],
             [
              0.4444444444444444,
              "#bd3786"
             ],
             [
              0.5555555555555556,
              "#d8576b"
             ],
             [
              0.6666666666666666,
              "#ed7953"
             ],
             [
              0.7777777777777778,
              "#fb9f3a"
             ],
             [
              0.8888888888888888,
              "#fdca26"
             ],
             [
              1,
              "#f0f921"
             ]
            ],
            "type": "surface"
           }
          ],
          "table": [
           {
            "cells": {
             "fill": {
              "color": "#EBF0F8"
             },
             "line": {
              "color": "white"
             }
            },
            "header": {
             "fill": {
              "color": "#C8D4E3"
             },
             "line": {
              "color": "white"
             }
            },
            "type": "table"
           }
          ]
         },
         "layout": {
          "annotationdefaults": {
           "arrowcolor": "#2a3f5f",
           "arrowhead": 0,
           "arrowwidth": 1
          },
          "autotypenumbers": "strict",
          "coloraxis": {
           "colorbar": {
            "outlinewidth": 0,
            "ticks": ""
           }
          },
          "colorscale": {
           "diverging": [
            [
             0,
             "#8e0152"
            ],
            [
             0.1,
             "#c51b7d"
            ],
            [
             0.2,
             "#de77ae"
            ],
            [
             0.3,
             "#f1b6da"
            ],
            [
             0.4,
             "#fde0ef"
            ],
            [
             0.5,
             "#f7f7f7"
            ],
            [
             0.6,
             "#e6f5d0"
            ],
            [
             0.7,
             "#b8e186"
            ],
            [
             0.8,
             "#7fbc41"
            ],
            [
             0.9,
             "#4d9221"
            ],
            [
             1,
             "#276419"
            ]
           ],
           "sequential": [
            [
             0,
             "#0d0887"
            ],
            [
             0.1111111111111111,
             "#46039f"
            ],
            [
             0.2222222222222222,
             "#7201a8"
            ],
            [
             0.3333333333333333,
             "#9c179e"
            ],
            [
             0.4444444444444444,
             "#bd3786"
            ],
            [
             0.5555555555555556,
             "#d8576b"
            ],
            [
             0.6666666666666666,
             "#ed7953"
            ],
            [
             0.7777777777777778,
             "#fb9f3a"
            ],
            [
             0.8888888888888888,
             "#fdca26"
            ],
            [
             1,
             "#f0f921"
            ]
           ],
           "sequentialminus": [
            [
             0,
             "#0d0887"
            ],
            [
             0.1111111111111111,
             "#46039f"
            ],
            [
             0.2222222222222222,
             "#7201a8"
            ],
            [
             0.3333333333333333,
             "#9c179e"
            ],
            [
             0.4444444444444444,
             "#bd3786"
            ],
            [
             0.5555555555555556,
             "#d8576b"
            ],
            [
             0.6666666666666666,
             "#ed7953"
            ],
            [
             0.7777777777777778,
             "#fb9f3a"
            ],
            [
             0.8888888888888888,
             "#fdca26"
            ],
            [
             1,
             "#f0f921"
            ]
           ]
          },
          "colorway": [
           "#636efa",
           "#EF553B",
           "#00cc96",
           "#ab63fa",
           "#FFA15A",
           "#19d3f3",
           "#FF6692",
           "#B6E880",
           "#FF97FF",
           "#FECB52"
          ],
          "font": {
           "color": "#2a3f5f"
          },
          "geo": {
           "bgcolor": "white",
           "lakecolor": "white",
           "landcolor": "#E5ECF6",
           "showlakes": true,
           "showland": true,
           "subunitcolor": "white"
          },
          "hoverlabel": {
           "align": "left"
          },
          "hovermode": "closest",
          "mapbox": {
           "style": "light"
          },
          "paper_bgcolor": "white",
          "plot_bgcolor": "#E5ECF6",
          "polar": {
           "angularaxis": {
            "gridcolor": "white",
            "linecolor": "white",
            "ticks": ""
           },
           "bgcolor": "#E5ECF6",
           "radialaxis": {
            "gridcolor": "white",
            "linecolor": "white",
            "ticks": ""
           }
          },
          "scene": {
           "xaxis": {
            "backgroundcolor": "#E5ECF6",
            "gridcolor": "white",
            "gridwidth": 2,
            "linecolor": "white",
            "showbackground": true,
            "ticks": "",
            "zerolinecolor": "white"
           },
           "yaxis": {
            "backgroundcolor": "#E5ECF6",
            "gridcolor": "white",
            "gridwidth": 2,
            "linecolor": "white",
            "showbackground": true,
            "ticks": "",
            "zerolinecolor": "white"
           },
           "zaxis": {
            "backgroundcolor": "#E5ECF6",
            "gridcolor": "white",
            "gridwidth": 2,
            "linecolor": "white",
            "showbackground": true,
            "ticks": "",
            "zerolinecolor": "white"
           }
          },
          "shapedefaults": {
           "line": {
            "color": "#2a3f5f"
           }
          },
          "ternary": {
           "aaxis": {
            "gridcolor": "white",
            "linecolor": "white",
            "ticks": ""
           },
           "baxis": {
            "gridcolor": "white",
            "linecolor": "white",
            "ticks": ""
           },
           "bgcolor": "#E5ECF6",
           "caxis": {
            "gridcolor": "white",
            "linecolor": "white",
            "ticks": ""
           }
          },
          "title": {
           "x": 0.05
          },
          "xaxis": {
           "automargin": true,
           "gridcolor": "white",
           "linecolor": "white",
           "ticks": "",
           "title": {
            "standoff": 15
           },
           "zerolinecolor": "white",
           "zerolinewidth": 2
          },
          "yaxis": {
           "automargin": true,
           "gridcolor": "white",
           "linecolor": "white",
           "ticks": "",
           "title": {
            "standoff": 15
           },
           "zerolinecolor": "white",
           "zerolinewidth": 2
          }
         }
        },
        "title": {
         "text": "Сводная таблица результатов всех моделей"
        }
       }
      }
     },
     "metadata": {},
     "output_type": "display_data"
    }
   ],
   "source": [
    "# Обучение и оценка всех моделей (использует helper функции)\n",
    "results = []\n",
    "\n",
    "for name, model in models.items():\n",
    "    print(f\"Обучение {name}...\")\n",
    "    result = evaluate_model(model, X_train, X_test, y_train, y_test, name)\n",
    "    results.append(result)\n",
    "\n",
    "results_df = pd.DataFrame(results)\n",
    "print(\"\\n=== СВОДНАЯ ТАБЛИЦА РЕЗУЛЬТАТОВ ===\")\n",
    "print(results_df.round(4).to_string(index=False))\n",
    "\n",
    "# Интерактивная сводная таблица\n",
    "fig_summary = create_comparison_table(results_df)\n",
    "fig_summary.show()"
   ]
  },
  {
   "cell_type": "code",
   "execution_count": 22,
   "id": "23fcd46b",
   "metadata": {},
   "outputs": [
    {
     "name": "stdout",
     "output_type": "stream",
     "text": [
      "КРАТКИЙ АНАЛИЗ РЕЗУЛЬТАТОВ\n",
      "========================================\n",
      "Лучшая модель: Bagging (Accuracy: 0.9415)\n",
      "Самая стабильная: Decision Tree (CV Std: 0.0230)\n",
      "\n",
      "ПРЕИМУЩЕСТВА АНСАМБЛЕВЫХ МЕТОДОВ:\n",
      "   Bagging: +0.6% улучшение accuracy\n",
      "   Random Forest: +-0.6% улучшение accuracy\n"
     ]
    },
    {
     "data": {
      "application/vnd.plotly.v1+json": {
       "config": {
        "plotlyServerURL": "https://plot.ly"
       },
       "data": [
        {
         "marker": {
          "color": "#2E86AB"
         },
         "name": "Test Accuracy",
         "text": [
          0.936,
          0.918,
          0.942,
          0.93
         ],
         "textposition": "outside",
         "type": "bar",
         "x": [
          "Decision Tree",
          "Decision Tree (глубокое)",
          "Bagging",
          "Random Forest"
         ],
         "xaxis": "x",
         "y": [
          0.935672514619883,
          0.9181286549707602,
          0.9415204678362573,
          0.9298245614035088
         ],
         "yaxis": "y"
        },
        {
         "marker": {
          "color": "#A23B72"
         },
         "name": "Precision",
         "text": [
          0.936,
          0.918,
          0.941,
          0.931
         ],
         "textposition": "outside",
         "type": "bar",
         "x": [
          "Decision Tree",
          "Decision Tree (глубокое)",
          "Bagging",
          "Random Forest"
         ],
         "xaxis": "x",
         "y": [
          0.9359364788361809,
          0.9181286549707602,
          0.9414097045909634,
          0.9305080884028253
         ],
         "yaxis": "y"
        },
        {
         "marker": {
          "color": "#32A251"
         },
         "name": "Recall",
         "text": [
          0.936,
          0.918,
          0.942,
          0.93
         ],
         "textposition": "outside",
         "type": "bar",
         "x": [
          "Decision Tree",
          "Decision Tree (глубокое)",
          "Bagging",
          "Random Forest"
         ],
         "xaxis": "x",
         "y": [
          0.935672514619883,
          0.9181286549707602,
          0.9415204678362573,
          0.9298245614035088
         ],
         "yaxis": "y"
        },
        {
         "marker": {
          "color": "#C73E1D"
         },
         "name": "F1-Score",
         "text": [
          0.936,
          0.918,
          0.941,
          0.93
         ],
         "textposition": "outside",
         "type": "bar",
         "x": [
          "Decision Tree",
          "Decision Tree (глубокое)",
          "Bagging",
          "Random Forest"
         ],
         "xaxis": "x",
         "y": [
          0.9357708424717578,
          0.9181286549707602,
          0.9413270831399486,
          0.9300333562498408
         ],
         "yaxis": "y"
        },
        {
         "error_y": {
          "array": [
           0.022981874593822376,
           0.03693277952568736,
           0.02850501801288252,
           0.02316023339328855
          ],
          "type": "data"
         },
         "marker": {
          "color": "#592E83"
         },
         "name": "CV Score ± Std",
         "text": [
          0.92,
          0.925,
          0.962,
          0.97
         ],
         "textposition": "outside",
         "type": "bar",
         "x": [
          "Decision Tree",
          "Decision Tree (глубокое)",
          "Bagging",
          "Random Forest"
         ],
         "xaxis": "x2",
         "y": [
          0.9196835443037974,
          0.9247468354430379,
          0.9624050632911393,
          0.9699683544303797
         ],
         "yaxis": "y2"
        }
       ],
       "layout": {
        "annotations": [
         {
          "font": {
           "size": 16
          },
          "showarrow": false,
          "text": "Основные метрики",
          "x": 0.225,
          "xanchor": "center",
          "xref": "paper",
          "y": 1,
          "yanchor": "bottom",
          "yref": "paper"
         },
         {
          "font": {
           "size": 16
          },
          "showarrow": false,
          "text": "Cross-Validation",
          "x": 0.775,
          "xanchor": "center",
          "xref": "paper",
          "y": 1,
          "yanchor": "bottom",
          "yref": "paper"
         }
        ],
        "height": 500,
        "showlegend": true,
        "template": {
         "data": {
          "bar": [
           {
            "error_x": {
             "color": "#2a3f5f"
            },
            "error_y": {
             "color": "#2a3f5f"
            },
            "marker": {
             "line": {
              "color": "#E5ECF6",
              "width": 0.5
             },
             "pattern": {
              "fillmode": "overlay",
              "size": 10,
              "solidity": 0.2
             }
            },
            "type": "bar"
           }
          ],
          "barpolar": [
           {
            "marker": {
             "line": {
              "color": "#E5ECF6",
              "width": 0.5
             },
             "pattern": {
              "fillmode": "overlay",
              "size": 10,
              "solidity": 0.2
             }
            },
            "type": "barpolar"
           }
          ],
          "carpet": [
           {
            "aaxis": {
             "endlinecolor": "#2a3f5f",
             "gridcolor": "white",
             "linecolor": "white",
             "minorgridcolor": "white",
             "startlinecolor": "#2a3f5f"
            },
            "baxis": {
             "endlinecolor": "#2a3f5f",
             "gridcolor": "white",
             "linecolor": "white",
             "minorgridcolor": "white",
             "startlinecolor": "#2a3f5f"
            },
            "type": "carpet"
           }
          ],
          "choropleth": [
           {
            "colorbar": {
             "outlinewidth": 0,
             "ticks": ""
            },
            "type": "choropleth"
           }
          ],
          "contour": [
           {
            "colorbar": {
             "outlinewidth": 0,
             "ticks": ""
            },
            "colorscale": [
             [
              0,
              "#0d0887"
             ],
             [
              0.1111111111111111,
              "#46039f"
             ],
             [
              0.2222222222222222,
              "#7201a8"
             ],
             [
              0.3333333333333333,
              "#9c179e"
             ],
             [
              0.4444444444444444,
              "#bd3786"
             ],
             [
              0.5555555555555556,
              "#d8576b"
             ],
             [
              0.6666666666666666,
              "#ed7953"
             ],
             [
              0.7777777777777778,
              "#fb9f3a"
             ],
             [
              0.8888888888888888,
              "#fdca26"
             ],
             [
              1,
              "#f0f921"
             ]
            ],
            "type": "contour"
           }
          ],
          "contourcarpet": [
           {
            "colorbar": {
             "outlinewidth": 0,
             "ticks": ""
            },
            "type": "contourcarpet"
           }
          ],
          "heatmap": [
           {
            "colorbar": {
             "outlinewidth": 0,
             "ticks": ""
            },
            "colorscale": [
             [
              0,
              "#0d0887"
             ],
             [
              0.1111111111111111,
              "#46039f"
             ],
             [
              0.2222222222222222,
              "#7201a8"
             ],
             [
              0.3333333333333333,
              "#9c179e"
             ],
             [
              0.4444444444444444,
              "#bd3786"
             ],
             [
              0.5555555555555556,
              "#d8576b"
             ],
             [
              0.6666666666666666,
              "#ed7953"
             ],
             [
              0.7777777777777778,
              "#fb9f3a"
             ],
             [
              0.8888888888888888,
              "#fdca26"
             ],
             [
              1,
              "#f0f921"
             ]
            ],
            "type": "heatmap"
           }
          ],
          "heatmapgl": [
           {
            "colorbar": {
             "outlinewidth": 0,
             "ticks": ""
            },
            "colorscale": [
             [
              0,
              "#0d0887"
             ],
             [
              0.1111111111111111,
              "#46039f"
             ],
             [
              0.2222222222222222,
              "#7201a8"
             ],
             [
              0.3333333333333333,
              "#9c179e"
             ],
             [
              0.4444444444444444,
              "#bd3786"
             ],
             [
              0.5555555555555556,
              "#d8576b"
             ],
             [
              0.6666666666666666,
              "#ed7953"
             ],
             [
              0.7777777777777778,
              "#fb9f3a"
             ],
             [
              0.8888888888888888,
              "#fdca26"
             ],
             [
              1,
              "#f0f921"
             ]
            ],
            "type": "heatmapgl"
           }
          ],
          "histogram": [
           {
            "marker": {
             "pattern": {
              "fillmode": "overlay",
              "size": 10,
              "solidity": 0.2
             }
            },
            "type": "histogram"
           }
          ],
          "histogram2d": [
           {
            "colorbar": {
             "outlinewidth": 0,
             "ticks": ""
            },
            "colorscale": [
             [
              0,
              "#0d0887"
             ],
             [
              0.1111111111111111,
              "#46039f"
             ],
             [
              0.2222222222222222,
              "#7201a8"
             ],
             [
              0.3333333333333333,
              "#9c179e"
             ],
             [
              0.4444444444444444,
              "#bd3786"
             ],
             [
              0.5555555555555556,
              "#d8576b"
             ],
             [
              0.6666666666666666,
              "#ed7953"
             ],
             [
              0.7777777777777778,
              "#fb9f3a"
             ],
             [
              0.8888888888888888,
              "#fdca26"
             ],
             [
              1,
              "#f0f921"
             ]
            ],
            "type": "histogram2d"
           }
          ],
          "histogram2dcontour": [
           {
            "colorbar": {
             "outlinewidth": 0,
             "ticks": ""
            },
            "colorscale": [
             [
              0,
              "#0d0887"
             ],
             [
              0.1111111111111111,
              "#46039f"
             ],
             [
              0.2222222222222222,
              "#7201a8"
             ],
             [
              0.3333333333333333,
              "#9c179e"
             ],
             [
              0.4444444444444444,
              "#bd3786"
             ],
             [
              0.5555555555555556,
              "#d8576b"
             ],
             [
              0.6666666666666666,
              "#ed7953"
             ],
             [
              0.7777777777777778,
              "#fb9f3a"
             ],
             [
              0.8888888888888888,
              "#fdca26"
             ],
             [
              1,
              "#f0f921"
             ]
            ],
            "type": "histogram2dcontour"
           }
          ],
          "mesh3d": [
           {
            "colorbar": {
             "outlinewidth": 0,
             "ticks": ""
            },
            "type": "mesh3d"
           }
          ],
          "parcoords": [
           {
            "line": {
             "colorbar": {
              "outlinewidth": 0,
              "ticks": ""
             }
            },
            "type": "parcoords"
           }
          ],
          "pie": [
           {
            "automargin": true,
            "type": "pie"
           }
          ],
          "scatter": [
           {
            "fillpattern": {
             "fillmode": "overlay",
             "size": 10,
             "solidity": 0.2
            },
            "type": "scatter"
           }
          ],
          "scatter3d": [
           {
            "line": {
             "colorbar": {
              "outlinewidth": 0,
              "ticks": ""
             }
            },
            "marker": {
             "colorbar": {
              "outlinewidth": 0,
              "ticks": ""
             }
            },
            "type": "scatter3d"
           }
          ],
          "scattercarpet": [
           {
            "marker": {
             "colorbar": {
              "outlinewidth": 0,
              "ticks": ""
             }
            },
            "type": "scattercarpet"
           }
          ],
          "scattergeo": [
           {
            "marker": {
             "colorbar": {
              "outlinewidth": 0,
              "ticks": ""
             }
            },
            "type": "scattergeo"
           }
          ],
          "scattergl": [
           {
            "marker": {
             "colorbar": {
              "outlinewidth": 0,
              "ticks": ""
             }
            },
            "type": "scattergl"
           }
          ],
          "scattermapbox": [
           {
            "marker": {
             "colorbar": {
              "outlinewidth": 0,
              "ticks": ""
             }
            },
            "type": "scattermapbox"
           }
          ],
          "scatterpolar": [
           {
            "marker": {
             "colorbar": {
              "outlinewidth": 0,
              "ticks": ""
             }
            },
            "type": "scatterpolar"
           }
          ],
          "scatterpolargl": [
           {
            "marker": {
             "colorbar": {
              "outlinewidth": 0,
              "ticks": ""
             }
            },
            "type": "scatterpolargl"
           }
          ],
          "scatterternary": [
           {
            "marker": {
             "colorbar": {
              "outlinewidth": 0,
              "ticks": ""
             }
            },
            "type": "scatterternary"
           }
          ],
          "surface": [
           {
            "colorbar": {
             "outlinewidth": 0,
             "ticks": ""
            },
            "colorscale": [
             [
              0,
              "#0d0887"
             ],
             [
              0.1111111111111111,
              "#46039f"
             ],
             [
              0.2222222222222222,
              "#7201a8"
             ],
             [
              0.3333333333333333,
              "#9c179e"
             ],
             [
              0.4444444444444444,
              "#bd3786"
             ],
             [
              0.5555555555555556,
              "#d8576b"
             ],
             [
              0.6666666666666666,
              "#ed7953"
             ],
             [
              0.7777777777777778,
              "#fb9f3a"
             ],
             [
              0.8888888888888888,
              "#fdca26"
             ],
             [
              1,
              "#f0f921"
             ]
            ],
            "type": "surface"
           }
          ],
          "table": [
           {
            "cells": {
             "fill": {
              "color": "#EBF0F8"
             },
             "line": {
              "color": "white"
             }
            },
            "header": {
             "fill": {
              "color": "#C8D4E3"
             },
             "line": {
              "color": "white"
             }
            },
            "type": "table"
           }
          ]
         },
         "layout": {
          "annotationdefaults": {
           "arrowcolor": "#2a3f5f",
           "arrowhead": 0,
           "arrowwidth": 1
          },
          "autotypenumbers": "strict",
          "coloraxis": {
           "colorbar": {
            "outlinewidth": 0,
            "ticks": ""
           }
          },
          "colorscale": {
           "diverging": [
            [
             0,
             "#8e0152"
            ],
            [
             0.1,
             "#c51b7d"
            ],
            [
             0.2,
             "#de77ae"
            ],
            [
             0.3,
             "#f1b6da"
            ],
            [
             0.4,
             "#fde0ef"
            ],
            [
             0.5,
             "#f7f7f7"
            ],
            [
             0.6,
             "#e6f5d0"
            ],
            [
             0.7,
             "#b8e186"
            ],
            [
             0.8,
             "#7fbc41"
            ],
            [
             0.9,
             "#4d9221"
            ],
            [
             1,
             "#276419"
            ]
           ],
           "sequential": [
            [
             0,
             "#0d0887"
            ],
            [
             0.1111111111111111,
             "#46039f"
            ],
            [
             0.2222222222222222,
             "#7201a8"
            ],
            [
             0.3333333333333333,
             "#9c179e"
            ],
            [
             0.4444444444444444,
             "#bd3786"
            ],
            [
             0.5555555555555556,
             "#d8576b"
            ],
            [
             0.6666666666666666,
             "#ed7953"
            ],
            [
             0.7777777777777778,
             "#fb9f3a"
            ],
            [
             0.8888888888888888,
             "#fdca26"
            ],
            [
             1,
             "#f0f921"
            ]
           ],
           "sequentialminus": [
            [
             0,
             "#0d0887"
            ],
            [
             0.1111111111111111,
             "#46039f"
            ],
            [
             0.2222222222222222,
             "#7201a8"
            ],
            [
             0.3333333333333333,
             "#9c179e"
            ],
            [
             0.4444444444444444,
             "#bd3786"
            ],
            [
             0.5555555555555556,
             "#d8576b"
            ],
            [
             0.6666666666666666,
             "#ed7953"
            ],
            [
             0.7777777777777778,
             "#fb9f3a"
            ],
            [
             0.8888888888888888,
             "#fdca26"
            ],
            [
             1,
             "#f0f921"
            ]
           ]
          },
          "colorway": [
           "#636efa",
           "#EF553B",
           "#00cc96",
           "#ab63fa",
           "#FFA15A",
           "#19d3f3",
           "#FF6692",
           "#B6E880",
           "#FF97FF",
           "#FECB52"
          ],
          "font": {
           "color": "#2a3f5f"
          },
          "geo": {
           "bgcolor": "white",
           "lakecolor": "white",
           "landcolor": "#E5ECF6",
           "showlakes": true,
           "showland": true,
           "subunitcolor": "white"
          },
          "hoverlabel": {
           "align": "left"
          },
          "hovermode": "closest",
          "mapbox": {
           "style": "light"
          },
          "paper_bgcolor": "white",
          "plot_bgcolor": "#E5ECF6",
          "polar": {
           "angularaxis": {
            "gridcolor": "white",
            "linecolor": "white",
            "ticks": ""
           },
           "bgcolor": "#E5ECF6",
           "radialaxis": {
            "gridcolor": "white",
            "linecolor": "white",
            "ticks": ""
           }
          },
          "scene": {
           "xaxis": {
            "backgroundcolor": "#E5ECF6",
            "gridcolor": "white",
            "gridwidth": 2,
            "linecolor": "white",
            "showbackground": true,
            "ticks": "",
            "zerolinecolor": "white"
           },
           "yaxis": {
            "backgroundcolor": "#E5ECF6",
            "gridcolor": "white",
            "gridwidth": 2,
            "linecolor": "white",
            "showbackground": true,
            "ticks": "",
            "zerolinecolor": "white"
           },
           "zaxis": {
            "backgroundcolor": "#E5ECF6",
            "gridcolor": "white",
            "gridwidth": 2,
            "linecolor": "white",
            "showbackground": true,
            "ticks": "",
            "zerolinecolor": "white"
           }
          },
          "shapedefaults": {
           "line": {
            "color": "#2a3f5f"
           }
          },
          "ternary": {
           "aaxis": {
            "gridcolor": "white",
            "linecolor": "white",
            "ticks": ""
           },
           "baxis": {
            "gridcolor": "white",
            "linecolor": "white",
            "ticks": ""
           },
           "bgcolor": "#E5ECF6",
           "caxis": {
            "gridcolor": "white",
            "linecolor": "white",
            "ticks": ""
           }
          },
          "title": {
           "x": 0.05
          },
          "xaxis": {
           "automargin": true,
           "gridcolor": "white",
           "linecolor": "white",
           "ticks": "",
           "title": {
            "standoff": 15
           },
           "zerolinecolor": "white",
           "zerolinewidth": 2
          },
          "yaxis": {
           "automargin": true,
           "gridcolor": "white",
           "linecolor": "white",
           "ticks": "",
           "title": {
            "standoff": 15
           },
           "zerolinecolor": "white",
           "zerolinewidth": 2
          }
         }
        },
        "xaxis": {
         "anchor": "y",
         "domain": [
          0,
          0.45
         ]
        },
        "xaxis2": {
         "anchor": "y2",
         "domain": [
          0.55,
          1
         ]
        },
        "yaxis": {
         "anchor": "x",
         "domain": [
          0,
          1
         ]
        },
        "yaxis2": {
         "anchor": "x2",
         "domain": [
          0,
          1
         ]
        }
       }
      }
     },
     "metadata": {},
     "output_type": "display_data"
    },
    {
     "data": {
      "application/vnd.plotly.v1+json": {
       "config": {
        "plotlyServerURL": "https://plot.ly"
       },
       "data": [
        {
         "marker": {
          "color": "#2E86AB"
         },
         "orientation": "h",
         "text": [
          "0.080",
          "0.072",
          "0.059",
          "0.057",
          "0.057",
          "0.053",
          "0.052",
          "0.048",
          "0.043",
          "0.040"
         ],
         "textposition": "auto",
         "type": "bar",
         "x": [
          0.07997281938900123,
          0.0719652651544416,
          0.05859006970069828,
          0.05668906544873458,
          0.05662405532548564,
          0.052868082087292885,
          0.05169174400273455,
          0.04768694666529433,
          0.04320397543367736,
          0.03963314860108091
         ],
         "y": [
          "concavity error",
          "area error",
          "worst perimeter",
          "radius error",
          "fractal dimension error",
          "texture error",
          "mean concave points",
          "mean texture",
          "mean radius",
          "smoothness error"
         ]
        }
       ],
       "layout": {
        "height": 400,
        "template": {
         "data": {
          "bar": [
           {
            "error_x": {
             "color": "#2a3f5f"
            },
            "error_y": {
             "color": "#2a3f5f"
            },
            "marker": {
             "line": {
              "color": "#E5ECF6",
              "width": 0.5
             },
             "pattern": {
              "fillmode": "overlay",
              "size": 10,
              "solidity": 0.2
             }
            },
            "type": "bar"
           }
          ],
          "barpolar": [
           {
            "marker": {
             "line": {
              "color": "#E5ECF6",
              "width": 0.5
             },
             "pattern": {
              "fillmode": "overlay",
              "size": 10,
              "solidity": 0.2
             }
            },
            "type": "barpolar"
           }
          ],
          "carpet": [
           {
            "aaxis": {
             "endlinecolor": "#2a3f5f",
             "gridcolor": "white",
             "linecolor": "white",
             "minorgridcolor": "white",
             "startlinecolor": "#2a3f5f"
            },
            "baxis": {
             "endlinecolor": "#2a3f5f",
             "gridcolor": "white",
             "linecolor": "white",
             "minorgridcolor": "white",
             "startlinecolor": "#2a3f5f"
            },
            "type": "carpet"
           }
          ],
          "choropleth": [
           {
            "colorbar": {
             "outlinewidth": 0,
             "ticks": ""
            },
            "type": "choropleth"
           }
          ],
          "contour": [
           {
            "colorbar": {
             "outlinewidth": 0,
             "ticks": ""
            },
            "colorscale": [
             [
              0,
              "#0d0887"
             ],
             [
              0.1111111111111111,
              "#46039f"
             ],
             [
              0.2222222222222222,
              "#7201a8"
             ],
             [
              0.3333333333333333,
              "#9c179e"
             ],
             [
              0.4444444444444444,
              "#bd3786"
             ],
             [
              0.5555555555555556,
              "#d8576b"
             ],
             [
              0.6666666666666666,
              "#ed7953"
             ],
             [
              0.7777777777777778,
              "#fb9f3a"
             ],
             [
              0.8888888888888888,
              "#fdca26"
             ],
             [
              1,
              "#f0f921"
             ]
            ],
            "type": "contour"
           }
          ],
          "contourcarpet": [
           {
            "colorbar": {
             "outlinewidth": 0,
             "ticks": ""
            },
            "type": "contourcarpet"
           }
          ],
          "heatmap": [
           {
            "colorbar": {
             "outlinewidth": 0,
             "ticks": ""
            },
            "colorscale": [
             [
              0,
              "#0d0887"
             ],
             [
              0.1111111111111111,
              "#46039f"
             ],
             [
              0.2222222222222222,
              "#7201a8"
             ],
             [
              0.3333333333333333,
              "#9c179e"
             ],
             [
              0.4444444444444444,
              "#bd3786"
             ],
             [
              0.5555555555555556,
              "#d8576b"
             ],
             [
              0.6666666666666666,
              "#ed7953"
             ],
             [
              0.7777777777777778,
              "#fb9f3a"
             ],
             [
              0.8888888888888888,
              "#fdca26"
             ],
             [
              1,
              "#f0f921"
             ]
            ],
            "type": "heatmap"
           }
          ],
          "heatmapgl": [
           {
            "colorbar": {
             "outlinewidth": 0,
             "ticks": ""
            },
            "colorscale": [
             [
              0,
              "#0d0887"
             ],
             [
              0.1111111111111111,
              "#46039f"
             ],
             [
              0.2222222222222222,
              "#7201a8"
             ],
             [
              0.3333333333333333,
              "#9c179e"
             ],
             [
              0.4444444444444444,
              "#bd3786"
             ],
             [
              0.5555555555555556,
              "#d8576b"
             ],
             [
              0.6666666666666666,
              "#ed7953"
             ],
             [
              0.7777777777777778,
              "#fb9f3a"
             ],
             [
              0.8888888888888888,
              "#fdca26"
             ],
             [
              1,
              "#f0f921"
             ]
            ],
            "type": "heatmapgl"
           }
          ],
          "histogram": [
           {
            "marker": {
             "pattern": {
              "fillmode": "overlay",
              "size": 10,
              "solidity": 0.2
             }
            },
            "type": "histogram"
           }
          ],
          "histogram2d": [
           {
            "colorbar": {
             "outlinewidth": 0,
             "ticks": ""
            },
            "colorscale": [
             [
              0,
              "#0d0887"
             ],
             [
              0.1111111111111111,
              "#46039f"
             ],
             [
              0.2222222222222222,
              "#7201a8"
             ],
             [
              0.3333333333333333,
              "#9c179e"
             ],
             [
              0.4444444444444444,
              "#bd3786"
             ],
             [
              0.5555555555555556,
              "#d8576b"
             ],
             [
              0.6666666666666666,
              "#ed7953"
             ],
             [
              0.7777777777777778,
              "#fb9f3a"
             ],
             [
              0.8888888888888888,
              "#fdca26"
             ],
             [
              1,
              "#f0f921"
             ]
            ],
            "type": "histogram2d"
           }
          ],
          "histogram2dcontour": [
           {
            "colorbar": {
             "outlinewidth": 0,
             "ticks": ""
            },
            "colorscale": [
             [
              0,
              "#0d0887"
             ],
             [
              0.1111111111111111,
              "#46039f"
             ],
             [
              0.2222222222222222,
              "#7201a8"
             ],
             [
              0.3333333333333333,
              "#9c179e"
             ],
             [
              0.4444444444444444,
              "#bd3786"
             ],
             [
              0.5555555555555556,
              "#d8576b"
             ],
             [
              0.6666666666666666,
              "#ed7953"
             ],
             [
              0.7777777777777778,
              "#fb9f3a"
             ],
             [
              0.8888888888888888,
              "#fdca26"
             ],
             [
              1,
              "#f0f921"
             ]
            ],
            "type": "histogram2dcontour"
           }
          ],
          "mesh3d": [
           {
            "colorbar": {
             "outlinewidth": 0,
             "ticks": ""
            },
            "type": "mesh3d"
           }
          ],
          "parcoords": [
           {
            "line": {
             "colorbar": {
              "outlinewidth": 0,
              "ticks": ""
             }
            },
            "type": "parcoords"
           }
          ],
          "pie": [
           {
            "automargin": true,
            "type": "pie"
           }
          ],
          "scatter": [
           {
            "fillpattern": {
             "fillmode": "overlay",
             "size": 10,
             "solidity": 0.2
            },
            "type": "scatter"
           }
          ],
          "scatter3d": [
           {
            "line": {
             "colorbar": {
              "outlinewidth": 0,
              "ticks": ""
             }
            },
            "marker": {
             "colorbar": {
              "outlinewidth": 0,
              "ticks": ""
             }
            },
            "type": "scatter3d"
           }
          ],
          "scattercarpet": [
           {
            "marker": {
             "colorbar": {
              "outlinewidth": 0,
              "ticks": ""
             }
            },
            "type": "scattercarpet"
           }
          ],
          "scattergeo": [
           {
            "marker": {
             "colorbar": {
              "outlinewidth": 0,
              "ticks": ""
             }
            },
            "type": "scattergeo"
           }
          ],
          "scattergl": [
           {
            "marker": {
             "colorbar": {
              "outlinewidth": 0,
              "ticks": ""
             }
            },
            "type": "scattergl"
           }
          ],
          "scattermapbox": [
           {
            "marker": {
             "colorbar": {
              "outlinewidth": 0,
              "ticks": ""
             }
            },
            "type": "scattermapbox"
           }
          ],
          "scatterpolar": [
           {
            "marker": {
             "colorbar": {
              "outlinewidth": 0,
              "ticks": ""
             }
            },
            "type": "scatterpolar"
           }
          ],
          "scatterpolargl": [
           {
            "marker": {
             "colorbar": {
              "outlinewidth": 0,
              "ticks": ""
             }
            },
            "type": "scatterpolargl"
           }
          ],
          "scatterternary": [
           {
            "marker": {
             "colorbar": {
              "outlinewidth": 0,
              "ticks": ""
             }
            },
            "type": "scatterternary"
           }
          ],
          "surface": [
           {
            "colorbar": {
             "outlinewidth": 0,
             "ticks": ""
            },
            "colorscale": [
             [
              0,
              "#0d0887"
             ],
             [
              0.1111111111111111,
              "#46039f"
             ],
             [
              0.2222222222222222,
              "#7201a8"
             ],
             [
              0.3333333333333333,
              "#9c179e"
             ],
             [
              0.4444444444444444,
              "#bd3786"
             ],
             [
              0.5555555555555556,
              "#d8576b"
             ],
             [
              0.6666666666666666,
              "#ed7953"
             ],
             [
              0.7777777777777778,
              "#fb9f3a"
             ],
             [
              0.8888888888888888,
              "#fdca26"
             ],
             [
              1,
              "#f0f921"
             ]
            ],
            "type": "surface"
           }
          ],
          "table": [
           {
            "cells": {
             "fill": {
              "color": "#EBF0F8"
             },
             "line": {
              "color": "white"
             }
            },
            "header": {
             "fill": {
              "color": "#C8D4E3"
             },
             "line": {
              "color": "white"
             }
            },
            "type": "table"
           }
          ]
         },
         "layout": {
          "annotationdefaults": {
           "arrowcolor": "#2a3f5f",
           "arrowhead": 0,
           "arrowwidth": 1
          },
          "autotypenumbers": "strict",
          "coloraxis": {
           "colorbar": {
            "outlinewidth": 0,
            "ticks": ""
           }
          },
          "colorscale": {
           "diverging": [
            [
             0,
             "#8e0152"
            ],
            [
             0.1,
             "#c51b7d"
            ],
            [
             0.2,
             "#de77ae"
            ],
            [
             0.3,
             "#f1b6da"
            ],
            [
             0.4,
             "#fde0ef"
            ],
            [
             0.5,
             "#f7f7f7"
            ],
            [
             0.6,
             "#e6f5d0"
            ],
            [
             0.7,
             "#b8e186"
            ],
            [
             0.8,
             "#7fbc41"
            ],
            [
             0.9,
             "#4d9221"
            ],
            [
             1,
             "#276419"
            ]
           ],
           "sequential": [
            [
             0,
             "#0d0887"
            ],
            [
             0.1111111111111111,
             "#46039f"
            ],
            [
             0.2222222222222222,
             "#7201a8"
            ],
            [
             0.3333333333333333,
             "#9c179e"
            ],
            [
             0.4444444444444444,
             "#bd3786"
            ],
            [
             0.5555555555555556,
             "#d8576b"
            ],
            [
             0.6666666666666666,
             "#ed7953"
            ],
            [
             0.7777777777777778,
             "#fb9f3a"
            ],
            [
             0.8888888888888888,
             "#fdca26"
            ],
            [
             1,
             "#f0f921"
            ]
           ],
           "sequentialminus": [
            [
             0,
             "#0d0887"
            ],
            [
             0.1111111111111111,
             "#46039f"
            ],
            [
             0.2222222222222222,
             "#7201a8"
            ],
            [
             0.3333333333333333,
             "#9c179e"
            ],
            [
             0.4444444444444444,
             "#bd3786"
            ],
            [
             0.5555555555555556,
             "#d8576b"
            ],
            [
             0.6666666666666666,
             "#ed7953"
            ],
            [
             0.7777777777777778,
             "#fb9f3a"
            ],
            [
             0.8888888888888888,
             "#fdca26"
            ],
            [
             1,
             "#f0f921"
            ]
           ]
          },
          "colorway": [
           "#636efa",
           "#EF553B",
           "#00cc96",
           "#ab63fa",
           "#FFA15A",
           "#19d3f3",
           "#FF6692",
           "#B6E880",
           "#FF97FF",
           "#FECB52"
          ],
          "font": {
           "color": "#2a3f5f"
          },
          "geo": {
           "bgcolor": "white",
           "lakecolor": "white",
           "landcolor": "#E5ECF6",
           "showlakes": true,
           "showland": true,
           "subunitcolor": "white"
          },
          "hoverlabel": {
           "align": "left"
          },
          "hovermode": "closest",
          "mapbox": {
           "style": "light"
          },
          "paper_bgcolor": "white",
          "plot_bgcolor": "#E5ECF6",
          "polar": {
           "angularaxis": {
            "gridcolor": "white",
            "linecolor": "white",
            "ticks": ""
           },
           "bgcolor": "#E5ECF6",
           "radialaxis": {
            "gridcolor": "white",
            "linecolor": "white",
            "ticks": ""
           }
          },
          "scene": {
           "xaxis": {
            "backgroundcolor": "#E5ECF6",
            "gridcolor": "white",
            "gridwidth": 2,
            "linecolor": "white",
            "showbackground": true,
            "ticks": "",
            "zerolinecolor": "white"
           },
           "yaxis": {
            "backgroundcolor": "#E5ECF6",
            "gridcolor": "white",
            "gridwidth": 2,
            "linecolor": "white",
            "showbackground": true,
            "ticks": "",
            "zerolinecolor": "white"
           },
           "zaxis": {
            "backgroundcolor": "#E5ECF6",
            "gridcolor": "white",
            "gridwidth": 2,
            "linecolor": "white",
            "showbackground": true,
            "ticks": "",
            "zerolinecolor": "white"
           }
          },
          "shapedefaults": {
           "line": {
            "color": "#2a3f5f"
           }
          },
          "ternary": {
           "aaxis": {
            "gridcolor": "white",
            "linecolor": "white",
            "ticks": ""
           },
           "baxis": {
            "gridcolor": "white",
            "linecolor": "white",
            "ticks": ""
           },
           "bgcolor": "#E5ECF6",
           "caxis": {
            "gridcolor": "white",
            "linecolor": "white",
            "ticks": ""
           }
          },
          "title": {
           "x": 0.05
          },
          "xaxis": {
           "automargin": true,
           "gridcolor": "white",
           "linecolor": "white",
           "ticks": "",
           "title": {
            "standoff": 15
           },
           "zerolinecolor": "white",
           "zerolinewidth": 2
          },
          "yaxis": {
           "automargin": true,
           "gridcolor": "white",
           "linecolor": "white",
           "ticks": "",
           "title": {
            "standoff": 15
           },
           "zerolinecolor": "white",
           "zerolinewidth": 2
          }
         }
        },
        "title": {
         "text": "Важность признаков - Bagging"
        },
        "xaxis": {
         "title": {
          "text": "Важность"
         }
        },
        "yaxis": {
         "title": {
          "text": "Признаки"
         }
        }
       }
      }
     },
     "metadata": {},
     "output_type": "display_data"
    },
    {
     "data": {
      "application/vnd.plotly.v1+json": {
       "config": {
        "plotlyServerURL": "https://plot.ly"
       },
       "data": [
        {
         "marker": {
          "color": [
           0.935672514619883,
           0.9181286549707602,
           0.9415204678362573,
           0.9298245614035088
          ],
          "colorbar": {
           "title": {
            "text": "Test Accuracy"
           }
          },
          "colorscale": [
           [
            0,
            "#440154"
           ],
           [
            0.1111111111111111,
            "#482878"
           ],
           [
            0.2222222222222222,
            "#3e4989"
           ],
           [
            0.3333333333333333,
            "#31688e"
           ],
           [
            0.4444444444444444,
            "#26828e"
           ],
           [
            0.5555555555555556,
            "#1f9e89"
           ],
           [
            0.6666666666666666,
            "#35b779"
           ],
           [
            0.7777777777777778,
            "#6ece58"
           ],
           [
            0.8888888888888888,
            "#b5de2b"
           ],
           [
            1,
            "#fde725"
           ]
          ],
          "showscale": true,
          "size": 15
         },
         "mode": "markers+text",
         "name": "Модели",
         "text": [
          "Decision Tree",
          "Decision Tree (глубокое)",
          "Bagging",
          "Random Forest"
         ],
         "textposition": "top center",
         "type": "scatter",
         "x": [
          0.9196835443037974,
          0.9247468354430379,
          0.9624050632911393,
          0.9699683544303797
         ],
         "y": [
          0.022981874593822376,
          0.03693277952568736,
          0.02850501801288252,
          0.02316023339328855
         ]
        }
       ],
       "layout": {
        "height": 500,
        "template": {
         "data": {
          "bar": [
           {
            "error_x": {
             "color": "#2a3f5f"
            },
            "error_y": {
             "color": "#2a3f5f"
            },
            "marker": {
             "line": {
              "color": "#E5ECF6",
              "width": 0.5
             },
             "pattern": {
              "fillmode": "overlay",
              "size": 10,
              "solidity": 0.2
             }
            },
            "type": "bar"
           }
          ],
          "barpolar": [
           {
            "marker": {
             "line": {
              "color": "#E5ECF6",
              "width": 0.5
             },
             "pattern": {
              "fillmode": "overlay",
              "size": 10,
              "solidity": 0.2
             }
            },
            "type": "barpolar"
           }
          ],
          "carpet": [
           {
            "aaxis": {
             "endlinecolor": "#2a3f5f",
             "gridcolor": "white",
             "linecolor": "white",
             "minorgridcolor": "white",
             "startlinecolor": "#2a3f5f"
            },
            "baxis": {
             "endlinecolor": "#2a3f5f",
             "gridcolor": "white",
             "linecolor": "white",
             "minorgridcolor": "white",
             "startlinecolor": "#2a3f5f"
            },
            "type": "carpet"
           }
          ],
          "choropleth": [
           {
            "colorbar": {
             "outlinewidth": 0,
             "ticks": ""
            },
            "type": "choropleth"
           }
          ],
          "contour": [
           {
            "colorbar": {
             "outlinewidth": 0,
             "ticks": ""
            },
            "colorscale": [
             [
              0,
              "#0d0887"
             ],
             [
              0.1111111111111111,
              "#46039f"
             ],
             [
              0.2222222222222222,
              "#7201a8"
             ],
             [
              0.3333333333333333,
              "#9c179e"
             ],
             [
              0.4444444444444444,
              "#bd3786"
             ],
             [
              0.5555555555555556,
              "#d8576b"
             ],
             [
              0.6666666666666666,
              "#ed7953"
             ],
             [
              0.7777777777777778,
              "#fb9f3a"
             ],
             [
              0.8888888888888888,
              "#fdca26"
             ],
             [
              1,
              "#f0f921"
             ]
            ],
            "type": "contour"
           }
          ],
          "contourcarpet": [
           {
            "colorbar": {
             "outlinewidth": 0,
             "ticks": ""
            },
            "type": "contourcarpet"
           }
          ],
          "heatmap": [
           {
            "colorbar": {
             "outlinewidth": 0,
             "ticks": ""
            },
            "colorscale": [
             [
              0,
              "#0d0887"
             ],
             [
              0.1111111111111111,
              "#46039f"
             ],
             [
              0.2222222222222222,
              "#7201a8"
             ],
             [
              0.3333333333333333,
              "#9c179e"
             ],
             [
              0.4444444444444444,
              "#bd3786"
             ],
             [
              0.5555555555555556,
              "#d8576b"
             ],
             [
              0.6666666666666666,
              "#ed7953"
             ],
             [
              0.7777777777777778,
              "#fb9f3a"
             ],
             [
              0.8888888888888888,
              "#fdca26"
             ],
             [
              1,
              "#f0f921"
             ]
            ],
            "type": "heatmap"
           }
          ],
          "heatmapgl": [
           {
            "colorbar": {
             "outlinewidth": 0,
             "ticks": ""
            },
            "colorscale": [
             [
              0,
              "#0d0887"
             ],
             [
              0.1111111111111111,
              "#46039f"
             ],
             [
              0.2222222222222222,
              "#7201a8"
             ],
             [
              0.3333333333333333,
              "#9c179e"
             ],
             [
              0.4444444444444444,
              "#bd3786"
             ],
             [
              0.5555555555555556,
              "#d8576b"
             ],
             [
              0.6666666666666666,
              "#ed7953"
             ],
             [
              0.7777777777777778,
              "#fb9f3a"
             ],
             [
              0.8888888888888888,
              "#fdca26"
             ],
             [
              1,
              "#f0f921"
             ]
            ],
            "type": "heatmapgl"
           }
          ],
          "histogram": [
           {
            "marker": {
             "pattern": {
              "fillmode": "overlay",
              "size": 10,
              "solidity": 0.2
             }
            },
            "type": "histogram"
           }
          ],
          "histogram2d": [
           {
            "colorbar": {
             "outlinewidth": 0,
             "ticks": ""
            },
            "colorscale": [
             [
              0,
              "#0d0887"
             ],
             [
              0.1111111111111111,
              "#46039f"
             ],
             [
              0.2222222222222222,
              "#7201a8"
             ],
             [
              0.3333333333333333,
              "#9c179e"
             ],
             [
              0.4444444444444444,
              "#bd3786"
             ],
             [
              0.5555555555555556,
              "#d8576b"
             ],
             [
              0.6666666666666666,
              "#ed7953"
             ],
             [
              0.7777777777777778,
              "#fb9f3a"
             ],
             [
              0.8888888888888888,
              "#fdca26"
             ],
             [
              1,
              "#f0f921"
             ]
            ],
            "type": "histogram2d"
           }
          ],
          "histogram2dcontour": [
           {
            "colorbar": {
             "outlinewidth": 0,
             "ticks": ""
            },
            "colorscale": [
             [
              0,
              "#0d0887"
             ],
             [
              0.1111111111111111,
              "#46039f"
             ],
             [
              0.2222222222222222,
              "#7201a8"
             ],
             [
              0.3333333333333333,
              "#9c179e"
             ],
             [
              0.4444444444444444,
              "#bd3786"
             ],
             [
              0.5555555555555556,
              "#d8576b"
             ],
             [
              0.6666666666666666,
              "#ed7953"
             ],
             [
              0.7777777777777778,
              "#fb9f3a"
             ],
             [
              0.8888888888888888,
              "#fdca26"
             ],
             [
              1,
              "#f0f921"
             ]
            ],
            "type": "histogram2dcontour"
           }
          ],
          "mesh3d": [
           {
            "colorbar": {
             "outlinewidth": 0,
             "ticks": ""
            },
            "type": "mesh3d"
           }
          ],
          "parcoords": [
           {
            "line": {
             "colorbar": {
              "outlinewidth": 0,
              "ticks": ""
             }
            },
            "type": "parcoords"
           }
          ],
          "pie": [
           {
            "automargin": true,
            "type": "pie"
           }
          ],
          "scatter": [
           {
            "fillpattern": {
             "fillmode": "overlay",
             "size": 10,
             "solidity": 0.2
            },
            "type": "scatter"
           }
          ],
          "scatter3d": [
           {
            "line": {
             "colorbar": {
              "outlinewidth": 0,
              "ticks": ""
             }
            },
            "marker": {
             "colorbar": {
              "outlinewidth": 0,
              "ticks": ""
             }
            },
            "type": "scatter3d"
           }
          ],
          "scattercarpet": [
           {
            "marker": {
             "colorbar": {
              "outlinewidth": 0,
              "ticks": ""
             }
            },
            "type": "scattercarpet"
           }
          ],
          "scattergeo": [
           {
            "marker": {
             "colorbar": {
              "outlinewidth": 0,
              "ticks": ""
             }
            },
            "type": "scattergeo"
           }
          ],
          "scattergl": [
           {
            "marker": {
             "colorbar": {
              "outlinewidth": 0,
              "ticks": ""
             }
            },
            "type": "scattergl"
           }
          ],
          "scattermapbox": [
           {
            "marker": {
             "colorbar": {
              "outlinewidth": 0,
              "ticks": ""
             }
            },
            "type": "scattermapbox"
           }
          ],
          "scatterpolar": [
           {
            "marker": {
             "colorbar": {
              "outlinewidth": 0,
              "ticks": ""
             }
            },
            "type": "scatterpolar"
           }
          ],
          "scatterpolargl": [
           {
            "marker": {
             "colorbar": {
              "outlinewidth": 0,
              "ticks": ""
             }
            },
            "type": "scatterpolargl"
           }
          ],
          "scatterternary": [
           {
            "marker": {
             "colorbar": {
              "outlinewidth": 0,
              "ticks": ""
             }
            },
            "type": "scatterternary"
           }
          ],
          "surface": [
           {
            "colorbar": {
             "outlinewidth": 0,
             "ticks": ""
            },
            "colorscale": [
             [
              0,
              "#0d0887"
             ],
             [
              0.1111111111111111,
              "#46039f"
             ],
             [
              0.2222222222222222,
              "#7201a8"
             ],
             [
              0.3333333333333333,
              "#9c179e"
             ],
             [
              0.4444444444444444,
              "#bd3786"
             ],
             [
              0.5555555555555556,
              "#d8576b"
             ],
             [
              0.6666666666666666,
              "#ed7953"
             ],
             [
              0.7777777777777778,
              "#fb9f3a"
             ],
             [
              0.8888888888888888,
              "#fdca26"
             ],
             [
              1,
              "#f0f921"
             ]
            ],
            "type": "surface"
           }
          ],
          "table": [
           {
            "cells": {
             "fill": {
              "color": "#EBF0F8"
             },
             "line": {
              "color": "white"
             }
            },
            "header": {
             "fill": {
              "color": "#C8D4E3"
             },
             "line": {
              "color": "white"
             }
            },
            "type": "table"
           }
          ]
         },
         "layout": {
          "annotationdefaults": {
           "arrowcolor": "#2a3f5f",
           "arrowhead": 0,
           "arrowwidth": 1
          },
          "autotypenumbers": "strict",
          "coloraxis": {
           "colorbar": {
            "outlinewidth": 0,
            "ticks": ""
           }
          },
          "colorscale": {
           "diverging": [
            [
             0,
             "#8e0152"
            ],
            [
             0.1,
             "#c51b7d"
            ],
            [
             0.2,
             "#de77ae"
            ],
            [
             0.3,
             "#f1b6da"
            ],
            [
             0.4,
             "#fde0ef"
            ],
            [
             0.5,
             "#f7f7f7"
            ],
            [
             0.6,
             "#e6f5d0"
            ],
            [
             0.7,
             "#b8e186"
            ],
            [
             0.8,
             "#7fbc41"
            ],
            [
             0.9,
             "#4d9221"
            ],
            [
             1,
             "#276419"
            ]
           ],
           "sequential": [
            [
             0,
             "#0d0887"
            ],
            [
             0.1111111111111111,
             "#46039f"
            ],
            [
             0.2222222222222222,
             "#7201a8"
            ],
            [
             0.3333333333333333,
             "#9c179e"
            ],
            [
             0.4444444444444444,
             "#bd3786"
            ],
            [
             0.5555555555555556,
             "#d8576b"
            ],
            [
             0.6666666666666666,
             "#ed7953"
            ],
            [
             0.7777777777777778,
             "#fb9f3a"
            ],
            [
             0.8888888888888888,
             "#fdca26"
            ],
            [
             1,
             "#f0f921"
            ]
           ],
           "sequentialminus": [
            [
             0,
             "#0d0887"
            ],
            [
             0.1111111111111111,
             "#46039f"
            ],
            [
             0.2222222222222222,
             "#7201a8"
            ],
            [
             0.3333333333333333,
             "#9c179e"
            ],
            [
             0.4444444444444444,
             "#bd3786"
            ],
            [
             0.5555555555555556,
             "#d8576b"
            ],
            [
             0.6666666666666666,
             "#ed7953"
            ],
            [
             0.7777777777777778,
             "#fb9f3a"
            ],
            [
             0.8888888888888888,
             "#fdca26"
            ],
            [
             1,
             "#f0f921"
            ]
           ]
          },
          "colorway": [
           "#636efa",
           "#EF553B",
           "#00cc96",
           "#ab63fa",
           "#FFA15A",
           "#19d3f3",
           "#FF6692",
           "#B6E880",
           "#FF97FF",
           "#FECB52"
          ],
          "font": {
           "color": "#2a3f5f"
          },
          "geo": {
           "bgcolor": "white",
           "lakecolor": "white",
           "landcolor": "#E5ECF6",
           "showlakes": true,
           "showland": true,
           "subunitcolor": "white"
          },
          "hoverlabel": {
           "align": "left"
          },
          "hovermode": "closest",
          "mapbox": {
           "style": "light"
          },
          "paper_bgcolor": "white",
          "plot_bgcolor": "#E5ECF6",
          "polar": {
           "angularaxis": {
            "gridcolor": "white",
            "linecolor": "white",
            "ticks": ""
           },
           "bgcolor": "#E5ECF6",
           "radialaxis": {
            "gridcolor": "white",
            "linecolor": "white",
            "ticks": ""
           }
          },
          "scene": {
           "xaxis": {
            "backgroundcolor": "#E5ECF6",
            "gridcolor": "white",
            "gridwidth": 2,
            "linecolor": "white",
            "showbackground": true,
            "ticks": "",
            "zerolinecolor": "white"
           },
           "yaxis": {
            "backgroundcolor": "#E5ECF6",
            "gridcolor": "white",
            "gridwidth": 2,
            "linecolor": "white",
            "showbackground": true,
            "ticks": "",
            "zerolinecolor": "white"
           },
           "zaxis": {
            "backgroundcolor": "#E5ECF6",
            "gridcolor": "white",
            "gridwidth": 2,
            "linecolor": "white",
            "showbackground": true,
            "ticks": "",
            "zerolinecolor": "white"
           }
          },
          "shapedefaults": {
           "line": {
            "color": "#2a3f5f"
           }
          },
          "ternary": {
           "aaxis": {
            "gridcolor": "white",
            "linecolor": "white",
            "ticks": ""
           },
           "baxis": {
            "gridcolor": "white",
            "linecolor": "white",
            "ticks": ""
           },
           "bgcolor": "#E5ECF6",
           "caxis": {
            "gridcolor": "white",
            "linecolor": "white",
            "ticks": ""
           }
          },
          "title": {
           "x": 0.05
          },
          "xaxis": {
           "automargin": true,
           "gridcolor": "white",
           "linecolor": "white",
           "ticks": "",
           "title": {
            "standoff": 15
           },
           "zerolinecolor": "white",
           "zerolinewidth": 2
          },
          "yaxis": {
           "automargin": true,
           "gridcolor": "white",
           "linecolor": "white",
           "ticks": "",
           "title": {
            "standoff": 15
           },
           "zerolinecolor": "white",
           "zerolinewidth": 2
          }
         }
        },
        "title": {
         "text": "Производительность vs Стабильность моделей"
        },
        "xaxis": {
         "title": {
          "text": "CV Mean (Производительность)"
         }
        },
        "yaxis": {
         "title": {
          "text": "CV Std (Нестабильность)"
         }
        }
       }
      }
     },
     "metadata": {},
     "output_type": "display_data"
    }
   ],
   "source": [
    "# Комплексный анализ результатов\n",
    "print_model_summary(results_df)\n",
    "\n",
    "# Создаем основные визуализации\n",
    "fig_metrics = create_metrics_chart(results_df)\n",
    "fig_metrics.show()\n",
    "\n",
    "# Анализ важности признаков для лучшей модели\n",
    "best_model_name = results_df.loc[results_df['Test Accuracy'].idxmax()]['Модель']\n",
    "best_model_obj = models[best_model_name]\n",
    "\n",
    "fig_importance = create_importance_chart(best_model_obj, feature_names, \n",
    "                                       f\"Важность признаков - {best_model_name}\")\n",
    "if fig_importance:\n",
    "    fig_importance.show()\n",
    "\n",
    "# Дополнительный анализ производительности vs стабильности\n",
    "fig_scatter = go.Figure()\n",
    "\n",
    "fig_scatter.add_trace(\n",
    "    go.Scatter(x=results_df['CV Mean'], \n",
    "               y=results_df['CV Std'],\n",
    "               mode='markers+text',\n",
    "               text=results_df['Модель'],\n",
    "               textposition='top center',\n",
    "               marker=dict(\n",
    "                   size=15,\n",
    "                   color=results_df['Test Accuracy'],\n",
    "                   colorscale='Viridis',\n",
    "                   showscale=True,\n",
    "                   colorbar=dict(title=\"Test Accuracy\")\n",
    "               ),\n",
    "               name='Модели')\n",
    ")\n",
    "\n",
    "fig_scatter.update_layout(\n",
    "    title='Производительность vs Стабильность моделей',\n",
    "    xaxis_title='CV Mean (Производительность)',\n",
    "    yaxis_title='CV Std (Нестабильность)',\n",
    "    height=500\n",
    ")\n",
    "\n",
    "fig_scatter.show()"
   ]
  },
  {
   "cell_type": "code",
   "execution_count": 23,
   "id": "9f958025",
   "metadata": {},
   "outputs": [
    {
     "name": "stdout",
     "output_type": "stream",
     "text": [
      "Корреляция важности признаков между RF и Bagging: 0.9632\n"
     ]
    },
    {
     "data": {
      "application/vnd.plotly.v1+json": {
       "config": {
        "plotlyServerURL": "https://plot.ly"
       },
       "data": [
        {
         "marker": {
          "color": "#2E86AB"
         },
         "name": "Random Forest",
         "type": "bar",
         "x": [
          "mean radius",
          "mean texture",
          "mean perimeter",
          "mean area",
          "mean smoothness",
          "mean compactness",
          "mean concavity",
          "mean concave points",
          "mean symmetry",
          "mean fractal dimension"
         ],
         "y": [
          0.13648497675990495,
          0.13549923263852093,
          0.10309206124837504,
          0.09152952007343462,
          0.06889401056152443,
          0.06804415415154609,
          0.06576795063275036,
          0.058700961561419344,
          0.04094029960859025,
          0.040880451059684283
         ]
        },
        {
         "marker": {
          "color": "#A23B72"
         },
         "name": "Bagging",
         "type": "bar",
         "x": [
          "mean radius",
          "mean texture",
          "mean perimeter",
          "mean area",
          "mean smoothness",
          "mean compactness",
          "mean concavity",
          "mean concave points",
          "mean symmetry",
          "mean fractal dimension"
         ],
         "y": [
          0.07997281938900123,
          0.0719652651544416,
          0.05859006970069828,
          0.05668906544873458,
          0.05662405532548564,
          0.052868082087292885,
          0.05169174400273455,
          0.04768694666529433,
          0.04320397543367736,
          0.03963314860108091
         ]
        }
       ],
       "layout": {
        "barmode": "group",
        "height": 500,
        "template": {
         "data": {
          "bar": [
           {
            "error_x": {
             "color": "#2a3f5f"
            },
            "error_y": {
             "color": "#2a3f5f"
            },
            "marker": {
             "line": {
              "color": "#E5ECF6",
              "width": 0.5
             },
             "pattern": {
              "fillmode": "overlay",
              "size": 10,
              "solidity": 0.2
             }
            },
            "type": "bar"
           }
          ],
          "barpolar": [
           {
            "marker": {
             "line": {
              "color": "#E5ECF6",
              "width": 0.5
             },
             "pattern": {
              "fillmode": "overlay",
              "size": 10,
              "solidity": 0.2
             }
            },
            "type": "barpolar"
           }
          ],
          "carpet": [
           {
            "aaxis": {
             "endlinecolor": "#2a3f5f",
             "gridcolor": "white",
             "linecolor": "white",
             "minorgridcolor": "white",
             "startlinecolor": "#2a3f5f"
            },
            "baxis": {
             "endlinecolor": "#2a3f5f",
             "gridcolor": "white",
             "linecolor": "white",
             "minorgridcolor": "white",
             "startlinecolor": "#2a3f5f"
            },
            "type": "carpet"
           }
          ],
          "choropleth": [
           {
            "colorbar": {
             "outlinewidth": 0,
             "ticks": ""
            },
            "type": "choropleth"
           }
          ],
          "contour": [
           {
            "colorbar": {
             "outlinewidth": 0,
             "ticks": ""
            },
            "colorscale": [
             [
              0,
              "#0d0887"
             ],
             [
              0.1111111111111111,
              "#46039f"
             ],
             [
              0.2222222222222222,
              "#7201a8"
             ],
             [
              0.3333333333333333,
              "#9c179e"
             ],
             [
              0.4444444444444444,
              "#bd3786"
             ],
             [
              0.5555555555555556,
              "#d8576b"
             ],
             [
              0.6666666666666666,
              "#ed7953"
             ],
             [
              0.7777777777777778,
              "#fb9f3a"
             ],
             [
              0.8888888888888888,
              "#fdca26"
             ],
             [
              1,
              "#f0f921"
             ]
            ],
            "type": "contour"
           }
          ],
          "contourcarpet": [
           {
            "colorbar": {
             "outlinewidth": 0,
             "ticks": ""
            },
            "type": "contourcarpet"
           }
          ],
          "heatmap": [
           {
            "colorbar": {
             "outlinewidth": 0,
             "ticks": ""
            },
            "colorscale": [
             [
              0,
              "#0d0887"
             ],
             [
              0.1111111111111111,
              "#46039f"
             ],
             [
              0.2222222222222222,
              "#7201a8"
             ],
             [
              0.3333333333333333,
              "#9c179e"
             ],
             [
              0.4444444444444444,
              "#bd3786"
             ],
             [
              0.5555555555555556,
              "#d8576b"
             ],
             [
              0.6666666666666666,
              "#ed7953"
             ],
             [
              0.7777777777777778,
              "#fb9f3a"
             ],
             [
              0.8888888888888888,
              "#fdca26"
             ],
             [
              1,
              "#f0f921"
             ]
            ],
            "type": "heatmap"
           }
          ],
          "heatmapgl": [
           {
            "colorbar": {
             "outlinewidth": 0,
             "ticks": ""
            },
            "colorscale": [
             [
              0,
              "#0d0887"
             ],
             [
              0.1111111111111111,
              "#46039f"
             ],
             [
              0.2222222222222222,
              "#7201a8"
             ],
             [
              0.3333333333333333,
              "#9c179e"
             ],
             [
              0.4444444444444444,
              "#bd3786"
             ],
             [
              0.5555555555555556,
              "#d8576b"
             ],
             [
              0.6666666666666666,
              "#ed7953"
             ],
             [
              0.7777777777777778,
              "#fb9f3a"
             ],
             [
              0.8888888888888888,
              "#fdca26"
             ],
             [
              1,
              "#f0f921"
             ]
            ],
            "type": "heatmapgl"
           }
          ],
          "histogram": [
           {
            "marker": {
             "pattern": {
              "fillmode": "overlay",
              "size": 10,
              "solidity": 0.2
             }
            },
            "type": "histogram"
           }
          ],
          "histogram2d": [
           {
            "colorbar": {
             "outlinewidth": 0,
             "ticks": ""
            },
            "colorscale": [
             [
              0,
              "#0d0887"
             ],
             [
              0.1111111111111111,
              "#46039f"
             ],
             [
              0.2222222222222222,
              "#7201a8"
             ],
             [
              0.3333333333333333,
              "#9c179e"
             ],
             [
              0.4444444444444444,
              "#bd3786"
             ],
             [
              0.5555555555555556,
              "#d8576b"
             ],
             [
              0.6666666666666666,
              "#ed7953"
             ],
             [
              0.7777777777777778,
              "#fb9f3a"
             ],
             [
              0.8888888888888888,
              "#fdca26"
             ],
             [
              1,
              "#f0f921"
             ]
            ],
            "type": "histogram2d"
           }
          ],
          "histogram2dcontour": [
           {
            "colorbar": {
             "outlinewidth": 0,
             "ticks": ""
            },
            "colorscale": [
             [
              0,
              "#0d0887"
             ],
             [
              0.1111111111111111,
              "#46039f"
             ],
             [
              0.2222222222222222,
              "#7201a8"
             ],
             [
              0.3333333333333333,
              "#9c179e"
             ],
             [
              0.4444444444444444,
              "#bd3786"
             ],
             [
              0.5555555555555556,
              "#d8576b"
             ],
             [
              0.6666666666666666,
              "#ed7953"
             ],
             [
              0.7777777777777778,
              "#fb9f3a"
             ],
             [
              0.8888888888888888,
              "#fdca26"
             ],
             [
              1,
              "#f0f921"
             ]
            ],
            "type": "histogram2dcontour"
           }
          ],
          "mesh3d": [
           {
            "colorbar": {
             "outlinewidth": 0,
             "ticks": ""
            },
            "type": "mesh3d"
           }
          ],
          "parcoords": [
           {
            "line": {
             "colorbar": {
              "outlinewidth": 0,
              "ticks": ""
             }
            },
            "type": "parcoords"
           }
          ],
          "pie": [
           {
            "automargin": true,
            "type": "pie"
           }
          ],
          "scatter": [
           {
            "fillpattern": {
             "fillmode": "overlay",
             "size": 10,
             "solidity": 0.2
            },
            "type": "scatter"
           }
          ],
          "scatter3d": [
           {
            "line": {
             "colorbar": {
              "outlinewidth": 0,
              "ticks": ""
             }
            },
            "marker": {
             "colorbar": {
              "outlinewidth": 0,
              "ticks": ""
             }
            },
            "type": "scatter3d"
           }
          ],
          "scattercarpet": [
           {
            "marker": {
             "colorbar": {
              "outlinewidth": 0,
              "ticks": ""
             }
            },
            "type": "scattercarpet"
           }
          ],
          "scattergeo": [
           {
            "marker": {
             "colorbar": {
              "outlinewidth": 0,
              "ticks": ""
             }
            },
            "type": "scattergeo"
           }
          ],
          "scattergl": [
           {
            "marker": {
             "colorbar": {
              "outlinewidth": 0,
              "ticks": ""
             }
            },
            "type": "scattergl"
           }
          ],
          "scattermapbox": [
           {
            "marker": {
             "colorbar": {
              "outlinewidth": 0,
              "ticks": ""
             }
            },
            "type": "scattermapbox"
           }
          ],
          "scatterpolar": [
           {
            "marker": {
             "colorbar": {
              "outlinewidth": 0,
              "ticks": ""
             }
            },
            "type": "scatterpolar"
           }
          ],
          "scatterpolargl": [
           {
            "marker": {
             "colorbar": {
              "outlinewidth": 0,
              "ticks": ""
             }
            },
            "type": "scatterpolargl"
           }
          ],
          "scatterternary": [
           {
            "marker": {
             "colorbar": {
              "outlinewidth": 0,
              "ticks": ""
             }
            },
            "type": "scatterternary"
           }
          ],
          "surface": [
           {
            "colorbar": {
             "outlinewidth": 0,
             "ticks": ""
            },
            "colorscale": [
             [
              0,
              "#0d0887"
             ],
             [
              0.1111111111111111,
              "#46039f"
             ],
             [
              0.2222222222222222,
              "#7201a8"
             ],
             [
              0.3333333333333333,
              "#9c179e"
             ],
             [
              0.4444444444444444,
              "#bd3786"
             ],
             [
              0.5555555555555556,
              "#d8576b"
             ],
             [
              0.6666666666666666,
              "#ed7953"
             ],
             [
              0.7777777777777778,
              "#fb9f3a"
             ],
             [
              0.8888888888888888,
              "#fdca26"
             ],
             [
              1,
              "#f0f921"
             ]
            ],
            "type": "surface"
           }
          ],
          "table": [
           {
            "cells": {
             "fill": {
              "color": "#EBF0F8"
             },
             "line": {
              "color": "white"
             }
            },
            "header": {
             "fill": {
              "color": "#C8D4E3"
             },
             "line": {
              "color": "white"
             }
            },
            "type": "table"
           }
          ]
         },
         "layout": {
          "annotationdefaults": {
           "arrowcolor": "#2a3f5f",
           "arrowhead": 0,
           "arrowwidth": 1
          },
          "autotypenumbers": "strict",
          "coloraxis": {
           "colorbar": {
            "outlinewidth": 0,
            "ticks": ""
           }
          },
          "colorscale": {
           "diverging": [
            [
             0,
             "#8e0152"
            ],
            [
             0.1,
             "#c51b7d"
            ],
            [
             0.2,
             "#de77ae"
            ],
            [
             0.3,
             "#f1b6da"
            ],
            [
             0.4,
             "#fde0ef"
            ],
            [
             0.5,
             "#f7f7f7"
            ],
            [
             0.6,
             "#e6f5d0"
            ],
            [
             0.7,
             "#b8e186"
            ],
            [
             0.8,
             "#7fbc41"
            ],
            [
             0.9,
             "#4d9221"
            ],
            [
             1,
             "#276419"
            ]
           ],
           "sequential": [
            [
             0,
             "#0d0887"
            ],
            [
             0.1111111111111111,
             "#46039f"
            ],
            [
             0.2222222222222222,
             "#7201a8"
            ],
            [
             0.3333333333333333,
             "#9c179e"
            ],
            [
             0.4444444444444444,
             "#bd3786"
            ],
            [
             0.5555555555555556,
             "#d8576b"
            ],
            [
             0.6666666666666666,
             "#ed7953"
            ],
            [
             0.7777777777777778,
             "#fb9f3a"
            ],
            [
             0.8888888888888888,
             "#fdca26"
            ],
            [
             1,
             "#f0f921"
            ]
           ],
           "sequentialminus": [
            [
             0,
             "#0d0887"
            ],
            [
             0.1111111111111111,
             "#46039f"
            ],
            [
             0.2222222222222222,
             "#7201a8"
            ],
            [
             0.3333333333333333,
             "#9c179e"
            ],
            [
             0.4444444444444444,
             "#bd3786"
            ],
            [
             0.5555555555555556,
             "#d8576b"
            ],
            [
             0.6666666666666666,
             "#ed7953"
            ],
            [
             0.7777777777777778,
             "#fb9f3a"
            ],
            [
             0.8888888888888888,
             "#fdca26"
            ],
            [
             1,
             "#f0f921"
            ]
           ]
          },
          "colorway": [
           "#636efa",
           "#EF553B",
           "#00cc96",
           "#ab63fa",
           "#FFA15A",
           "#19d3f3",
           "#FF6692",
           "#B6E880",
           "#FF97FF",
           "#FECB52"
          ],
          "font": {
           "color": "#2a3f5f"
          },
          "geo": {
           "bgcolor": "white",
           "lakecolor": "white",
           "landcolor": "#E5ECF6",
           "showlakes": true,
           "showland": true,
           "subunitcolor": "white"
          },
          "hoverlabel": {
           "align": "left"
          },
          "hovermode": "closest",
          "mapbox": {
           "style": "light"
          },
          "paper_bgcolor": "white",
          "plot_bgcolor": "#E5ECF6",
          "polar": {
           "angularaxis": {
            "gridcolor": "white",
            "linecolor": "white",
            "ticks": ""
           },
           "bgcolor": "#E5ECF6",
           "radialaxis": {
            "gridcolor": "white",
            "linecolor": "white",
            "ticks": ""
           }
          },
          "scene": {
           "xaxis": {
            "backgroundcolor": "#E5ECF6",
            "gridcolor": "white",
            "gridwidth": 2,
            "linecolor": "white",
            "showbackground": true,
            "ticks": "",
            "zerolinecolor": "white"
           },
           "yaxis": {
            "backgroundcolor": "#E5ECF6",
            "gridcolor": "white",
            "gridwidth": 2,
            "linecolor": "white",
            "showbackground": true,
            "ticks": "",
            "zerolinecolor": "white"
           },
           "zaxis": {
            "backgroundcolor": "#E5ECF6",
            "gridcolor": "white",
            "gridwidth": 2,
            "linecolor": "white",
            "showbackground": true,
            "ticks": "",
            "zerolinecolor": "white"
           }
          },
          "shapedefaults": {
           "line": {
            "color": "#2a3f5f"
           }
          },
          "ternary": {
           "aaxis": {
            "gridcolor": "white",
            "linecolor": "white",
            "ticks": ""
           },
           "baxis": {
            "gridcolor": "white",
            "linecolor": "white",
            "ticks": ""
           },
           "bgcolor": "#E5ECF6",
           "caxis": {
            "gridcolor": "white",
            "linecolor": "white",
            "ticks": ""
           }
          },
          "title": {
           "x": 0.05
          },
          "xaxis": {
           "automargin": true,
           "gridcolor": "white",
           "linecolor": "white",
           "ticks": "",
           "title": {
            "standoff": 15
           },
           "zerolinecolor": "white",
           "zerolinewidth": 2
          },
          "yaxis": {
           "automargin": true,
           "gridcolor": "white",
           "linecolor": "white",
           "ticks": "",
           "title": {
            "standoff": 15
           },
           "zerolinecolor": "white",
           "zerolinewidth": 2
          }
         }
        },
        "title": {
         "text": "Сравнение важности признаков (корреляция: 0.963)"
        }
       }
      }
     },
     "metadata": {},
     "output_type": "display_data"
    },
    {
     "name": "stdout",
     "output_type": "stream",
     "text": [
      "\n",
      "Топ-5 признаков по средней важности:\n",
      "1. mean radius: RF=0.1365, Bagging=0.0800, Ср=0.1082\n",
      "2. mean texture: RF=0.1355, Bagging=0.0720, Ср=0.1037\n",
      "3. mean perimeter: RF=0.1031, Bagging=0.0586, Ср=0.0808\n",
      "4. mean area: RF=0.0915, Bagging=0.0567, Ср=0.0741\n",
      "5. mean smoothness: RF=0.0689, Bagging=0.0566, Ср=0.0628\n"
     ]
    }
   ],
   "source": [
    "# Упрощенный анализ важности признаков между методами\n",
    "rf_names, rf_values = analyze_feature_importance(models['Random Forest'], feature_names)\n",
    "bagging_names, bagging_values = analyze_feature_importance(models['Bagging'], feature_names)\n",
    "\n",
    "if rf_names and bagging_names and len(rf_values) == len(bagging_values):\n",
    "    # Корреляция между методами\n",
    "    correlation = np.corrcoef(rf_values, bagging_values)[0, 1]\n",
    "    print(f\"Корреляция важности признаков между RF и Bagging: {correlation:.4f}\")\n",
    "    \n",
    "    # Сравнительная визуализация\n",
    "    fig = go.Figure()\n",
    "    \n",
    "    # Топ-10 признаков по средней важности\n",
    "    avg_importance = (rf_values + bagging_values) / 2\n",
    "    top_indices = np.argsort(avg_importance)[-10:][::-1]\n",
    "    \n",
    "    fig.add_trace(go.Bar(\n",
    "        name='Random Forest',\n",
    "        x=[feature_names[i] for i in top_indices],\n",
    "        y=rf_values[top_indices],\n",
    "        marker_color=COLOR_PALETTE['primary']\n",
    "    ))\n",
    "    \n",
    "    fig.add_trace(go.Bar(\n",
    "        name='Bagging',\n",
    "        x=[feature_names[i] for i in top_indices],\n",
    "        y=bagging_values[top_indices],\n",
    "        marker_color=COLOR_PALETTE['secondary']\n",
    "    ))\n",
    "    \n",
    "    fig.update_layout(\n",
    "        title=f'Сравнение важности признаков (корреляция: {correlation:.3f})',\n",
    "        barmode='group',\n",
    "        height=500\n",
    "    )\n",
    "    \n",
    "    fig.show()\n",
    "    \n",
    "    # Топ-5 признаков\n",
    "    print(\"\\nТоп-5 признаков по средней важности:\")\n",
    "    for i, idx in enumerate(top_indices[:5]):\n",
    "        avg_imp = avg_importance[idx]\n",
    "        print(f\"{i+1}. {feature_names[idx]}: RF={rf_values[idx]:.4f}, Bagging={bagging_values[idx]:.4f}, Ср={avg_imp:.4f}\")\n",
    "\n",
    "else:\n",
    "    print(\"Используем только Random Forest важности:\")\n",
    "    fig_rf = create_importance_chart(models['Random Forest'], feature_names)\n",
    "    if fig_rf:\n",
    "        fig_rf.show()"
   ]
  },
  {
   "cell_type": "code",
   "execution_count": 24,
   "id": "53555e6c",
   "metadata": {},
   "outputs": [
    {
     "name": "stdout",
     "output_type": "stream",
     "text": [
      "Создаем совместимую Bagging модель для детального анализа...\n",
      "RF размерность: 30\n",
      "Bagging размерность: 30\n",
      "Совместимые размерности: 30 признаков\n"
     ]
    },
    {
     "data": {
      "application/vnd.plotly.v1+json": {
       "config": {
        "plotlyServerURL": "https://plot.ly"
       },
       "data": [
        {
         "marker": {
          "color": "#2E86AB"
         },
         "name": "RF",
         "type": "bar",
         "x": [
          22,
          27,
          23,
          20,
          7,
          6,
          2,
          0,
          26,
          13
         ],
         "xaxis": "x",
         "y": [
          0.13549923263852093,
          0.10309206124837504,
          0.13648497675990495,
          0.06576795063275036,
          0.09152952007343462,
          0.06889401056152443,
          0.06804415415154609,
          0.058700961561419344,
          0.04094029960859025,
          0.03988968668384158
         ],
         "yaxis": "y"
        },
        {
         "marker": {
          "color": "#A23B72"
         },
         "name": "Bagging",
         "type": "bar",
         "x": [
          22,
          27,
          23,
          20,
          7,
          6,
          2,
          0,
          26,
          13
         ],
         "xaxis": "x",
         "y": [
          0.27778250205195365,
          0.3003469429142799,
          0.10036128186827614,
          0.1485047037193597,
          0.07433593034545968,
          0.002231214666405404,
          0.0009029883592337484,
          0.0011421122106036318,
          0.008041009500420306,
          0.007769067459289337
         ],
         "yaxis": "y"
        },
        {
         "marker": {
          "color": "#F18F01"
         },
         "mode": "markers",
         "name": "Корреляция: 0.751",
         "type": "scatter",
         "x": [
          0.0011421122106036318,
          0.011880759156052181,
          0.0009029883592337484,
          0.001244074380935206,
          0.0025025777074667616,
          0.001299879726238591,
          0.002231214666405404,
          0.07433593034545968,
          0.0005264771470761304,
          0.000557792780827184,
          0.0035959391497858138,
          0.0022131565857723013,
          0.0022046392180502935,
          0.007769067459289337,
          0.005971799614863241,
          0.0007987423475653683,
          0.00460224176067362,
          0.0016619760172180565,
          0.001080265844814941,
          0.0021084047550874022,
          0.1485047037193597,
          0.015145042014944798,
          0.27778250205195365,
          0.10036128186827614,
          0.010562432474442498,
          0.003590003214575223,
          0.008041009500420306,
          0.3003469429142799,
          0.004682448046483754,
          0.002353594961845136
         ],
         "xaxis": "x2",
         "y": [
          0.058700961561419344,
          0.00808980295336879,
          0.06804415415154609,
          0.040880451059684283,
          0.007614659291750407,
          0.021047470399843116,
          0.06889401056152443,
          0.09152952007343462,
          0.0030592792837855157,
          0.005118125533301335,
          0.010755698701578298,
          0.0022916955787241223,
          0.006671589819844628,
          0.03988968668384158,
          0.005028472910369678,
          0.0048732148663436755,
          0.012523989303252946,
          0.00201172566865495,
          0.002775218808309625,
          0.00310438292818937,
          0.06576795063275036,
          0.010946926090403356,
          0.13549923263852093,
          0.13648497675990495,
          0.00850522194762933,
          0.01939243320105915,
          0.04094029960859025,
          0.10309206124837504,
          0.010907443740011694,
          0.005559343993987981
         ],
         "yaxis": "y2"
        },
        {
         "marker": {
          "color": "#592E83"
         },
         "name": "RF распределение",
         "type": "histogram",
         "x": [
          0.058700961561419344,
          0.00808980295336879,
          0.06804415415154609,
          0.040880451059684283,
          0.007614659291750407,
          0.021047470399843116,
          0.06889401056152443,
          0.09152952007343462,
          0.0030592792837855157,
          0.005118125533301335,
          0.010755698701578298,
          0.0022916955787241223,
          0.006671589819844628,
          0.03988968668384158,
          0.005028472910369678,
          0.0048732148663436755,
          0.012523989303252946,
          0.00201172566865495,
          0.002775218808309625,
          0.00310438292818937,
          0.06576795063275036,
          0.010946926090403356,
          0.13549923263852093,
          0.13648497675990495,
          0.00850522194762933,
          0.01939243320105915,
          0.04094029960859025,
          0.10309206124837504,
          0.010907443740011694,
          0.005559343993987981
         ],
         "xaxis": "x3",
         "yaxis": "y3"
        },
        {
         "marker": {
          "color": "#32A251"
         },
         "name": "Средняя важность",
         "text": [
          "П_23",
          "П_28",
          "П_24",
          "П_21",
          "П_8"
         ],
         "type": "bar",
         "x": [
          22,
          27,
          23,
          20,
          7
         ],
         "xaxis": "x4",
         "y": [
          0.2066408673452373,
          0.20171950208132747,
          0.11842312931409055,
          0.10713632717605504,
          0.08293272520944715
         ],
         "yaxis": "y4"
        }
       ],
       "layout": {
        "annotations": [
         {
          "font": {
           "size": 16
          },
          "showarrow": false,
          "text": "Сравнение методов",
          "x": 0.225,
          "xanchor": "center",
          "xref": "paper",
          "y": 1,
          "yanchor": "bottom",
          "yref": "paper"
         },
         {
          "font": {
           "size": 16
          },
          "showarrow": false,
          "text": "Корреляция важности",
          "x": 0.775,
          "xanchor": "center",
          "xref": "paper",
          "y": 1,
          "yanchor": "bottom",
          "yref": "paper"
         },
         {
          "font": {
           "size": 16
          },
          "showarrow": false,
          "text": "Распределение важности",
          "x": 0.225,
          "xanchor": "center",
          "xref": "paper",
          "y": 0.375,
          "yanchor": "bottom",
          "yref": "paper"
         },
         {
          "font": {
           "size": 16
          },
          "showarrow": false,
          "text": "Топ-5 признаков",
          "x": 0.775,
          "xanchor": "center",
          "xref": "paper",
          "y": 0.375,
          "yanchor": "bottom",
          "yref": "paper"
         }
        ],
        "height": 800,
        "showlegend": true,
        "template": {
         "data": {
          "bar": [
           {
            "error_x": {
             "color": "#2a3f5f"
            },
            "error_y": {
             "color": "#2a3f5f"
            },
            "marker": {
             "line": {
              "color": "#E5ECF6",
              "width": 0.5
             },
             "pattern": {
              "fillmode": "overlay",
              "size": 10,
              "solidity": 0.2
             }
            },
            "type": "bar"
           }
          ],
          "barpolar": [
           {
            "marker": {
             "line": {
              "color": "#E5ECF6",
              "width": 0.5
             },
             "pattern": {
              "fillmode": "overlay",
              "size": 10,
              "solidity": 0.2
             }
            },
            "type": "barpolar"
           }
          ],
          "carpet": [
           {
            "aaxis": {
             "endlinecolor": "#2a3f5f",
             "gridcolor": "white",
             "linecolor": "white",
             "minorgridcolor": "white",
             "startlinecolor": "#2a3f5f"
            },
            "baxis": {
             "endlinecolor": "#2a3f5f",
             "gridcolor": "white",
             "linecolor": "white",
             "minorgridcolor": "white",
             "startlinecolor": "#2a3f5f"
            },
            "type": "carpet"
           }
          ],
          "choropleth": [
           {
            "colorbar": {
             "outlinewidth": 0,
             "ticks": ""
            },
            "type": "choropleth"
           }
          ],
          "contour": [
           {
            "colorbar": {
             "outlinewidth": 0,
             "ticks": ""
            },
            "colorscale": [
             [
              0,
              "#0d0887"
             ],
             [
              0.1111111111111111,
              "#46039f"
             ],
             [
              0.2222222222222222,
              "#7201a8"
             ],
             [
              0.3333333333333333,
              "#9c179e"
             ],
             [
              0.4444444444444444,
              "#bd3786"
             ],
             [
              0.5555555555555556,
              "#d8576b"
             ],
             [
              0.6666666666666666,
              "#ed7953"
             ],
             [
              0.7777777777777778,
              "#fb9f3a"
             ],
             [
              0.8888888888888888,
              "#fdca26"
             ],
             [
              1,
              "#f0f921"
             ]
            ],
            "type": "contour"
           }
          ],
          "contourcarpet": [
           {
            "colorbar": {
             "outlinewidth": 0,
             "ticks": ""
            },
            "type": "contourcarpet"
           }
          ],
          "heatmap": [
           {
            "colorbar": {
             "outlinewidth": 0,
             "ticks": ""
            },
            "colorscale": [
             [
              0,
              "#0d0887"
             ],
             [
              0.1111111111111111,
              "#46039f"
             ],
             [
              0.2222222222222222,
              "#7201a8"
             ],
             [
              0.3333333333333333,
              "#9c179e"
             ],
             [
              0.4444444444444444,
              "#bd3786"
             ],
             [
              0.5555555555555556,
              "#d8576b"
             ],
             [
              0.6666666666666666,
              "#ed7953"
             ],
             [
              0.7777777777777778,
              "#fb9f3a"
             ],
             [
              0.8888888888888888,
              "#fdca26"
             ],
             [
              1,
              "#f0f921"
             ]
            ],
            "type": "heatmap"
           }
          ],
          "heatmapgl": [
           {
            "colorbar": {
             "outlinewidth": 0,
             "ticks": ""
            },
            "colorscale": [
             [
              0,
              "#0d0887"
             ],
             [
              0.1111111111111111,
              "#46039f"
             ],
             [
              0.2222222222222222,
              "#7201a8"
             ],
             [
              0.3333333333333333,
              "#9c179e"
             ],
             [
              0.4444444444444444,
              "#bd3786"
             ],
             [
              0.5555555555555556,
              "#d8576b"
             ],
             [
              0.6666666666666666,
              "#ed7953"
             ],
             [
              0.7777777777777778,
              "#fb9f3a"
             ],
             [
              0.8888888888888888,
              "#fdca26"
             ],
             [
              1,
              "#f0f921"
             ]
            ],
            "type": "heatmapgl"
           }
          ],
          "histogram": [
           {
            "marker": {
             "pattern": {
              "fillmode": "overlay",
              "size": 10,
              "solidity": 0.2
             }
            },
            "type": "histogram"
           }
          ],
          "histogram2d": [
           {
            "colorbar": {
             "outlinewidth": 0,
             "ticks": ""
            },
            "colorscale": [
             [
              0,
              "#0d0887"
             ],
             [
              0.1111111111111111,
              "#46039f"
             ],
             [
              0.2222222222222222,
              "#7201a8"
             ],
             [
              0.3333333333333333,
              "#9c179e"
             ],
             [
              0.4444444444444444,
              "#bd3786"
             ],
             [
              0.5555555555555556,
              "#d8576b"
             ],
             [
              0.6666666666666666,
              "#ed7953"
             ],
             [
              0.7777777777777778,
              "#fb9f3a"
             ],
             [
              0.8888888888888888,
              "#fdca26"
             ],
             [
              1,
              "#f0f921"
             ]
            ],
            "type": "histogram2d"
           }
          ],
          "histogram2dcontour": [
           {
            "colorbar": {
             "outlinewidth": 0,
             "ticks": ""
            },
            "colorscale": [
             [
              0,
              "#0d0887"
             ],
             [
              0.1111111111111111,
              "#46039f"
             ],
             [
              0.2222222222222222,
              "#7201a8"
             ],
             [
              0.3333333333333333,
              "#9c179e"
             ],
             [
              0.4444444444444444,
              "#bd3786"
             ],
             [
              0.5555555555555556,
              "#d8576b"
             ],
             [
              0.6666666666666666,
              "#ed7953"
             ],
             [
              0.7777777777777778,
              "#fb9f3a"
             ],
             [
              0.8888888888888888,
              "#fdca26"
             ],
             [
              1,
              "#f0f921"
             ]
            ],
            "type": "histogram2dcontour"
           }
          ],
          "mesh3d": [
           {
            "colorbar": {
             "outlinewidth": 0,
             "ticks": ""
            },
            "type": "mesh3d"
           }
          ],
          "parcoords": [
           {
            "line": {
             "colorbar": {
              "outlinewidth": 0,
              "ticks": ""
             }
            },
            "type": "parcoords"
           }
          ],
          "pie": [
           {
            "automargin": true,
            "type": "pie"
           }
          ],
          "scatter": [
           {
            "fillpattern": {
             "fillmode": "overlay",
             "size": 10,
             "solidity": 0.2
            },
            "type": "scatter"
           }
          ],
          "scatter3d": [
           {
            "line": {
             "colorbar": {
              "outlinewidth": 0,
              "ticks": ""
             }
            },
            "marker": {
             "colorbar": {
              "outlinewidth": 0,
              "ticks": ""
             }
            },
            "type": "scatter3d"
           }
          ],
          "scattercarpet": [
           {
            "marker": {
             "colorbar": {
              "outlinewidth": 0,
              "ticks": ""
             }
            },
            "type": "scattercarpet"
           }
          ],
          "scattergeo": [
           {
            "marker": {
             "colorbar": {
              "outlinewidth": 0,
              "ticks": ""
             }
            },
            "type": "scattergeo"
           }
          ],
          "scattergl": [
           {
            "marker": {
             "colorbar": {
              "outlinewidth": 0,
              "ticks": ""
             }
            },
            "type": "scattergl"
           }
          ],
          "scattermapbox": [
           {
            "marker": {
             "colorbar": {
              "outlinewidth": 0,
              "ticks": ""
             }
            },
            "type": "scattermapbox"
           }
          ],
          "scatterpolar": [
           {
            "marker": {
             "colorbar": {
              "outlinewidth": 0,
              "ticks": ""
             }
            },
            "type": "scatterpolar"
           }
          ],
          "scatterpolargl": [
           {
            "marker": {
             "colorbar": {
              "outlinewidth": 0,
              "ticks": ""
             }
            },
            "type": "scatterpolargl"
           }
          ],
          "scatterternary": [
           {
            "marker": {
             "colorbar": {
              "outlinewidth": 0,
              "ticks": ""
             }
            },
            "type": "scatterternary"
           }
          ],
          "surface": [
           {
            "colorbar": {
             "outlinewidth": 0,
             "ticks": ""
            },
            "colorscale": [
             [
              0,
              "#0d0887"
             ],
             [
              0.1111111111111111,
              "#46039f"
             ],
             [
              0.2222222222222222,
              "#7201a8"
             ],
             [
              0.3333333333333333,
              "#9c179e"
             ],
             [
              0.4444444444444444,
              "#bd3786"
             ],
             [
              0.5555555555555556,
              "#d8576b"
             ],
             [
              0.6666666666666666,
              "#ed7953"
             ],
             [
              0.7777777777777778,
              "#fb9f3a"
             ],
             [
              0.8888888888888888,
              "#fdca26"
             ],
             [
              1,
              "#f0f921"
             ]
            ],
            "type": "surface"
           }
          ],
          "table": [
           {
            "cells": {
             "fill": {
              "color": "#EBF0F8"
             },
             "line": {
              "color": "white"
             }
            },
            "header": {
             "fill": {
              "color": "#C8D4E3"
             },
             "line": {
              "color": "white"
             }
            },
            "type": "table"
           }
          ]
         },
         "layout": {
          "annotationdefaults": {
           "arrowcolor": "#2a3f5f",
           "arrowhead": 0,
           "arrowwidth": 1
          },
          "autotypenumbers": "strict",
          "coloraxis": {
           "colorbar": {
            "outlinewidth": 0,
            "ticks": ""
           }
          },
          "colorscale": {
           "diverging": [
            [
             0,
             "#8e0152"
            ],
            [
             0.1,
             "#c51b7d"
            ],
            [
             0.2,
             "#de77ae"
            ],
            [
             0.3,
             "#f1b6da"
            ],
            [
             0.4,
             "#fde0ef"
            ],
            [
             0.5,
             "#f7f7f7"
            ],
            [
             0.6,
             "#e6f5d0"
            ],
            [
             0.7,
             "#b8e186"
            ],
            [
             0.8,
             "#7fbc41"
            ],
            [
             0.9,
             "#4d9221"
            ],
            [
             1,
             "#276419"
            ]
           ],
           "sequential": [
            [
             0,
             "#0d0887"
            ],
            [
             0.1111111111111111,
             "#46039f"
            ],
            [
             0.2222222222222222,
             "#7201a8"
            ],
            [
             0.3333333333333333,
             "#9c179e"
            ],
            [
             0.4444444444444444,
             "#bd3786"
            ],
            [
             0.5555555555555556,
             "#d8576b"
            ],
            [
             0.6666666666666666,
             "#ed7953"
            ],
            [
             0.7777777777777778,
             "#fb9f3a"
            ],
            [
             0.8888888888888888,
             "#fdca26"
            ],
            [
             1,
             "#f0f921"
            ]
           ],
           "sequentialminus": [
            [
             0,
             "#0d0887"
            ],
            [
             0.1111111111111111,
             "#46039f"
            ],
            [
             0.2222222222222222,
             "#7201a8"
            ],
            [
             0.3333333333333333,
             "#9c179e"
            ],
            [
             0.4444444444444444,
             "#bd3786"
            ],
            [
             0.5555555555555556,
             "#d8576b"
            ],
            [
             0.6666666666666666,
             "#ed7953"
            ],
            [
             0.7777777777777778,
             "#fb9f3a"
            ],
            [
             0.8888888888888888,
             "#fdca26"
            ],
            [
             1,
             "#f0f921"
            ]
           ]
          },
          "colorway": [
           "#636efa",
           "#EF553B",
           "#00cc96",
           "#ab63fa",
           "#FFA15A",
           "#19d3f3",
           "#FF6692",
           "#B6E880",
           "#FF97FF",
           "#FECB52"
          ],
          "font": {
           "color": "#2a3f5f"
          },
          "geo": {
           "bgcolor": "white",
           "lakecolor": "white",
           "landcolor": "#E5ECF6",
           "showlakes": true,
           "showland": true,
           "subunitcolor": "white"
          },
          "hoverlabel": {
           "align": "left"
          },
          "hovermode": "closest",
          "mapbox": {
           "style": "light"
          },
          "paper_bgcolor": "white",
          "plot_bgcolor": "#E5ECF6",
          "polar": {
           "angularaxis": {
            "gridcolor": "white",
            "linecolor": "white",
            "ticks": ""
           },
           "bgcolor": "#E5ECF6",
           "radialaxis": {
            "gridcolor": "white",
            "linecolor": "white",
            "ticks": ""
           }
          },
          "scene": {
           "xaxis": {
            "backgroundcolor": "#E5ECF6",
            "gridcolor": "white",
            "gridwidth": 2,
            "linecolor": "white",
            "showbackground": true,
            "ticks": "",
            "zerolinecolor": "white"
           },
           "yaxis": {
            "backgroundcolor": "#E5ECF6",
            "gridcolor": "white",
            "gridwidth": 2,
            "linecolor": "white",
            "showbackground": true,
            "ticks": "",
            "zerolinecolor": "white"
           },
           "zaxis": {
            "backgroundcolor": "#E5ECF6",
            "gridcolor": "white",
            "gridwidth": 2,
            "linecolor": "white",
            "showbackground": true,
            "ticks": "",
            "zerolinecolor": "white"
           }
          },
          "shapedefaults": {
           "line": {
            "color": "#2a3f5f"
           }
          },
          "ternary": {
           "aaxis": {
            "gridcolor": "white",
            "linecolor": "white",
            "ticks": ""
           },
           "baxis": {
            "gridcolor": "white",
            "linecolor": "white",
            "ticks": ""
           },
           "bgcolor": "#E5ECF6",
           "caxis": {
            "gridcolor": "white",
            "linecolor": "white",
            "ticks": ""
           }
          },
          "title": {
           "x": 0.05
          },
          "xaxis": {
           "automargin": true,
           "gridcolor": "white",
           "linecolor": "white",
           "ticks": "",
           "title": {
            "standoff": 15
           },
           "zerolinecolor": "white",
           "zerolinewidth": 2
          },
          "yaxis": {
           "automargin": true,
           "gridcolor": "white",
           "linecolor": "white",
           "ticks": "",
           "title": {
            "standoff": 15
           },
           "zerolinecolor": "white",
           "zerolinewidth": 2
          }
         }
        },
        "title": {
         "text": "Анализ важности признаков<br>Корреляция между методами: 0.7509"
        },
        "xaxis": {
         "anchor": "y",
         "domain": [
          0,
          0.45
         ]
        },
        "xaxis2": {
         "anchor": "y2",
         "domain": [
          0.55,
          1
         ]
        },
        "xaxis3": {
         "anchor": "y3",
         "domain": [
          0,
          0.45
         ]
        },
        "xaxis4": {
         "anchor": "y4",
         "domain": [
          0.55,
          1
         ]
        },
        "yaxis": {
         "anchor": "x",
         "domain": [
          0.625,
          1
         ]
        },
        "yaxis2": {
         "anchor": "x2",
         "domain": [
          0.625,
          1
         ]
        },
        "yaxis3": {
         "anchor": "x3",
         "domain": [
          0,
          0.375
         ]
        },
        "yaxis4": {
         "anchor": "x4",
         "domain": [
          0,
          0.375
         ]
        }
       }
      }
     },
     "metadata": {},
     "output_type": "display_data"
    },
    {
     "name": "stdout",
     "output_type": "stream",
     "text": [
      "\n",
      "Корреляция важности признаков: 0.7509\n",
      "\n",
      "Топ-5 признаков по средней важности:\n",
      "1. Признак_23: Bagging=0.2778, RF=0.1355\n",
      "2. Признак_28: Bagging=0.3003, RF=0.1031\n",
      "3. Признак_24: Bagging=0.1004, RF=0.1365\n",
      "4. Признак_21: Bagging=0.1485, RF=0.0658\n",
      "5. Признак_8: Bagging=0.0743, RF=0.0915\n"
     ]
    }
   ],
   "source": [
    "# Создание совместимой Bagging модели для детального анализа\n",
    "print(\"Создаем совместимую Bagging модель для детального анализа...\")\n",
    "\n",
    "compatible_bagging = BaggingClassifier(\n",
    "    estimator=DecisionTreeClassifier(max_depth=8, min_samples_split=5, min_samples_leaf=2),\n",
    "    n_estimators=100,\n",
    "    max_samples=0.8,\n",
    "    random_state=42,\n",
    "    n_jobs=-1\n",
    ")\n",
    "\n",
    "compatible_bagging.fit(X_train, y_train)\n",
    "\n",
    "# Получаем важности для детального сравнения\n",
    "rf_importances = models['Random Forest'].feature_importances_\n",
    "bagging_importances = np.mean([est.feature_importances_ for est in compatible_bagging.estimators_], axis=0)\n",
    "\n",
    "print(f\"RF размерность: {len(rf_importances)}\")\n",
    "print(f\"Bagging размерность: {len(bagging_importances)}\")\n",
    "\n",
    "if len(rf_importances) == len(bagging_importances):\n",
    "    print(f\"Совместимые размерности: {len(bagging_importances)} признаков\")\n",
    "    \n",
    "    # Детальное сравнение методов\n",
    "    correlation = np.corrcoef(rf_importances, bagging_importances)[0, 1]\n",
    "    \n",
    "    # Создаем комплексную визуализацию\n",
    "    fig = make_subplots(\n",
    "        rows=2, cols=2,\n",
    "        subplot_titles=['Сравнение методов', 'Корреляция важности', \n",
    "                       'Распределение важности', 'Топ-5 признаков'],\n",
    "        specs=[[{'type': 'bar'}, {'type': 'scatter'}],\n",
    "               [{'type': 'histogram'}, {'type': 'bar'}]]\n",
    "    )\n",
    "    \n",
    "    # График 1: Сравнение топ-10 признаков\n",
    "    avg_importance = (rf_importances + bagging_importances) / 2\n",
    "    top_indices = np.argsort(avg_importance)[-10:][::-1]\n",
    "    \n",
    "    fig.add_trace(go.Bar(name='RF', x=top_indices, y=rf_importances[top_indices],\n",
    "                        marker_color=COLOR_PALETTE['primary']), row=1, col=1)\n",
    "    fig.add_trace(go.Bar(name='Bagging', x=top_indices, y=bagging_importances[top_indices],\n",
    "                        marker_color=COLOR_PALETTE['secondary']), row=1, col=1)\n",
    "    \n",
    "    # График 2: Scatter plot корреляции\n",
    "    fig.add_trace(go.Scatter(x=bagging_importances, y=rf_importances, mode='markers',\n",
    "                            name=f'Корреляция: {correlation:.3f}',\n",
    "                            marker_color=COLOR_PALETTE['accent']), row=1, col=2)\n",
    "    \n",
    "    # График 3: Распределение важности RF\n",
    "    fig.add_trace(go.Histogram(x=rf_importances, name='RF распределение',\n",
    "                              marker_color=COLOR_PALETTE['info']), row=2, col=1)\n",
    "    \n",
    "    # График 4: Топ-5 признаков\n",
    "    top_5_indices = top_indices[:5]\n",
    "    fig.add_trace(go.Bar(x=top_5_indices, y=avg_importance[top_5_indices],\n",
    "                        text=[f'П_{i+1}' for i in top_5_indices],\n",
    "                        name='Средняя важность',\n",
    "                        marker_color=COLOR_PALETTE['success']), row=2, col=2)\n",
    "    \n",
    "    fig.update_layout(\n",
    "        title=f'Анализ важности признаков<br>Корреляция между методами: {correlation:.4f}',\n",
    "        height=800,\n",
    "        showlegend=True\n",
    "    )\n",
    "    \n",
    "    fig.show()\n",
    "    \n",
    "    print(f\"\\nКорреляция важности признаков: {correlation:.4f}\")\n",
    "    print(f\"\\nТоп-5 признаков по средней важности:\")\n",
    "    for i, idx in enumerate(top_5_indices):\n",
    "        print(f\"{i+1}. Признак_{idx+1}: Bagging={bagging_importances[idx]:.4f}, RF={rf_importances[idx]:.4f}\")\n",
    "\n",
    "else:\n",
    "    print(\"Ошибка размерностей - создание совместимых моделей\")"
   ]
  },
  {
   "cell_type": "code",
   "execution_count": 25,
   "id": "dce5c333",
   "metadata": {},
   "outputs": [
    {
     "name": "stdout",
     "output_type": "stream",
     "text": [
      "СТАТИСТИЧЕСКИЙ АНАЛИЗ ВАЖНОСТИ ПРИЗНАКОВ\n",
      "==================================================\n",
      "\n",
      "==================================================\n",
      "\n",
      "Bagging Classifier:\n",
      "  Среднее: 0.0333\n",
      "  Медиана: 0.0030\n",
      "  Стд. отклонение: 0.0758\n",
      "\n",
      "Random Forest Classifier:\n",
      "  Среднее: 0.0333\n",
      "  Медиана: 0.0109\n",
      "  Стд. отклонение: 0.0394\n",
      "\n",
      "Корреляция важности между методами: 0.7509\n",
      "\n",
      "Топ-10 признаков по средней важности:\n",
      "----------------------------------------------------------------------\n",
      "Ранг Признак      Bagging    RF         Среднее   \n",
      "----------------------------------------------------------------------\n",
      "1    Признак_23   0.2778     0.1355     0.2066    \n",
      "2    Признак_28   0.3003     0.1031     0.2017    \n",
      "3    Признак_24   0.1004     0.1365     0.1184    \n",
      "4    Признак_21   0.1485     0.0658     0.1071    \n",
      "5    Признак_8    0.0743     0.0915     0.0829    \n",
      "6    Признак_7    0.0022     0.0689     0.0356    \n",
      "7    Признак_3    0.0009     0.0680     0.0345    \n",
      "8    Признак_1    0.0011     0.0587     0.0299    \n",
      "9    Признак_27   0.0080     0.0409     0.0245    \n",
      "10   Признак_14   0.0078     0.0399     0.0238    \n",
      "\n",
      "Bagging Classifier:\n",
      "  Среднее: 0.0333\n",
      "  Медиана: 0.0030\n",
      "  Стд. отклонение: 0.0758\n",
      "\n",
      "Random Forest Classifier:\n",
      "  Среднее: 0.0333\n",
      "  Медиана: 0.0109\n",
      "  Стд. отклонение: 0.0394\n",
      "\n",
      "Корреляция важности между методами: 0.7509\n",
      "\n",
      "Топ-10 признаков по средней важности:\n",
      "----------------------------------------------------------------------\n",
      "Ранг Признак      Bagging    RF         Среднее   \n",
      "----------------------------------------------------------------------\n",
      "1    Признак_23   0.2778     0.1355     0.2066    \n",
      "2    Признак_28   0.3003     0.1031     0.2017    \n",
      "3    Признак_24   0.1004     0.1365     0.1184    \n",
      "4    Признак_21   0.1485     0.0658     0.1071    \n",
      "5    Признак_8    0.0743     0.0915     0.0829    \n",
      "6    Признак_7    0.0022     0.0689     0.0356    \n",
      "7    Признак_3    0.0009     0.0680     0.0345    \n",
      "8    Признак_1    0.0011     0.0587     0.0299    \n",
      "9    Признак_27   0.0080     0.0409     0.0245    \n",
      "10   Признак_14   0.0078     0.0399     0.0238    \n"
     ]
    },
    {
     "data": {
      "application/vnd.plotly.v1+json": {
       "config": {
        "plotlyServerURL": "https://plot.ly"
       },
       "data": [
        {
         "cells": {
          "align": "center",
          "fill": {
           "color": "white"
          },
          "font": {
           "size": 11
          },
          "values": [
           [
            23,
            28,
            24,
            21,
            8,
            7,
            3,
            1,
            27,
            14,
            4,
            22,
            26,
            6,
            2,
            25,
            17,
            29,
            11,
            15,
            5,
            13,
            30,
            10,
            16,
            20,
            12,
            19,
            9,
            18
           ],
           [
            "Признак_23",
            "Признак_28",
            "Признак_24",
            "Признак_21",
            "Признак_8",
            "Признак_7",
            "Признак_3",
            "Признак_1",
            "Признак_27",
            "Признак_14",
            "Признак_4",
            "Признак_22",
            "Признак_26",
            "Признак_6",
            "Признак_2",
            "Признак_25",
            "Признак_17",
            "Признак_29",
            "Признак_11",
            "Признак_15",
            "Признак_5",
            "Признак_13",
            "Признак_30",
            "Признак_10",
            "Признак_16",
            "Признак_20",
            "Признак_12",
            "Признак_19",
            "Признак_9",
            "Признак_18"
           ],
           [
            "0.2778",
            "0.3003",
            "0.1004",
            "0.1485",
            "0.0743",
            "0.0022",
            "0.0009",
            "0.0011",
            "0.0080",
            "0.0078",
            "0.0012",
            "0.0151",
            "0.0036",
            "0.0013",
            "0.0119",
            "0.0106",
            "0.0046",
            "0.0047",
            "0.0036",
            "0.0060",
            "0.0025",
            "0.0022",
            "0.0024",
            "0.0006",
            "0.0008",
            "0.0021",
            "0.0022",
            "0.0011",
            "0.0005",
            "0.0017"
           ],
           [
            "0.1355",
            "0.1031",
            "0.1365",
            "0.0658",
            "0.0915",
            "0.0689",
            "0.0680",
            "0.0587",
            "0.0409",
            "0.0399",
            "0.0409",
            "0.0109",
            "0.0194",
            "0.0210",
            "0.0081",
            "0.0085",
            "0.0125",
            "0.0109",
            "0.0108",
            "0.0050",
            "0.0076",
            "0.0067",
            "0.0056",
            "0.0051",
            "0.0049",
            "0.0031",
            "0.0023",
            "0.0028",
            "0.0031",
            "0.0020"
           ],
           [
            "0.2066",
            "0.2017",
            "0.1184",
            "0.1071",
            "0.0829",
            "0.0356",
            "0.0345",
            "0.0299",
            "0.0245",
            "0.0238",
            "0.0211",
            "0.0130",
            "0.0115",
            "0.0112",
            "0.0100",
            "0.0095",
            "0.0086",
            "0.0078",
            "0.0072",
            "0.0055",
            "0.0051",
            "0.0044",
            "0.0040",
            "0.0028",
            "0.0028",
            "0.0026",
            "0.0023",
            "0.0019",
            "0.0018",
            "0.0018"
           ]
          ]
         },
         "header": {
          "align": "center",
          "fill": {
           "color": "lightblue"
          },
          "font": {
           "color": "black",
           "size": 12
          },
          "values": [
           "Ранг",
           "Признак",
           "Bagging",
           "Random Forest",
           "Среднее"
          ]
         },
         "type": "table"
        }
       ],
       "layout": {
        "height": 400,
        "template": {
         "data": {
          "bar": [
           {
            "error_x": {
             "color": "#2a3f5f"
            },
            "error_y": {
             "color": "#2a3f5f"
            },
            "marker": {
             "line": {
              "color": "#E5ECF6",
              "width": 0.5
             },
             "pattern": {
              "fillmode": "overlay",
              "size": 10,
              "solidity": 0.2
             }
            },
            "type": "bar"
           }
          ],
          "barpolar": [
           {
            "marker": {
             "line": {
              "color": "#E5ECF6",
              "width": 0.5
             },
             "pattern": {
              "fillmode": "overlay",
              "size": 10,
              "solidity": 0.2
             }
            },
            "type": "barpolar"
           }
          ],
          "carpet": [
           {
            "aaxis": {
             "endlinecolor": "#2a3f5f",
             "gridcolor": "white",
             "linecolor": "white",
             "minorgridcolor": "white",
             "startlinecolor": "#2a3f5f"
            },
            "baxis": {
             "endlinecolor": "#2a3f5f",
             "gridcolor": "white",
             "linecolor": "white",
             "minorgridcolor": "white",
             "startlinecolor": "#2a3f5f"
            },
            "type": "carpet"
           }
          ],
          "choropleth": [
           {
            "colorbar": {
             "outlinewidth": 0,
             "ticks": ""
            },
            "type": "choropleth"
           }
          ],
          "contour": [
           {
            "colorbar": {
             "outlinewidth": 0,
             "ticks": ""
            },
            "colorscale": [
             [
              0,
              "#0d0887"
             ],
             [
              0.1111111111111111,
              "#46039f"
             ],
             [
              0.2222222222222222,
              "#7201a8"
             ],
             [
              0.3333333333333333,
              "#9c179e"
             ],
             [
              0.4444444444444444,
              "#bd3786"
             ],
             [
              0.5555555555555556,
              "#d8576b"
             ],
             [
              0.6666666666666666,
              "#ed7953"
             ],
             [
              0.7777777777777778,
              "#fb9f3a"
             ],
             [
              0.8888888888888888,
              "#fdca26"
             ],
             [
              1,
              "#f0f921"
             ]
            ],
            "type": "contour"
           }
          ],
          "contourcarpet": [
           {
            "colorbar": {
             "outlinewidth": 0,
             "ticks": ""
            },
            "type": "contourcarpet"
           }
          ],
          "heatmap": [
           {
            "colorbar": {
             "outlinewidth": 0,
             "ticks": ""
            },
            "colorscale": [
             [
              0,
              "#0d0887"
             ],
             [
              0.1111111111111111,
              "#46039f"
             ],
             [
              0.2222222222222222,
              "#7201a8"
             ],
             [
              0.3333333333333333,
              "#9c179e"
             ],
             [
              0.4444444444444444,
              "#bd3786"
             ],
             [
              0.5555555555555556,
              "#d8576b"
             ],
             [
              0.6666666666666666,
              "#ed7953"
             ],
             [
              0.7777777777777778,
              "#fb9f3a"
             ],
             [
              0.8888888888888888,
              "#fdca26"
             ],
             [
              1,
              "#f0f921"
             ]
            ],
            "type": "heatmap"
           }
          ],
          "heatmapgl": [
           {
            "colorbar": {
             "outlinewidth": 0,
             "ticks": ""
            },
            "colorscale": [
             [
              0,
              "#0d0887"
             ],
             [
              0.1111111111111111,
              "#46039f"
             ],
             [
              0.2222222222222222,
              "#7201a8"
             ],
             [
              0.3333333333333333,
              "#9c179e"
             ],
             [
              0.4444444444444444,
              "#bd3786"
             ],
             [
              0.5555555555555556,
              "#d8576b"
             ],
             [
              0.6666666666666666,
              "#ed7953"
             ],
             [
              0.7777777777777778,
              "#fb9f3a"
             ],
             [
              0.8888888888888888,
              "#fdca26"
             ],
             [
              1,
              "#f0f921"
             ]
            ],
            "type": "heatmapgl"
           }
          ],
          "histogram": [
           {
            "marker": {
             "pattern": {
              "fillmode": "overlay",
              "size": 10,
              "solidity": 0.2
             }
            },
            "type": "histogram"
           }
          ],
          "histogram2d": [
           {
            "colorbar": {
             "outlinewidth": 0,
             "ticks": ""
            },
            "colorscale": [
             [
              0,
              "#0d0887"
             ],
             [
              0.1111111111111111,
              "#46039f"
             ],
             [
              0.2222222222222222,
              "#7201a8"
             ],
             [
              0.3333333333333333,
              "#9c179e"
             ],
             [
              0.4444444444444444,
              "#bd3786"
             ],
             [
              0.5555555555555556,
              "#d8576b"
             ],
             [
              0.6666666666666666,
              "#ed7953"
             ],
             [
              0.7777777777777778,
              "#fb9f3a"
             ],
             [
              0.8888888888888888,
              "#fdca26"
             ],
             [
              1,
              "#f0f921"
             ]
            ],
            "type": "histogram2d"
           }
          ],
          "histogram2dcontour": [
           {
            "colorbar": {
             "outlinewidth": 0,
             "ticks": ""
            },
            "colorscale": [
             [
              0,
              "#0d0887"
             ],
             [
              0.1111111111111111,
              "#46039f"
             ],
             [
              0.2222222222222222,
              "#7201a8"
             ],
             [
              0.3333333333333333,
              "#9c179e"
             ],
             [
              0.4444444444444444,
              "#bd3786"
             ],
             [
              0.5555555555555556,
              "#d8576b"
             ],
             [
              0.6666666666666666,
              "#ed7953"
             ],
             [
              0.7777777777777778,
              "#fb9f3a"
             ],
             [
              0.8888888888888888,
              "#fdca26"
             ],
             [
              1,
              "#f0f921"
             ]
            ],
            "type": "histogram2dcontour"
           }
          ],
          "mesh3d": [
           {
            "colorbar": {
             "outlinewidth": 0,
             "ticks": ""
            },
            "type": "mesh3d"
           }
          ],
          "parcoords": [
           {
            "line": {
             "colorbar": {
              "outlinewidth": 0,
              "ticks": ""
             }
            },
            "type": "parcoords"
           }
          ],
          "pie": [
           {
            "automargin": true,
            "type": "pie"
           }
          ],
          "scatter": [
           {
            "fillpattern": {
             "fillmode": "overlay",
             "size": 10,
             "solidity": 0.2
            },
            "type": "scatter"
           }
          ],
          "scatter3d": [
           {
            "line": {
             "colorbar": {
              "outlinewidth": 0,
              "ticks": ""
             }
            },
            "marker": {
             "colorbar": {
              "outlinewidth": 0,
              "ticks": ""
             }
            },
            "type": "scatter3d"
           }
          ],
          "scattercarpet": [
           {
            "marker": {
             "colorbar": {
              "outlinewidth": 0,
              "ticks": ""
             }
            },
            "type": "scattercarpet"
           }
          ],
          "scattergeo": [
           {
            "marker": {
             "colorbar": {
              "outlinewidth": 0,
              "ticks": ""
             }
            },
            "type": "scattergeo"
           }
          ],
          "scattergl": [
           {
            "marker": {
             "colorbar": {
              "outlinewidth": 0,
              "ticks": ""
             }
            },
            "type": "scattergl"
           }
          ],
          "scattermapbox": [
           {
            "marker": {
             "colorbar": {
              "outlinewidth": 0,
              "ticks": ""
             }
            },
            "type": "scattermapbox"
           }
          ],
          "scatterpolar": [
           {
            "marker": {
             "colorbar": {
              "outlinewidth": 0,
              "ticks": ""
             }
            },
            "type": "scatterpolar"
           }
          ],
          "scatterpolargl": [
           {
            "marker": {
             "colorbar": {
              "outlinewidth": 0,
              "ticks": ""
             }
            },
            "type": "scatterpolargl"
           }
          ],
          "scatterternary": [
           {
            "marker": {
             "colorbar": {
              "outlinewidth": 0,
              "ticks": ""
             }
            },
            "type": "scatterternary"
           }
          ],
          "surface": [
           {
            "colorbar": {
             "outlinewidth": 0,
             "ticks": ""
            },
            "colorscale": [
             [
              0,
              "#0d0887"
             ],
             [
              0.1111111111111111,
              "#46039f"
             ],
             [
              0.2222222222222222,
              "#7201a8"
             ],
             [
              0.3333333333333333,
              "#9c179e"
             ],
             [
              0.4444444444444444,
              "#bd3786"
             ],
             [
              0.5555555555555556,
              "#d8576b"
             ],
             [
              0.6666666666666666,
              "#ed7953"
             ],
             [
              0.7777777777777778,
              "#fb9f3a"
             ],
             [
              0.8888888888888888,
              "#fdca26"
             ],
             [
              1,
              "#f0f921"
             ]
            ],
            "type": "surface"
           }
          ],
          "table": [
           {
            "cells": {
             "fill": {
              "color": "#EBF0F8"
             },
             "line": {
              "color": "white"
             }
            },
            "header": {
             "fill": {
              "color": "#C8D4E3"
             },
             "line": {
              "color": "white"
             }
            },
            "type": "table"
           }
          ]
         },
         "layout": {
          "annotationdefaults": {
           "arrowcolor": "#2a3f5f",
           "arrowhead": 0,
           "arrowwidth": 1
          },
          "autotypenumbers": "strict",
          "coloraxis": {
           "colorbar": {
            "outlinewidth": 0,
            "ticks": ""
           }
          },
          "colorscale": {
           "diverging": [
            [
             0,
             "#8e0152"
            ],
            [
             0.1,
             "#c51b7d"
            ],
            [
             0.2,
             "#de77ae"
            ],
            [
             0.3,
             "#f1b6da"
            ],
            [
             0.4,
             "#fde0ef"
            ],
            [
             0.5,
             "#f7f7f7"
            ],
            [
             0.6,
             "#e6f5d0"
            ],
            [
             0.7,
             "#b8e186"
            ],
            [
             0.8,
             "#7fbc41"
            ],
            [
             0.9,
             "#4d9221"
            ],
            [
             1,
             "#276419"
            ]
           ],
           "sequential": [
            [
             0,
             "#0d0887"
            ],
            [
             0.1111111111111111,
             "#46039f"
            ],
            [
             0.2222222222222222,
             "#7201a8"
            ],
            [
             0.3333333333333333,
             "#9c179e"
            ],
            [
             0.4444444444444444,
             "#bd3786"
            ],
            [
             0.5555555555555556,
             "#d8576b"
            ],
            [
             0.6666666666666666,
             "#ed7953"
            ],
            [
             0.7777777777777778,
             "#fb9f3a"
            ],
            [
             0.8888888888888888,
             "#fdca26"
            ],
            [
             1,
             "#f0f921"
            ]
           ],
           "sequentialminus": [
            [
             0,
             "#0d0887"
            ],
            [
             0.1111111111111111,
             "#46039f"
            ],
            [
             0.2222222222222222,
             "#7201a8"
            ],
            [
             0.3333333333333333,
             "#9c179e"
            ],
            [
             0.4444444444444444,
             "#bd3786"
            ],
            [
             0.5555555555555556,
             "#d8576b"
            ],
            [
             0.6666666666666666,
             "#ed7953"
            ],
            [
             0.7777777777777778,
             "#fb9f3a"
            ],
            [
             0.8888888888888888,
             "#fdca26"
            ],
            [
             1,
             "#f0f921"
            ]
           ]
          },
          "colorway": [
           "#636efa",
           "#EF553B",
           "#00cc96",
           "#ab63fa",
           "#FFA15A",
           "#19d3f3",
           "#FF6692",
           "#B6E880",
           "#FF97FF",
           "#FECB52"
          ],
          "font": {
           "color": "#2a3f5f"
          },
          "geo": {
           "bgcolor": "white",
           "lakecolor": "white",
           "landcolor": "#E5ECF6",
           "showlakes": true,
           "showland": true,
           "subunitcolor": "white"
          },
          "hoverlabel": {
           "align": "left"
          },
          "hovermode": "closest",
          "mapbox": {
           "style": "light"
          },
          "paper_bgcolor": "white",
          "plot_bgcolor": "#E5ECF6",
          "polar": {
           "angularaxis": {
            "gridcolor": "white",
            "linecolor": "white",
            "ticks": ""
           },
           "bgcolor": "#E5ECF6",
           "radialaxis": {
            "gridcolor": "white",
            "linecolor": "white",
            "ticks": ""
           }
          },
          "scene": {
           "xaxis": {
            "backgroundcolor": "#E5ECF6",
            "gridcolor": "white",
            "gridwidth": 2,
            "linecolor": "white",
            "showbackground": true,
            "ticks": "",
            "zerolinecolor": "white"
           },
           "yaxis": {
            "backgroundcolor": "#E5ECF6",
            "gridcolor": "white",
            "gridwidth": 2,
            "linecolor": "white",
            "showbackground": true,
            "ticks": "",
            "zerolinecolor": "white"
           },
           "zaxis": {
            "backgroundcolor": "#E5ECF6",
            "gridcolor": "white",
            "gridwidth": 2,
            "linecolor": "white",
            "showbackground": true,
            "ticks": "",
            "zerolinecolor": "white"
           }
          },
          "shapedefaults": {
           "line": {
            "color": "#2a3f5f"
           }
          },
          "ternary": {
           "aaxis": {
            "gridcolor": "white",
            "linecolor": "white",
            "ticks": ""
           },
           "baxis": {
            "gridcolor": "white",
            "linecolor": "white",
            "ticks": ""
           },
           "bgcolor": "#E5ECF6",
           "caxis": {
            "gridcolor": "white",
            "linecolor": "white",
            "ticks": ""
           }
          },
          "title": {
           "x": 0.05
          },
          "xaxis": {
           "automargin": true,
           "gridcolor": "white",
           "linecolor": "white",
           "ticks": "",
           "title": {
            "standoff": 15
           },
           "zerolinecolor": "white",
           "zerolinewidth": 2
          },
          "yaxis": {
           "automargin": true,
           "gridcolor": "white",
           "linecolor": "white",
           "ticks": "",
           "title": {
            "standoff": 15
           },
           "zerolinecolor": "white",
           "zerolinewidth": 2
          }
         }
        },
        "title": {
         "text": "Интерактивная таблица сравнения важности признаков"
        }
       }
      }
     },
     "metadata": {},
     "output_type": "display_data"
    }
   ],
   "source": [
    "# Статистический анализ важности признаков (финальный)\n",
    "print(\"СТАТИСТИЧЕСКИЙ АНАЛИЗ ВАЖНОСТИ ПРИЗНАКОВ\")\n",
    "print(\"=\" * 50)\n",
    "\n",
    "# Используем совместимую модель для анализа\n",
    "if 'compatible_bagging' in locals():\n",
    "    bagging_importances = np.mean([est.feature_importances_ for est in compatible_bagging.estimators_], axis=0)\n",
    "    rf_importances = models['Random Forest'].feature_importances_\n",
    "    \n",
    "    # Статистики\n",
    "    print(f\"\\nBagging Classifier:\")\n",
    "    print(f\"  Среднее: {np.mean(bagging_importances):.4f}\")\n",
    "    print(f\"  Медиана: {np.median(bagging_importances):.4f}\")\n",
    "    print(f\"  Стд. отклонение: {np.std(bagging_importances):.4f}\")\n",
    "    \n",
    "    print(f\"\\nRandom Forest Classifier:\")\n",
    "    print(f\"  Среднее: {np.mean(rf_importances):.4f}\")\n",
    "    print(f\"  Медиана: {np.median(rf_importances):.4f}\")\n",
    "    print(f\"  Стд. отклонение: {np.std(rf_importances):.4f}\")\n",
    "    \n",
    "    # Корреляция\n",
    "    correlation = np.corrcoef(bagging_importances, rf_importances)[0, 1]\n",
    "    print(f\"\\nКорреляция важности между методами: {correlation:.4f}\")\n",
    "    \n",
    "    # Топ-10 признаков\n",
    "    avg_importance = (bagging_importances + rf_importances) / 2\n",
    "    top_indices = np.argsort(avg_importance)[-10:][::-1]\n",
    "    \n",
    "    print(f\"\\nТоп-10 признаков по средней важности:\")\n",
    "    print(\"-\" * 70)\n",
    "    print(f\"{'Ранг':<4} {'Признак':<12} {'Bagging':<10} {'RF':<10} {'Среднее':<10}\")\n",
    "    print(\"-\" * 70)\n",
    "    \n",
    "    for i, idx in enumerate(top_indices):\n",
    "        feature_name = f\"Признак_{idx+1}\"\n",
    "        print(f\"{i+1:<4} {feature_name:<12} {bagging_importances[idx]:<10.4f} {rf_importances[idx]:<10.4f} {avg_importance[idx]:<10.4f}\")\n",
    "    \n",
    "    # Упрощенная интерактивная таблица\n",
    "    comparison_data = []\n",
    "    for i, (bag_imp, rf_imp) in enumerate(zip(bagging_importances, rf_importances)):\n",
    "        comparison_data.append([\n",
    "            i+1,  # Ранг\n",
    "            f'Признак_{i+1}',  # Название\n",
    "            f'{bag_imp:.4f}',  # Bagging\n",
    "            f'{rf_imp:.4f}',   # RF\n",
    "            f'{(bag_imp + rf_imp)/2:.4f}'  # Среднее\n",
    "        ])\n",
    "    \n",
    "    # Сортируем по средней важности\n",
    "    comparison_data.sort(key=lambda x: float(x[4]), reverse=True)\n",
    "    \n",
    "    fig_table = go.Figure(data=[go.Table(\n",
    "        header=dict(values=['Ранг', 'Признак', 'Bagging', 'Random Forest', 'Среднее'],\n",
    "                    fill_color='lightblue',\n",
    "                    align='center',\n",
    "                    font=dict(size=12, color='black')),\n",
    "        cells=dict(values=list(zip(*comparison_data)),\n",
    "                   fill_color='white',\n",
    "                   align='center',\n",
    "                   font=dict(size=11)))\n",
    "    ])\n",
    "    \n",
    "    fig_table.update_layout(\n",
    "        title='Интерактивная таблица сравнения важности признаков',\n",
    "        height=400\n",
    "    )\n",
    "    \n",
    "    fig_table.show()\n",
    "    \n",
    "else:\n",
    "    print(\"Совместимая модель не найдена. Используем основные модели.\")\n",
    "    \n",
    "    # Анализ только для Random Forest\n",
    "    rf_importances = models['Random Forest'].feature_importances_\n",
    "    fig_rf = create_importance_chart(models['Random Forest'], feature_names, \n",
    "                                   \"Random Forest - Важность признаков\")\n",
    "    if fig_rf:\n",
    "        fig_rf.show()"
   ]
  },
  {
   "cell_type": "markdown",
   "id": "c202e560",
   "metadata": {},
   "source": [
    "---\n",
    "\n",
    "## 10. Week 4: TO-DO\n",
    "\n",
    "### Инструкции\n",
    "- Выполните все задания в отдельном Jupyter Notebook\n",
    "- Используйте комментарии в формате NumPy Docstring для всех функций\n",
    "- Представьте результаты с помощью визуализаций Plotly\n",
    "- Приложите письменные выводы и интерпретацию результатов\n",
    "\n",
    "---\n",
    "\n",
    "### Задание 1: Реализация модифицированного алгоритма (30%)\n",
    "\n",
    "**Подзадание 1.1 (15%)**: Реализуйте упрощенный Decision Tree classifier с нуля, используя только NumPy. Ваша реализация должна включать:\n",
    "- Функцию для вычисления Gini Impurity\n",
    "- Функцию для поиска лучшего разбиения\n",
    "- Рекурсивную функцию построения дерева\n",
    "- Функцию предсказания\n",
    "\n",
    "**Подзадание 1.2 (15%)**: Реализуйте простую версию Bagging, которая:\n",
    "- Создает bootstrap выборки\n",
    "- Обучает несколько ваших Decision Trees\n",
    "- Агрегирует предсказания через голосование\n",
    "- Вычисляет OOB error\n",
    "\n",
    "**Требования:**\n",
    "- Создайте класс SimpleDecisionTree с методами fit() и predict()\n",
    "- Создайте класс SimpleBagging с методами fit(), predict() и oob_score()\n",
    "- Все функции должны содержать подробную документацию\n",
    "- Протестируйте вашу реализацию на простых данных\n",
    "\n",
    "---\n",
    "\n",
    "### Задание 2: Анализ нового датасета (40%)\n",
    "\n",
    "**Подзадание 2.1 (15%)**: Загрузите датасет Wine из sklearn.datasets и проведите разведочный анализ:\n",
    "- Изучите структуру данных, распределение классов\n",
    "- Создайте визуализации признаков с помощью Plotly\n",
    "- Проанализируйте корреляции между признаками\n",
    "- Выявите потенциальные выбросы\n",
    "\n",
    "**Подзадание 2.2 (25%)**: Примените все изученные методы (Decision Tree, Bagging, Random Forest) к датасету Wine:\n",
    "- Разделите данные на train/validation/test (60%/20%/20%)\n",
    "- Обучите модели с различными гиперпараметрами\n",
    "- Сравните производительность с помощью различных метрик (accuracy, precision, recall, F1)\n",
    "- Создайте сводную таблицу результатов\n",
    "- Визуализируйте важность признаков для каждого метода\n",
    "\n",
    "**Критерии оценки:**\n",
    "- Корректность предварительной обработки данных\n",
    "- Полнота анализа (минимум 4 метрики качества)\n",
    "- Качество визуализаций и интерпретации\n",
    "- Обоснованность выводов\n",
    "\n",
    "---\n",
    "\n",
    "### Задание 3: Оптимизация гиперпараметров (20%)\n",
    "\n",
    "**Подзадание 3.1 (10%)**: Используйте GridSearchCV для поиска оптимальных гиперпараметров Random Forest:\n",
    "- Определите диапазоны для поиска: n_estimators, max_depth, max_features, min_samples_split\n",
    "- Используйте 5-fold cross-validation\n",
    "- Найдите лучшую комбинацию параметров\n",
    "- Сравните результаты до и после оптимизации\n",
    "\n",
    "**Подзадание 3.2 (10%)**: Постройте learning curves для лучшей модели:\n",
    "- Изобразите зависимость accuracy от размера обучающей выборки\n",
    "- Проанализируйте наличие overfitting/underfitting\n",
    "- Визуализируйте результаты с помощью Plotly\n",
    "- Сделайте выводы о необходимом размере обучающей выборки\n",
    "\n",
    "---\n",
    "\n",
    "### Задание 4: Интерпретация и выводы (10%)\n",
    "\n",
    "**Подзадание 4.1 (5%)**: Проанализируйте важность признаков:\n",
    "- Сравните важность признаков между разными методами\n",
    "- Объясните различия в ранжировании признаков\n",
    "- Предложите возможные причины этих различий\n",
    "- Определите наиболее информативные признаки для классификации вин\n",
    "\n",
    "**Подзадание 4.2 (5%)**: Напишите заключение , которое должно содержать:\n",
    "- Сравнение эффективности методов на датасете Wine\n",
    "- Рекомендации по выбору метода в зависимости от задачи\n",
    "- Ограничения проведенного анализа\n",
    "- Предложения по улучшению результатов"
   ]
  }
 ],
 "metadata": {
  "kernelspec": {
   "display_name": "base",
   "language": "python",
   "name": "python3"
  },
  "language_info": {
   "codemirror_mode": {
    "name": "ipython",
    "version": 3
   },
   "file_extension": ".py",
   "mimetype": "text/x-python",
   "name": "python",
   "nbconvert_exporter": "python",
   "pygments_lexer": "ipython3",
   "version": "3.12.4"
  }
 },
 "nbformat": 4,
 "nbformat_minor": 5
}
