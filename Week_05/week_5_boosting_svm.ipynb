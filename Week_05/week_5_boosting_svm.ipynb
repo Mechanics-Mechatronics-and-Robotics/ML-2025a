{
 "cells": [
  {
   "cell_type": "markdown",
   "id": "045ce0fa",
   "metadata": {},
   "source": [
    "# Week 5: Gradient Boosted Trees и SVM\n",
    "\n",
    "Цель: изучить теорию и практику обучения моделей Gradient Boosted Trees (XGBoost/LightGBM/CatBoost) и SVM (linear и kernel), а также сравнить их производительность с Random Forest."
   ]
  },
  {
   "cell_type": "markdown",
   "id": "e49b6723",
   "metadata": {},
   "source": [
    "## Учебные цели\n",
    "\n",
    "- Понять формальную постановку Gradient Boosting, включая шаги оптимизации и регуляризацию.\n",
    "- Освоить работу с XGBoost, LightGBM, CatBoost (и sklearn fallback).\n",
    "- Разобрать теорию SVM: primal/dual, hinge loss, kernel trick.\n",
    "- Научиться обучать и сравнивать linear и kernel SVM с Random Forest.\n",
    "- Освоить интерпретацию метрик (Accuracy, ROC AUC, F1) и визуализацию границ решений.\n",
    "- Провести интерактивные эксперименты с гиперпараметрами (C, gamma, n_estimators, learning_rate, max_depth)."
   ]
  },
  {
   "cell_type": "markdown",
   "id": "f2aa0c28",
   "metadata": {},
   "source": [
    "## Оглавление\n",
    "\n",
    "1. Подготовка окружения и данных\n",
    "2. Теория: Gradient Boosting (формулы и интуиция) + ручной пример\n",
    "3. Практика: обучение Gradient Boosted Trees (XGBoost/LightGBM/CatBoost)\n",
    "4. Теория: SVM (linear и kernel) + ручной пример\n",
    "5. Практика: SVM vs Random Forest — сравнение\n",
    "6. Интерактивные эксперименты (Plotly + ipywidgets)\n",
    "7. Плюсы/минусы и рекомендации по применению\n",
    "8. Домашнее задание"
   ]
  },
  {
   "cell_type": "code",
   "execution_count": 1,
   "id": "82c738a2",
   "metadata": {},
   "outputs": [
    {
     "name": "stdout",
     "output_type": "stream",
     "text": [
      "{'xgboost': False, 'lightgbm': False, 'catboost': True, 'ipywidgets': True}\n"
     ]
    }
   ],
   "source": [
    "# -*- coding: utf-8 -*-\n",
    "\"\"\"\n",
    "Импорт библиотек и подготовка окружения\n",
    "\n",
    "Notes\n",
    "-----\n",
    "- Проверяем доступность XGBoost, LightGBM, CatBoost. Если недоступны — используем sklearn аналоги.\n",
    "- Фиксируем seed для воспроизводимости.\n",
    "- Визуализация через Plotly.\n",
    "\"\"\"\n",
    "from __future__ import annotations\n",
    "import importlib\n",
    "import warnings\n",
    "import numpy as np\n",
    "import pandas as pd\n",
    "from typing import Optional\n",
    "\n",
    "# Фиксация seed\n",
    "SEED: int = 42\n",
    "rng = np.random.default_rng(SEED)\n",
    "\n",
    "# Тихий режим для некоторых либ\n",
    "warnings.filterwarnings(\"ignore\")\n",
    "\n",
    "# Проверка наличия библиотек\n",
    "has_xgb = importlib.util.find_spec(\"xgboost\") is not None\n",
    "has_lgbm = importlib.util.find_spec(\"lightgbm\") is not None\n",
    "has_cat = importlib.util.find_spec(\"catboost\") is not None\n",
    "has_widgets = importlib.util.find_spec(\"ipywidgets\") is not None\n",
    "\n",
    "import plotly.express as px\n",
    "import plotly.graph_objects as go\n",
    "\n",
    "print({\n",
    "    \"xgboost\": has_xgb,\n",
    "    \"lightgbm\": has_lgbm,\n",
    "    \"catboost\": has_cat,\n",
    "    \"ipywidgets\": has_widgets,\n",
    "})"
   ]
  },
  {
   "cell_type": "markdown",
   "id": "5872e65a",
   "metadata": {},
   "source": [
    "## Теория: Gradient Boosting — формулировка, интуиция и практические акценты\n",
    "\n",
    "Коротко (TL;DR)\n",
    "- Идея: последовательно добавляем слабые модели (обычно деревья), чтобы исправлять ошибки предыдущего ансамбля по направлению антиградиента функции потерь.\n",
    "- Математика: на шаге m аппроксимируем антиградиент и подбираем базовую модель, минимизирующую квадратичную ошибку на псевдо-остатках; обновляемся с шагом learning_rate.\n",
    "- Практика: качество/устойчивость даёт комбинация малых шагов (learning_rate), ограниченной сложности деревьев (max_depth) и стахастических приёмов (subsample, colsample).\n",
    "\n",
    "### Формальная постановка\n",
    "Имеется выборка ${(x_i, y_i)}_{i=1}^n$, $x_i \\in \\mathbb{R}^d$, $y_i \\in \\mathbb{R}$ (регрессия) или $\\{-1,+1\\}$ (классификация). Ищем ансамбль\n",
    "$$\n",
    "F_0(x) = \\arg\\min_{\\gamma} \\sum_{i=1}^n L(y_i, \\gamma), \\quad\n",
    "F_M(x) = F_{M-1}(x) + \\nu \\cdot h_M(x), \\quad \\nu \\in (0,1].\n",
    "$$\n",
    "На шаге $m$:\n",
    "$$\n",
    "r_{im} = -\\left. \\frac{\\partial L(y_i, F(x_i))}{\\partial F(x_i)} \\right|_{F=F_{m-1}}, \\quad\n",
    "h_m = \\arg\\min_h \\sum_{i=1}^n (r_{im} - h(x_i))^2.\n",
    "$$\n",
    "Для бинарной логистической классификации с $L(y, F) = \\log(1 + e^{-yF})$ псевдо-остатки:\n",
    "$$\n",
    "r_{im} = \\frac{y_i}{1 + e^{y_i F_{m-1}(x_i)}}.\n",
    "$$\n",
    "Интуиция: $h_m$ учится «догонять» направление наибольшего улучшения качества (антиградиент) в точках обучающей выборки; маленький $\\nu$ стабилизирует обучение («shrinkage»).\n",
    "\n",
    "### Связь с XGBoost/LightGBM/CatBoost\n",
    "- XGBoost: минимизирует тэййлорово разложение второго порядка с явной регуляризацией листьев. Целевая на шаге $m$ при добавлении дерева $f$:\n",
    "$$\n",
    "\\mathcal{L}^{(m)} = \\sum_{i=1}^n L\\big(y_i, F_{m-1}(x_i)+f(x_i)\\big) + \\Omega(f),\\quad\n",
    "\\Omega(f) = \\gamma T + \\tfrac{1}{2}\\lambda \\sum_{j=1}^T w_j^2.\n",
    "$$\n",
    "Оптимальные веса листьев $w_j$ и прирост от сплита выражаются через суммы градиентов $g_i$ и гессианов $h_i$ по объектам узла.\n",
    "- LightGBM: histogram-based обучение + GOSS (Gradient-based One-Side Sampling) ускоряют поиск сплитов.\n",
    "- CatBoost: Ordered Boosting и аккуратная обработка категориальных признаков снижают target leakage и смещения.\n",
    "\n",
    "### Практические рекомендации\n",
    "- Базовые гиперпараметры: увеличивайте $n\\_estimators$ вместе с уменьшением `learning_rate` (например, 0.03–0.1); ограничивайте `max_depth` (обычно 3–8); используйте `subsample` и `colsample` 0.6–0.9.\n",
    "- Ранний стоп: при валидации используйте early stopping, особенно в XGBoost/LightGBM.\n",
    "- Масштаб признаков: для деревьев не критичен; нормализация не обязательна.\n",
    "\n",
    "### Глоссарий (ключевые термины)\n",
    "- learning_rate (shrinkage): коэффициент, уменьшающий вклад очередной базовой модели.\n",
    "- base learner: слабая модель, чаще всего дерево небольшой глубины.\n",
    "- (псевдо-)остатки: оценка направления антиградиента на объектах.\n",
    "- subsample/colsample: стохастический подотбор объектов/признаков на шаге.\n",
    "- регуляризация (XGBoost): $\\gamma$ (штраф за листья), $\\lambda$ (L2 на весах листьев).\n",
    "\n",
    "<details>\n",
    "<summary>Проверка понимания (раскрыть)</summary>\n",
    "1) Что даёт уменьшение learning_rate при фиксированном числе деревьев? — Более стабильное, но обычно недообученное решение; нужно увеличивать число деревьев.\n",
    "\n",
    "2) Зачем нужны subsample/colsample? — Вносят стохастичность, снижают вариативность, ускоряют и помогают обобщению.\n",
    "\n",
    "3) Почему XGBoost использует второй порядок? — Более точная локальная аппроксимация потерь даёт лучшее направление улучшения и явные формулы для весов листьев/прироста сплитов.\n",
    "</details>\n",
    "\n",
    "См. далее: «Ручной пример: Gradient Boosting для регрессии (2 итерации)» для пошаговых вычислений на маленьких данных."
   ]
  },
  {
   "cell_type": "markdown",
   "id": "7d5a79cc",
   "metadata": {},
   "source": [
    "### Ручной пример: Gradient Boosting для регрессии (2 итерации)\n",
    "\n",
    "Рассмотрим простую регрессионную задачу с квадратной функцией потерь $L(y, F) = (y - F)^2/2$. Пусть имеется 4 точки на прямой:\n",
    "\n",
    "- $x = [0, 1, 2, 3]$, $y = [1, 3, 2, 5]$.\n",
    "- Базовые модели — decision stumps (пеньки): $h(x) = a$ при $x < t$ и $h(x) = b$ при $x \\ge t$.\n",
    "- Learning rate $\\nu = 0.5$.\n",
    "\n",
    "Шаг 0 (инициализация):\n",
    "- $F_0(x) = \\arg\\min_\\gamma \\sum_i (y_i - \\gamma)^2/2 = \\bar y = (1+3+2+5)/4 = 2.75$.\n",
    "\n",
    "Итерация 1:\n",
    "1. Остатки $r_i = y_i - F_0(x_i)$: $[1-2.75,\\ 3-2.75,\\ 2-2.75,\\ 5-2.75] = [-1.75,\\ 0.25,\\ -0.75,\\ 2.25]$.\n",
    "2. Подбираем stump $h_1(x)$, минимизируя $\\sum_i (r_i - h(x_i))^2$. Рассмотрим пороги $t \\in \\{0.5,\\ 1.5,\\ 2.5\\}$.\n",
    "   - Для $t=0.5$: левая группа $\\{x=0\\}$: среднее остатков $=-1.75$; правая группа $\\{1,2,3\\}$: среднее $=(0.25-0.75+2.25)/3=0.5833$.\n",
    "     Ошибка: $( -1.75+1.75)^2 + \\sum_{x\\ge 1}(r_i-0.5833)^2 = 0 + (0.25-0.5833)^2 + (-0.75-0.5833)^2 + (2.25-0.5833)^2 = 0.1111 + 1.7778 + 2.7778 = 4.6667$.\n",
    "   - Для $t=1.5$: левая $\\{0,1\\}$: среднее $=(-1.75+0.25)/2=-0.75$; правая $\\{2,3\\}$: среднее $=(-0.75+2.25)/2=0.75$.\n",
    "     Ошибка: $(-1.75+0.75)^2 + (0.25+0.75)^2 + (-0.75-0.75)^2 + (2.25-0.75)^2 = 1.0 + 1.0 + 2.25 + 2.25 = 6.5$.\n",
    "   - Для $t=2.5$: левая $\\{0,1,2\\}$: среднее $=(-1.75+0.25-0.75)/3=-0.75$; правая $\\{3\\}$: среднее $=2.25$.\n",
    "     Ошибка: $(-1.75+0.75)^2 + (0.25+0.75)^2 + (-0.75+0.75)^2 + (2.25-2.25)^2 = 1.0 + 1.0 + 0 + 0 = 2.0$.\n",
    "\n",
    "   Лучший порог $t=2.5$, параметры $a=-0.75$, $b=2.25$. То есть $h_1(0)=h_1(1)=h_1(2)=-0.75$, $h_1(3)=2.25$.\n",
    "3. Обновление: $F_1(x) = F_0(x) + \\nu h_1(x)$. Значения:\n",
    "   - $F_1(0)=2.75 + 0.5\\cdot(-0.75)=2.375$;\n",
    "   - $F_1(1)=2.375$;\n",
    "   - $F_1(2)=2.375$;\n",
    "   - $F_1(3)=2.75 + 0.5\\cdot 2.25=3.875$.\n",
    "\n",
    "Итерация 2:\n",
    "1. Остатки $r_i = y_i - F_1(x_i)$: $[1-2.375,\\ 3-2.375,\\ 2-2.375,\\ 5-3.875] = [-1.375,\\ 0.625,\\ -0.375,\\ 1.125]$.\n",
    "2. Аналогично подбираем второй stump по $r_i$:\n",
    "   - Для $t=0.5$: лев. $\\{-1.375\\}$, прав. $\\{0.625,-0.375,1.125\\}$, средние $a=-1.375$, $b=0.4583$; ошибка $=0+(0.625-0.4583)^2+(-0.375-0.4583)^2+(1.125-0.4583)^2=0.0278+0.6944+0.4444=1.1667$.\n",
    "   - Для $t=1.5$: лев. $\\{-1.375,0.625\\}$, прав. $\\{-0.375,1.125\\}$, средние $a=-0.375$, $b=0.375$; ошибка $=(-1.375+0.375)^2 + (0.625+0.375)^2 + (-0.375-0.375)^2 + (1.125-0.375)^2 = 1.0 + 1.0 + 0.5625 + 0.5625 = 3.125$.\n",
    "   - Для $t=2.5$: лев. $\\{-1.375,0.625,-0.375\\}$, прав. $\\{1.125\\}$, средние $a=-0.375$, $b=1.125$; ошибка $=(-1.375+0.375)^2 + (0.625+0.375)^2 + (-0.375+0.375)^2 + (1.125-1.125)^2 = 1.0 + 1.0 + 0 + 0 = 2.0$.\n",
    "\n",
    "   Лучший порог снова $t=0.5$ с меньшей ошибкой $1.1667$. Получаем $h_2(0)=-1.375$, $h_2(1)=h_2(2)=h_2(3)=0.4583$.\n",
    "3. Обновление: $F_2(x) = F_1(x) + 0.5\\cdot h_2(x)$:\n",
    "   - $F_2(0)=2.375 + 0.5\\cdot(-1.375)=1.6875$;\n",
    "   - $F_2(1)=2.375 + 0.5\\cdot 0.4583=2.6042$;\n",
    "   - $F_2(2)=2.6042$;\n",
    "   - $F_2(3)=3.875 + 0.5\\cdot 0.4583=4.1042$.\n",
    "\n",
    "Замечание: при небольшом learning_rate и большем числе итераций модель продолжит улучшаться. Регуляризация через глубину пеньков/деревьев и subsampling позволяет избегать переобучения."
   ]
  },
  {
   "cell_type": "code",
   "execution_count": 2,
   "id": "bb0baa39",
   "metadata": {},
   "outputs": [
    {
     "data": {
      "text/plain": [
       "((420, 2), (180, 2))"
      ]
     },
     "execution_count": 2,
     "metadata": {},
     "output_type": "execute_result"
    }
   ],
   "source": [
    "\"\"\"\n",
    "Генерация синтетических данных для бинарной классификации\n",
    "\n",
    "Returns\n",
    "-------\n",
    "X : ndarray of shape (n_samples, 2)\n",
    "    Признаки.\n",
    "y : ndarray of shape (n_samples,)\n",
    "    Метки классов {-1, +1}.\n",
    "\"\"\"\n",
    "from sklearn.datasets import make_moons\n",
    "from sklearn.model_selection import train_test_split\n",
    "\n",
    "X, y01 = make_moons(n_samples=600, noise=0.25, random_state=SEED)\n",
    "# Переведём в {-1, +1}\n",
    "y = np.where(y01 == 1, 1, -1)\n",
    "X_train, X_test, y_train, y_test = train_test_split(X, y, test_size=0.3, random_state=SEED, stratify=y)\n",
    "X_train.shape, X_test.shape"
   ]
  },
  {
   "cell_type": "code",
   "execution_count": 3,
   "id": "dcf85af9",
   "metadata": {},
   "outputs": [
    {
     "data": {
      "text/plain": [
       "[('CatBoost', 0.9333333333333333, 0.975679012345679),\n",
       " ('SklearnGB', 0.9166666666666666, 0.9598148148148148)]"
      ]
     },
     "execution_count": 3,
     "metadata": {},
     "output_type": "execute_result"
    }
   ],
   "source": [
    "\"\"\"\n",
    "Обучение Gradient Boosted Trees: XGBoost/LightGBM/CatBoost или sklearn fallback\n",
    "\n",
    "Notes\n",
    "-----\n",
    "- Для XGBoost/LightGBM/CatBoost используем соответствующие API, если они доступны.\n",
    "- В качестве запасного варианта используем sklearn.ensemble.GradientBoostingClassifier.\n",
    "- Оцениваем Accuracy и ROC AUC.\n",
    "\"\"\"\n",
    "from sklearn.metrics import accuracy_score, roc_auc_score\n",
    "from sklearn.ensemble import GradientBoostingClassifier\n",
    "\n",
    "models = {}\n",
    "\n",
    "if has_xgb:\n",
    "    from xgboost import XGBClassifier\n",
    "    models[\"XGBoost\"] = XGBClassifier(\n",
    "        n_estimators=300, learning_rate=0.1, max_depth=3,\n",
    "        subsample=0.8, colsample_bytree=0.8, reg_lambda=1.0,\n",
    "        random_state=SEED, eval_metric=\"logloss\", tree_method=\"hist\"\n",
    "    )\n",
    "if has_lgbm:\n",
    "    from lightgbm import LGBMClassifier\n",
    "    models[\"LightGBM\"] = LGBMClassifier(\n",
    "        n_estimators=300, learning_rate=0.1, max_depth=-1,\n",
    "        num_leaves=31, subsample=0.8, colsample_bytree=0.8,\n",
    "        reg_lambda=0.0, random_state=SEED\n",
    "    )\n",
    "if has_cat:\n",
    "    from catboost import CatBoostClassifier\n",
    "    models[\"CatBoost\"] = CatBoostClassifier(\n",
    "        iterations=300, learning_rate=0.1, depth=6,\n",
    "        loss_function=\"Logloss\", verbose=False, random_seed=SEED\n",
    "    )\n",
    "\n",
    "# Fallback\n",
    "models[\"SklearnGB\"] = GradientBoostingClassifier(\n",
    "    n_estimators=300, learning_rate=0.1, max_depth=3, random_state=SEED\n",
    ")\n",
    "\n",
    "results = []\n",
    "for name, clf in models.items():\n",
    "    clf.fit(X_train, y_train)\n",
    "    y_pred = clf.predict(X_test)\n",
    "    # для ROC AUC нужны вероятности класса +1\n",
    "    if hasattr(clf, \"predict_proba\"):\n",
    "        y_proba = clf.predict_proba(X_test)[:, 1]\n",
    "    elif hasattr(clf, \"decision_function\"):\n",
    "        # приводим к [0,1] через сигмоиду для сопоставимости\n",
    "        z = clf.decision_function(X_test)\n",
    "        y_proba = 1 / (1 + np.exp(-z))\n",
    "    else:\n",
    "        y_proba = (y_pred == 1).astype(float)\n",
    "\n",
    "    acc = accuracy_score(y_test, y_pred)\n",
    "    auc = roc_auc_score((y_test==1).astype(int), y_proba)\n",
    "    results.append((name, acc, auc))\n",
    "\n",
    "results"
   ]
  },
  {
   "cell_type": "code",
   "execution_count": 4,
   "id": "f4ea7d22",
   "metadata": {},
   "outputs": [
    {
     "data": {
      "application/vnd.plotly.v1+json": {
       "config": {
        "plotlyServerURL": "https://plot.ly"
       },
       "data": [
        {
         "marker": {
          "color": "#4C78A8"
         },
         "name": "Accuracy",
         "type": "bar",
         "x": [
          "CatBoost",
          "SklearnGB"
         ],
         "y": [
          0.9333333333333333,
          0.9166666666666666
         ]
        },
        {
         "marker": {
          "color": "#F58518"
         },
         "name": "ROC AUC",
         "type": "bar",
         "x": [
          "CatBoost",
          "SklearnGB"
         ],
         "y": [
          0.975679012345679,
          0.9598148148148148
         ]
        }
       ],
       "layout": {
        "barmode": "group",
        "template": {
         "data": {
          "bar": [
           {
            "error_x": {
             "color": "#2a3f5f"
            },
            "error_y": {
             "color": "#2a3f5f"
            },
            "marker": {
             "line": {
              "color": "#E5ECF6",
              "width": 0.5
             },
             "pattern": {
              "fillmode": "overlay",
              "size": 10,
              "solidity": 0.2
             }
            },
            "type": "bar"
           }
          ],
          "barpolar": [
           {
            "marker": {
             "line": {
              "color": "#E5ECF6",
              "width": 0.5
             },
             "pattern": {
              "fillmode": "overlay",
              "size": 10,
              "solidity": 0.2
             }
            },
            "type": "barpolar"
           }
          ],
          "carpet": [
           {
            "aaxis": {
             "endlinecolor": "#2a3f5f",
             "gridcolor": "white",
             "linecolor": "white",
             "minorgridcolor": "white",
             "startlinecolor": "#2a3f5f"
            },
            "baxis": {
             "endlinecolor": "#2a3f5f",
             "gridcolor": "white",
             "linecolor": "white",
             "minorgridcolor": "white",
             "startlinecolor": "#2a3f5f"
            },
            "type": "carpet"
           }
          ],
          "choropleth": [
           {
            "colorbar": {
             "outlinewidth": 0,
             "ticks": ""
            },
            "type": "choropleth"
           }
          ],
          "contour": [
           {
            "colorbar": {
             "outlinewidth": 0,
             "ticks": ""
            },
            "colorscale": [
             [
              0,
              "#0d0887"
             ],
             [
              0.1111111111111111,
              "#46039f"
             ],
             [
              0.2222222222222222,
              "#7201a8"
             ],
             [
              0.3333333333333333,
              "#9c179e"
             ],
             [
              0.4444444444444444,
              "#bd3786"
             ],
             [
              0.5555555555555556,
              "#d8576b"
             ],
             [
              0.6666666666666666,
              "#ed7953"
             ],
             [
              0.7777777777777778,
              "#fb9f3a"
             ],
             [
              0.8888888888888888,
              "#fdca26"
             ],
             [
              1,
              "#f0f921"
             ]
            ],
            "type": "contour"
           }
          ],
          "contourcarpet": [
           {
            "colorbar": {
             "outlinewidth": 0,
             "ticks": ""
            },
            "type": "contourcarpet"
           }
          ],
          "heatmap": [
           {
            "colorbar": {
             "outlinewidth": 0,
             "ticks": ""
            },
            "colorscale": [
             [
              0,
              "#0d0887"
             ],
             [
              0.1111111111111111,
              "#46039f"
             ],
             [
              0.2222222222222222,
              "#7201a8"
             ],
             [
              0.3333333333333333,
              "#9c179e"
             ],
             [
              0.4444444444444444,
              "#bd3786"
             ],
             [
              0.5555555555555556,
              "#d8576b"
             ],
             [
              0.6666666666666666,
              "#ed7953"
             ],
             [
              0.7777777777777778,
              "#fb9f3a"
             ],
             [
              0.8888888888888888,
              "#fdca26"
             ],
             [
              1,
              "#f0f921"
             ]
            ],
            "type": "heatmap"
           }
          ],
          "heatmapgl": [
           {
            "colorbar": {
             "outlinewidth": 0,
             "ticks": ""
            },
            "colorscale": [
             [
              0,
              "#0d0887"
             ],
             [
              0.1111111111111111,
              "#46039f"
             ],
             [
              0.2222222222222222,
              "#7201a8"
             ],
             [
              0.3333333333333333,
              "#9c179e"
             ],
             [
              0.4444444444444444,
              "#bd3786"
             ],
             [
              0.5555555555555556,
              "#d8576b"
             ],
             [
              0.6666666666666666,
              "#ed7953"
             ],
             [
              0.7777777777777778,
              "#fb9f3a"
             ],
             [
              0.8888888888888888,
              "#fdca26"
             ],
             [
              1,
              "#f0f921"
             ]
            ],
            "type": "heatmapgl"
           }
          ],
          "histogram": [
           {
            "marker": {
             "pattern": {
              "fillmode": "overlay",
              "size": 10,
              "solidity": 0.2
             }
            },
            "type": "histogram"
           }
          ],
          "histogram2d": [
           {
            "colorbar": {
             "outlinewidth": 0,
             "ticks": ""
            },
            "colorscale": [
             [
              0,
              "#0d0887"
             ],
             [
              0.1111111111111111,
              "#46039f"
             ],
             [
              0.2222222222222222,
              "#7201a8"
             ],
             [
              0.3333333333333333,
              "#9c179e"
             ],
             [
              0.4444444444444444,
              "#bd3786"
             ],
             [
              0.5555555555555556,
              "#d8576b"
             ],
             [
              0.6666666666666666,
              "#ed7953"
             ],
             [
              0.7777777777777778,
              "#fb9f3a"
             ],
             [
              0.8888888888888888,
              "#fdca26"
             ],
             [
              1,
              "#f0f921"
             ]
            ],
            "type": "histogram2d"
           }
          ],
          "histogram2dcontour": [
           {
            "colorbar": {
             "outlinewidth": 0,
             "ticks": ""
            },
            "colorscale": [
             [
              0,
              "#0d0887"
             ],
             [
              0.1111111111111111,
              "#46039f"
             ],
             [
              0.2222222222222222,
              "#7201a8"
             ],
             [
              0.3333333333333333,
              "#9c179e"
             ],
             [
              0.4444444444444444,
              "#bd3786"
             ],
             [
              0.5555555555555556,
              "#d8576b"
             ],
             [
              0.6666666666666666,
              "#ed7953"
             ],
             [
              0.7777777777777778,
              "#fb9f3a"
             ],
             [
              0.8888888888888888,
              "#fdca26"
             ],
             [
              1,
              "#f0f921"
             ]
            ],
            "type": "histogram2dcontour"
           }
          ],
          "mesh3d": [
           {
            "colorbar": {
             "outlinewidth": 0,
             "ticks": ""
            },
            "type": "mesh3d"
           }
          ],
          "parcoords": [
           {
            "line": {
             "colorbar": {
              "outlinewidth": 0,
              "ticks": ""
             }
            },
            "type": "parcoords"
           }
          ],
          "pie": [
           {
            "automargin": true,
            "type": "pie"
           }
          ],
          "scatter": [
           {
            "fillpattern": {
             "fillmode": "overlay",
             "size": 10,
             "solidity": 0.2
            },
            "type": "scatter"
           }
          ],
          "scatter3d": [
           {
            "line": {
             "colorbar": {
              "outlinewidth": 0,
              "ticks": ""
             }
            },
            "marker": {
             "colorbar": {
              "outlinewidth": 0,
              "ticks": ""
             }
            },
            "type": "scatter3d"
           }
          ],
          "scattercarpet": [
           {
            "marker": {
             "colorbar": {
              "outlinewidth": 0,
              "ticks": ""
             }
            },
            "type": "scattercarpet"
           }
          ],
          "scattergeo": [
           {
            "marker": {
             "colorbar": {
              "outlinewidth": 0,
              "ticks": ""
             }
            },
            "type": "scattergeo"
           }
          ],
          "scattergl": [
           {
            "marker": {
             "colorbar": {
              "outlinewidth": 0,
              "ticks": ""
             }
            },
            "type": "scattergl"
           }
          ],
          "scattermapbox": [
           {
            "marker": {
             "colorbar": {
              "outlinewidth": 0,
              "ticks": ""
             }
            },
            "type": "scattermapbox"
           }
          ],
          "scatterpolar": [
           {
            "marker": {
             "colorbar": {
              "outlinewidth": 0,
              "ticks": ""
             }
            },
            "type": "scatterpolar"
           }
          ],
          "scatterpolargl": [
           {
            "marker": {
             "colorbar": {
              "outlinewidth": 0,
              "ticks": ""
             }
            },
            "type": "scatterpolargl"
           }
          ],
          "scatterternary": [
           {
            "marker": {
             "colorbar": {
              "outlinewidth": 0,
              "ticks": ""
             }
            },
            "type": "scatterternary"
           }
          ],
          "surface": [
           {
            "colorbar": {
             "outlinewidth": 0,
             "ticks": ""
            },
            "colorscale": [
             [
              0,
              "#0d0887"
             ],
             [
              0.1111111111111111,
              "#46039f"
             ],
             [
              0.2222222222222222,
              "#7201a8"
             ],
             [
              0.3333333333333333,
              "#9c179e"
             ],
             [
              0.4444444444444444,
              "#bd3786"
             ],
             [
              0.5555555555555556,
              "#d8576b"
             ],
             [
              0.6666666666666666,
              "#ed7953"
             ],
             [
              0.7777777777777778,
              "#fb9f3a"
             ],
             [
              0.8888888888888888,
              "#fdca26"
             ],
             [
              1,
              "#f0f921"
             ]
            ],
            "type": "surface"
           }
          ],
          "table": [
           {
            "cells": {
             "fill": {
              "color": "#EBF0F8"
             },
             "line": {
              "color": "white"
             }
            },
            "header": {
             "fill": {
              "color": "#C8D4E3"
             },
             "line": {
              "color": "white"
             }
            },
            "type": "table"
           }
          ]
         },
         "layout": {
          "annotationdefaults": {
           "arrowcolor": "#2a3f5f",
           "arrowhead": 0,
           "arrowwidth": 1
          },
          "autotypenumbers": "strict",
          "coloraxis": {
           "colorbar": {
            "outlinewidth": 0,
            "ticks": ""
           }
          },
          "colorscale": {
           "diverging": [
            [
             0,
             "#8e0152"
            ],
            [
             0.1,
             "#c51b7d"
            ],
            [
             0.2,
             "#de77ae"
            ],
            [
             0.3,
             "#f1b6da"
            ],
            [
             0.4,
             "#fde0ef"
            ],
            [
             0.5,
             "#f7f7f7"
            ],
            [
             0.6,
             "#e6f5d0"
            ],
            [
             0.7,
             "#b8e186"
            ],
            [
             0.8,
             "#7fbc41"
            ],
            [
             0.9,
             "#4d9221"
            ],
            [
             1,
             "#276419"
            ]
           ],
           "sequential": [
            [
             0,
             "#0d0887"
            ],
            [
             0.1111111111111111,
             "#46039f"
            ],
            [
             0.2222222222222222,
             "#7201a8"
            ],
            [
             0.3333333333333333,
             "#9c179e"
            ],
            [
             0.4444444444444444,
             "#bd3786"
            ],
            [
             0.5555555555555556,
             "#d8576b"
            ],
            [
             0.6666666666666666,
             "#ed7953"
            ],
            [
             0.7777777777777778,
             "#fb9f3a"
            ],
            [
             0.8888888888888888,
             "#fdca26"
            ],
            [
             1,
             "#f0f921"
            ]
           ],
           "sequentialminus": [
            [
             0,
             "#0d0887"
            ],
            [
             0.1111111111111111,
             "#46039f"
            ],
            [
             0.2222222222222222,
             "#7201a8"
            ],
            [
             0.3333333333333333,
             "#9c179e"
            ],
            [
             0.4444444444444444,
             "#bd3786"
            ],
            [
             0.5555555555555556,
             "#d8576b"
            ],
            [
             0.6666666666666666,
             "#ed7953"
            ],
            [
             0.7777777777777778,
             "#fb9f3a"
            ],
            [
             0.8888888888888888,
             "#fdca26"
            ],
            [
             1,
             "#f0f921"
            ]
           ]
          },
          "colorway": [
           "#636efa",
           "#EF553B",
           "#00cc96",
           "#ab63fa",
           "#FFA15A",
           "#19d3f3",
           "#FF6692",
           "#B6E880",
           "#FF97FF",
           "#FECB52"
          ],
          "font": {
           "color": "#2a3f5f"
          },
          "geo": {
           "bgcolor": "white",
           "lakecolor": "white",
           "landcolor": "#E5ECF6",
           "showlakes": true,
           "showland": true,
           "subunitcolor": "white"
          },
          "hoverlabel": {
           "align": "left"
          },
          "hovermode": "closest",
          "mapbox": {
           "style": "light"
          },
          "paper_bgcolor": "white",
          "plot_bgcolor": "#E5ECF6",
          "polar": {
           "angularaxis": {
            "gridcolor": "white",
            "linecolor": "white",
            "ticks": ""
           },
           "bgcolor": "#E5ECF6",
           "radialaxis": {
            "gridcolor": "white",
            "linecolor": "white",
            "ticks": ""
           }
          },
          "scene": {
           "xaxis": {
            "backgroundcolor": "#E5ECF6",
            "gridcolor": "white",
            "gridwidth": 2,
            "linecolor": "white",
            "showbackground": true,
            "ticks": "",
            "zerolinecolor": "white"
           },
           "yaxis": {
            "backgroundcolor": "#E5ECF6",
            "gridcolor": "white",
            "gridwidth": 2,
            "linecolor": "white",
            "showbackground": true,
            "ticks": "",
            "zerolinecolor": "white"
           },
           "zaxis": {
            "backgroundcolor": "#E5ECF6",
            "gridcolor": "white",
            "gridwidth": 2,
            "linecolor": "white",
            "showbackground": true,
            "ticks": "",
            "zerolinecolor": "white"
           }
          },
          "shapedefaults": {
           "line": {
            "color": "#2a3f5f"
           }
          },
          "ternary": {
           "aaxis": {
            "gridcolor": "white",
            "linecolor": "white",
            "ticks": ""
           },
           "baxis": {
            "gridcolor": "white",
            "linecolor": "white",
            "ticks": ""
           },
           "bgcolor": "#E5ECF6",
           "caxis": {
            "gridcolor": "white",
            "linecolor": "white",
            "ticks": ""
           }
          },
          "title": {
           "x": 0.05
          },
          "xaxis": {
           "automargin": true,
           "gridcolor": "white",
           "linecolor": "white",
           "ticks": "",
           "title": {
            "standoff": 15
           },
           "zerolinecolor": "white",
           "zerolinewidth": 2
          },
          "yaxis": {
           "automargin": true,
           "gridcolor": "white",
           "linecolor": "white",
           "ticks": "",
           "title": {
            "standoff": 15
           },
           "zerolinecolor": "white",
           "zerolinewidth": 2
          }
         }
        },
        "title": {
         "text": "Сравнение моделей Gradient Boosted Trees"
        },
        "yaxis": {
         "title": {
          "text": "Score"
         }
        }
       }
      }
     },
     "metadata": {},
     "output_type": "display_data"
    }
   ],
   "source": [
    "\"\"\"\n",
    "Визуализация сравнения моделей Gradient Boosted Trees\n",
    "\n",
    "Notes\n",
    "-----\n",
    "- Используем Plotly для интерактивной таблицы результатов.\n",
    "- Одна визуализация в ячейке.\n",
    "\"\"\"\n",
    "res_df = pd.DataFrame(results, columns=[\"model\", \"accuracy\", \"roc_auc\"]).sort_values(\"roc_auc\", ascending=False)\n",
    "fig = go.Figure(data=[\n",
    "    go.Bar(name=\"Accuracy\", x=res_df[\"model\"], y=res_df[\"accuracy\"], marker_color=\"#4C78A8\"),\n",
    "    go.Bar(name=\"ROC AUC\", x=res_df[\"model\"], y=res_df[\"roc_auc\"], marker_color=\"#F58518\"),\n",
    "])\n",
    "fig.update_layout(barmode=\"group\", title=\"Сравнение моделей Gradient Boosted Trees\", yaxis_title=\"Score\")\n",
    "fig.show()"
   ]
  },
  {
   "cell_type": "markdown",
   "id": "54303321",
   "metadata": {},
   "source": [
    "## Теория: Support Vector Machines (SVM) — интуиция, формулы и настройки\n",
    "\n",
    "Коротко (TL;DR)\n",
    "- Идея: найти гиперплоскость с максимально широким margin, допускающую минимум ошибок; при kernel trick — разделяемость достигается в признаковом пространстве $\\phi(x)$.\n",
    "- Математика: soft-margin минимизирует $\\tfrac{1}{2}\\|w\\|^2 + C\\sum\\xi_i$ при ограничениях на функциональные значения; дуальная задача приводит к сумме по поддерживающим векторам с ядром $K$.\n",
    "- Практика: линейный SVM хорош для больших, разреженных признаков; kernel SVM (RBF) — для сложных нелинейных границ на умеренных по размеру данных.\n",
    "\n",
    "### Примальная и дуальная постановки\n",
    "Примальная:\n",
    "$$\n",
    "\\min_{w,b,\\xi} \\tfrac{1}{2}\\|w\\|^2 + C\\sum_{i=1}^n \\xi_i \\quad \\text{s.t.} \\quad y_i(w^\\top x_i + b) \\ge 1 - \\xi_i,\\; \\xi_i\\ge 0.\n",
    "$$\n",
    "Дуальная:\n",
    "$$\n",
    "\\max_{\\alpha} \\sum_{i=1}^n \\alpha_i - \\tfrac{1}{2}\\sum_{i,j} \\alpha_i\\alpha_j y_i y_j K(x_i,x_j) \\quad \\text{s.t.} \\quad 0\\le \\alpha_i \\le C,\\; \\sum_i \\alpha_i y_i=0.\n",
    "$$\n",
    "Decision function: $f(x)=\\sum_i \\alpha_i y_i K(x_i,x) + b$. Поддерживающие векторы: объекты с $\\alpha_i>0$.\n",
    "\n",
    "### Kernel trick и RBF ядро\n",
    "- Kernel trick позволяет работать в высокомерном пространстве $\\phi(x)$ без явного отображения признаков.\n",
    "- Популярное RBF: $K(x,z)=\\exp(-\\gamma\\|x-z\\|^2)$. Гиперпараметры: `C` и `gamma` (радиус влияния SV).\n",
    "\n",
    "### Практические рекомендации\n",
    "- Масштабируйте признаки (особенно для линейного SVM и SVC(kernel='linear')), иначе C работает непредсказуемо.\n",
    "- Подбирайте `C` и `gamma` на валидации (лог-шкала: C∈[1e-2,1e2], gamma∈[1e-3,1e0]).\n",
    "- Для больших, разреженных текстов используйте линейный SVM (LinearSVC/SGDClassifier), для 2D и умеренных данных — SVC(RBF).\n",
    "\n",
    "### Глоссарий\n",
    "- margin: расстояние до ближайших точек разметки от разделяющей гиперплоскости.\n",
    "- hinge loss: $\\max(0, 1 - y f(x))$, штрафует за «неправильные» и «недостаточно уверенные» классификации.\n",
    "- C: вес ошибки в soft-margin; большой C — меньше ошибок на train, выше риск overfitting.\n",
    "- gamma (RBF): ширина «колокола» ядра; большой gamma — локальные, извилистые границы.\n",
    "\n",
    "<details>\n",
    "<summary>Проверка понимания (раскрыть)</summary>\n",
    "1) Что происходит при очень большом C? — Модель старается исправить все ошибки на обучении, уменьшая margin и повышая риск переобучения.\n",
    "\n",
    "2) Что происходит при слишком большом gamma (RBF)? — Граница становится чрезмерно извилистой, модель запоминает шум.\n",
    "\n",
    "3) Почему линейный SVM часто выигрывает на текстах? — Высокая размерность и разреженность делают линейную границу эффективной и быстрой, без необходимости сложных ядер.\n",
    "</details>\n",
    "\n",
    "См. далее: «Ручной пример: линейный SVM в 2D» для интуитивной иллюстрации выбора $w,b$ по условиям KKT."
   ]
  },
  {
   "cell_type": "code",
   "execution_count": 5,
   "id": "e629e9b2",
   "metadata": {},
   "outputs": [
    {
     "data": {
      "application/vnd.microsoft.datawrangler.viewer.v0+json": {
       "columns": [
        {
         "name": "index",
         "rawType": "int64",
         "type": "integer"
        },
        {
         "name": "model",
         "rawType": "object",
         "type": "string"
        },
        {
         "name": "accuracy",
         "rawType": "float64",
         "type": "float"
        },
        {
         "name": "roc_auc",
         "rawType": "float64",
         "type": "float"
        }
       ],
       "ref": "6174e6d5-af51-43a6-a98b-3baa74e34091",
       "rows": [
        [
         "2",
         "SVC-RBF",
         "0.9222222222222223",
         "0.981604938271605"
        ],
        [
         "3",
         "RandomForest",
         "0.9277777777777778",
         "0.9702469135802468"
        ],
        [
         "0",
         "LinearSVC",
         "0.8444444444444444",
         "0.9385185185185185"
        ],
        [
         "1",
         "SVC-linear",
         "0.8555555555555555",
         "0.9385185185185185"
        ]
       ],
       "shape": {
        "columns": 3,
        "rows": 4
       }
      },
      "text/html": [
       "<div>\n",
       "<style scoped>\n",
       "    .dataframe tbody tr th:only-of-type {\n",
       "        vertical-align: middle;\n",
       "    }\n",
       "\n",
       "    .dataframe tbody tr th {\n",
       "        vertical-align: top;\n",
       "    }\n",
       "\n",
       "    .dataframe thead th {\n",
       "        text-align: right;\n",
       "    }\n",
       "</style>\n",
       "<table border=\"1\" class=\"dataframe\">\n",
       "  <thead>\n",
       "    <tr style=\"text-align: right;\">\n",
       "      <th></th>\n",
       "      <th>model</th>\n",
       "      <th>accuracy</th>\n",
       "      <th>roc_auc</th>\n",
       "    </tr>\n",
       "  </thead>\n",
       "  <tbody>\n",
       "    <tr>\n",
       "      <th>2</th>\n",
       "      <td>SVC-RBF</td>\n",
       "      <td>0.922222</td>\n",
       "      <td>0.981605</td>\n",
       "    </tr>\n",
       "    <tr>\n",
       "      <th>3</th>\n",
       "      <td>RandomForest</td>\n",
       "      <td>0.927778</td>\n",
       "      <td>0.970247</td>\n",
       "    </tr>\n",
       "    <tr>\n",
       "      <th>0</th>\n",
       "      <td>LinearSVC</td>\n",
       "      <td>0.844444</td>\n",
       "      <td>0.938519</td>\n",
       "    </tr>\n",
       "    <tr>\n",
       "      <th>1</th>\n",
       "      <td>SVC-linear</td>\n",
       "      <td>0.855556</td>\n",
       "      <td>0.938519</td>\n",
       "    </tr>\n",
       "  </tbody>\n",
       "</table>\n",
       "</div>"
      ],
      "text/plain": [
       "          model  accuracy   roc_auc\n",
       "2       SVC-RBF  0.922222  0.981605\n",
       "3  RandomForest  0.927778  0.970247\n",
       "0     LinearSVC  0.844444  0.938519\n",
       "1    SVC-linear  0.855556  0.938519"
      ]
     },
     "execution_count": 5,
     "metadata": {},
     "output_type": "execute_result"
    }
   ],
   "source": [
    "\"\"\"\n",
    "Обучение SVM (линейный и RBF) и Random Forest. Сравнение с Gradient Boosting.\n",
    "\n",
    "Notes\n",
    "-----\n",
    "- Для линейного SVM используем LinearSVC (быстрый для больших d) и/или SVC(kernel='linear').\n",
    "- Для kernel SVM используем SVC(RBF). Сравним с RandomForestClassifier.\n",
    "- Считаем Accuracy и ROC AUC.\n",
    "\"\"\"\n",
    "from sklearn.svm import LinearSVC, SVC\n",
    "from sklearn.ensemble import RandomForestClassifier\n",
    "\n",
    "svc_models = {\n",
    "    \"LinearSVC\": LinearSVC(C=1.0, random_state=SEED),\n",
    "    \"SVC-linear\": SVC(kernel=\"linear\", C=1.0, probability=True, random_state=SEED),\n",
    "    \"SVC-RBF\": SVC(kernel=\"rbf\", C=1.0, gamma=\"scale\", probability=True, random_state=SEED),\n",
    "    \"RandomForest\": RandomForestClassifier(n_estimators=300, max_depth=None, random_state=SEED)\n",
    "}\n",
    "\n",
    "svm_results = []\n",
    "for name, clf in svc_models.items():\n",
    "    clf.fit(X_train, y_train)\n",
    "    y_pred = clf.predict(X_test)\n",
    "    if hasattr(clf, \"predict_proba\"):\n",
    "        y_proba = clf.predict_proba(X_test)[:, 1]\n",
    "    else:\n",
    "        z = clf.decision_function(X_test)\n",
    "        y_proba = 1 / (1 + np.exp(-z))\n",
    "\n",
    "    acc = accuracy_score(y_test, y_pred)\n",
    "    auc = roc_auc_score((y_test==1).astype(int), y_proba)\n",
    "    svm_results.append((name, acc, auc))\n",
    "\n",
    "pd.DataFrame(svm_results, columns=[\"model\", \"accuracy\", \"roc_auc\"]).sort_values(\"roc_auc\", ascending=False)"
   ]
  },
  {
   "cell_type": "code",
   "execution_count": 6,
   "id": "83317ccc",
   "metadata": {},
   "outputs": [
    {
     "data": {
      "application/vnd.plotly.v1+json": {
       "config": {
        "plotlyServerURL": "https://plot.ly"
       },
       "data": [
        {
         "marker": {
          "color": "#72B7B2"
         },
         "name": "Accuracy",
         "type": "bar",
         "x": [
          "SVC-RBF",
          "RandomForest",
          "LinearSVC",
          "SVC-linear"
         ],
         "y": [
          0.9222222222222223,
          0.9277777777777778,
          0.8444444444444444,
          0.8555555555555555
         ]
        },
        {
         "marker": {
          "color": "#E45756"
         },
         "name": "ROC AUC",
         "type": "bar",
         "x": [
          "SVC-RBF",
          "RandomForest",
          "LinearSVC",
          "SVC-linear"
         ],
         "y": [
          0.981604938271605,
          0.9702469135802468,
          0.9385185185185185,
          0.9385185185185185
         ]
        }
       ],
       "layout": {
        "barmode": "group",
        "template": {
         "data": {
          "bar": [
           {
            "error_x": {
             "color": "#2a3f5f"
            },
            "error_y": {
             "color": "#2a3f5f"
            },
            "marker": {
             "line": {
              "color": "#E5ECF6",
              "width": 0.5
             },
             "pattern": {
              "fillmode": "overlay",
              "size": 10,
              "solidity": 0.2
             }
            },
            "type": "bar"
           }
          ],
          "barpolar": [
           {
            "marker": {
             "line": {
              "color": "#E5ECF6",
              "width": 0.5
             },
             "pattern": {
              "fillmode": "overlay",
              "size": 10,
              "solidity": 0.2
             }
            },
            "type": "barpolar"
           }
          ],
          "carpet": [
           {
            "aaxis": {
             "endlinecolor": "#2a3f5f",
             "gridcolor": "white",
             "linecolor": "white",
             "minorgridcolor": "white",
             "startlinecolor": "#2a3f5f"
            },
            "baxis": {
             "endlinecolor": "#2a3f5f",
             "gridcolor": "white",
             "linecolor": "white",
             "minorgridcolor": "white",
             "startlinecolor": "#2a3f5f"
            },
            "type": "carpet"
           }
          ],
          "choropleth": [
           {
            "colorbar": {
             "outlinewidth": 0,
             "ticks": ""
            },
            "type": "choropleth"
           }
          ],
          "contour": [
           {
            "colorbar": {
             "outlinewidth": 0,
             "ticks": ""
            },
            "colorscale": [
             [
              0,
              "#0d0887"
             ],
             [
              0.1111111111111111,
              "#46039f"
             ],
             [
              0.2222222222222222,
              "#7201a8"
             ],
             [
              0.3333333333333333,
              "#9c179e"
             ],
             [
              0.4444444444444444,
              "#bd3786"
             ],
             [
              0.5555555555555556,
              "#d8576b"
             ],
             [
              0.6666666666666666,
              "#ed7953"
             ],
             [
              0.7777777777777778,
              "#fb9f3a"
             ],
             [
              0.8888888888888888,
              "#fdca26"
             ],
             [
              1,
              "#f0f921"
             ]
            ],
            "type": "contour"
           }
          ],
          "contourcarpet": [
           {
            "colorbar": {
             "outlinewidth": 0,
             "ticks": ""
            },
            "type": "contourcarpet"
           }
          ],
          "heatmap": [
           {
            "colorbar": {
             "outlinewidth": 0,
             "ticks": ""
            },
            "colorscale": [
             [
              0,
              "#0d0887"
             ],
             [
              0.1111111111111111,
              "#46039f"
             ],
             [
              0.2222222222222222,
              "#7201a8"
             ],
             [
              0.3333333333333333,
              "#9c179e"
             ],
             [
              0.4444444444444444,
              "#bd3786"
             ],
             [
              0.5555555555555556,
              "#d8576b"
             ],
             [
              0.6666666666666666,
              "#ed7953"
             ],
             [
              0.7777777777777778,
              "#fb9f3a"
             ],
             [
              0.8888888888888888,
              "#fdca26"
             ],
             [
              1,
              "#f0f921"
             ]
            ],
            "type": "heatmap"
           }
          ],
          "heatmapgl": [
           {
            "colorbar": {
             "outlinewidth": 0,
             "ticks": ""
            },
            "colorscale": [
             [
              0,
              "#0d0887"
             ],
             [
              0.1111111111111111,
              "#46039f"
             ],
             [
              0.2222222222222222,
              "#7201a8"
             ],
             [
              0.3333333333333333,
              "#9c179e"
             ],
             [
              0.4444444444444444,
              "#bd3786"
             ],
             [
              0.5555555555555556,
              "#d8576b"
             ],
             [
              0.6666666666666666,
              "#ed7953"
             ],
             [
              0.7777777777777778,
              "#fb9f3a"
             ],
             [
              0.8888888888888888,
              "#fdca26"
             ],
             [
              1,
              "#f0f921"
             ]
            ],
            "type": "heatmapgl"
           }
          ],
          "histogram": [
           {
            "marker": {
             "pattern": {
              "fillmode": "overlay",
              "size": 10,
              "solidity": 0.2
             }
            },
            "type": "histogram"
           }
          ],
          "histogram2d": [
           {
            "colorbar": {
             "outlinewidth": 0,
             "ticks": ""
            },
            "colorscale": [
             [
              0,
              "#0d0887"
             ],
             [
              0.1111111111111111,
              "#46039f"
             ],
             [
              0.2222222222222222,
              "#7201a8"
             ],
             [
              0.3333333333333333,
              "#9c179e"
             ],
             [
              0.4444444444444444,
              "#bd3786"
             ],
             [
              0.5555555555555556,
              "#d8576b"
             ],
             [
              0.6666666666666666,
              "#ed7953"
             ],
             [
              0.7777777777777778,
              "#fb9f3a"
             ],
             [
              0.8888888888888888,
              "#fdca26"
             ],
             [
              1,
              "#f0f921"
             ]
            ],
            "type": "histogram2d"
           }
          ],
          "histogram2dcontour": [
           {
            "colorbar": {
             "outlinewidth": 0,
             "ticks": ""
            },
            "colorscale": [
             [
              0,
              "#0d0887"
             ],
             [
              0.1111111111111111,
              "#46039f"
             ],
             [
              0.2222222222222222,
              "#7201a8"
             ],
             [
              0.3333333333333333,
              "#9c179e"
             ],
             [
              0.4444444444444444,
              "#bd3786"
             ],
             [
              0.5555555555555556,
              "#d8576b"
             ],
             [
              0.6666666666666666,
              "#ed7953"
             ],
             [
              0.7777777777777778,
              "#fb9f3a"
             ],
             [
              0.8888888888888888,
              "#fdca26"
             ],
             [
              1,
              "#f0f921"
             ]
            ],
            "type": "histogram2dcontour"
           }
          ],
          "mesh3d": [
           {
            "colorbar": {
             "outlinewidth": 0,
             "ticks": ""
            },
            "type": "mesh3d"
           }
          ],
          "parcoords": [
           {
            "line": {
             "colorbar": {
              "outlinewidth": 0,
              "ticks": ""
             }
            },
            "type": "parcoords"
           }
          ],
          "pie": [
           {
            "automargin": true,
            "type": "pie"
           }
          ],
          "scatter": [
           {
            "fillpattern": {
             "fillmode": "overlay",
             "size": 10,
             "solidity": 0.2
            },
            "type": "scatter"
           }
          ],
          "scatter3d": [
           {
            "line": {
             "colorbar": {
              "outlinewidth": 0,
              "ticks": ""
             }
            },
            "marker": {
             "colorbar": {
              "outlinewidth": 0,
              "ticks": ""
             }
            },
            "type": "scatter3d"
           }
          ],
          "scattercarpet": [
           {
            "marker": {
             "colorbar": {
              "outlinewidth": 0,
              "ticks": ""
             }
            },
            "type": "scattercarpet"
           }
          ],
          "scattergeo": [
           {
            "marker": {
             "colorbar": {
              "outlinewidth": 0,
              "ticks": ""
             }
            },
            "type": "scattergeo"
           }
          ],
          "scattergl": [
           {
            "marker": {
             "colorbar": {
              "outlinewidth": 0,
              "ticks": ""
             }
            },
            "type": "scattergl"
           }
          ],
          "scattermapbox": [
           {
            "marker": {
             "colorbar": {
              "outlinewidth": 0,
              "ticks": ""
             }
            },
            "type": "scattermapbox"
           }
          ],
          "scatterpolar": [
           {
            "marker": {
             "colorbar": {
              "outlinewidth": 0,
              "ticks": ""
             }
            },
            "type": "scatterpolar"
           }
          ],
          "scatterpolargl": [
           {
            "marker": {
             "colorbar": {
              "outlinewidth": 0,
              "ticks": ""
             }
            },
            "type": "scatterpolargl"
           }
          ],
          "scatterternary": [
           {
            "marker": {
             "colorbar": {
              "outlinewidth": 0,
              "ticks": ""
             }
            },
            "type": "scatterternary"
           }
          ],
          "surface": [
           {
            "colorbar": {
             "outlinewidth": 0,
             "ticks": ""
            },
            "colorscale": [
             [
              0,
              "#0d0887"
             ],
             [
              0.1111111111111111,
              "#46039f"
             ],
             [
              0.2222222222222222,
              "#7201a8"
             ],
             [
              0.3333333333333333,
              "#9c179e"
             ],
             [
              0.4444444444444444,
              "#bd3786"
             ],
             [
              0.5555555555555556,
              "#d8576b"
             ],
             [
              0.6666666666666666,
              "#ed7953"
             ],
             [
              0.7777777777777778,
              "#fb9f3a"
             ],
             [
              0.8888888888888888,
              "#fdca26"
             ],
             [
              1,
              "#f0f921"
             ]
            ],
            "type": "surface"
           }
          ],
          "table": [
           {
            "cells": {
             "fill": {
              "color": "#EBF0F8"
             },
             "line": {
              "color": "white"
             }
            },
            "header": {
             "fill": {
              "color": "#C8D4E3"
             },
             "line": {
              "color": "white"
             }
            },
            "type": "table"
           }
          ]
         },
         "layout": {
          "annotationdefaults": {
           "arrowcolor": "#2a3f5f",
           "arrowhead": 0,
           "arrowwidth": 1
          },
          "autotypenumbers": "strict",
          "coloraxis": {
           "colorbar": {
            "outlinewidth": 0,
            "ticks": ""
           }
          },
          "colorscale": {
           "diverging": [
            [
             0,
             "#8e0152"
            ],
            [
             0.1,
             "#c51b7d"
            ],
            [
             0.2,
             "#de77ae"
            ],
            [
             0.3,
             "#f1b6da"
            ],
            [
             0.4,
             "#fde0ef"
            ],
            [
             0.5,
             "#f7f7f7"
            ],
            [
             0.6,
             "#e6f5d0"
            ],
            [
             0.7,
             "#b8e186"
            ],
            [
             0.8,
             "#7fbc41"
            ],
            [
             0.9,
             "#4d9221"
            ],
            [
             1,
             "#276419"
            ]
           ],
           "sequential": [
            [
             0,
             "#0d0887"
            ],
            [
             0.1111111111111111,
             "#46039f"
            ],
            [
             0.2222222222222222,
             "#7201a8"
            ],
            [
             0.3333333333333333,
             "#9c179e"
            ],
            [
             0.4444444444444444,
             "#bd3786"
            ],
            [
             0.5555555555555556,
             "#d8576b"
            ],
            [
             0.6666666666666666,
             "#ed7953"
            ],
            [
             0.7777777777777778,
             "#fb9f3a"
            ],
            [
             0.8888888888888888,
             "#fdca26"
            ],
            [
             1,
             "#f0f921"
            ]
           ],
           "sequentialminus": [
            [
             0,
             "#0d0887"
            ],
            [
             0.1111111111111111,
             "#46039f"
            ],
            [
             0.2222222222222222,
             "#7201a8"
            ],
            [
             0.3333333333333333,
             "#9c179e"
            ],
            [
             0.4444444444444444,
             "#bd3786"
            ],
            [
             0.5555555555555556,
             "#d8576b"
            ],
            [
             0.6666666666666666,
             "#ed7953"
            ],
            [
             0.7777777777777778,
             "#fb9f3a"
            ],
            [
             0.8888888888888888,
             "#fdca26"
            ],
            [
             1,
             "#f0f921"
            ]
           ]
          },
          "colorway": [
           "#636efa",
           "#EF553B",
           "#00cc96",
           "#ab63fa",
           "#FFA15A",
           "#19d3f3",
           "#FF6692",
           "#B6E880",
           "#FF97FF",
           "#FECB52"
          ],
          "font": {
           "color": "#2a3f5f"
          },
          "geo": {
           "bgcolor": "white",
           "lakecolor": "white",
           "landcolor": "#E5ECF6",
           "showlakes": true,
           "showland": true,
           "subunitcolor": "white"
          },
          "hoverlabel": {
           "align": "left"
          },
          "hovermode": "closest",
          "mapbox": {
           "style": "light"
          },
          "paper_bgcolor": "white",
          "plot_bgcolor": "#E5ECF6",
          "polar": {
           "angularaxis": {
            "gridcolor": "white",
            "linecolor": "white",
            "ticks": ""
           },
           "bgcolor": "#E5ECF6",
           "radialaxis": {
            "gridcolor": "white",
            "linecolor": "white",
            "ticks": ""
           }
          },
          "scene": {
           "xaxis": {
            "backgroundcolor": "#E5ECF6",
            "gridcolor": "white",
            "gridwidth": 2,
            "linecolor": "white",
            "showbackground": true,
            "ticks": "",
            "zerolinecolor": "white"
           },
           "yaxis": {
            "backgroundcolor": "#E5ECF6",
            "gridcolor": "white",
            "gridwidth": 2,
            "linecolor": "white",
            "showbackground": true,
            "ticks": "",
            "zerolinecolor": "white"
           },
           "zaxis": {
            "backgroundcolor": "#E5ECF6",
            "gridcolor": "white",
            "gridwidth": 2,
            "linecolor": "white",
            "showbackground": true,
            "ticks": "",
            "zerolinecolor": "white"
           }
          },
          "shapedefaults": {
           "line": {
            "color": "#2a3f5f"
           }
          },
          "ternary": {
           "aaxis": {
            "gridcolor": "white",
            "linecolor": "white",
            "ticks": ""
           },
           "baxis": {
            "gridcolor": "white",
            "linecolor": "white",
            "ticks": ""
           },
           "bgcolor": "#E5ECF6",
           "caxis": {
            "gridcolor": "white",
            "linecolor": "white",
            "ticks": ""
           }
          },
          "title": {
           "x": 0.05
          },
          "xaxis": {
           "automargin": true,
           "gridcolor": "white",
           "linecolor": "white",
           "ticks": "",
           "title": {
            "standoff": 15
           },
           "zerolinecolor": "white",
           "zerolinewidth": 2
          },
          "yaxis": {
           "automargin": true,
           "gridcolor": "white",
           "linecolor": "white",
           "ticks": "",
           "title": {
            "standoff": 15
           },
           "zerolinecolor": "white",
           "zerolinewidth": 2
          }
         }
        },
        "title": {
         "text": "Сравнение SVM/RandomForest"
        },
        "yaxis": {
         "title": {
          "text": "Score"
         }
        }
       }
      }
     },
     "metadata": {},
     "output_type": "display_data"
    }
   ],
   "source": [
    "\"\"\"\n",
    "Визуализация сравнения SVM/RandomForest\n",
    "\n",
    "Notes\n",
    "-----\n",
    "- Строим столбчатую диаграмму для Accuracy и ROC AUC.\n",
    "- Одна визуализация в ячейке.\n",
    "\"\"\"\n",
    "svm_df = pd.DataFrame(svm_results, columns=[\"model\", \"accuracy\", \"roc_auc\"]).sort_values(\"roc_auc\", ascending=False)\n",
    "fig = go.Figure(data=[\n",
    "    go.Bar(name=\"Accuracy\", x=svm_df[\"model\"], y=svm_df[\"accuracy\"], marker_color=\"#72B7B2\"),\n",
    "    go.Bar(name=\"ROC AUC\", x=svm_df[\"model\"], y=svm_df[\"roc_auc\"], marker_color=\"#E45756\"),\n",
    "])\n",
    "fig.update_layout(barmode=\"group\", title=\"Сравнение SVM/RandomForest\", yaxis_title=\"Score\")\n",
    "fig.show()"
   ]
  },
  {
   "cell_type": "code",
   "execution_count": 7,
   "id": "421f8d73",
   "metadata": {},
   "outputs": [
    {
     "data": {
      "application/vnd.jupyter.widget-view+json": {
       "model_id": "2000ac8198a4448f99d6763283772ad3",
       "version_major": 2,
       "version_minor": 0
      },
      "text/plain": [
       "VBox(children=(HBox(children=(Dropdown(description='Модель:', options=('SVC-RBF', 'LinearSVC', 'RandomForest',…"
      ]
     },
     "metadata": {},
     "output_type": "display_data"
    }
   ],
   "source": [
    "\"\"\"\n",
    "Интерактив: визуализация границы решений для 2D данных\n",
    "\n",
    "Parameters\n",
    "----------\n",
    "model_name : str\n",
    "    Имя модели из словаря, например 'SVC-RBF' или 'XGBoost'.\n",
    "C : float\n",
    "    Регуляризация для SVM.\n",
    "gamma : float or str\n",
    "    Параметр ядра RBF для SVM. 'scale' или число.\n",
    "n_estimators : int\n",
    "    Число деревьев для Boosting.\n",
    "learning_rate : float\n",
    "    Learning rate для Boosting.\n",
    "max_depth : int\n",
    "    Глубина деревьев для Boosting.\n",
    "\"\"\"\n",
    "from typing import Optional, Tuple\n",
    "\n",
    "# Импорты моделей на всякий случай, чтобы ячейка была самодостаточной\n",
    "from sklearn.svm import SVC, LinearSVC\n",
    "from sklearn.ensemble import RandomForestClassifier, GradientBoostingClassifier\n",
    "\n",
    "# Подготовим сетку для отображения\n",
    "x_min, x_max = X[:,0].min()-0.5, X[:,0].max()+0.5\n",
    "y_min, y_max = X[:,1].min()-0.5, X[:,1].max()+0.5\n",
    "\n",
    "xx, yy = np.meshgrid(\n",
    "    np.linspace(x_min, x_max, 300),\n",
    "    np.linspace(y_min, y_max, 300)\n",
    ")\n",
    "\n",
    "def get_model(model_name: str, C: float=1.0, gamma: Optional[float|str]=\"scale\",\n",
    "              n_estimators: int=200, learning_rate: float=0.1, max_depth: int=3):\n",
    "    if model_name == \"SVC-RBF\":\n",
    "        return SVC(kernel=\"rbf\", C=C, gamma=gamma, probability=True, random_state=SEED)\n",
    "    if model_name == \"LinearSVC\":\n",
    "        return LinearSVC(C=C, random_state=SEED)\n",
    "    if model_name == \"RandomForest\":\n",
    "        return RandomForestClassifier(n_estimators=200, random_state=SEED)\n",
    "    # Boosting\n",
    "    if model_name == \"XGBoost\" and has_xgb:\n",
    "        from xgboost import XGBClassifier\n",
    "        return XGBClassifier(n_estimators=n_estimators, learning_rate=learning_rate,\n",
    "                             max_depth=max_depth, subsample=0.8, colsample_bytree=0.8,\n",
    "                             random_state=SEED, eval_metric=\"logloss\", tree_method=\"hist\")\n",
    "    if model_name == \"LightGBM\" and has_lgbm:\n",
    "        from lightgbm import LGBMClassifier\n",
    "        return LGBMClassifier(n_estimators=n_estimators, learning_rate=learning_rate,\n",
    "                              max_depth=-1 if max_depth is None else max_depth,\n",
    "                              num_leaves=31, subsample=0.8, colsample_bytree=0.8,\n",
    "                              random_state=SEED)\n",
    "    if model_name == \"CatBoost\" and has_cat:\n",
    "        from catboost import CatBoostClassifier\n",
    "        return CatBoostClassifier(iterations=n_estimators, learning_rate=learning_rate,\n",
    "                                  depth=max_depth, loss_function=\"Logloss\",\n",
    "                                  verbose=False, random_seed=SEED)\n",
    "    # Fallback\n",
    "    return GradientBoostingClassifier(n_estimators=n_estimators, learning_rate=learning_rate,\n",
    "                                      max_depth=max_depth, random_state=SEED)\n",
    "\n",
    "\n",
    "def plot_decision_boundary(model_name: str=\"SVC-RBF\", C: float=1.0, gamma: Optional[float|str]=\"scale\",\n",
    "                           n_estimators: int=200, learning_rate: float=0.1, max_depth: int=3):\n",
    "    \"\"\"\n",
    "    Построить поверхность вероятности класса +1 и точки обучающей выборки.\n",
    "\n",
    "    Returns\n",
    "    -------\n",
    "    fig : plotly.graph_objects.Figure\n",
    "        Фигура с контурной картой и точками классов.\n",
    "    \"\"\"\n",
    "    clf = get_model(model_name, C, gamma, n_estimators, learning_rate, max_depth)\n",
    "    clf.fit(X_train, y_train)\n",
    "\n",
    "    grid = np.c_[xx.ravel(), yy.ravel()]\n",
    "    if hasattr(clf, \"predict_proba\"):\n",
    "        Z = clf.predict_proba(grid)[:,1]\n",
    "    else:\n",
    "        z = clf.decision_function(grid)\n",
    "        Z = 1/(1+np.exp(-z))\n",
    "    Z = Z.reshape(xx.shape)\n",
    "\n",
    "    fig = go.Figure()\n",
    "    fig.add_trace(go.Contour(x=xx[0], y=yy[:,0], z=Z, colorscale=\"RdBu\", showscale=True,\n",
    "                             contours=dict(showlines=False)))\n",
    "    fig.add_trace(go.Scatter(x=X_train[y_train==-1,0], y=X_train[y_train==-1,1], mode=\"markers\",\n",
    "                             name=\"-1\", marker=dict(color=\"#1f77b4\")))\n",
    "    fig.add_trace(go.Scatter(x=X_train[y_train== 1,0], y=X_train[y_train== 1,1], mode=\"markers\",\n",
    "                             name=\"+1\", marker=dict(color=\"#d62728\")))\n",
    "    fig.update_layout(title=f\"Decision boundary: {model_name}\")\n",
    "    return fig\n",
    "\n",
    "# Включаем интерактив, если ipywidgets доступен. Иначе — статическая демо-визуализация.\n",
    "if has_widgets:\n",
    "    import ipywidgets as widgets\n",
    "    from IPython.display import display, clear_output\n",
    "\n",
    "    # Доступные модели\n",
    "    model_options = [\"SVC-RBF\", \"LinearSVC\", \"RandomForest\"]\n",
    "    if has_xgb:\n",
    "        model_options.append(\"XGBoost\")\n",
    "    if has_lgbm:\n",
    "        model_options.append(\"LightGBM\")\n",
    "    if has_cat:\n",
    "        model_options.append(\"CatBoost\")\n",
    "\n",
    "    # Контролы\n",
    "    model_dd = widgets.Dropdown(options=model_options, value=\"SVC-RBF\", description=\"Модель:\")\n",
    "    C_slider = widgets.FloatLogSlider(value=1.0, base=10, min=-2, max=2, step=0.1,\n",
    "                                      description=\"C\", continuous_update=False)\n",
    "    gamma_mode = widgets.Dropdown(options=[\"scale\", \"float\"], value=\"scale\", description=\"gamma:\")\n",
    "    gamma_slider = widgets.FloatLogSlider(value=0.1, base=10, min=-3, max=0, step=0.1,\n",
    "                                          description=\"γ\", continuous_update=False)\n",
    "    n_estimators_slider = widgets.IntSlider(value=200, min=50, max=500, step=50,\n",
    "                                            description=\"n_estimators\", continuous_update=False)\n",
    "    lr_slider = widgets.FloatLogSlider(value=0.1, base=10, min=-2, max=0, step=0.1,\n",
    "                                       description=\"lr\", continuous_update=False)\n",
    "    depth_slider = widgets.IntSlider(value=3, min=1, max=10, step=1,\n",
    "                                     description=\"max_depth\", continuous_update=False)\n",
    "\n",
    "    output = widgets.Output()\n",
    "\n",
    "    def update(*args):\n",
    "        with output:\n",
    "            clear_output(wait=True)\n",
    "            gamma_arg = \"scale\" if gamma_mode.value == \"scale\" else gamma_slider.value\n",
    "            fig = plot_decision_boundary(model_dd.value,\n",
    "                                         C=C_slider.value,\n",
    "                                         gamma=gamma_arg,\n",
    "                                         n_estimators=n_estimators_slider.value,\n",
    "                                         learning_rate=lr_slider.value,\n",
    "                                         max_depth=depth_slider.value)\n",
    "            fig.show()\n",
    "\n",
    "    # Подписка на изменения\n",
    "    for w in [model_dd, C_slider, gamma_mode, gamma_slider, n_estimators_slider, lr_slider, depth_slider]:\n",
    "        w.observe(lambda change: update(), names=\"value\")\n",
    "\n",
    "    # Первый рендер\n",
    "    update()\n",
    "\n",
    "    # Компоновка UI\n",
    "    ui = widgets.VBox([\n",
    "        widgets.HBox([model_dd, C_slider, gamma_mode, gamma_slider]),\n",
    "        widgets.HBox([n_estimators_slider, lr_slider, depth_slider]),\n",
    "        output\n",
    "    ])\n",
    "    display(ui)\n",
    "else:\n",
    "    print(\"ipywidgets недоступен в этом окружении. Показана статическая демо-визуализация.\")\n",
    "    fig_demo = plot_decision_boundary(\"SVC-RBF\", C=1.0, gamma=\"scale\")\n",
    "    fig_demo.show()"
   ]
  },
  {
   "cell_type": "markdown",
   "id": "6f705fda",
   "metadata": {},
   "source": [
    "## Метрики качества: как выбирать и что смотреть в этой задаче\n",
    "\n",
    "В нашей задаче (бинарная классификация на 2D с умеренным шумом и близко сбалансированными классами) уместно использовать ROC AUC для общего ранжирования моделей, но важно смотреть и на PR AUC, когда положительный класс редок или когда цена ложноположительных/ложноотрицательных велика.\n",
    "\n",
    "Ключевые метрики:\n",
    "- Accuracy: доля верных предсказаний. Может вводить в заблуждение при дисбалансе классов.\n",
    "- Precision/Recall и F1: точность и полнота, их гармоническое среднее. F1 максимизирует баланс между ними при фиксированном пороге.\n",
    "- ROC AUC: вероятность, что случайный положительный объект получит больший скор, чем случайный отрицательный. Не зависит от одного порога, устойчив к балансировке классов, но скрывает поведение в области высоких требований к Precision/Recall.\n",
    "- PR AUC (Average Precision): лучше отражает качество при редком положительном классе, фокусируется на Precision-Recall компромиссе.\n",
    "\n",
    "Выбор метрики под кейс:\n",
    "- Баланс классов ≈ 50/50 и общая способность модели ранжировать важнее порога — смотрим ROC AUC.\n",
    "- Редкий положительный класс (например, обнаружение аномалий) — ориентируемся на PR AUC и подбираем порог под нужный trade-off precision/recall.\n",
    "- Фиксированный порог и чёткая бизнес-цена ошибок — используем Precision/Recall/F1, возможно с оптимизацией порога по целевой функции (например, максимум F1 или максимум Youden's J: $J = TPR - FPR$).\n",
    "\n",
    "Дальше:\n",
    "- Построим сводную таблицу метрик для всех обученных моделей и сравним их по ROC AUC и PR AUC (отдельными графиками, по одному графику в ячейке).\n",
    "- Визуализируем ROC/PR кривые для трёх лучших моделей, чтобы увидеть различия в поведении по всему диапазону порогов."
   ]
  },
  {
   "cell_type": "code",
   "execution_count": 8,
   "id": "e5072432",
   "metadata": {},
   "outputs": [],
   "source": [
    "# Сводная таблица метрик для всех моделей (Accuracy, F1, ROC AUC, PR AUC)\n",
    "import numpy as np\n",
    "import pandas as pd\n",
    "from sklearn.metrics import accuracy_score, f1_score, roc_auc_score, average_precision_score\n",
    "\n",
    "# Объединим модели\n",
    "all_models = {}\n",
    "try:\n",
    "    all_models.update(models)\n",
    "except NameError:\n",
    "    all_models = {}\n",
    "try:\n",
    "    all_models.update(svc_models)\n",
    "except NameError:\n",
    "    pass\n",
    "\n",
    "if not all_models:\n",
    "    print(\"Не найдены обученные модели. Сначала выполните ячейки обучения.\")\n",
    "else:\n",
    "    y_true = (y_test == 1).astype(int)\n",
    "    rows = []\n",
    "    probas_dict = {}\n",
    "    for name, clf in all_models.items():\n",
    "        # вероятности/скор\n",
    "        if hasattr(clf, 'predict_proba'):\n",
    "            y_proba = clf.predict_proba(X_test)[:, 1]\n",
    "        elif hasattr(clf, 'decision_function'):\n",
    "            z = clf.decision_function(X_test)\n",
    "            y_proba = 1/(1+np.exp(-z))\n",
    "        else:\n",
    "            # как запасной вариант\n",
    "            y_pred = clf.predict(X_test)\n",
    "            y_proba = (y_pred == 1).astype(float)\n",
    "        probas_dict[name] = y_proba\n",
    "        y_pred = (y_proba >= 0.5).astype(int)\n",
    "        rows.append({\n",
    "            'model': name,\n",
    "            'accuracy': accuracy_score(y_true, y_pred),\n",
    "            'f1': f1_score(y_true, y_pred),\n",
    "            'roc_auc': roc_auc_score(y_true, y_proba),\n",
    "            'pr_auc': average_precision_score(y_true, y_proba)\n",
    "        })\n",
    "    metrics_df = pd.DataFrame(rows).sort_values('roc_auc', ascending=False)\n",
    "    metrics_df"
   ]
  },
  {
   "cell_type": "code",
   "execution_count": 9,
   "id": "ec9b4ff5",
   "metadata": {},
   "outputs": [
    {
     "data": {
      "application/vnd.plotly.v1+json": {
       "config": {
        "plotlyServerURL": "https://plot.ly"
       },
       "data": [
        {
         "marker": {
          "color": "#F58518"
         },
         "name": "ROC AUC",
         "type": "bar",
         "x": [
          "SVC-RBF",
          "CatBoost",
          "RandomForest",
          "SklearnGB",
          "LinearSVC",
          "SVC-linear"
         ],
         "y": [
          0.981604938271605,
          0.975679012345679,
          0.9702469135802468,
          0.9598148148148148,
          0.9385185185185185,
          0.9385185185185185
         ]
        }
       ],
       "layout": {
        "template": {
         "data": {
          "bar": [
           {
            "error_x": {
             "color": "#2a3f5f"
            },
            "error_y": {
             "color": "#2a3f5f"
            },
            "marker": {
             "line": {
              "color": "#E5ECF6",
              "width": 0.5
             },
             "pattern": {
              "fillmode": "overlay",
              "size": 10,
              "solidity": 0.2
             }
            },
            "type": "bar"
           }
          ],
          "barpolar": [
           {
            "marker": {
             "line": {
              "color": "#E5ECF6",
              "width": 0.5
             },
             "pattern": {
              "fillmode": "overlay",
              "size": 10,
              "solidity": 0.2
             }
            },
            "type": "barpolar"
           }
          ],
          "carpet": [
           {
            "aaxis": {
             "endlinecolor": "#2a3f5f",
             "gridcolor": "white",
             "linecolor": "white",
             "minorgridcolor": "white",
             "startlinecolor": "#2a3f5f"
            },
            "baxis": {
             "endlinecolor": "#2a3f5f",
             "gridcolor": "white",
             "linecolor": "white",
             "minorgridcolor": "white",
             "startlinecolor": "#2a3f5f"
            },
            "type": "carpet"
           }
          ],
          "choropleth": [
           {
            "colorbar": {
             "outlinewidth": 0,
             "ticks": ""
            },
            "type": "choropleth"
           }
          ],
          "contour": [
           {
            "colorbar": {
             "outlinewidth": 0,
             "ticks": ""
            },
            "colorscale": [
             [
              0,
              "#0d0887"
             ],
             [
              0.1111111111111111,
              "#46039f"
             ],
             [
              0.2222222222222222,
              "#7201a8"
             ],
             [
              0.3333333333333333,
              "#9c179e"
             ],
             [
              0.4444444444444444,
              "#bd3786"
             ],
             [
              0.5555555555555556,
              "#d8576b"
             ],
             [
              0.6666666666666666,
              "#ed7953"
             ],
             [
              0.7777777777777778,
              "#fb9f3a"
             ],
             [
              0.8888888888888888,
              "#fdca26"
             ],
             [
              1,
              "#f0f921"
             ]
            ],
            "type": "contour"
           }
          ],
          "contourcarpet": [
           {
            "colorbar": {
             "outlinewidth": 0,
             "ticks": ""
            },
            "type": "contourcarpet"
           }
          ],
          "heatmap": [
           {
            "colorbar": {
             "outlinewidth": 0,
             "ticks": ""
            },
            "colorscale": [
             [
              0,
              "#0d0887"
             ],
             [
              0.1111111111111111,
              "#46039f"
             ],
             [
              0.2222222222222222,
              "#7201a8"
             ],
             [
              0.3333333333333333,
              "#9c179e"
             ],
             [
              0.4444444444444444,
              "#bd3786"
             ],
             [
              0.5555555555555556,
              "#d8576b"
             ],
             [
              0.6666666666666666,
              "#ed7953"
             ],
             [
              0.7777777777777778,
              "#fb9f3a"
             ],
             [
              0.8888888888888888,
              "#fdca26"
             ],
             [
              1,
              "#f0f921"
             ]
            ],
            "type": "heatmap"
           }
          ],
          "heatmapgl": [
           {
            "colorbar": {
             "outlinewidth": 0,
             "ticks": ""
            },
            "colorscale": [
             [
              0,
              "#0d0887"
             ],
             [
              0.1111111111111111,
              "#46039f"
             ],
             [
              0.2222222222222222,
              "#7201a8"
             ],
             [
              0.3333333333333333,
              "#9c179e"
             ],
             [
              0.4444444444444444,
              "#bd3786"
             ],
             [
              0.5555555555555556,
              "#d8576b"
             ],
             [
              0.6666666666666666,
              "#ed7953"
             ],
             [
              0.7777777777777778,
              "#fb9f3a"
             ],
             [
              0.8888888888888888,
              "#fdca26"
             ],
             [
              1,
              "#f0f921"
             ]
            ],
            "type": "heatmapgl"
           }
          ],
          "histogram": [
           {
            "marker": {
             "pattern": {
              "fillmode": "overlay",
              "size": 10,
              "solidity": 0.2
             }
            },
            "type": "histogram"
           }
          ],
          "histogram2d": [
           {
            "colorbar": {
             "outlinewidth": 0,
             "ticks": ""
            },
            "colorscale": [
             [
              0,
              "#0d0887"
             ],
             [
              0.1111111111111111,
              "#46039f"
             ],
             [
              0.2222222222222222,
              "#7201a8"
             ],
             [
              0.3333333333333333,
              "#9c179e"
             ],
             [
              0.4444444444444444,
              "#bd3786"
             ],
             [
              0.5555555555555556,
              "#d8576b"
             ],
             [
              0.6666666666666666,
              "#ed7953"
             ],
             [
              0.7777777777777778,
              "#fb9f3a"
             ],
             [
              0.8888888888888888,
              "#fdca26"
             ],
             [
              1,
              "#f0f921"
             ]
            ],
            "type": "histogram2d"
           }
          ],
          "histogram2dcontour": [
           {
            "colorbar": {
             "outlinewidth": 0,
             "ticks": ""
            },
            "colorscale": [
             [
              0,
              "#0d0887"
             ],
             [
              0.1111111111111111,
              "#46039f"
             ],
             [
              0.2222222222222222,
              "#7201a8"
             ],
             [
              0.3333333333333333,
              "#9c179e"
             ],
             [
              0.4444444444444444,
              "#bd3786"
             ],
             [
              0.5555555555555556,
              "#d8576b"
             ],
             [
              0.6666666666666666,
              "#ed7953"
             ],
             [
              0.7777777777777778,
              "#fb9f3a"
             ],
             [
              0.8888888888888888,
              "#fdca26"
             ],
             [
              1,
              "#f0f921"
             ]
            ],
            "type": "histogram2dcontour"
           }
          ],
          "mesh3d": [
           {
            "colorbar": {
             "outlinewidth": 0,
             "ticks": ""
            },
            "type": "mesh3d"
           }
          ],
          "parcoords": [
           {
            "line": {
             "colorbar": {
              "outlinewidth": 0,
              "ticks": ""
             }
            },
            "type": "parcoords"
           }
          ],
          "pie": [
           {
            "automargin": true,
            "type": "pie"
           }
          ],
          "scatter": [
           {
            "fillpattern": {
             "fillmode": "overlay",
             "size": 10,
             "solidity": 0.2
            },
            "type": "scatter"
           }
          ],
          "scatter3d": [
           {
            "line": {
             "colorbar": {
              "outlinewidth": 0,
              "ticks": ""
             }
            },
            "marker": {
             "colorbar": {
              "outlinewidth": 0,
              "ticks": ""
             }
            },
            "type": "scatter3d"
           }
          ],
          "scattercarpet": [
           {
            "marker": {
             "colorbar": {
              "outlinewidth": 0,
              "ticks": ""
             }
            },
            "type": "scattercarpet"
           }
          ],
          "scattergeo": [
           {
            "marker": {
             "colorbar": {
              "outlinewidth": 0,
              "ticks": ""
             }
            },
            "type": "scattergeo"
           }
          ],
          "scattergl": [
           {
            "marker": {
             "colorbar": {
              "outlinewidth": 0,
              "ticks": ""
             }
            },
            "type": "scattergl"
           }
          ],
          "scattermapbox": [
           {
            "marker": {
             "colorbar": {
              "outlinewidth": 0,
              "ticks": ""
             }
            },
            "type": "scattermapbox"
           }
          ],
          "scatterpolar": [
           {
            "marker": {
             "colorbar": {
              "outlinewidth": 0,
              "ticks": ""
             }
            },
            "type": "scatterpolar"
           }
          ],
          "scatterpolargl": [
           {
            "marker": {
             "colorbar": {
              "outlinewidth": 0,
              "ticks": ""
             }
            },
            "type": "scatterpolargl"
           }
          ],
          "scatterternary": [
           {
            "marker": {
             "colorbar": {
              "outlinewidth": 0,
              "ticks": ""
             }
            },
            "type": "scatterternary"
           }
          ],
          "surface": [
           {
            "colorbar": {
             "outlinewidth": 0,
             "ticks": ""
            },
            "colorscale": [
             [
              0,
              "#0d0887"
             ],
             [
              0.1111111111111111,
              "#46039f"
             ],
             [
              0.2222222222222222,
              "#7201a8"
             ],
             [
              0.3333333333333333,
              "#9c179e"
             ],
             [
              0.4444444444444444,
              "#bd3786"
             ],
             [
              0.5555555555555556,
              "#d8576b"
             ],
             [
              0.6666666666666666,
              "#ed7953"
             ],
             [
              0.7777777777777778,
              "#fb9f3a"
             ],
             [
              0.8888888888888888,
              "#fdca26"
             ],
             [
              1,
              "#f0f921"
             ]
            ],
            "type": "surface"
           }
          ],
          "table": [
           {
            "cells": {
             "fill": {
              "color": "#EBF0F8"
             },
             "line": {
              "color": "white"
             }
            },
            "header": {
             "fill": {
              "color": "#C8D4E3"
             },
             "line": {
              "color": "white"
             }
            },
            "type": "table"
           }
          ]
         },
         "layout": {
          "annotationdefaults": {
           "arrowcolor": "#2a3f5f",
           "arrowhead": 0,
           "arrowwidth": 1
          },
          "autotypenumbers": "strict",
          "coloraxis": {
           "colorbar": {
            "outlinewidth": 0,
            "ticks": ""
           }
          },
          "colorscale": {
           "diverging": [
            [
             0,
             "#8e0152"
            ],
            [
             0.1,
             "#c51b7d"
            ],
            [
             0.2,
             "#de77ae"
            ],
            [
             0.3,
             "#f1b6da"
            ],
            [
             0.4,
             "#fde0ef"
            ],
            [
             0.5,
             "#f7f7f7"
            ],
            [
             0.6,
             "#e6f5d0"
            ],
            [
             0.7,
             "#b8e186"
            ],
            [
             0.8,
             "#7fbc41"
            ],
            [
             0.9,
             "#4d9221"
            ],
            [
             1,
             "#276419"
            ]
           ],
           "sequential": [
            [
             0,
             "#0d0887"
            ],
            [
             0.1111111111111111,
             "#46039f"
            ],
            [
             0.2222222222222222,
             "#7201a8"
            ],
            [
             0.3333333333333333,
             "#9c179e"
            ],
            [
             0.4444444444444444,
             "#bd3786"
            ],
            [
             0.5555555555555556,
             "#d8576b"
            ],
            [
             0.6666666666666666,
             "#ed7953"
            ],
            [
             0.7777777777777778,
             "#fb9f3a"
            ],
            [
             0.8888888888888888,
             "#fdca26"
            ],
            [
             1,
             "#f0f921"
            ]
           ],
           "sequentialminus": [
            [
             0,
             "#0d0887"
            ],
            [
             0.1111111111111111,
             "#46039f"
            ],
            [
             0.2222222222222222,
             "#7201a8"
            ],
            [
             0.3333333333333333,
             "#9c179e"
            ],
            [
             0.4444444444444444,
             "#bd3786"
            ],
            [
             0.5555555555555556,
             "#d8576b"
            ],
            [
             0.6666666666666666,
             "#ed7953"
            ],
            [
             0.7777777777777778,
             "#fb9f3a"
            ],
            [
             0.8888888888888888,
             "#fdca26"
            ],
            [
             1,
             "#f0f921"
            ]
           ]
          },
          "colorway": [
           "#636efa",
           "#EF553B",
           "#00cc96",
           "#ab63fa",
           "#FFA15A",
           "#19d3f3",
           "#FF6692",
           "#B6E880",
           "#FF97FF",
           "#FECB52"
          ],
          "font": {
           "color": "#2a3f5f"
          },
          "geo": {
           "bgcolor": "white",
           "lakecolor": "white",
           "landcolor": "#E5ECF6",
           "showlakes": true,
           "showland": true,
           "subunitcolor": "white"
          },
          "hoverlabel": {
           "align": "left"
          },
          "hovermode": "closest",
          "mapbox": {
           "style": "light"
          },
          "paper_bgcolor": "white",
          "plot_bgcolor": "#E5ECF6",
          "polar": {
           "angularaxis": {
            "gridcolor": "white",
            "linecolor": "white",
            "ticks": ""
           },
           "bgcolor": "#E5ECF6",
           "radialaxis": {
            "gridcolor": "white",
            "linecolor": "white",
            "ticks": ""
           }
          },
          "scene": {
           "xaxis": {
            "backgroundcolor": "#E5ECF6",
            "gridcolor": "white",
            "gridwidth": 2,
            "linecolor": "white",
            "showbackground": true,
            "ticks": "",
            "zerolinecolor": "white"
           },
           "yaxis": {
            "backgroundcolor": "#E5ECF6",
            "gridcolor": "white",
            "gridwidth": 2,
            "linecolor": "white",
            "showbackground": true,
            "ticks": "",
            "zerolinecolor": "white"
           },
           "zaxis": {
            "backgroundcolor": "#E5ECF6",
            "gridcolor": "white",
            "gridwidth": 2,
            "linecolor": "white",
            "showbackground": true,
            "ticks": "",
            "zerolinecolor": "white"
           }
          },
          "shapedefaults": {
           "line": {
            "color": "#2a3f5f"
           }
          },
          "ternary": {
           "aaxis": {
            "gridcolor": "white",
            "linecolor": "white",
            "ticks": ""
           },
           "baxis": {
            "gridcolor": "white",
            "linecolor": "white",
            "ticks": ""
           },
           "bgcolor": "#E5ECF6",
           "caxis": {
            "gridcolor": "white",
            "linecolor": "white",
            "ticks": ""
           }
          },
          "title": {
           "x": 0.05
          },
          "xaxis": {
           "automargin": true,
           "gridcolor": "white",
           "linecolor": "white",
           "ticks": "",
           "title": {
            "standoff": 15
           },
           "zerolinecolor": "white",
           "zerolinewidth": 2
          },
          "yaxis": {
           "automargin": true,
           "gridcolor": "white",
           "linecolor": "white",
           "ticks": "",
           "title": {
            "standoff": 15
           },
           "zerolinecolor": "white",
           "zerolinewidth": 2
          }
         }
        },
        "title": {
         "text": "Сравнение моделей по ROC AUC"
        },
        "yaxis": {
         "title": {
          "text": "ROC AUC"
         }
        }
       }
      }
     },
     "metadata": {},
     "output_type": "display_data"
    }
   ],
   "source": [
    "# Сравнение ROC AUC по моделям (столбчатая диаграмма)\n",
    "import plotly.graph_objects as go\n",
    "import pandas as pd\n",
    "\n",
    "if 'metrics_df' not in globals():\n",
    "    print(\"Сначала выполните ячейку с расчётом metrics_df (таблица метрик).\")\n",
    "else:\n",
    "    fig = go.Figure(data=[\n",
    "        go.Bar(name='ROC AUC', x=metrics_df['model'], y=metrics_df['roc_auc'], marker_color='#F58518')\n",
    "    ])\n",
    "    fig.update_layout(title='Сравнение моделей по ROC AUC', yaxis_title='ROC AUC')\n",
    "    fig.show()"
   ]
  },
  {
   "cell_type": "code",
   "execution_count": 10,
   "id": "d10f54b0",
   "metadata": {},
   "outputs": [
    {
     "data": {
      "application/vnd.plotly.v1+json": {
       "config": {
        "plotlyServerURL": "https://plot.ly"
       },
       "data": [
        {
         "marker": {
          "color": "#9467bd"
         },
         "name": "PR AUC",
         "type": "bar",
         "x": [
          "SVC-RBF",
          "CatBoost",
          "RandomForest",
          "SklearnGB",
          "LinearSVC",
          "SVC-linear"
         ],
         "y": [
          0.9807491680968583,
          0.9741520656580827,
          0.9544477103201987,
          0.9518047568962335,
          0.9306791842107005,
          0.9306791842107005
         ]
        }
       ],
       "layout": {
        "template": {
         "data": {
          "bar": [
           {
            "error_x": {
             "color": "#2a3f5f"
            },
            "error_y": {
             "color": "#2a3f5f"
            },
            "marker": {
             "line": {
              "color": "#E5ECF6",
              "width": 0.5
             },
             "pattern": {
              "fillmode": "overlay",
              "size": 10,
              "solidity": 0.2
             }
            },
            "type": "bar"
           }
          ],
          "barpolar": [
           {
            "marker": {
             "line": {
              "color": "#E5ECF6",
              "width": 0.5
             },
             "pattern": {
              "fillmode": "overlay",
              "size": 10,
              "solidity": 0.2
             }
            },
            "type": "barpolar"
           }
          ],
          "carpet": [
           {
            "aaxis": {
             "endlinecolor": "#2a3f5f",
             "gridcolor": "white",
             "linecolor": "white",
             "minorgridcolor": "white",
             "startlinecolor": "#2a3f5f"
            },
            "baxis": {
             "endlinecolor": "#2a3f5f",
             "gridcolor": "white",
             "linecolor": "white",
             "minorgridcolor": "white",
             "startlinecolor": "#2a3f5f"
            },
            "type": "carpet"
           }
          ],
          "choropleth": [
           {
            "colorbar": {
             "outlinewidth": 0,
             "ticks": ""
            },
            "type": "choropleth"
           }
          ],
          "contour": [
           {
            "colorbar": {
             "outlinewidth": 0,
             "ticks": ""
            },
            "colorscale": [
             [
              0,
              "#0d0887"
             ],
             [
              0.1111111111111111,
              "#46039f"
             ],
             [
              0.2222222222222222,
              "#7201a8"
             ],
             [
              0.3333333333333333,
              "#9c179e"
             ],
             [
              0.4444444444444444,
              "#bd3786"
             ],
             [
              0.5555555555555556,
              "#d8576b"
             ],
             [
              0.6666666666666666,
              "#ed7953"
             ],
             [
              0.7777777777777778,
              "#fb9f3a"
             ],
             [
              0.8888888888888888,
              "#fdca26"
             ],
             [
              1,
              "#f0f921"
             ]
            ],
            "type": "contour"
           }
          ],
          "contourcarpet": [
           {
            "colorbar": {
             "outlinewidth": 0,
             "ticks": ""
            },
            "type": "contourcarpet"
           }
          ],
          "heatmap": [
           {
            "colorbar": {
             "outlinewidth": 0,
             "ticks": ""
            },
            "colorscale": [
             [
              0,
              "#0d0887"
             ],
             [
              0.1111111111111111,
              "#46039f"
             ],
             [
              0.2222222222222222,
              "#7201a8"
             ],
             [
              0.3333333333333333,
              "#9c179e"
             ],
             [
              0.4444444444444444,
              "#bd3786"
             ],
             [
              0.5555555555555556,
              "#d8576b"
             ],
             [
              0.6666666666666666,
              "#ed7953"
             ],
             [
              0.7777777777777778,
              "#fb9f3a"
             ],
             [
              0.8888888888888888,
              "#fdca26"
             ],
             [
              1,
              "#f0f921"
             ]
            ],
            "type": "heatmap"
           }
          ],
          "heatmapgl": [
           {
            "colorbar": {
             "outlinewidth": 0,
             "ticks": ""
            },
            "colorscale": [
             [
              0,
              "#0d0887"
             ],
             [
              0.1111111111111111,
              "#46039f"
             ],
             [
              0.2222222222222222,
              "#7201a8"
             ],
             [
              0.3333333333333333,
              "#9c179e"
             ],
             [
              0.4444444444444444,
              "#bd3786"
             ],
             [
              0.5555555555555556,
              "#d8576b"
             ],
             [
              0.6666666666666666,
              "#ed7953"
             ],
             [
              0.7777777777777778,
              "#fb9f3a"
             ],
             [
              0.8888888888888888,
              "#fdca26"
             ],
             [
              1,
              "#f0f921"
             ]
            ],
            "type": "heatmapgl"
           }
          ],
          "histogram": [
           {
            "marker": {
             "pattern": {
              "fillmode": "overlay",
              "size": 10,
              "solidity": 0.2
             }
            },
            "type": "histogram"
           }
          ],
          "histogram2d": [
           {
            "colorbar": {
             "outlinewidth": 0,
             "ticks": ""
            },
            "colorscale": [
             [
              0,
              "#0d0887"
             ],
             [
              0.1111111111111111,
              "#46039f"
             ],
             [
              0.2222222222222222,
              "#7201a8"
             ],
             [
              0.3333333333333333,
              "#9c179e"
             ],
             [
              0.4444444444444444,
              "#bd3786"
             ],
             [
              0.5555555555555556,
              "#d8576b"
             ],
             [
              0.6666666666666666,
              "#ed7953"
             ],
             [
              0.7777777777777778,
              "#fb9f3a"
             ],
             [
              0.8888888888888888,
              "#fdca26"
             ],
             [
              1,
              "#f0f921"
             ]
            ],
            "type": "histogram2d"
           }
          ],
          "histogram2dcontour": [
           {
            "colorbar": {
             "outlinewidth": 0,
             "ticks": ""
            },
            "colorscale": [
             [
              0,
              "#0d0887"
             ],
             [
              0.1111111111111111,
              "#46039f"
             ],
             [
              0.2222222222222222,
              "#7201a8"
             ],
             [
              0.3333333333333333,
              "#9c179e"
             ],
             [
              0.4444444444444444,
              "#bd3786"
             ],
             [
              0.5555555555555556,
              "#d8576b"
             ],
             [
              0.6666666666666666,
              "#ed7953"
             ],
             [
              0.7777777777777778,
              "#fb9f3a"
             ],
             [
              0.8888888888888888,
              "#fdca26"
             ],
             [
              1,
              "#f0f921"
             ]
            ],
            "type": "histogram2dcontour"
           }
          ],
          "mesh3d": [
           {
            "colorbar": {
             "outlinewidth": 0,
             "ticks": ""
            },
            "type": "mesh3d"
           }
          ],
          "parcoords": [
           {
            "line": {
             "colorbar": {
              "outlinewidth": 0,
              "ticks": ""
             }
            },
            "type": "parcoords"
           }
          ],
          "pie": [
           {
            "automargin": true,
            "type": "pie"
           }
          ],
          "scatter": [
           {
            "fillpattern": {
             "fillmode": "overlay",
             "size": 10,
             "solidity": 0.2
            },
            "type": "scatter"
           }
          ],
          "scatter3d": [
           {
            "line": {
             "colorbar": {
              "outlinewidth": 0,
              "ticks": ""
             }
            },
            "marker": {
             "colorbar": {
              "outlinewidth": 0,
              "ticks": ""
             }
            },
            "type": "scatter3d"
           }
          ],
          "scattercarpet": [
           {
            "marker": {
             "colorbar": {
              "outlinewidth": 0,
              "ticks": ""
             }
            },
            "type": "scattercarpet"
           }
          ],
          "scattergeo": [
           {
            "marker": {
             "colorbar": {
              "outlinewidth": 0,
              "ticks": ""
             }
            },
            "type": "scattergeo"
           }
          ],
          "scattergl": [
           {
            "marker": {
             "colorbar": {
              "outlinewidth": 0,
              "ticks": ""
             }
            },
            "type": "scattergl"
           }
          ],
          "scattermapbox": [
           {
            "marker": {
             "colorbar": {
              "outlinewidth": 0,
              "ticks": ""
             }
            },
            "type": "scattermapbox"
           }
          ],
          "scatterpolar": [
           {
            "marker": {
             "colorbar": {
              "outlinewidth": 0,
              "ticks": ""
             }
            },
            "type": "scatterpolar"
           }
          ],
          "scatterpolargl": [
           {
            "marker": {
             "colorbar": {
              "outlinewidth": 0,
              "ticks": ""
             }
            },
            "type": "scatterpolargl"
           }
          ],
          "scatterternary": [
           {
            "marker": {
             "colorbar": {
              "outlinewidth": 0,
              "ticks": ""
             }
            },
            "type": "scatterternary"
           }
          ],
          "surface": [
           {
            "colorbar": {
             "outlinewidth": 0,
             "ticks": ""
            },
            "colorscale": [
             [
              0,
              "#0d0887"
             ],
             [
              0.1111111111111111,
              "#46039f"
             ],
             [
              0.2222222222222222,
              "#7201a8"
             ],
             [
              0.3333333333333333,
              "#9c179e"
             ],
             [
              0.4444444444444444,
              "#bd3786"
             ],
             [
              0.5555555555555556,
              "#d8576b"
             ],
             [
              0.6666666666666666,
              "#ed7953"
             ],
             [
              0.7777777777777778,
              "#fb9f3a"
             ],
             [
              0.8888888888888888,
              "#fdca26"
             ],
             [
              1,
              "#f0f921"
             ]
            ],
            "type": "surface"
           }
          ],
          "table": [
           {
            "cells": {
             "fill": {
              "color": "#EBF0F8"
             },
             "line": {
              "color": "white"
             }
            },
            "header": {
             "fill": {
              "color": "#C8D4E3"
             },
             "line": {
              "color": "white"
             }
            },
            "type": "table"
           }
          ]
         },
         "layout": {
          "annotationdefaults": {
           "arrowcolor": "#2a3f5f",
           "arrowhead": 0,
           "arrowwidth": 1
          },
          "autotypenumbers": "strict",
          "coloraxis": {
           "colorbar": {
            "outlinewidth": 0,
            "ticks": ""
           }
          },
          "colorscale": {
           "diverging": [
            [
             0,
             "#8e0152"
            ],
            [
             0.1,
             "#c51b7d"
            ],
            [
             0.2,
             "#de77ae"
            ],
            [
             0.3,
             "#f1b6da"
            ],
            [
             0.4,
             "#fde0ef"
            ],
            [
             0.5,
             "#f7f7f7"
            ],
            [
             0.6,
             "#e6f5d0"
            ],
            [
             0.7,
             "#b8e186"
            ],
            [
             0.8,
             "#7fbc41"
            ],
            [
             0.9,
             "#4d9221"
            ],
            [
             1,
             "#276419"
            ]
           ],
           "sequential": [
            [
             0,
             "#0d0887"
            ],
            [
             0.1111111111111111,
             "#46039f"
            ],
            [
             0.2222222222222222,
             "#7201a8"
            ],
            [
             0.3333333333333333,
             "#9c179e"
            ],
            [
             0.4444444444444444,
             "#bd3786"
            ],
            [
             0.5555555555555556,
             "#d8576b"
            ],
            [
             0.6666666666666666,
             "#ed7953"
            ],
            [
             0.7777777777777778,
             "#fb9f3a"
            ],
            [
             0.8888888888888888,
             "#fdca26"
            ],
            [
             1,
             "#f0f921"
            ]
           ],
           "sequentialminus": [
            [
             0,
             "#0d0887"
            ],
            [
             0.1111111111111111,
             "#46039f"
            ],
            [
             0.2222222222222222,
             "#7201a8"
            ],
            [
             0.3333333333333333,
             "#9c179e"
            ],
            [
             0.4444444444444444,
             "#bd3786"
            ],
            [
             0.5555555555555556,
             "#d8576b"
            ],
            [
             0.6666666666666666,
             "#ed7953"
            ],
            [
             0.7777777777777778,
             "#fb9f3a"
            ],
            [
             0.8888888888888888,
             "#fdca26"
            ],
            [
             1,
             "#f0f921"
            ]
           ]
          },
          "colorway": [
           "#636efa",
           "#EF553B",
           "#00cc96",
           "#ab63fa",
           "#FFA15A",
           "#19d3f3",
           "#FF6692",
           "#B6E880",
           "#FF97FF",
           "#FECB52"
          ],
          "font": {
           "color": "#2a3f5f"
          },
          "geo": {
           "bgcolor": "white",
           "lakecolor": "white",
           "landcolor": "#E5ECF6",
           "showlakes": true,
           "showland": true,
           "subunitcolor": "white"
          },
          "hoverlabel": {
           "align": "left"
          },
          "hovermode": "closest",
          "mapbox": {
           "style": "light"
          },
          "paper_bgcolor": "white",
          "plot_bgcolor": "#E5ECF6",
          "polar": {
           "angularaxis": {
            "gridcolor": "white",
            "linecolor": "white",
            "ticks": ""
           },
           "bgcolor": "#E5ECF6",
           "radialaxis": {
            "gridcolor": "white",
            "linecolor": "white",
            "ticks": ""
           }
          },
          "scene": {
           "xaxis": {
            "backgroundcolor": "#E5ECF6",
            "gridcolor": "white",
            "gridwidth": 2,
            "linecolor": "white",
            "showbackground": true,
            "ticks": "",
            "zerolinecolor": "white"
           },
           "yaxis": {
            "backgroundcolor": "#E5ECF6",
            "gridcolor": "white",
            "gridwidth": 2,
            "linecolor": "white",
            "showbackground": true,
            "ticks": "",
            "zerolinecolor": "white"
           },
           "zaxis": {
            "backgroundcolor": "#E5ECF6",
            "gridcolor": "white",
            "gridwidth": 2,
            "linecolor": "white",
            "showbackground": true,
            "ticks": "",
            "zerolinecolor": "white"
           }
          },
          "shapedefaults": {
           "line": {
            "color": "#2a3f5f"
           }
          },
          "ternary": {
           "aaxis": {
            "gridcolor": "white",
            "linecolor": "white",
            "ticks": ""
           },
           "baxis": {
            "gridcolor": "white",
            "linecolor": "white",
            "ticks": ""
           },
           "bgcolor": "#E5ECF6",
           "caxis": {
            "gridcolor": "white",
            "linecolor": "white",
            "ticks": ""
           }
          },
          "title": {
           "x": 0.05
          },
          "xaxis": {
           "automargin": true,
           "gridcolor": "white",
           "linecolor": "white",
           "ticks": "",
           "title": {
            "standoff": 15
           },
           "zerolinecolor": "white",
           "zerolinewidth": 2
          },
          "yaxis": {
           "automargin": true,
           "gridcolor": "white",
           "linecolor": "white",
           "ticks": "",
           "title": {
            "standoff": 15
           },
           "zerolinecolor": "white",
           "zerolinewidth": 2
          }
         }
        },
        "title": {
         "text": "Сравнение моделей по PR AUC"
        },
        "yaxis": {
         "title": {
          "text": "PR AUC"
         }
        }
       }
      }
     },
     "metadata": {},
     "output_type": "display_data"
    }
   ],
   "source": [
    "# Сравнение PR AUC по моделям (столбчатая диаграмма)\n",
    "import plotly.graph_objects as go\n",
    "import pandas as pd\n",
    "\n",
    "if 'metrics_df' not in globals():\n",
    "    print(\"Сначала выполните ячейку с расчётом metrics_df (таблица метрик).\")\n",
    "else:\n",
    "    fig = go.Figure(data=[\n",
    "        go.Bar(name='PR AUC', x=metrics_df['model'], y=metrics_df['pr_auc'], marker_color='#9467bd')\n",
    "    ])\n",
    "    fig.update_layout(title='Сравнение моделей по PR AUC', yaxis_title='PR AUC')\n",
    "    fig.show()"
   ]
  },
  {
   "cell_type": "code",
   "execution_count": 11,
   "id": "21ac4af8",
   "metadata": {},
   "outputs": [
    {
     "data": {
      "application/vnd.plotly.v1+json": {
       "config": {
        "plotlyServerURL": "https://plot.ly"
       },
       "data": [
        {
         "mode": "lines",
         "name": "SVC-RBF",
         "type": "scatter",
         "x": [
          0,
          0,
          0,
          0.011111111111111112,
          0.011111111111111112,
          0.022222222222222223,
          0.022222222222222223,
          0.044444444444444446,
          0.044444444444444446,
          0.05555555555555555,
          0.05555555555555555,
          0.07777777777777778,
          0.07777777777777778,
          0.08888888888888889,
          0.08888888888888889,
          0.1,
          0.1,
          0.1111111111111111,
          0.1111111111111111,
          0.15555555555555556,
          0.15555555555555556,
          1
         ],
         "y": [
          0,
          0.011111111111111112,
          0.6,
          0.6,
          0.7555555555555555,
          0.7555555555555555,
          0.8111111111111111,
          0.8111111111111111,
          0.8222222222222222,
          0.8222222222222222,
          0.8888888888888888,
          0.8888888888888888,
          0.9111111111111111,
          0.9111111111111111,
          0.9222222222222223,
          0.9222222222222223,
          0.9777777777777777,
          0.9777777777777777,
          0.9888888888888889,
          0.9888888888888889,
          1,
          1
         ]
        },
        {
         "mode": "lines",
         "name": "CatBoost",
         "type": "scatter",
         "x": [
          0,
          0,
          0,
          0,
          0,
          0.011111111111111112,
          0.011111111111111112,
          0.011111111111111112,
          0.011111111111111112,
          0.022222222222222223,
          0.022222222222222223,
          0.03333333333333333,
          0.03333333333333333,
          0.05555555555555555,
          0.05555555555555555,
          0.06666666666666667,
          0.06666666666666667,
          0.1111111111111111,
          0.1111111111111111,
          0.12222222222222222,
          0.12222222222222222,
          0.2,
          0.2,
          0.4222222222222222,
          0.4222222222222222,
          1
         ],
         "y": [
          0,
          0.011111111111111112,
          0.13333333333333333,
          0.15555555555555556,
          0.43333333333333335,
          0.43333333333333335,
          0.4888888888888889,
          0.5111111111111111,
          0.6111111111111112,
          0.6111111111111112,
          0.8444444444444444,
          0.8444444444444444,
          0.8666666666666667,
          0.8666666666666667,
          0.8888888888888888,
          0.8888888888888888,
          0.9333333333333333,
          0.9333333333333333,
          0.9444444444444444,
          0.9444444444444444,
          0.9777777777777777,
          0.9777777777777777,
          0.9888888888888889,
          0.9888888888888889,
          1,
          1
         ]
        },
        {
         "mode": "lines",
         "name": "RandomForest",
         "type": "scatter",
         "x": [
          0,
          0.011111111111111112,
          0.011111111111111112,
          0.011111111111111112,
          0.011111111111111112,
          0.022222222222222223,
          0.022222222222222223,
          0.022222222222222223,
          0.022222222222222223,
          0.022222222222222223,
          0.022222222222222223,
          0.022222222222222223,
          0.022222222222222223,
          0.022222222222222223,
          0.022222222222222223,
          0.03333333333333333,
          0.03333333333333333,
          0.05555555555555555,
          0.05555555555555555,
          0.05555555555555555,
          0.08888888888888889,
          0.08888888888888889,
          0.13333333333333333,
          0.13333333333333333,
          0.15555555555555556,
          0.15555555555555556,
          0.2,
          0.2,
          0.23333333333333334,
          0.23333333333333334,
          0.25555555555555554,
          0.3,
          0.32222222222222224,
          0.35555555555555557,
          0.37777777777777777,
          0.4444444444444444,
          0.4666666666666667,
          0.4777777777777778,
          0.5222222222222223,
          0.5444444444444444,
          0.5888888888888889,
          0.6,
          0.6333333333333333,
          0.6444444444444445,
          0.6666666666666666,
          0.8,
          0.8777777777777778,
          1
         ],
         "y": [
          0,
          0.2222222222222222,
          0.28888888888888886,
          0.4111111111111111,
          0.5111111111111111,
          0.5333333333333333,
          0.5555555555555556,
          0.5888888888888889,
          0.6444444444444445,
          0.6777777777777778,
          0.7,
          0.7333333333333333,
          0.7666666666666667,
          0.7888888888888889,
          0.8222222222222222,
          0.8222222222222222,
          0.8444444444444444,
          0.8444444444444444,
          0.8666666666666667,
          0.9222222222222223,
          0.9222222222222223,
          0.9333333333333333,
          0.9333333333333333,
          0.9444444444444444,
          0.9444444444444444,
          0.9555555555555556,
          0.9555555555555556,
          0.9888888888888889,
          0.9888888888888889,
          1,
          1,
          1,
          1,
          1,
          1,
          1,
          1,
          1,
          1,
          1,
          1,
          1,
          1,
          1,
          1,
          1,
          1,
          1
         ]
        }
       ],
       "layout": {
        "template": {
         "data": {
          "bar": [
           {
            "error_x": {
             "color": "#2a3f5f"
            },
            "error_y": {
             "color": "#2a3f5f"
            },
            "marker": {
             "line": {
              "color": "#E5ECF6",
              "width": 0.5
             },
             "pattern": {
              "fillmode": "overlay",
              "size": 10,
              "solidity": 0.2
             }
            },
            "type": "bar"
           }
          ],
          "barpolar": [
           {
            "marker": {
             "line": {
              "color": "#E5ECF6",
              "width": 0.5
             },
             "pattern": {
              "fillmode": "overlay",
              "size": 10,
              "solidity": 0.2
             }
            },
            "type": "barpolar"
           }
          ],
          "carpet": [
           {
            "aaxis": {
             "endlinecolor": "#2a3f5f",
             "gridcolor": "white",
             "linecolor": "white",
             "minorgridcolor": "white",
             "startlinecolor": "#2a3f5f"
            },
            "baxis": {
             "endlinecolor": "#2a3f5f",
             "gridcolor": "white",
             "linecolor": "white",
             "minorgridcolor": "white",
             "startlinecolor": "#2a3f5f"
            },
            "type": "carpet"
           }
          ],
          "choropleth": [
           {
            "colorbar": {
             "outlinewidth": 0,
             "ticks": ""
            },
            "type": "choropleth"
           }
          ],
          "contour": [
           {
            "colorbar": {
             "outlinewidth": 0,
             "ticks": ""
            },
            "colorscale": [
             [
              0,
              "#0d0887"
             ],
             [
              0.1111111111111111,
              "#46039f"
             ],
             [
              0.2222222222222222,
              "#7201a8"
             ],
             [
              0.3333333333333333,
              "#9c179e"
             ],
             [
              0.4444444444444444,
              "#bd3786"
             ],
             [
              0.5555555555555556,
              "#d8576b"
             ],
             [
              0.6666666666666666,
              "#ed7953"
             ],
             [
              0.7777777777777778,
              "#fb9f3a"
             ],
             [
              0.8888888888888888,
              "#fdca26"
             ],
             [
              1,
              "#f0f921"
             ]
            ],
            "type": "contour"
           }
          ],
          "contourcarpet": [
           {
            "colorbar": {
             "outlinewidth": 0,
             "ticks": ""
            },
            "type": "contourcarpet"
           }
          ],
          "heatmap": [
           {
            "colorbar": {
             "outlinewidth": 0,
             "ticks": ""
            },
            "colorscale": [
             [
              0,
              "#0d0887"
             ],
             [
              0.1111111111111111,
              "#46039f"
             ],
             [
              0.2222222222222222,
              "#7201a8"
             ],
             [
              0.3333333333333333,
              "#9c179e"
             ],
             [
              0.4444444444444444,
              "#bd3786"
             ],
             [
              0.5555555555555556,
              "#d8576b"
             ],
             [
              0.6666666666666666,
              "#ed7953"
             ],
             [
              0.7777777777777778,
              "#fb9f3a"
             ],
             [
              0.8888888888888888,
              "#fdca26"
             ],
             [
              1,
              "#f0f921"
             ]
            ],
            "type": "heatmap"
           }
          ],
          "heatmapgl": [
           {
            "colorbar": {
             "outlinewidth": 0,
             "ticks": ""
            },
            "colorscale": [
             [
              0,
              "#0d0887"
             ],
             [
              0.1111111111111111,
              "#46039f"
             ],
             [
              0.2222222222222222,
              "#7201a8"
             ],
             [
              0.3333333333333333,
              "#9c179e"
             ],
             [
              0.4444444444444444,
              "#bd3786"
             ],
             [
              0.5555555555555556,
              "#d8576b"
             ],
             [
              0.6666666666666666,
              "#ed7953"
             ],
             [
              0.7777777777777778,
              "#fb9f3a"
             ],
             [
              0.8888888888888888,
              "#fdca26"
             ],
             [
              1,
              "#f0f921"
             ]
            ],
            "type": "heatmapgl"
           }
          ],
          "histogram": [
           {
            "marker": {
             "pattern": {
              "fillmode": "overlay",
              "size": 10,
              "solidity": 0.2
             }
            },
            "type": "histogram"
           }
          ],
          "histogram2d": [
           {
            "colorbar": {
             "outlinewidth": 0,
             "ticks": ""
            },
            "colorscale": [
             [
              0,
              "#0d0887"
             ],
             [
              0.1111111111111111,
              "#46039f"
             ],
             [
              0.2222222222222222,
              "#7201a8"
             ],
             [
              0.3333333333333333,
              "#9c179e"
             ],
             [
              0.4444444444444444,
              "#bd3786"
             ],
             [
              0.5555555555555556,
              "#d8576b"
             ],
             [
              0.6666666666666666,
              "#ed7953"
             ],
             [
              0.7777777777777778,
              "#fb9f3a"
             ],
             [
              0.8888888888888888,
              "#fdca26"
             ],
             [
              1,
              "#f0f921"
             ]
            ],
            "type": "histogram2d"
           }
          ],
          "histogram2dcontour": [
           {
            "colorbar": {
             "outlinewidth": 0,
             "ticks": ""
            },
            "colorscale": [
             [
              0,
              "#0d0887"
             ],
             [
              0.1111111111111111,
              "#46039f"
             ],
             [
              0.2222222222222222,
              "#7201a8"
             ],
             [
              0.3333333333333333,
              "#9c179e"
             ],
             [
              0.4444444444444444,
              "#bd3786"
             ],
             [
              0.5555555555555556,
              "#d8576b"
             ],
             [
              0.6666666666666666,
              "#ed7953"
             ],
             [
              0.7777777777777778,
              "#fb9f3a"
             ],
             [
              0.8888888888888888,
              "#fdca26"
             ],
             [
              1,
              "#f0f921"
             ]
            ],
            "type": "histogram2dcontour"
           }
          ],
          "mesh3d": [
           {
            "colorbar": {
             "outlinewidth": 0,
             "ticks": ""
            },
            "type": "mesh3d"
           }
          ],
          "parcoords": [
           {
            "line": {
             "colorbar": {
              "outlinewidth": 0,
              "ticks": ""
             }
            },
            "type": "parcoords"
           }
          ],
          "pie": [
           {
            "automargin": true,
            "type": "pie"
           }
          ],
          "scatter": [
           {
            "fillpattern": {
             "fillmode": "overlay",
             "size": 10,
             "solidity": 0.2
            },
            "type": "scatter"
           }
          ],
          "scatter3d": [
           {
            "line": {
             "colorbar": {
              "outlinewidth": 0,
              "ticks": ""
             }
            },
            "marker": {
             "colorbar": {
              "outlinewidth": 0,
              "ticks": ""
             }
            },
            "type": "scatter3d"
           }
          ],
          "scattercarpet": [
           {
            "marker": {
             "colorbar": {
              "outlinewidth": 0,
              "ticks": ""
             }
            },
            "type": "scattercarpet"
           }
          ],
          "scattergeo": [
           {
            "marker": {
             "colorbar": {
              "outlinewidth": 0,
              "ticks": ""
             }
            },
            "type": "scattergeo"
           }
          ],
          "scattergl": [
           {
            "marker": {
             "colorbar": {
              "outlinewidth": 0,
              "ticks": ""
             }
            },
            "type": "scattergl"
           }
          ],
          "scattermapbox": [
           {
            "marker": {
             "colorbar": {
              "outlinewidth": 0,
              "ticks": ""
             }
            },
            "type": "scattermapbox"
           }
          ],
          "scatterpolar": [
           {
            "marker": {
             "colorbar": {
              "outlinewidth": 0,
              "ticks": ""
             }
            },
            "type": "scatterpolar"
           }
          ],
          "scatterpolargl": [
           {
            "marker": {
             "colorbar": {
              "outlinewidth": 0,
              "ticks": ""
             }
            },
            "type": "scatterpolargl"
           }
          ],
          "scatterternary": [
           {
            "marker": {
             "colorbar": {
              "outlinewidth": 0,
              "ticks": ""
             }
            },
            "type": "scatterternary"
           }
          ],
          "surface": [
           {
            "colorbar": {
             "outlinewidth": 0,
             "ticks": ""
            },
            "colorscale": [
             [
              0,
              "#0d0887"
             ],
             [
              0.1111111111111111,
              "#46039f"
             ],
             [
              0.2222222222222222,
              "#7201a8"
             ],
             [
              0.3333333333333333,
              "#9c179e"
             ],
             [
              0.4444444444444444,
              "#bd3786"
             ],
             [
              0.5555555555555556,
              "#d8576b"
             ],
             [
              0.6666666666666666,
              "#ed7953"
             ],
             [
              0.7777777777777778,
              "#fb9f3a"
             ],
             [
              0.8888888888888888,
              "#fdca26"
             ],
             [
              1,
              "#f0f921"
             ]
            ],
            "type": "surface"
           }
          ],
          "table": [
           {
            "cells": {
             "fill": {
              "color": "#EBF0F8"
             },
             "line": {
              "color": "white"
             }
            },
            "header": {
             "fill": {
              "color": "#C8D4E3"
             },
             "line": {
              "color": "white"
             }
            },
            "type": "table"
           }
          ]
         },
         "layout": {
          "annotationdefaults": {
           "arrowcolor": "#2a3f5f",
           "arrowhead": 0,
           "arrowwidth": 1
          },
          "autotypenumbers": "strict",
          "coloraxis": {
           "colorbar": {
            "outlinewidth": 0,
            "ticks": ""
           }
          },
          "colorscale": {
           "diverging": [
            [
             0,
             "#8e0152"
            ],
            [
             0.1,
             "#c51b7d"
            ],
            [
             0.2,
             "#de77ae"
            ],
            [
             0.3,
             "#f1b6da"
            ],
            [
             0.4,
             "#fde0ef"
            ],
            [
             0.5,
             "#f7f7f7"
            ],
            [
             0.6,
             "#e6f5d0"
            ],
            [
             0.7,
             "#b8e186"
            ],
            [
             0.8,
             "#7fbc41"
            ],
            [
             0.9,
             "#4d9221"
            ],
            [
             1,
             "#276419"
            ]
           ],
           "sequential": [
            [
             0,
             "#0d0887"
            ],
            [
             0.1111111111111111,
             "#46039f"
            ],
            [
             0.2222222222222222,
             "#7201a8"
            ],
            [
             0.3333333333333333,
             "#9c179e"
            ],
            [
             0.4444444444444444,
             "#bd3786"
            ],
            [
             0.5555555555555556,
             "#d8576b"
            ],
            [
             0.6666666666666666,
             "#ed7953"
            ],
            [
             0.7777777777777778,
             "#fb9f3a"
            ],
            [
             0.8888888888888888,
             "#fdca26"
            ],
            [
             1,
             "#f0f921"
            ]
           ],
           "sequentialminus": [
            [
             0,
             "#0d0887"
            ],
            [
             0.1111111111111111,
             "#46039f"
            ],
            [
             0.2222222222222222,
             "#7201a8"
            ],
            [
             0.3333333333333333,
             "#9c179e"
            ],
            [
             0.4444444444444444,
             "#bd3786"
            ],
            [
             0.5555555555555556,
             "#d8576b"
            ],
            [
             0.6666666666666666,
             "#ed7953"
            ],
            [
             0.7777777777777778,
             "#fb9f3a"
            ],
            [
             0.8888888888888888,
             "#fdca26"
            ],
            [
             1,
             "#f0f921"
            ]
           ]
          },
          "colorway": [
           "#636efa",
           "#EF553B",
           "#00cc96",
           "#ab63fa",
           "#FFA15A",
           "#19d3f3",
           "#FF6692",
           "#B6E880",
           "#FF97FF",
           "#FECB52"
          ],
          "font": {
           "color": "#2a3f5f"
          },
          "geo": {
           "bgcolor": "white",
           "lakecolor": "white",
           "landcolor": "#E5ECF6",
           "showlakes": true,
           "showland": true,
           "subunitcolor": "white"
          },
          "hoverlabel": {
           "align": "left"
          },
          "hovermode": "closest",
          "mapbox": {
           "style": "light"
          },
          "paper_bgcolor": "white",
          "plot_bgcolor": "#E5ECF6",
          "polar": {
           "angularaxis": {
            "gridcolor": "white",
            "linecolor": "white",
            "ticks": ""
           },
           "bgcolor": "#E5ECF6",
           "radialaxis": {
            "gridcolor": "white",
            "linecolor": "white",
            "ticks": ""
           }
          },
          "scene": {
           "xaxis": {
            "backgroundcolor": "#E5ECF6",
            "gridcolor": "white",
            "gridwidth": 2,
            "linecolor": "white",
            "showbackground": true,
            "ticks": "",
            "zerolinecolor": "white"
           },
           "yaxis": {
            "backgroundcolor": "#E5ECF6",
            "gridcolor": "white",
            "gridwidth": 2,
            "linecolor": "white",
            "showbackground": true,
            "ticks": "",
            "zerolinecolor": "white"
           },
           "zaxis": {
            "backgroundcolor": "#E5ECF6",
            "gridcolor": "white",
            "gridwidth": 2,
            "linecolor": "white",
            "showbackground": true,
            "ticks": "",
            "zerolinecolor": "white"
           }
          },
          "shapedefaults": {
           "line": {
            "color": "#2a3f5f"
           }
          },
          "ternary": {
           "aaxis": {
            "gridcolor": "white",
            "linecolor": "white",
            "ticks": ""
           },
           "baxis": {
            "gridcolor": "white",
            "linecolor": "white",
            "ticks": ""
           },
           "bgcolor": "#E5ECF6",
           "caxis": {
            "gridcolor": "white",
            "linecolor": "white",
            "ticks": ""
           }
          },
          "title": {
           "x": 0.05
          },
          "xaxis": {
           "automargin": true,
           "gridcolor": "white",
           "linecolor": "white",
           "ticks": "",
           "title": {
            "standoff": 15
           },
           "zerolinecolor": "white",
           "zerolinewidth": 2
          },
          "yaxis": {
           "automargin": true,
           "gridcolor": "white",
           "linecolor": "white",
           "ticks": "",
           "title": {
            "standoff": 15
           },
           "zerolinecolor": "white",
           "zerolinewidth": 2
          }
         }
        },
        "title": {
         "text": "ROC-кривые для топ-3 моделей"
        },
        "xaxis": {
         "title": {
          "text": "FPR"
         }
        },
        "yaxis": {
         "title": {
          "text": "TPR"
         }
        }
       }
      }
     },
     "metadata": {},
     "output_type": "display_data"
    }
   ],
   "source": [
    "# ROC-кривые для топ-3 моделей по ROC AUC\n",
    "import numpy as np\n",
    "import plotly.graph_objects as go\n",
    "from sklearn.metrics import roc_curve\n",
    "\n",
    "if 'metrics_df' not in globals():\n",
    "    print(\"Сначала выполните ячейку с расчётом metrics_df (таблица метрик).\")\n",
    "else:\n",
    "    top3 = list(metrics_df.head(3)['model'])\n",
    "    y_true = (y_test == 1).astype(int)\n",
    "    fig = go.Figure()\n",
    "    for name in top3:\n",
    "        if name in probas_dict:\n",
    "            y_proba = probas_dict[name]\n",
    "            fpr, tpr, _ = roc_curve(y_true, y_proba)\n",
    "            fig.add_trace(go.Scatter(x=fpr, y=tpr, mode='lines', name=name))\n",
    "    fig.update_layout(title='ROC-кривые для топ-3 моделей', xaxis_title='FPR', yaxis_title='TPR')\n",
    "    fig.show()"
   ]
  },
  {
   "cell_type": "code",
   "execution_count": 12,
   "id": "a6621bac",
   "metadata": {},
   "outputs": [
    {
     "data": {
      "application/vnd.plotly.v1+json": {
       "config": {
        "plotlyServerURL": "https://plot.ly"
       },
       "data": [
        {
         "mode": "lines",
         "name": "SVC-RBF",
         "type": "scatter",
         "x": [
          1,
          1,
          1,
          1,
          1,
          1,
          1,
          1,
          1,
          1,
          1,
          1,
          1,
          1,
          1,
          1,
          1,
          1,
          1,
          1,
          1,
          1,
          1,
          1,
          1,
          1,
          1,
          1,
          1,
          1,
          1,
          1,
          1,
          1,
          1,
          1,
          1,
          1,
          1,
          1,
          1,
          1,
          1,
          1,
          1,
          1,
          1,
          1,
          1,
          1,
          1,
          1,
          1,
          1,
          1,
          1,
          1,
          1,
          1,
          1,
          1,
          1,
          1,
          1,
          1,
          1,
          1,
          1,
          1,
          1,
          1,
          1,
          1,
          1,
          1,
          1,
          1,
          0.9888888888888889,
          0.9888888888888889,
          0.9888888888888889,
          0.9888888888888889,
          0.9888888888888889,
          0.9777777777777777,
          0.9777777777777777,
          0.9666666666666667,
          0.9555555555555556,
          0.9444444444444444,
          0.9333333333333333,
          0.9222222222222223,
          0.9222222222222223,
          0.9111111111111111,
          0.9111111111111111,
          0.9,
          0.8888888888888888,
          0.8888888888888888,
          0.8888888888888888,
          0.8777777777777778,
          0.8666666666666667,
          0.8555555555555555,
          0.8444444444444444,
          0.8333333333333334,
          0.8222222222222222,
          0.8222222222222222,
          0.8111111111111111,
          0.8111111111111111,
          0.8111111111111111,
          0.8,
          0.7888888888888889,
          0.7777777777777778,
          0.7666666666666667,
          0.7555555555555555,
          0.7555555555555555,
          0.7444444444444445,
          0.7333333333333333,
          0.7222222222222222,
          0.7111111111111111,
          0.7,
          0.6888888888888889,
          0.6777777777777778,
          0.6666666666666666,
          0.6555555555555556,
          0.6444444444444445,
          0.6333333333333333,
          0.6222222222222222,
          0.6111111111111112,
          0.6,
          0.6,
          0.5888888888888889,
          0.5777777777777777,
          0.5666666666666667,
          0.5555555555555556,
          0.5444444444444444,
          0.5333333333333333,
          0.5222222222222223,
          0.5111111111111111,
          0.5,
          0.4888888888888889,
          0.4777777777777778,
          0.4666666666666667,
          0.45555555555555555,
          0.4444444444444444,
          0.43333333333333335,
          0.4222222222222222,
          0.4111111111111111,
          0.4,
          0.3888888888888889,
          0.37777777777777777,
          0.36666666666666664,
          0.35555555555555557,
          0.34444444444444444,
          0.3333333333333333,
          0.32222222222222224,
          0.3111111111111111,
          0.3,
          0.28888888888888886,
          0.2777777777777778,
          0.26666666666666666,
          0.25555555555555554,
          0.24444444444444444,
          0.23333333333333334,
          0.2222222222222222,
          0.2111111111111111,
          0.2,
          0.18888888888888888,
          0.17777777777777778,
          0.16666666666666666,
          0.15555555555555556,
          0.14444444444444443,
          0.13333333333333333,
          0.12222222222222222,
          0.1111111111111111,
          0.1,
          0.08888888888888889,
          0.07777777777777778,
          0.06666666666666667,
          0.05555555555555555,
          0.044444444444444446,
          0.03333333333333333,
          0.022222222222222223,
          0.011111111111111112,
          0
         ],
         "y": [
          0.5,
          0.5027932960893855,
          0.5056179775280899,
          0.5084745762711864,
          0.5113636363636364,
          0.5142857142857142,
          0.5172413793103449,
          0.5202312138728323,
          0.5232558139534884,
          0.5263157894736842,
          0.5294117647058824,
          0.5325443786982249,
          0.5357142857142857,
          0.5389221556886228,
          0.5421686746987951,
          0.5454545454545454,
          0.5487804878048781,
          0.5521472392638037,
          0.5555555555555556,
          0.5590062111801242,
          0.5625,
          0.5660377358490566,
          0.569620253164557,
          0.5732484076433121,
          0.5769230769230769,
          0.5806451612903226,
          0.5844155844155844,
          0.5882352941176471,
          0.5921052631578947,
          0.5960264900662252,
          0.6,
          0.6040268456375839,
          0.6081081081081081,
          0.6122448979591837,
          0.6164383561643836,
          0.6206896551724138,
          0.625,
          0.6293706293706294,
          0.6338028169014085,
          0.6382978723404256,
          0.6428571428571429,
          0.6474820143884892,
          0.6521739130434783,
          0.656934306569343,
          0.6617647058823529,
          0.6666666666666666,
          0.6716417910447762,
          0.6766917293233082,
          0.6818181818181818,
          0.6870229007633588,
          0.6923076923076923,
          0.6976744186046512,
          0.703125,
          0.7086614173228346,
          0.7142857142857143,
          0.72,
          0.7258064516129032,
          0.7317073170731707,
          0.7377049180327869,
          0.743801652892562,
          0.75,
          0.7563025210084033,
          0.7627118644067796,
          0.7692307692307693,
          0.7758620689655172,
          0.782608695652174,
          0.7894736842105263,
          0.7964601769911505,
          0.8035714285714286,
          0.8108108108108109,
          0.8181818181818182,
          0.8256880733944955,
          0.8333333333333334,
          0.8411214953271028,
          0.8490566037735849,
          0.8571428571428571,
          0.8653846153846154,
          0.8640776699029126,
          0.8725490196078431,
          0.8811881188118812,
          0.89,
          0.898989898989899,
          0.8979591836734694,
          0.9072164948453608,
          0.90625,
          0.9052631578947369,
          0.9042553191489362,
          0.9032258064516129,
          0.9021739130434783,
          0.9120879120879121,
          0.9111111111111111,
          0.9213483146067416,
          0.9204545454545454,
          0.9195402298850575,
          0.9302325581395349,
          0.9411764705882353,
          0.9404761904761905,
          0.9397590361445783,
          0.9390243902439024,
          0.9382716049382716,
          0.9375,
          0.9367088607594937,
          0.9487179487179487,
          0.948051948051948,
          0.9605263157894737,
          0.9733333333333334,
          0.972972972972973,
          0.9726027397260274,
          0.9722222222222222,
          0.971830985915493,
          0.9714285714285714,
          0.9855072463768116,
          0.9852941176470589,
          0.9850746268656716,
          0.9848484848484849,
          0.9846153846153847,
          0.984375,
          0.9841269841269841,
          0.9838709677419355,
          0.9836065573770492,
          0.9833333333333333,
          0.9830508474576272,
          0.9827586206896551,
          0.9824561403508771,
          0.9821428571428571,
          0.9818181818181818,
          1,
          1,
          1,
          1,
          1,
          1,
          1,
          1,
          1,
          1,
          1,
          1,
          1,
          1,
          1,
          1,
          1,
          1,
          1,
          1,
          1,
          1,
          1,
          1,
          1,
          1,
          1,
          1,
          1,
          1,
          1,
          1,
          1,
          1,
          1,
          1,
          1,
          1,
          1,
          1,
          1,
          1,
          1,
          1,
          1,
          1,
          1,
          1,
          1,
          1,
          1,
          1,
          1,
          1,
          1
         ]
        },
        {
         "mode": "lines",
         "name": "CatBoost",
         "type": "scatter",
         "x": [
          1,
          1,
          1,
          1,
          1,
          1,
          1,
          1,
          1,
          1,
          1,
          1,
          1,
          1,
          1,
          1,
          1,
          1,
          1,
          1,
          1,
          1,
          1,
          1,
          1,
          1,
          1,
          1,
          1,
          1,
          1,
          1,
          1,
          1,
          1,
          1,
          1,
          1,
          1,
          1,
          1,
          1,
          1,
          1,
          1,
          1,
          1,
          1,
          1,
          1,
          1,
          1,
          1,
          0.9888888888888889,
          0.9888888888888889,
          0.9888888888888889,
          0.9888888888888889,
          0.9888888888888889,
          0.9888888888888889,
          0.9888888888888889,
          0.9888888888888889,
          0.9888888888888889,
          0.9888888888888889,
          0.9888888888888889,
          0.9888888888888889,
          0.9888888888888889,
          0.9888888888888889,
          0.9888888888888889,
          0.9888888888888889,
          0.9888888888888889,
          0.9888888888888889,
          0.9888888888888889,
          0.9888888888888889,
          0.9888888888888889,
          0.9777777777777777,
          0.9777777777777777,
          0.9777777777777777,
          0.9777777777777777,
          0.9777777777777777,
          0.9777777777777777,
          0.9777777777777777,
          0.9777777777777777,
          0.9666666666666667,
          0.9555555555555556,
          0.9444444444444444,
          0.9444444444444444,
          0.9333333333333333,
          0.9333333333333333,
          0.9333333333333333,
          0.9333333333333333,
          0.9333333333333333,
          0.9222222222222223,
          0.9111111111111111,
          0.9,
          0.8888888888888888,
          0.8888888888888888,
          0.8777777777777778,
          0.8666666666666667,
          0.8666666666666667,
          0.8666666666666667,
          0.8555555555555555,
          0.8444444444444444,
          0.8444444444444444,
          0.8333333333333334,
          0.8222222222222222,
          0.8111111111111111,
          0.8,
          0.7888888888888889,
          0.7777777777777778,
          0.7666666666666667,
          0.7555555555555555,
          0.7444444444444445,
          0.7333333333333333,
          0.7222222222222222,
          0.7111111111111111,
          0.7,
          0.6888888888888889,
          0.6777777777777778,
          0.6666666666666666,
          0.6555555555555556,
          0.6444444444444445,
          0.6333333333333333,
          0.6222222222222222,
          0.6111111111111112,
          0.6111111111111112,
          0.6,
          0.5888888888888889,
          0.5777777777777777,
          0.5666666666666667,
          0.5555555555555556,
          0.5444444444444444,
          0.5333333333333333,
          0.5222222222222223,
          0.5111111111111111,
          0.4888888888888889,
          0.4777777777777778,
          0.4666666666666667,
          0.45555555555555555,
          0.4444444444444444,
          0.43333333333333335,
          0.43333333333333335,
          0.4222222222222222,
          0.4111111111111111,
          0.4,
          0.3888888888888889,
          0.37777777777777777,
          0.36666666666666664,
          0.35555555555555557,
          0.34444444444444444,
          0.3333333333333333,
          0.32222222222222224,
          0.3111111111111111,
          0.3,
          0.28888888888888886,
          0.2777777777777778,
          0.26666666666666666,
          0.25555555555555554,
          0.24444444444444444,
          0.23333333333333334,
          0.2222222222222222,
          0.2111111111111111,
          0.2,
          0.18888888888888888,
          0.17777777777777778,
          0.16666666666666666,
          0.15555555555555556,
          0.13333333333333333,
          0.12222222222222222,
          0.1111111111111111,
          0.1,
          0.08888888888888889,
          0.07777777777777778,
          0.06666666666666667,
          0.05555555555555555,
          0.044444444444444446,
          0.03333333333333333,
          0.022222222222222223,
          0.011111111111111112,
          0
         ],
         "y": [
          0.5,
          0.5027932960893855,
          0.5056179775280899,
          0.5084745762711864,
          0.5113636363636364,
          0.5142857142857142,
          0.5172413793103449,
          0.5202312138728323,
          0.5232558139534884,
          0.5263157894736842,
          0.5294117647058824,
          0.5325443786982249,
          0.5357142857142857,
          0.5389221556886228,
          0.5421686746987951,
          0.5454545454545454,
          0.5487804878048781,
          0.5521472392638037,
          0.5555555555555556,
          0.5590062111801242,
          0.5625,
          0.5660377358490566,
          0.569620253164557,
          0.5732484076433121,
          0.5769230769230769,
          0.5806451612903226,
          0.5844155844155844,
          0.5882352941176471,
          0.5921052631578947,
          0.5960264900662252,
          0.6,
          0.6040268456375839,
          0.6081081081081081,
          0.6122448979591837,
          0.6164383561643836,
          0.6206896551724138,
          0.625,
          0.6293706293706294,
          0.6338028169014085,
          0.6382978723404256,
          0.6428571428571429,
          0.6474820143884892,
          0.6521739130434783,
          0.656934306569343,
          0.6617647058823529,
          0.6666666666666666,
          0.6716417910447762,
          0.6766917293233082,
          0.6818181818181818,
          0.6870229007633588,
          0.6923076923076923,
          0.6976744186046512,
          0.703125,
          0.7007874015748031,
          0.7063492063492064,
          0.712,
          0.717741935483871,
          0.7235772357723578,
          0.7295081967213115,
          0.7355371900826446,
          0.7416666666666667,
          0.7478991596638656,
          0.7542372881355932,
          0.7606837606837606,
          0.7672413793103449,
          0.7739130434782608,
          0.7807017543859649,
          0.7876106194690266,
          0.7946428571428571,
          0.8018018018018018,
          0.8090909090909091,
          0.8165137614678899,
          0.8240740740740741,
          0.8317757009345794,
          0.8301886792452831,
          0.8380952380952381,
          0.8461538461538461,
          0.8543689320388349,
          0.8627450980392157,
          0.8712871287128713,
          0.88,
          0.8888888888888888,
          0.8877551020408163,
          0.8865979381443299,
          0.8854166666666666,
          0.8947368421052632,
          0.8936170212765957,
          0.9032258064516129,
          0.9130434782608695,
          0.9230769230769231,
          0.9333333333333333,
          0.9325842696629213,
          0.9318181818181818,
          0.9310344827586207,
          0.9302325581395349,
          0.9411764705882353,
          0.9404761904761905,
          0.9397590361445783,
          0.9512195121951219,
          0.9629629629629629,
          0.9625,
          0.9620253164556962,
          0.9743589743589743,
          0.974025974025974,
          0.9736842105263158,
          0.9733333333333334,
          0.972972972972973,
          0.9726027397260274,
          0.9722222222222222,
          0.971830985915493,
          0.9714285714285714,
          0.9710144927536232,
          0.9705882352941176,
          0.9701492537313433,
          0.9696969696969697,
          0.9692307692307692,
          0.96875,
          0.9682539682539683,
          0.967741935483871,
          0.9672131147540983,
          0.9666666666666667,
          0.9661016949152542,
          0.9655172413793104,
          0.9649122807017544,
          0.9821428571428571,
          0.9818181818181818,
          0.9814814814814815,
          0.9811320754716981,
          0.9807692307692307,
          0.9803921568627451,
          0.98,
          0.9795918367346939,
          0.9791666666666666,
          0.9787234042553191,
          0.9777777777777777,
          0.9772727272727273,
          0.9767441860465116,
          0.9761904761904762,
          0.975609756097561,
          0.975,
          1,
          1,
          1,
          1,
          1,
          1,
          1,
          1,
          1,
          1,
          1,
          1,
          1,
          1,
          1,
          1,
          1,
          1,
          1,
          1,
          1,
          1,
          1,
          1,
          1,
          1,
          1,
          1,
          1,
          1,
          1,
          1,
          1,
          1,
          1,
          1,
          1,
          1,
          1
         ]
        },
        {
         "mode": "lines",
         "name": "RandomForest",
         "type": "scatter",
         "x": [
          1,
          1,
          1,
          1,
          1,
          1,
          1,
          1,
          1,
          1,
          1,
          1,
          1,
          1,
          1,
          1,
          1,
          1,
          1,
          1,
          1,
          1,
          1,
          1,
          1,
          1,
          1,
          1,
          1,
          1,
          0.9888888888888889,
          0.9888888888888889,
          0.9888888888888889,
          0.9888888888888889,
          0.9555555555555556,
          0.9555555555555556,
          0.9555555555555556,
          0.9555555555555556,
          0.9555555555555556,
          0.9444444444444444,
          0.9444444444444444,
          0.9444444444444444,
          0.9333333333333333,
          0.9333333333333333,
          0.9333333333333333,
          0.9333333333333333,
          0.9333333333333333,
          0.9222222222222223,
          0.9222222222222223,
          0.9222222222222223,
          0.9222222222222223,
          0.9111111111111111,
          0.9,
          0.8888888888888888,
          0.8777777777777778,
          0.8666666666666667,
          0.8444444444444444,
          0.8444444444444444,
          0.8444444444444444,
          0.8333333333333334,
          0.8222222222222222,
          0.8222222222222222,
          0.8111111111111111,
          0.8,
          0.7888888888888889,
          0.7666666666666667,
          0.7555555555555555,
          0.7444444444444445,
          0.7333333333333333,
          0.7,
          0.6777777777777778,
          0.6444444444444445,
          0.5888888888888889,
          0.5555555555555556,
          0.5333333333333333,
          0.5111111111111111,
          0.4777777777777778,
          0.4444444444444444,
          0.4111111111111111,
          0.28888888888888886,
          0.2222222222222222,
          0
         ],
         "y": [
          0.5,
          0.5325443786982249,
          0.5555555555555556,
          0.5769230769230769,
          0.6,
          0.6081081081081081,
          0.6122448979591837,
          0.625,
          0.6293706293706294,
          0.6474820143884892,
          0.656934306569343,
          0.6766917293233082,
          0.6818181818181818,
          0.6923076923076923,
          0.6976744186046512,
          0.703125,
          0.7086614173228346,
          0.7142857142857143,
          0.72,
          0.7258064516129032,
          0.7377049180327869,
          0.743801652892562,
          0.75,
          0.7563025210084033,
          0.7692307692307693,
          0.7758620689655172,
          0.782608695652174,
          0.7894736842105263,
          0.7964601769911505,
          0.8108108108108109,
          0.8090909090909091,
          0.8165137614678899,
          0.8240740740740741,
          0.8317757009345794,
          0.8269230769230769,
          0.8349514563106796,
          0.8431372549019608,
          0.8514851485148515,
          0.86,
          0.8585858585858586,
          0.8673469387755102,
          0.8762886597938144,
          0.875,
          0.8842105263157894,
          0.8936170212765957,
          0.9032258064516129,
          0.9130434782608695,
          0.9120879120879121,
          0.9222222222222223,
          0.9325842696629213,
          0.9431818181818182,
          0.9425287356321839,
          0.9418604651162791,
          0.9411764705882353,
          0.9404761904761905,
          0.9397590361445783,
          0.9382716049382716,
          0.95,
          0.9620253164556962,
          0.9615384615384616,
          0.961038961038961,
          0.9736842105263158,
          0.9733333333333334,
          0.972972972972973,
          0.9726027397260274,
          0.971830985915493,
          0.9714285714285714,
          0.9710144927536232,
          0.9705882352941176,
          0.9692307692307692,
          0.9682539682539683,
          0.9666666666666667,
          0.9636363636363636,
          0.9615384615384616,
          0.96,
          0.9787234042553191,
          0.9772727272727273,
          0.975609756097561,
          0.9736842105263158,
          0.9629629629629629,
          0.9523809523809523,
          1
         ]
        }
       ],
       "layout": {
        "template": {
         "data": {
          "bar": [
           {
            "error_x": {
             "color": "#2a3f5f"
            },
            "error_y": {
             "color": "#2a3f5f"
            },
            "marker": {
             "line": {
              "color": "#E5ECF6",
              "width": 0.5
             },
             "pattern": {
              "fillmode": "overlay",
              "size": 10,
              "solidity": 0.2
             }
            },
            "type": "bar"
           }
          ],
          "barpolar": [
           {
            "marker": {
             "line": {
              "color": "#E5ECF6",
              "width": 0.5
             },
             "pattern": {
              "fillmode": "overlay",
              "size": 10,
              "solidity": 0.2
             }
            },
            "type": "barpolar"
           }
          ],
          "carpet": [
           {
            "aaxis": {
             "endlinecolor": "#2a3f5f",
             "gridcolor": "white",
             "linecolor": "white",
             "minorgridcolor": "white",
             "startlinecolor": "#2a3f5f"
            },
            "baxis": {
             "endlinecolor": "#2a3f5f",
             "gridcolor": "white",
             "linecolor": "white",
             "minorgridcolor": "white",
             "startlinecolor": "#2a3f5f"
            },
            "type": "carpet"
           }
          ],
          "choropleth": [
           {
            "colorbar": {
             "outlinewidth": 0,
             "ticks": ""
            },
            "type": "choropleth"
           }
          ],
          "contour": [
           {
            "colorbar": {
             "outlinewidth": 0,
             "ticks": ""
            },
            "colorscale": [
             [
              0,
              "#0d0887"
             ],
             [
              0.1111111111111111,
              "#46039f"
             ],
             [
              0.2222222222222222,
              "#7201a8"
             ],
             [
              0.3333333333333333,
              "#9c179e"
             ],
             [
              0.4444444444444444,
              "#bd3786"
             ],
             [
              0.5555555555555556,
              "#d8576b"
             ],
             [
              0.6666666666666666,
              "#ed7953"
             ],
             [
              0.7777777777777778,
              "#fb9f3a"
             ],
             [
              0.8888888888888888,
              "#fdca26"
             ],
             [
              1,
              "#f0f921"
             ]
            ],
            "type": "contour"
           }
          ],
          "contourcarpet": [
           {
            "colorbar": {
             "outlinewidth": 0,
             "ticks": ""
            },
            "type": "contourcarpet"
           }
          ],
          "heatmap": [
           {
            "colorbar": {
             "outlinewidth": 0,
             "ticks": ""
            },
            "colorscale": [
             [
              0,
              "#0d0887"
             ],
             [
              0.1111111111111111,
              "#46039f"
             ],
             [
              0.2222222222222222,
              "#7201a8"
             ],
             [
              0.3333333333333333,
              "#9c179e"
             ],
             [
              0.4444444444444444,
              "#bd3786"
             ],
             [
              0.5555555555555556,
              "#d8576b"
             ],
             [
              0.6666666666666666,
              "#ed7953"
             ],
             [
              0.7777777777777778,
              "#fb9f3a"
             ],
             [
              0.8888888888888888,
              "#fdca26"
             ],
             [
              1,
              "#f0f921"
             ]
            ],
            "type": "heatmap"
           }
          ],
          "heatmapgl": [
           {
            "colorbar": {
             "outlinewidth": 0,
             "ticks": ""
            },
            "colorscale": [
             [
              0,
              "#0d0887"
             ],
             [
              0.1111111111111111,
              "#46039f"
             ],
             [
              0.2222222222222222,
              "#7201a8"
             ],
             [
              0.3333333333333333,
              "#9c179e"
             ],
             [
              0.4444444444444444,
              "#bd3786"
             ],
             [
              0.5555555555555556,
              "#d8576b"
             ],
             [
              0.6666666666666666,
              "#ed7953"
             ],
             [
              0.7777777777777778,
              "#fb9f3a"
             ],
             [
              0.8888888888888888,
              "#fdca26"
             ],
             [
              1,
              "#f0f921"
             ]
            ],
            "type": "heatmapgl"
           }
          ],
          "histogram": [
           {
            "marker": {
             "pattern": {
              "fillmode": "overlay",
              "size": 10,
              "solidity": 0.2
             }
            },
            "type": "histogram"
           }
          ],
          "histogram2d": [
           {
            "colorbar": {
             "outlinewidth": 0,
             "ticks": ""
            },
            "colorscale": [
             [
              0,
              "#0d0887"
             ],
             [
              0.1111111111111111,
              "#46039f"
             ],
             [
              0.2222222222222222,
              "#7201a8"
             ],
             [
              0.3333333333333333,
              "#9c179e"
             ],
             [
              0.4444444444444444,
              "#bd3786"
             ],
             [
              0.5555555555555556,
              "#d8576b"
             ],
             [
              0.6666666666666666,
              "#ed7953"
             ],
             [
              0.7777777777777778,
              "#fb9f3a"
             ],
             [
              0.8888888888888888,
              "#fdca26"
             ],
             [
              1,
              "#f0f921"
             ]
            ],
            "type": "histogram2d"
           }
          ],
          "histogram2dcontour": [
           {
            "colorbar": {
             "outlinewidth": 0,
             "ticks": ""
            },
            "colorscale": [
             [
              0,
              "#0d0887"
             ],
             [
              0.1111111111111111,
              "#46039f"
             ],
             [
              0.2222222222222222,
              "#7201a8"
             ],
             [
              0.3333333333333333,
              "#9c179e"
             ],
             [
              0.4444444444444444,
              "#bd3786"
             ],
             [
              0.5555555555555556,
              "#d8576b"
             ],
             [
              0.6666666666666666,
              "#ed7953"
             ],
             [
              0.7777777777777778,
              "#fb9f3a"
             ],
             [
              0.8888888888888888,
              "#fdca26"
             ],
             [
              1,
              "#f0f921"
             ]
            ],
            "type": "histogram2dcontour"
           }
          ],
          "mesh3d": [
           {
            "colorbar": {
             "outlinewidth": 0,
             "ticks": ""
            },
            "type": "mesh3d"
           }
          ],
          "parcoords": [
           {
            "line": {
             "colorbar": {
              "outlinewidth": 0,
              "ticks": ""
             }
            },
            "type": "parcoords"
           }
          ],
          "pie": [
           {
            "automargin": true,
            "type": "pie"
           }
          ],
          "scatter": [
           {
            "fillpattern": {
             "fillmode": "overlay",
             "size": 10,
             "solidity": 0.2
            },
            "type": "scatter"
           }
          ],
          "scatter3d": [
           {
            "line": {
             "colorbar": {
              "outlinewidth": 0,
              "ticks": ""
             }
            },
            "marker": {
             "colorbar": {
              "outlinewidth": 0,
              "ticks": ""
             }
            },
            "type": "scatter3d"
           }
          ],
          "scattercarpet": [
           {
            "marker": {
             "colorbar": {
              "outlinewidth": 0,
              "ticks": ""
             }
            },
            "type": "scattercarpet"
           }
          ],
          "scattergeo": [
           {
            "marker": {
             "colorbar": {
              "outlinewidth": 0,
              "ticks": ""
             }
            },
            "type": "scattergeo"
           }
          ],
          "scattergl": [
           {
            "marker": {
             "colorbar": {
              "outlinewidth": 0,
              "ticks": ""
             }
            },
            "type": "scattergl"
           }
          ],
          "scattermapbox": [
           {
            "marker": {
             "colorbar": {
              "outlinewidth": 0,
              "ticks": ""
             }
            },
            "type": "scattermapbox"
           }
          ],
          "scatterpolar": [
           {
            "marker": {
             "colorbar": {
              "outlinewidth": 0,
              "ticks": ""
             }
            },
            "type": "scatterpolar"
           }
          ],
          "scatterpolargl": [
           {
            "marker": {
             "colorbar": {
              "outlinewidth": 0,
              "ticks": ""
             }
            },
            "type": "scatterpolargl"
           }
          ],
          "scatterternary": [
           {
            "marker": {
             "colorbar": {
              "outlinewidth": 0,
              "ticks": ""
             }
            },
            "type": "scatterternary"
           }
          ],
          "surface": [
           {
            "colorbar": {
             "outlinewidth": 0,
             "ticks": ""
            },
            "colorscale": [
             [
              0,
              "#0d0887"
             ],
             [
              0.1111111111111111,
              "#46039f"
             ],
             [
              0.2222222222222222,
              "#7201a8"
             ],
             [
              0.3333333333333333,
              "#9c179e"
             ],
             [
              0.4444444444444444,
              "#bd3786"
             ],
             [
              0.5555555555555556,
              "#d8576b"
             ],
             [
              0.6666666666666666,
              "#ed7953"
             ],
             [
              0.7777777777777778,
              "#fb9f3a"
             ],
             [
              0.8888888888888888,
              "#fdca26"
             ],
             [
              1,
              "#f0f921"
             ]
            ],
            "type": "surface"
           }
          ],
          "table": [
           {
            "cells": {
             "fill": {
              "color": "#EBF0F8"
             },
             "line": {
              "color": "white"
             }
            },
            "header": {
             "fill": {
              "color": "#C8D4E3"
             },
             "line": {
              "color": "white"
             }
            },
            "type": "table"
           }
          ]
         },
         "layout": {
          "annotationdefaults": {
           "arrowcolor": "#2a3f5f",
           "arrowhead": 0,
           "arrowwidth": 1
          },
          "autotypenumbers": "strict",
          "coloraxis": {
           "colorbar": {
            "outlinewidth": 0,
            "ticks": ""
           }
          },
          "colorscale": {
           "diverging": [
            [
             0,
             "#8e0152"
            ],
            [
             0.1,
             "#c51b7d"
            ],
            [
             0.2,
             "#de77ae"
            ],
            [
             0.3,
             "#f1b6da"
            ],
            [
             0.4,
             "#fde0ef"
            ],
            [
             0.5,
             "#f7f7f7"
            ],
            [
             0.6,
             "#e6f5d0"
            ],
            [
             0.7,
             "#b8e186"
            ],
            [
             0.8,
             "#7fbc41"
            ],
            [
             0.9,
             "#4d9221"
            ],
            [
             1,
             "#276419"
            ]
           ],
           "sequential": [
            [
             0,
             "#0d0887"
            ],
            [
             0.1111111111111111,
             "#46039f"
            ],
            [
             0.2222222222222222,
             "#7201a8"
            ],
            [
             0.3333333333333333,
             "#9c179e"
            ],
            [
             0.4444444444444444,
             "#bd3786"
            ],
            [
             0.5555555555555556,
             "#d8576b"
            ],
            [
             0.6666666666666666,
             "#ed7953"
            ],
            [
             0.7777777777777778,
             "#fb9f3a"
            ],
            [
             0.8888888888888888,
             "#fdca26"
            ],
            [
             1,
             "#f0f921"
            ]
           ],
           "sequentialminus": [
            [
             0,
             "#0d0887"
            ],
            [
             0.1111111111111111,
             "#46039f"
            ],
            [
             0.2222222222222222,
             "#7201a8"
            ],
            [
             0.3333333333333333,
             "#9c179e"
            ],
            [
             0.4444444444444444,
             "#bd3786"
            ],
            [
             0.5555555555555556,
             "#d8576b"
            ],
            [
             0.6666666666666666,
             "#ed7953"
            ],
            [
             0.7777777777777778,
             "#fb9f3a"
            ],
            [
             0.8888888888888888,
             "#fdca26"
            ],
            [
             1,
             "#f0f921"
            ]
           ]
          },
          "colorway": [
           "#636efa",
           "#EF553B",
           "#00cc96",
           "#ab63fa",
           "#FFA15A",
           "#19d3f3",
           "#FF6692",
           "#B6E880",
           "#FF97FF",
           "#FECB52"
          ],
          "font": {
           "color": "#2a3f5f"
          },
          "geo": {
           "bgcolor": "white",
           "lakecolor": "white",
           "landcolor": "#E5ECF6",
           "showlakes": true,
           "showland": true,
           "subunitcolor": "white"
          },
          "hoverlabel": {
           "align": "left"
          },
          "hovermode": "closest",
          "mapbox": {
           "style": "light"
          },
          "paper_bgcolor": "white",
          "plot_bgcolor": "#E5ECF6",
          "polar": {
           "angularaxis": {
            "gridcolor": "white",
            "linecolor": "white",
            "ticks": ""
           },
           "bgcolor": "#E5ECF6",
           "radialaxis": {
            "gridcolor": "white",
            "linecolor": "white",
            "ticks": ""
           }
          },
          "scene": {
           "xaxis": {
            "backgroundcolor": "#E5ECF6",
            "gridcolor": "white",
            "gridwidth": 2,
            "linecolor": "white",
            "showbackground": true,
            "ticks": "",
            "zerolinecolor": "white"
           },
           "yaxis": {
            "backgroundcolor": "#E5ECF6",
            "gridcolor": "white",
            "gridwidth": 2,
            "linecolor": "white",
            "showbackground": true,
            "ticks": "",
            "zerolinecolor": "white"
           },
           "zaxis": {
            "backgroundcolor": "#E5ECF6",
            "gridcolor": "white",
            "gridwidth": 2,
            "linecolor": "white",
            "showbackground": true,
            "ticks": "",
            "zerolinecolor": "white"
           }
          },
          "shapedefaults": {
           "line": {
            "color": "#2a3f5f"
           }
          },
          "ternary": {
           "aaxis": {
            "gridcolor": "white",
            "linecolor": "white",
            "ticks": ""
           },
           "baxis": {
            "gridcolor": "white",
            "linecolor": "white",
            "ticks": ""
           },
           "bgcolor": "#E5ECF6",
           "caxis": {
            "gridcolor": "white",
            "linecolor": "white",
            "ticks": ""
           }
          },
          "title": {
           "x": 0.05
          },
          "xaxis": {
           "automargin": true,
           "gridcolor": "white",
           "linecolor": "white",
           "ticks": "",
           "title": {
            "standoff": 15
           },
           "zerolinecolor": "white",
           "zerolinewidth": 2
          },
          "yaxis": {
           "automargin": true,
           "gridcolor": "white",
           "linecolor": "white",
           "ticks": "",
           "title": {
            "standoff": 15
           },
           "zerolinecolor": "white",
           "zerolinewidth": 2
          }
         }
        },
        "title": {
         "text": "PR-кривые для топ-3 моделей"
        },
        "xaxis": {
         "title": {
          "text": "Recall"
         }
        },
        "yaxis": {
         "title": {
          "text": "Precision"
         }
        }
       }
      }
     },
     "metadata": {},
     "output_type": "display_data"
    }
   ],
   "source": [
    "# PR-кривые для топ-3 моделей по ROC AUC\n",
    "import numpy as np\n",
    "import plotly.graph_objects as go\n",
    "from sklearn.metrics import precision_recall_curve\n",
    "\n",
    "if 'metrics_df' not in globals():\n",
    "    print(\"Сначала выполните ячейку с расчётом metrics_df (таблица метрик).\")\n",
    "else:\n",
    "    top3 = list(metrics_df.head(3)['model'])\n",
    "    y_true = (y_test == 1).astype(int)\n",
    "    fig = go.Figure()\n",
    "    for name in top3:\n",
    "        if name in probas_dict:\n",
    "            y_proba = probas_dict[name]\n",
    "            prec, rec, _ = precision_recall_curve(y_true, y_proba)\n",
    "            fig.add_trace(go.Scatter(x=rec, y=prec, mode='lines', name=name))\n",
    "    fig.update_layout(title='PR-кривые для топ-3 моделей', xaxis_title='Recall', yaxis_title='Precision')\n",
    "    fig.show()"
   ]
  },
  {
   "cell_type": "markdown",
   "id": "5b8baef4",
   "metadata": {},
   "source": [
    "## Важность признаков: теория и оценка для нашей задачи\n",
    "\n",
    "- Деревья/ансамбли деревьев (RandomForest, Gradient Boosting, XGBoost/LightGBM/CatBoost) предоставляют относительные важности признаков, основанные на снижении нечистоты (Gini/Entropy) или приросте качества при сплитах. Эти важности относятся к обученной выборке и не равны причинному влиянию.\n",
    "- Линейные модели (LinearSVC, SVC с linear kernel) имеют вектора коэффициентов w. При корректном масштабировании признаков модуль коэффициента |w_j| отражает вклад признака j в линейную границу. Сравнение коэффициентов корректно только при одинаковом масштабе фич.\n",
    "- Kernel SVM (например, RBF) не имеет естественной «важности признаков» в исходном пространстве — полезнее применять пермутационную важность или SHAP.\n",
    "- Пермутационная важность — модель-агностичный способ оценить вклад признака через падение метрики при случайной перестановке значений данного признака. Она устойчива к разным моделям, но требует доп. вычислений и кросс-валидации.\n",
    "\n",
    "Практика на нашем 2D-датасете:\n",
    "- Мы покажем тепловую карту важностей для моделей, где они доступны (feature_importances_ для деревьев, |coef_| для линейных SVM). Для RBF SVM важности не определены.\n",
    "- Интерпретация: более тёмный цвет означает больший вклад признака (x1 или x2) в решающую функцию модели.\n",
    "- Предостережения: при сильной корреляции фич важности могут «распределяться» между ними; сравнение различных алгоритмов требует нормировки важностей (мы нормируем суммы до 1)."
   ]
  },
  {
   "cell_type": "code",
   "execution_count": 13,
   "id": "95406dbf",
   "metadata": {},
   "outputs": [
    {
     "data": {
      "application/vnd.plotly.v1+json": {
       "config": {
        "plotlyServerURL": "https://plot.ly"
       },
       "data": [
        {
         "colorbar": {
          "title": {
           "text": "Важность"
          }
         },
         "colorscale": [
          [
           0,
           "rgb(247,251,255)"
          ],
          [
           0.125,
           "rgb(222,235,247)"
          ],
          [
           0.25,
           "rgb(198,219,239)"
          ],
          [
           0.375,
           "rgb(158,202,225)"
          ],
          [
           0.5,
           "rgb(107,174,214)"
          ],
          [
           0.625,
           "rgb(66,146,198)"
          ],
          [
           0.75,
           "rgb(33,113,181)"
          ],
          [
           0.875,
           "rgb(8,81,156)"
          ],
          [
           1,
           "rgb(8,48,107)"
          ]
         ],
         "type": "heatmap",
         "x": [
          "RandomForest",
          "SklearnGB",
          "CatBoost",
          "SVC-linear",
          "LinearSVC"
         ],
         "y": [
          "x1",
          "x2"
         ],
         "z": [
          [
           0.4542387879081085,
           0.45820306521503096,
           0.6317563899628185,
           0.25825415597089646,
           0.2581441204758237
          ],
          [
           0.5457612120918914,
           0.541796934784969,
           0.3682436100371816,
           0.7417458440291035,
           0.7418558795241763
          ]
         ]
        }
       ],
       "layout": {
        "template": {
         "data": {
          "bar": [
           {
            "error_x": {
             "color": "#2a3f5f"
            },
            "error_y": {
             "color": "#2a3f5f"
            },
            "marker": {
             "line": {
              "color": "#E5ECF6",
              "width": 0.5
             },
             "pattern": {
              "fillmode": "overlay",
              "size": 10,
              "solidity": 0.2
             }
            },
            "type": "bar"
           }
          ],
          "barpolar": [
           {
            "marker": {
             "line": {
              "color": "#E5ECF6",
              "width": 0.5
             },
             "pattern": {
              "fillmode": "overlay",
              "size": 10,
              "solidity": 0.2
             }
            },
            "type": "barpolar"
           }
          ],
          "carpet": [
           {
            "aaxis": {
             "endlinecolor": "#2a3f5f",
             "gridcolor": "white",
             "linecolor": "white",
             "minorgridcolor": "white",
             "startlinecolor": "#2a3f5f"
            },
            "baxis": {
             "endlinecolor": "#2a3f5f",
             "gridcolor": "white",
             "linecolor": "white",
             "minorgridcolor": "white",
             "startlinecolor": "#2a3f5f"
            },
            "type": "carpet"
           }
          ],
          "choropleth": [
           {
            "colorbar": {
             "outlinewidth": 0,
             "ticks": ""
            },
            "type": "choropleth"
           }
          ],
          "contour": [
           {
            "colorbar": {
             "outlinewidth": 0,
             "ticks": ""
            },
            "colorscale": [
             [
              0,
              "#0d0887"
             ],
             [
              0.1111111111111111,
              "#46039f"
             ],
             [
              0.2222222222222222,
              "#7201a8"
             ],
             [
              0.3333333333333333,
              "#9c179e"
             ],
             [
              0.4444444444444444,
              "#bd3786"
             ],
             [
              0.5555555555555556,
              "#d8576b"
             ],
             [
              0.6666666666666666,
              "#ed7953"
             ],
             [
              0.7777777777777778,
              "#fb9f3a"
             ],
             [
              0.8888888888888888,
              "#fdca26"
             ],
             [
              1,
              "#f0f921"
             ]
            ],
            "type": "contour"
           }
          ],
          "contourcarpet": [
           {
            "colorbar": {
             "outlinewidth": 0,
             "ticks": ""
            },
            "type": "contourcarpet"
           }
          ],
          "heatmap": [
           {
            "colorbar": {
             "outlinewidth": 0,
             "ticks": ""
            },
            "colorscale": [
             [
              0,
              "#0d0887"
             ],
             [
              0.1111111111111111,
              "#46039f"
             ],
             [
              0.2222222222222222,
              "#7201a8"
             ],
             [
              0.3333333333333333,
              "#9c179e"
             ],
             [
              0.4444444444444444,
              "#bd3786"
             ],
             [
              0.5555555555555556,
              "#d8576b"
             ],
             [
              0.6666666666666666,
              "#ed7953"
             ],
             [
              0.7777777777777778,
              "#fb9f3a"
             ],
             [
              0.8888888888888888,
              "#fdca26"
             ],
             [
              1,
              "#f0f921"
             ]
            ],
            "type": "heatmap"
           }
          ],
          "heatmapgl": [
           {
            "colorbar": {
             "outlinewidth": 0,
             "ticks": ""
            },
            "colorscale": [
             [
              0,
              "#0d0887"
             ],
             [
              0.1111111111111111,
              "#46039f"
             ],
             [
              0.2222222222222222,
              "#7201a8"
             ],
             [
              0.3333333333333333,
              "#9c179e"
             ],
             [
              0.4444444444444444,
              "#bd3786"
             ],
             [
              0.5555555555555556,
              "#d8576b"
             ],
             [
              0.6666666666666666,
              "#ed7953"
             ],
             [
              0.7777777777777778,
              "#fb9f3a"
             ],
             [
              0.8888888888888888,
              "#fdca26"
             ],
             [
              1,
              "#f0f921"
             ]
            ],
            "type": "heatmapgl"
           }
          ],
          "histogram": [
           {
            "marker": {
             "pattern": {
              "fillmode": "overlay",
              "size": 10,
              "solidity": 0.2
             }
            },
            "type": "histogram"
           }
          ],
          "histogram2d": [
           {
            "colorbar": {
             "outlinewidth": 0,
             "ticks": ""
            },
            "colorscale": [
             [
              0,
              "#0d0887"
             ],
             [
              0.1111111111111111,
              "#46039f"
             ],
             [
              0.2222222222222222,
              "#7201a8"
             ],
             [
              0.3333333333333333,
              "#9c179e"
             ],
             [
              0.4444444444444444,
              "#bd3786"
             ],
             [
              0.5555555555555556,
              "#d8576b"
             ],
             [
              0.6666666666666666,
              "#ed7953"
             ],
             [
              0.7777777777777778,
              "#fb9f3a"
             ],
             [
              0.8888888888888888,
              "#fdca26"
             ],
             [
              1,
              "#f0f921"
             ]
            ],
            "type": "histogram2d"
           }
          ],
          "histogram2dcontour": [
           {
            "colorbar": {
             "outlinewidth": 0,
             "ticks": ""
            },
            "colorscale": [
             [
              0,
              "#0d0887"
             ],
             [
              0.1111111111111111,
              "#46039f"
             ],
             [
              0.2222222222222222,
              "#7201a8"
             ],
             [
              0.3333333333333333,
              "#9c179e"
             ],
             [
              0.4444444444444444,
              "#bd3786"
             ],
             [
              0.5555555555555556,
              "#d8576b"
             ],
             [
              0.6666666666666666,
              "#ed7953"
             ],
             [
              0.7777777777777778,
              "#fb9f3a"
             ],
             [
              0.8888888888888888,
              "#fdca26"
             ],
             [
              1,
              "#f0f921"
             ]
            ],
            "type": "histogram2dcontour"
           }
          ],
          "mesh3d": [
           {
            "colorbar": {
             "outlinewidth": 0,
             "ticks": ""
            },
            "type": "mesh3d"
           }
          ],
          "parcoords": [
           {
            "line": {
             "colorbar": {
              "outlinewidth": 0,
              "ticks": ""
             }
            },
            "type": "parcoords"
           }
          ],
          "pie": [
           {
            "automargin": true,
            "type": "pie"
           }
          ],
          "scatter": [
           {
            "fillpattern": {
             "fillmode": "overlay",
             "size": 10,
             "solidity": 0.2
            },
            "type": "scatter"
           }
          ],
          "scatter3d": [
           {
            "line": {
             "colorbar": {
              "outlinewidth": 0,
              "ticks": ""
             }
            },
            "marker": {
             "colorbar": {
              "outlinewidth": 0,
              "ticks": ""
             }
            },
            "type": "scatter3d"
           }
          ],
          "scattercarpet": [
           {
            "marker": {
             "colorbar": {
              "outlinewidth": 0,
              "ticks": ""
             }
            },
            "type": "scattercarpet"
           }
          ],
          "scattergeo": [
           {
            "marker": {
             "colorbar": {
              "outlinewidth": 0,
              "ticks": ""
             }
            },
            "type": "scattergeo"
           }
          ],
          "scattergl": [
           {
            "marker": {
             "colorbar": {
              "outlinewidth": 0,
              "ticks": ""
             }
            },
            "type": "scattergl"
           }
          ],
          "scattermapbox": [
           {
            "marker": {
             "colorbar": {
              "outlinewidth": 0,
              "ticks": ""
             }
            },
            "type": "scattermapbox"
           }
          ],
          "scatterpolar": [
           {
            "marker": {
             "colorbar": {
              "outlinewidth": 0,
              "ticks": ""
             }
            },
            "type": "scatterpolar"
           }
          ],
          "scatterpolargl": [
           {
            "marker": {
             "colorbar": {
              "outlinewidth": 0,
              "ticks": ""
             }
            },
            "type": "scatterpolargl"
           }
          ],
          "scatterternary": [
           {
            "marker": {
             "colorbar": {
              "outlinewidth": 0,
              "ticks": ""
             }
            },
            "type": "scatterternary"
           }
          ],
          "surface": [
           {
            "colorbar": {
             "outlinewidth": 0,
             "ticks": ""
            },
            "colorscale": [
             [
              0,
              "#0d0887"
             ],
             [
              0.1111111111111111,
              "#46039f"
             ],
             [
              0.2222222222222222,
              "#7201a8"
             ],
             [
              0.3333333333333333,
              "#9c179e"
             ],
             [
              0.4444444444444444,
              "#bd3786"
             ],
             [
              0.5555555555555556,
              "#d8576b"
             ],
             [
              0.6666666666666666,
              "#ed7953"
             ],
             [
              0.7777777777777778,
              "#fb9f3a"
             ],
             [
              0.8888888888888888,
              "#fdca26"
             ],
             [
              1,
              "#f0f921"
             ]
            ],
            "type": "surface"
           }
          ],
          "table": [
           {
            "cells": {
             "fill": {
              "color": "#EBF0F8"
             },
             "line": {
              "color": "white"
             }
            },
            "header": {
             "fill": {
              "color": "#C8D4E3"
             },
             "line": {
              "color": "white"
             }
            },
            "type": "table"
           }
          ]
         },
         "layout": {
          "annotationdefaults": {
           "arrowcolor": "#2a3f5f",
           "arrowhead": 0,
           "arrowwidth": 1
          },
          "autotypenumbers": "strict",
          "coloraxis": {
           "colorbar": {
            "outlinewidth": 0,
            "ticks": ""
           }
          },
          "colorscale": {
           "diverging": [
            [
             0,
             "#8e0152"
            ],
            [
             0.1,
             "#c51b7d"
            ],
            [
             0.2,
             "#de77ae"
            ],
            [
             0.3,
             "#f1b6da"
            ],
            [
             0.4,
             "#fde0ef"
            ],
            [
             0.5,
             "#f7f7f7"
            ],
            [
             0.6,
             "#e6f5d0"
            ],
            [
             0.7,
             "#b8e186"
            ],
            [
             0.8,
             "#7fbc41"
            ],
            [
             0.9,
             "#4d9221"
            ],
            [
             1,
             "#276419"
            ]
           ],
           "sequential": [
            [
             0,
             "#0d0887"
            ],
            [
             0.1111111111111111,
             "#46039f"
            ],
            [
             0.2222222222222222,
             "#7201a8"
            ],
            [
             0.3333333333333333,
             "#9c179e"
            ],
            [
             0.4444444444444444,
             "#bd3786"
            ],
            [
             0.5555555555555556,
             "#d8576b"
            ],
            [
             0.6666666666666666,
             "#ed7953"
            ],
            [
             0.7777777777777778,
             "#fb9f3a"
            ],
            [
             0.8888888888888888,
             "#fdca26"
            ],
            [
             1,
             "#f0f921"
            ]
           ],
           "sequentialminus": [
            [
             0,
             "#0d0887"
            ],
            [
             0.1111111111111111,
             "#46039f"
            ],
            [
             0.2222222222222222,
             "#7201a8"
            ],
            [
             0.3333333333333333,
             "#9c179e"
            ],
            [
             0.4444444444444444,
             "#bd3786"
            ],
            [
             0.5555555555555556,
             "#d8576b"
            ],
            [
             0.6666666666666666,
             "#ed7953"
            ],
            [
             0.7777777777777778,
             "#fb9f3a"
            ],
            [
             0.8888888888888888,
             "#fdca26"
            ],
            [
             1,
             "#f0f921"
            ]
           ]
          },
          "colorway": [
           "#636efa",
           "#EF553B",
           "#00cc96",
           "#ab63fa",
           "#FFA15A",
           "#19d3f3",
           "#FF6692",
           "#B6E880",
           "#FF97FF",
           "#FECB52"
          ],
          "font": {
           "color": "#2a3f5f"
          },
          "geo": {
           "bgcolor": "white",
           "lakecolor": "white",
           "landcolor": "#E5ECF6",
           "showlakes": true,
           "showland": true,
           "subunitcolor": "white"
          },
          "hoverlabel": {
           "align": "left"
          },
          "hovermode": "closest",
          "mapbox": {
           "style": "light"
          },
          "paper_bgcolor": "white",
          "plot_bgcolor": "#E5ECF6",
          "polar": {
           "angularaxis": {
            "gridcolor": "white",
            "linecolor": "white",
            "ticks": ""
           },
           "bgcolor": "#E5ECF6",
           "radialaxis": {
            "gridcolor": "white",
            "linecolor": "white",
            "ticks": ""
           }
          },
          "scene": {
           "xaxis": {
            "backgroundcolor": "#E5ECF6",
            "gridcolor": "white",
            "gridwidth": 2,
            "linecolor": "white",
            "showbackground": true,
            "ticks": "",
            "zerolinecolor": "white"
           },
           "yaxis": {
            "backgroundcolor": "#E5ECF6",
            "gridcolor": "white",
            "gridwidth": 2,
            "linecolor": "white",
            "showbackground": true,
            "ticks": "",
            "zerolinecolor": "white"
           },
           "zaxis": {
            "backgroundcolor": "#E5ECF6",
            "gridcolor": "white",
            "gridwidth": 2,
            "linecolor": "white",
            "showbackground": true,
            "ticks": "",
            "zerolinecolor": "white"
           }
          },
          "shapedefaults": {
           "line": {
            "color": "#2a3f5f"
           }
          },
          "ternary": {
           "aaxis": {
            "gridcolor": "white",
            "linecolor": "white",
            "ticks": ""
           },
           "baxis": {
            "gridcolor": "white",
            "linecolor": "white",
            "ticks": ""
           },
           "bgcolor": "#E5ECF6",
           "caxis": {
            "gridcolor": "white",
            "linecolor": "white",
            "ticks": ""
           }
          },
          "title": {
           "x": 0.05
          },
          "xaxis": {
           "automargin": true,
           "gridcolor": "white",
           "linecolor": "white",
           "ticks": "",
           "title": {
            "standoff": 15
           },
           "zerolinecolor": "white",
           "zerolinewidth": 2
          },
          "yaxis": {
           "automargin": true,
           "gridcolor": "white",
           "linecolor": "white",
           "ticks": "",
           "title": {
            "standoff": 15
           },
           "zerolinecolor": "white",
           "zerolinewidth": 2
          }
         }
        },
        "title": {
         "text": "Важность признаков по моделям (нормировано)"
        }
       }
      }
     },
     "metadata": {},
     "output_type": "display_data"
    }
   ],
   "source": [
    "# Оценка важности признаков: тепловая карта по доступным моделям\n",
    "import numpy as np\n",
    "import pandas as pd\n",
    "import plotly.graph_objects as go\n",
    "\n",
    "feature_names = [\"x1\", \"x2\"]\n",
    "importance_map = {}\n",
    "\n",
    "# Соберём модели, у которых есть важности/коэффициенты\n",
    "all_models = {}\n",
    "try:\n",
    "    all_models.update(models)\n",
    "except NameError:\n",
    "    all_models = {}\n",
    "try:\n",
    "    all_models.update(svc_models)\n",
    "except NameError:\n",
    "    pass\n",
    "\n",
    "selected = []\n",
    "for name in [\"RandomForest\", \"SklearnGB\", \"XGBoost\", \"LightGBM\", \"CatBoost\", \"SVC-linear\", \"LinearSVC\"]:\n",
    "    if name in all_models:\n",
    "        selected.append(name)\n",
    "\n",
    "for name in selected:\n",
    "    m = all_models[name]\n",
    "    imp = None\n",
    "    if hasattr(m, \"feature_importances_\"):\n",
    "        imp = np.asarray(m.feature_importances_).ravel()\n",
    "    elif hasattr(m, \"coef_\"):\n",
    "        imp = np.abs(np.asarray(m.coef_).ravel())\n",
    "    if imp is not None:\n",
    "        # Приведём к сумме 1 для сопоставимости\n",
    "        s = imp.sum()\n",
    "        if s > 0:\n",
    "            imp = imp / s\n",
    "        # Обрежем/дополнем до 2 признаков на всякий случай\n",
    "        if imp.shape[0] >= 2:\n",
    "            imp = imp[:2]\n",
    "        else:\n",
    "            imp = np.pad(imp, (0, 2-imp.shape[0]), constant_values=0.0)\n",
    "        importance_map[name] = imp\n",
    "\n",
    "if not importance_map:\n",
    "    print(\"Нет моделей с доступной оценкой важности признаков (feature_importances_ или coef_).\")\n",
    "else:\n",
    "    df_imp = pd.DataFrame(importance_map, index=feature_names)\n",
    "    fig = go.Figure(data=go.Heatmap(\n",
    "        z=df_imp.values,\n",
    "        x=list(df_imp.columns),\n",
    "        y=list(df_imp.index),\n",
    "        colorscale=\"Blues\",\n",
    "        colorbar_title=\"Важность\"\n",
    "    ))\n",
    "    fig.update_layout(title=\"Важность признаков по моделям (нормировано)\")\n",
    "    fig.show()"
   ]
  },
  {
   "cell_type": "markdown",
   "id": "79aa1148",
   "metadata": {},
   "source": [
    "## Плюсы и минусы методов, рекомендации по применению\n",
    "\n",
    "Gradient Boosted Trees (XGBoost/LightGBM/CatBoost)\n",
    "- Плюсы: высокая точность на табличных данных; устойчивость к разным масштабам признаков; встроенная обработка пропусков; гибкая регуляризация; важности признаков.\n",
    "- Минусы: чувствительность к гиперпараметрам (n_estimators, learning_rate, max_depth); время обучения на очень больших датасетах; слабая интерпретируемость по сравнению с линейными моделями.\n",
    "- Когда применять: табличные данные, нелинейные зависимости, ограниченные размеры фичей; лидирует во многих Kaggle-задачах.\n",
    "- Когда не применять: очень высокоразмерные разреженные данные (тексты) — иногда линейные модели лучше по скорости/обобщению; когда нужна строгая интерпретация коэффициентов.\n",
    "\n",
    "SVM (linear и kernel)\n",
    "- Плюсы: теоретически обоснованная максимизация margin; хорош на средних размерах данных; kernel trick позволяет улавливать сложные нелинейности.\n",
    "- Минусы: чувствительность к выбору C и ядра (и gamma); масштабируемость хуже для очень больших n (особенно kernel SVM); требуется масштабирование признаков для линейного SVM.\n",
    "- Когда применять: размер данных умеренный; чёткая граница между классами; хорошо подготовленные признаки; при необходимости устойчивого решения с контролем margin.\n",
    "- Когда не применять: крайне большие датасеты или количество признаков с плотной матрицей — обучение kernel SVM может быть слишком медленным; когда нужна очень быстрая инференс/обучение.\n",
    "\n",
    "Random Forest\n",
    "- Плюсы: устойчивый базовый алгоритм; мало гиперпараметров; неплохо работает из коробки; оценка важностей признаков.\n",
    "- Минусы: часто проигрывает boosting по качеству; может переобучаться на шумных данных без тщательной настройки; медленнее на инференсе при большом количестве деревьев.\n",
    "- Когда применять: быстрый сильный baseline; когда не хочется тонкой настройки; для начальной оценки сложности задачи.\n",
    "\n",
    "Итого: на табличных данных стартуем с Random Forest как baseline, затем применяем Gradient Boosting. SVM применяем при умеренном размере данных и наличии хорошо масштабированных признаков; kernel SVM — когда есть ожидание сложной нелинейной границы и достаточно ресурсов."
   ]
  },
  {
   "cell_type": "markdown",
   "id": "dc2d8b3f",
   "metadata": {},
   "source": [
    "## TO-DO\n",
    "\n",
    "Цель: закрепить навыки работы с Gradient Boosted Trees и SVM, а также их сравнение с Random Forest.\n",
    "\n",
    "1) Подготовка данных (10%)\n",
    "- Загрузите или сгенерируйте собственный 2D набор для бинарной классификации (например, `make_circles` или реальный датасет). Разделите на train/test. Опишите кратко данные.\n",
    "\n",
    "2) Gradient Boosted Trees (30%)\n",
    "- Обучите две модели из семейства boosting (например, XGBoost и LightGBM или их аналог из sklearn). Подберите базовые гиперпараметры (n_estimators, learning_rate, max_depth). Сравните Accuracy и ROC AUC. Кратко интерпретируйте результат.\n",
    "\n",
    "3) SVM: linear и kernel (30%)\n",
    "- Обучите LinearSVC и SVC(RBF) на ваших данных. Исследуйте влияние гиперпараметров C и gamma (для RBF) с помощью краткого grid search или нескольких ручных запусков. Сравните с boosting и Random Forest.\n",
    "\n",
    "4) Визуализация границ решений (20%)\n",
    "- Постройте визуализацию границы решений для лучших по ROC AUC моделей в каждой группе: один boosting, один SVM. Используйте Plotly; убедитесь, что на графике видны точки train/test (разными символами/цветами).\n",
    "\n",
    "5) Аналитика и выводы (10%)\n",
    "- Сформулируйте, когда на вашем типе данных SVM выигрывает/проигрывает boosting и наоборот. Укажите, какие гиперпараметры оказались наиболее критичны.\n",
    "\n",
    "Требования к оформлению:\n",
    "- Комментарии к коду в формате NumPy Docstring.\n",
    "- Результат оформить как Notebook, приложить краткий отчёт (markdown в том же Notebook)."
   ]
  },
  {
   "cell_type": "markdown",
   "id": "dd2d7e9b",
   "metadata": {},
   "source": [
    "## Чек-лист: типичные ошибки и анти‑паттерны\n",
    "\n",
    "- Отсутствие масштабирования для SVM: `StandardScaler` обязателен для стабильной настройки `C` и `gamma`.\n",
    "- Сравнение моделей на разных разбиениях: используйте одинаковый `train_test_split` или кросс-валидацию.\n",
    "- Неправильная интерпретация ROC AUC при дисбалансе: при сильном дисбалансе смотрите PR AUC и изменяйте порог.\n",
    "- Переобучение Boosting при большом `learning_rate`: снижайте `learning_rate`, повышайте `n_estimators`, используйте early stopping.\n",
    "- Игнорирование стохастики: фиксируйте `random_state/SEED` для воспроизводимости, используйте `subsample/colsample` с умом.\n",
    "- Сравнение метрик без уверенности в пороге: оценивайте кривые (ROC/PR), подбирайте порог по бизнес-критериям.\n",
    "- Неверная трактовка feature importance: помните, что важности деревьев — относительные; проверяйте устойчивость на различных разбиениях."
   ]
  }
 ],
 "metadata": {
  "kernelspec": {
   "display_name": "base",
   "language": "python",
   "name": "python3"
  },
  "language_info": {
   "codemirror_mode": {
    "name": "ipython",
    "version": 3
   },
   "file_extension": ".py",
   "mimetype": "text/x-python",
   "name": "python",
   "nbconvert_exporter": "python",
   "pygments_lexer": "ipython3",
   "version": "3.12.4"
  }
 },
 "nbformat": 4,
 "nbformat_minor": 5
}
